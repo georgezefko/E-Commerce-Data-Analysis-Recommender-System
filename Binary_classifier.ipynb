{
 "cells": [
  {
   "cell_type": "code",
   "execution_count": 1,
   "id": "advance-tension",
   "metadata": {},
   "outputs": [],
   "source": [
    "import pandas as pd\n",
    "import numpy as np\n",
    "import matplotlib.pyplot as plt\n",
    "import seaborn as sns\n",
    "\n",
    "\n",
    "from sklearn.model_selection import train_test_split\n",
    "from sklearn.preprocessing import OrdinalEncoder,LabelEncoder, StandardScaler\n",
    "from keras.models import Model\n",
    "from keras.layers import Input, Reshape, Dot, Add, Activation, Lambda, Concatenate, Dense, Dropout\n",
    "from keras.layers.embeddings import Embedding\n",
    "from keras.optimizers import Adam\n",
    "from keras.regularizers import l2\n",
    "from sklearn.metrics import accuracy_score\n",
    "from sklearn.metrics import confusion_matrix, classification_report\n",
    "from sklearn.utils.multiclass import unique_labels\n",
    "from sklearn.model_selection import KFold, StratifiedKFold\n",
    "from keras.callbacks import ModelCheckpoint\n",
    "from keras import backend\n",
    "import pickle"
   ]
  },
  {
   "cell_type": "code",
   "execution_count": 2,
   "id": "inner-restriction",
   "metadata": {},
   "outputs": [],
   "source": [
    "def plot_confusion_matrix(test_labels, predicted_labels, save_path=None, encoder=None):\n",
    "    if encoder:\n",
    "      test_labels = encoder.inverse_transform(test_labels)\n",
    "      predicted_labels = encoder.inverse_transform(predicted_labels)\n",
    "\n",
    "    conf_matrix = confusion_matrix(test_labels, predicted_labels)\n",
    "    conf_matrix = conf_matrix.astype('float') / conf_matrix.sum(axis=1)[:, np.newaxis]\n",
    "    fig, ax = plt.subplots(figsize=[10, 10], dpi=100)\n",
    "    im = ax.imshow(conf_matrix, interpolation='nearest', cmap=plt.cm.Blues)\n",
    "    ax.figure.colorbar(im, ax=ax)\n",
    "    classes = unique_labels(test_labels, predicted_labels)\n",
    "    ax.set(xticks=np.arange(conf_matrix.shape[1]),\n",
    "           yticks=np.arange(conf_matrix.shape[0]),\n",
    "           xticklabels=classes, yticklabels=classes,\n",
    "           ylabel='True label',\n",
    "           xlabel='Predicted label')\n",
    "    fmt = '.3f'\n",
    "    thresh = conf_matrix.max() / 2.\n",
    "    for i in range(conf_matrix.shape[0]):\n",
    "        for j in range(conf_matrix.shape[1]):\n",
    "            ax.text(j, i, format(conf_matrix[i, j], fmt),\n",
    "                    ha=\"center\", va=\"center\",\n",
    "                    color=\"white\" if conf_matrix[i, j] > thresh else \"black\")\n",
    "    if save_path:\n",
    "        plt.savefig(save_path)\n",
    "    else:\n",
    "        plt.show()"
   ]
  },
  {
   "cell_type": "code",
   "execution_count": 3,
   "id": "developmental-happiness",
   "metadata": {},
   "outputs": [],
   "source": [
    "path = 'DL_preprocessed/'"
   ]
  },
  {
   "cell_type": "code",
   "execution_count": 4,
   "id": "classified-catering",
   "metadata": {},
   "outputs": [],
   "source": [
    "df_train = pd.read_csv(path+'train.csv', index_col=0)"
   ]
  },
  {
   "cell_type": "code",
   "execution_count": 5,
   "id": "wound-charge",
   "metadata": {},
   "outputs": [
    {
     "data": {
      "text/html": [
       "<div>\n",
       "<style scoped>\n",
       "    .dataframe tbody tr th:only-of-type {\n",
       "        vertical-align: middle;\n",
       "    }\n",
       "\n",
       "    .dataframe tbody tr th {\n",
       "        vertical-align: top;\n",
       "    }\n",
       "\n",
       "    .dataframe thead th {\n",
       "        text-align: right;\n",
       "    }\n",
       "</style>\n",
       "<table border=\"1\" class=\"dataframe\">\n",
       "  <thead>\n",
       "    <tr style=\"text-align: right;\">\n",
       "      <th></th>\n",
       "      <th>timestamp</th>\n",
       "      <th>category</th>\n",
       "      <th>state</th>\n",
       "      <th>customer</th>\n",
       "      <th>product</th>\n",
       "      <th>scaled_price</th>\n",
       "      <th>rating</th>\n",
       "    </tr>\n",
       "  </thead>\n",
       "  <tbody>\n",
       "    <tr>\n",
       "      <th>700</th>\n",
       "      <td>2017-08-24 11:31:28</td>\n",
       "      <td>49</td>\n",
       "      <td>22</td>\n",
       "      <td>44869</td>\n",
       "      <td>23910</td>\n",
       "      <td>-0.411884</td>\n",
       "      <td>0</td>\n",
       "    </tr>\n",
       "    <tr>\n",
       "      <th>5075</th>\n",
       "      <td>2017-08-05 14:52:23</td>\n",
       "      <td>49</td>\n",
       "      <td>22</td>\n",
       "      <td>2937</td>\n",
       "      <td>1466</td>\n",
       "      <td>-0.533291</td>\n",
       "      <td>1</td>\n",
       "    </tr>\n",
       "    <tr>\n",
       "      <th>23537</th>\n",
       "      <td>2017-09-30 14:48:37</td>\n",
       "      <td>49</td>\n",
       "      <td>22</td>\n",
       "      <td>42130</td>\n",
       "      <td>27460</td>\n",
       "      <td>-0.342433</td>\n",
       "      <td>1</td>\n",
       "    </tr>\n",
       "    <tr>\n",
       "      <th>37160</th>\n",
       "      <td>2017-08-28 20:15:12</td>\n",
       "      <td>49</td>\n",
       "      <td>22</td>\n",
       "      <td>18783</td>\n",
       "      <td>27104</td>\n",
       "      <td>-0.429061</td>\n",
       "      <td>0</td>\n",
       "    </tr>\n",
       "    <tr>\n",
       "      <th>39136</th>\n",
       "      <td>2018-06-06 17:30:59</td>\n",
       "      <td>49</td>\n",
       "      <td>22</td>\n",
       "      <td>81457</td>\n",
       "      <td>21065</td>\n",
       "      <td>-0.322181</td>\n",
       "      <td>1</td>\n",
       "    </tr>\n",
       "  </tbody>\n",
       "</table>\n",
       "</div>"
      ],
      "text/plain": [
       "                 timestamp  category  state  customer  product  scaled_price  \\\n",
       "700    2017-08-24 11:31:28        49     22     44869    23910     -0.411884   \n",
       "5075   2017-08-05 14:52:23        49     22      2937     1466     -0.533291   \n",
       "23537  2017-09-30 14:48:37        49     22     42130    27460     -0.342433   \n",
       "37160  2017-08-28 20:15:12        49     22     18783    27104     -0.429061   \n",
       "39136  2018-06-06 17:30:59        49     22     81457    21065     -0.322181   \n",
       "\n",
       "       rating  \n",
       "700         0  \n",
       "5075        1  \n",
       "23537       1  \n",
       "37160       0  \n",
       "39136       1  "
      ]
     },
     "execution_count": 5,
     "metadata": {},
     "output_type": "execute_result"
    }
   ],
   "source": [
    "df_train.head()"
   ]
  },
  {
   "cell_type": "code",
   "execution_count": 6,
   "id": "improving-graphic",
   "metadata": {},
   "outputs": [],
   "source": [
    "df_test = pd.read_csv(path+'test.csv', index_col=0)"
   ]
  },
  {
   "cell_type": "code",
   "execution_count": 7,
   "id": "tested-pursuit",
   "metadata": {},
   "outputs": [
    {
     "data": {
      "text/html": [
       "<div>\n",
       "<style scoped>\n",
       "    .dataframe tbody tr th:only-of-type {\n",
       "        vertical-align: middle;\n",
       "    }\n",
       "\n",
       "    .dataframe tbody tr th {\n",
       "        vertical-align: top;\n",
       "    }\n",
       "\n",
       "    .dataframe thead th {\n",
       "        text-align: right;\n",
       "    }\n",
       "</style>\n",
       "<table border=\"1\" class=\"dataframe\">\n",
       "  <thead>\n",
       "    <tr style=\"text-align: right;\">\n",
       "      <th></th>\n",
       "      <th>timestamp</th>\n",
       "      <th>category</th>\n",
       "      <th>state</th>\n",
       "      <th>customer</th>\n",
       "      <th>product</th>\n",
       "      <th>scaled_price</th>\n",
       "      <th>rating</th>\n",
       "    </tr>\n",
       "  </thead>\n",
       "  <tbody>\n",
       "    <tr>\n",
       "      <th>11738739</th>\n",
       "      <td>2018-09-03 09:06:57</td>\n",
       "      <td>51</td>\n",
       "      <td>22</td>\n",
       "      <td>93555</td>\n",
       "      <td>23364</td>\n",
       "      <td>0.108736</td>\n",
       "      <td>0</td>\n",
       "    </tr>\n",
       "    <tr>\n",
       "      <th>2948445</th>\n",
       "      <td>2018-08-28 21:56:12</td>\n",
       "      <td>39</td>\n",
       "      <td>16</td>\n",
       "      <td>6024</td>\n",
       "      <td>2840</td>\n",
       "      <td>-0.554498</td>\n",
       "      <td>1</td>\n",
       "    </tr>\n",
       "    <tr>\n",
       "      <th>592044</th>\n",
       "      <td>2018-08-28 19:32:05</td>\n",
       "      <td>49</td>\n",
       "      <td>22</td>\n",
       "      <td>92236</td>\n",
       "      <td>14190</td>\n",
       "      <td>-0.394972</td>\n",
       "      <td>1</td>\n",
       "    </tr>\n",
       "    <tr>\n",
       "      <th>606768</th>\n",
       "      <td>2018-08-28 10:57:13</td>\n",
       "      <td>49</td>\n",
       "      <td>22</td>\n",
       "      <td>19405</td>\n",
       "      <td>6370</td>\n",
       "      <td>-0.500952</td>\n",
       "      <td>0</td>\n",
       "    </tr>\n",
       "    <tr>\n",
       "      <th>1361404</th>\n",
       "      <td>2018-08-27 22:59:03</td>\n",
       "      <td>65</td>\n",
       "      <td>22</td>\n",
       "      <td>24225</td>\n",
       "      <td>19324</td>\n",
       "      <td>-0.437332</td>\n",
       "      <td>1</td>\n",
       "    </tr>\n",
       "  </tbody>\n",
       "</table>\n",
       "</div>"
      ],
      "text/plain": [
       "                    timestamp  category  state  customer  product  \\\n",
       "11738739  2018-09-03 09:06:57        51     22     93555    23364   \n",
       "2948445   2018-08-28 21:56:12        39     16      6024     2840   \n",
       "592044    2018-08-28 19:32:05        49     22     92236    14190   \n",
       "606768    2018-08-28 10:57:13        49     22     19405     6370   \n",
       "1361404   2018-08-27 22:59:03        65     22     24225    19324   \n",
       "\n",
       "          scaled_price  rating  \n",
       "11738739      0.108736       0  \n",
       "2948445      -0.554498       1  \n",
       "592044       -0.394972       1  \n",
       "606768       -0.500952       0  \n",
       "1361404      -0.437332       1  "
      ]
     },
     "execution_count": 7,
     "metadata": {},
     "output_type": "execute_result"
    }
   ],
   "source": [
    "df_test.head()"
   ]
  },
  {
   "cell_type": "code",
   "execution_count": 8,
   "id": "technical-nigeria",
   "metadata": {},
   "outputs": [],
   "source": [
    "value_counts = pickle.load(open(path+'unique_counts.sav', 'rb'))"
   ]
  },
  {
   "cell_type": "markdown",
   "id": "ecological-mountain",
   "metadata": {},
   "source": [
    "# Model definition"
   ]
  },
  {
   "cell_type": "code",
   "execution_count": 9,
   "id": "built-spouse",
   "metadata": {},
   "outputs": [],
   "source": [
    "class EmbeddingLayer:\n",
    "    def __init__(self, n_items, n_factors):\n",
    "        self.n_items = n_items\n",
    "        self.n_factors = n_factors\n",
    "    \n",
    "    def __call__(self, x):\n",
    "        x = Embedding(self.n_items, self.n_factors, embeddings_initializer='he_normal',\n",
    "                      embeddings_regularizer=l2(1e-6))(x)\n",
    "        x = Reshape((self.n_factors,))(x)\n",
    "        return x"
   ]
  },
  {
   "cell_type": "code",
   "execution_count": 10,
   "id": "developing-intake",
   "metadata": {},
   "outputs": [],
   "source": [
    "def RecommenderNet(value_counts: list, n_factors, include_price = False, output_nodes = 1):\n",
    "    inputs = []\n",
    "    emb_layers = []\n",
    "    for ii, count in enumerate(value_counts):\n",
    "        inputs.append(Input(shape=(1,)))\n",
    "        emb_layers.append(EmbeddingLayer(count+1, n_factors)(inputs[ii]))\n",
    "    \n",
    "    price_input = []\n",
    "    if include_price:\n",
    "        price_input.append(Input(shape=(1,)))\n",
    "\n",
    "    x = Concatenate()(emb_layers)\n",
    "#     x = Concatenate()(emb_layers)\n",
    "    x = Dropout(0.3)(x)\n",
    "    \n",
    "    if include_price:\n",
    "        x = Concatenate(x, price_input)\n",
    "    \n",
    "    x = Dense(1, kernel_initializer='he_normal')(x)\n",
    "    x = Activation('relu')(x)\n",
    "    x = Dropout(0.5)(x)\n",
    "    \n",
    "    x = Dense(output_nodes, kernel_initializer='he_normal')(x)\n",
    "    if output_nodes == 1:\n",
    "        x = Activation('sigmoid')(x)\n",
    "    else:\n",
    "        x = Activation('softmax')(x)\n",
    "    model = Model(inputs=inputs+price_input, outputs=x)\n",
    "    opt = Adam(lr=0.001)\n",
    "    if output_nodes == 1:\n",
    "        model.compile(loss='binary_crossentropy', optimizer=opt, metrics=['AUC'])\n",
    "    else:\n",
    "        model.compile(loss='sparse_categorical_crossentropy', optimizer=opt, metrics=['accuracy'])\n",
    "    return model"
   ]
  },
  {
   "cell_type": "markdown",
   "id": "incredible-customer",
   "metadata": {},
   "source": [
    "# Basic training"
   ]
  },
  {
   "cell_type": "code",
   "execution_count": 11,
   "id": "municipal-pittsburgh",
   "metadata": {},
   "outputs": [],
   "source": [
    "def df_to_list_of_lists(df):\n",
    "    result = []\n",
    "    for column in df.keys():\n",
    "        result.append(df.loc[:,column].values)\n",
    "    return result"
   ]
  },
  {
   "cell_type": "code",
   "execution_count": 12,
   "id": "ultimate-punch",
   "metadata": {},
   "outputs": [],
   "source": [
    "df_train = df_train.sample(frac=1)\n",
    "df_test = df_test.sample(frac=1)\n",
    "\n",
    "X_train = [df_train.loc[:,'customer'].values, df_train.loc[:,'product'].values] \n",
    "#X_train = df_to_list_of_lists(df_train.drop(columns=['rating', 'timestamp', 'scaled_price']))\n",
    "y_train = df_train.rating\n",
    "\n",
    "X_test = [df_test.loc[:,'customer'].values, df_test.loc[:,'product'].values]\n",
    "#X_test= df_to_list_of_lists(df_test.drop(columns=['rating', 'timestamp', 'scaled_price']))\n",
    "y_test = df_test.rating"
   ]
  },
  {
   "cell_type": "code",
   "execution_count": 13,
   "id": "designing-recognition",
   "metadata": {},
   "outputs": [
    {
     "data": {
      "text/plain": [
       "[array([78460, 26022, 62396, ..., 52211, 49456, 14259], dtype=int64),\n",
       " array([   76, 17543,  7132, ...,  6932, 10337, 25307], dtype=int64)]"
      ]
     },
     "execution_count": 13,
     "metadata": {},
     "output_type": "execute_result"
    }
   ],
   "source": [
    "X_train"
   ]
  },
  {
   "cell_type": "code",
   "execution_count": 14,
   "id": "julian-economy",
   "metadata": {},
   "outputs": [],
   "source": [
    "n_factors=5"
   ]
  },
  {
   "cell_type": "code",
   "execution_count": 15,
   "id": "moral-option",
   "metadata": {},
   "outputs": [
    {
     "data": {
      "text/plain": [
       "{'category': 71, 'state': 23, 'customer': 93885, 'product': 32267}"
      ]
     },
     "execution_count": 15,
     "metadata": {},
     "output_type": "execute_result"
    }
   ],
   "source": [
    "value_counts"
   ]
  },
  {
   "cell_type": "code",
   "execution_count": 16,
   "id": "frank-iraqi",
   "metadata": {},
   "outputs": [
    {
     "name": "stderr",
     "output_type": "stream",
     "text": [
      "C:\\Users\\mwasi\\anaconda3\\envs\\Data\\lib\\site-packages\\tensorflow\\python\\framework\\indexed_slices.py:431: UserWarning: Converting sparse IndexedSlices to a dense Tensor of unknown shape. This may consume a large amount of memory.\n",
      "  warnings.warn(\n"
     ]
    }
   ],
   "source": [
    "#model = RecommenderNet(value_counts.values(), n_factors)\n",
    "model = RecommenderNet([value_counts['customer'], value_counts['product']], n_factors)\n",
    "\n",
    "history = model.fit(x=X_train, y=y_train, batch_size=51200, epochs=4000,\n",
    "                    verbose=0, validation_data=(X_test, y_test))"
   ]
  },
  {
   "cell_type": "code",
   "execution_count": 17,
   "id": "digital-hampshire",
   "metadata": {},
   "outputs": [
    {
     "data": {
      "image/png": "[encoded data removed]",
      "text/plain": [
       "<Figure size 432x288 with 1 Axes>"
      ]
     },
     "metadata": {
      "needs_background": "light"
     },
     "output_type": "display_data"
    },
    {
     "data": {
      "image/png": "[encoded data removed]",
      "text/plain": [
       "<Figure size 432x288 with 1 Axes>"
      ]
     },
     "metadata": {
      "needs_background": "light"
     },
     "output_type": "display_data"
    }
   ],
   "source": [
    "plt.plot(history.history['auc'])\n",
    "plt.plot(history.history['val_auc'])\n",
    "plt.title('model accuracy')\n",
    "plt.ylabel('accuracy')\n",
    "plt.xlabel('epoch')\n",
    "plt.legend(['train', 'test'], loc='upper left')\n",
    "plt.show()\n",
    "# summarize history for loss\n",
    "plt.plot(history.history['loss'])\n",
    "plt.plot(history.history['val_loss'])\n",
    "plt.title('model loss')\n",
    "plt.ylabel('loss')\n",
    "plt.xlabel('epoch')\n",
    "plt.legend(['train', 'test'], loc='upper left')\n",
    "plt.show()"
   ]
  },
  {
   "cell_type": "code",
   "execution_count": 19,
   "id": "tamil-emphasis",
   "metadata": {},
   "outputs": [],
   "source": [
    "#model = RecommenderNet(value_counts.values(), n_factors)\n",
    "model = RecommenderNet([value_counts['customer'], value_counts['product']], n_factors)\n",
    "\n",
    "history = model.fit(x=X_train, y=y_train, batch_size=51200, epochs=1200,\n",
    "                    verbose=0, validation_data=(X_test, y_test))"
   ]
  },
  {
   "cell_type": "code",
   "execution_count": 20,
   "id": "focused-arnold",
   "metadata": {},
   "outputs": [],
   "source": [
    "y_pred = model.predict(X_test)#.astype(int).flatten()\n",
    "y_pred = np.rint(y_pred)"
   ]
  },
  {
   "cell_type": "code",
   "execution_count": 21,
   "id": "differential-squad",
   "metadata": {},
   "outputs": [
    {
     "data": {
      "image/png": "[encoded data removed]",
      "text/plain": [
       "<Figure size 1000x1000 with 2 Axes>"
      ]
     },
     "metadata": {
      "needs_background": "light"
     },
     "output_type": "display_data"
    }
   ],
   "source": [
    "plot_confusion_matrix(y_test, y_pred, save_path='conf_matrix_binary.png')"
   ]
  },
  {
   "cell_type": "code",
   "execution_count": 22,
   "id": "forced-correction",
   "metadata": {},
   "outputs": [
    {
     "name": "stdout",
     "output_type": "stream",
     "text": [
      "              precision    recall  f1-score   support\n",
      "\n",
      "           0       0.82      0.88      0.85      2784\n",
      "           1       0.88      0.81      0.84      2880\n",
      "\n",
      "    accuracy                           0.85      5664\n",
      "   macro avg       0.85      0.85      0.85      5664\n",
      "weighted avg       0.85      0.85      0.85      5664\n",
      "\n"
     ]
    }
   ],
   "source": [
    "print(classification_report(y_test, y_pred))"
   ]
  },
  {
   "cell_type": "code",
   "execution_count": 23,
   "id": "boring-saudi",
   "metadata": {},
   "outputs": [],
   "source": [
    "from sklearn.metrics import roc_curve\n",
    "y_pred_keras = model.predict(X_test).ravel()\n",
    "fpr_keras, tpr_keras, thresholds_keras = roc_curve(y_test, y_pred_keras)"
   ]
  },
  {
   "cell_type": "code",
   "execution_count": 24,
   "id": "driven-hampshire",
   "metadata": {},
   "outputs": [],
   "source": [
    "from sklearn.metrics import auc\n",
    "auc_keras = auc(fpr_keras, tpr_keras)"
   ]
  },
  {
   "cell_type": "code",
   "execution_count": 25,
   "id": "adjustable-lighting",
   "metadata": {},
   "outputs": [
    {
     "data": {
      "image/png": "[encoded data removed]",
      "text/plain": [
       "<Figure size 432x288 with 1 Axes>"
      ]
     },
     "metadata": {
      "needs_background": "light"
     },
     "output_type": "display_data"
    }
   ],
   "source": [
    "plt.figure(1)\n",
    "plt.plot([0, 1], [0, 1], 'k--')\n",
    "plt.plot(fpr_keras, tpr_keras, label='Keras (area = {:.3f})'.format(auc_keras))\n",
    "# plt.plot(fpr_rf, tpr_rf, label='RF (area = {:.3f})'.format(auc_rf))\n",
    "plt.xlabel('False positive rate')\n",
    "plt.ylabel('True positive rate')\n",
    "plt.title('ROC curve')\n",
    "plt.legend(loc='best')\n",
    "plt.show()"
   ]
  },
  {
   "cell_type": "code",
   "execution_count": null,
   "id": "available-teaching",
   "metadata": {},
   "outputs": [],
   "source": []
  }
 ],
 "metadata": {
  "kernelspec": {
   "display_name": "Python 3",
   "language": "python",
   "name": "python3"
  },
  "language_info": {
   "codemirror_mode": {
    "name": "ipython",
    "version": 3
   },
   "file_extension": ".py",
   "mimetype": "text/x-python",
   "name": "python",
   "nbconvert_exporter": "python",
   "pygments_lexer": "ipython3",
   "version": "3.8.5"
  }
 },
 "nbformat": 4,
 "nbformat_minor": 5
}
