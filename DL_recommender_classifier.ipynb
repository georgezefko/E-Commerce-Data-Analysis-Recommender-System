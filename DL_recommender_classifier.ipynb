{
 "cells": [
  {
   "cell_type": "markdown",
   "metadata": {
    "colab_type": "text",
    "id": "view-in-github"
   },
   "source": [
    "<a href=\"https://colab.research.google.com/github/georgezefko/Recommender_System/blob/main/DL_recommender_classifier.ipynb\" target=\"_parent\"><img src=\"https://colab.research.google.com/assets/colab-badge.svg\" alt=\"Open In Colab\"/></a>"
   ]
  },
  {
   "cell_type": "code",
   "execution_count": 1,
   "metadata": {
    "colab": {
     "base_uri": "https://localhost:8080/"
    },
    "id": "qydw_3u_VF9e",
    "outputId": "4af7b2f8-0099-41d1-b7c0-5e2369e3e6cb"
   },
   "outputs": [],
   "source": [
    "#from google.colab import drive\n",
    "#drive.mount('/content/drive', force_remount=True)"
   ]
  },
  {
   "cell_type": "code",
   "execution_count": 232,
   "metadata": {
    "colab": {
     "base_uri": "https://localhost:8080/"
    },
    "id": "ekpsL8OLVHnu",
    "outputId": "47f0a16a-1648-4a39-8b6e-26e138a6e523"
   },
   "outputs": [],
   "source": [
    "import pandas as pd\n",
    "import re\n",
    "import numpy as np\n",
    "import matplotlib.pyplot as plt\n",
    "from nltk.tokenize import word_tokenize\n",
    "from nltk.stem.porter import PorterStemmer\n",
    "from nltk.stem import WordNetLemmatizer\n",
    "import seaborn as sns\n",
    "from collections import Counter\n",
    "\n",
    "\n",
    "from sklearn.model_selection import train_test_split\n",
    "from sklearn.preprocessing import OrdinalEncoder,LabelEncoder\n",
    "from keras.models import Model\n",
    "from keras.layers import Input, Reshape, Dot, Add, Activation, Lambda, Concatenate, Dense, Dropout\n",
    "from keras.layers.embeddings import Embedding\n",
    "from keras.optimizers import Adam\n",
    "from keras.regularizers import l2\n",
    "from sklearn.metrics import accuracy_score\n",
    "from sklearn.metrics import confusion_matrix\n",
    "from sklearn.utils.multiclass import unique_labels\n",
    "from sklearn.model_selection import KFold, StratifiedKFold\n",
    "from keras.callbacks import ModelCheckpoint\n",
    "from keras import backend"
   ]
  },
  {
   "cell_type": "code",
   "execution_count": 4,
   "metadata": {
    "id": "udQbuLymVfn1"
   },
   "outputs": [],
   "source": [
    "#path ='/content/drive/MyDrive/DTU/ABA'\n",
    "path = '..'\n",
    "df = pd.read_csv(path + '/recommender.csv')"
   ]
  },
  {
   "cell_type": "code",
   "execution_count": 5,
   "metadata": {},
   "outputs": [
    {
     "data": {
      "text/plain": [
       "16849468"
      ]
     },
     "execution_count": 5,
     "metadata": {},
     "output_type": "execute_result"
    }
   ],
   "source": [
    "len(df)"
   ]
  },
  {
   "cell_type": "code",
   "execution_count": 6,
   "metadata": {},
   "outputs": [
    {
     "data": {
      "text/plain": [
       "11840834"
      ]
     },
     "execution_count": 6,
     "metadata": {},
     "output_type": "execute_result"
    }
   ],
   "source": [
    "len(df.drop_duplicates())"
   ]
  },
  {
   "cell_type": "code",
   "execution_count": 8,
   "metadata": {},
   "outputs": [],
   "source": [
    "df.to_csv('../recommender.csv', index=False)"
   ]
  },
  {
   "cell_type": "code",
   "execution_count": 10,
   "metadata": {},
   "outputs": [
    {
     "data": {
      "text/html": [
       "<div>\n",
       "<style scoped>\n",
       "    .dataframe tbody tr th:only-of-type {\n",
       "        vertical-align: middle;\n",
       "    }\n",
       "\n",
       "    .dataframe tbody tr th {\n",
       "        vertical-align: top;\n",
       "    }\n",
       "\n",
       "    .dataframe thead th {\n",
       "        text-align: right;\n",
       "    }\n",
       "</style>\n",
       "<table border=\"1\" class=\"dataframe\">\n",
       "  <thead>\n",
       "    <tr style=\"text-align: right;\">\n",
       "      <th></th>\n",
       "      <th>review_score</th>\n",
       "      <th>price</th>\n",
       "      <th>customer_state</th>\n",
       "      <th>order_status</th>\n",
       "      <th>seller_state</th>\n",
       "      <th>order_item_id</th>\n",
       "      <th>product_category_name_english</th>\n",
       "      <th>customer_unique_id</th>\n",
       "      <th>order_purchase_timestamp</th>\n",
       "      <th>geolocation_lat</th>\n",
       "      <th>geolocation_lng</th>\n",
       "      <th>product_id</th>\n",
       "    </tr>\n",
       "  </thead>\n",
       "  <tbody>\n",
       "    <tr>\n",
       "      <th>0</th>\n",
       "      <td>4</td>\n",
       "      <td>29.99</td>\n",
       "      <td>SP</td>\n",
       "      <td>delivered</td>\n",
       "      <td>SP</td>\n",
       "      <td>1</td>\n",
       "      <td>housewares</td>\n",
       "      <td>7c396fd4830fd04220f754e42b4e5bff</td>\n",
       "      <td>2017-10-02 10:56:33</td>\n",
       "      <td>-23.680114</td>\n",
       "      <td>-46.452454</td>\n",
       "      <td>87285b34884572647811a353c7ac498a</td>\n",
       "    </tr>\n",
       "    <tr>\n",
       "      <th>1</th>\n",
       "      <td>4</td>\n",
       "      <td>29.99</td>\n",
       "      <td>SP</td>\n",
       "      <td>delivered</td>\n",
       "      <td>SP</td>\n",
       "      <td>1</td>\n",
       "      <td>housewares</td>\n",
       "      <td>7c396fd4830fd04220f754e42b4e5bff</td>\n",
       "      <td>2017-10-02 10:56:33</td>\n",
       "      <td>-23.675223</td>\n",
       "      <td>-46.441038</td>\n",
       "      <td>87285b34884572647811a353c7ac498a</td>\n",
       "    </tr>\n",
       "    <tr>\n",
       "      <th>2</th>\n",
       "      <td>4</td>\n",
       "      <td>29.99</td>\n",
       "      <td>SP</td>\n",
       "      <td>delivered</td>\n",
       "      <td>SP</td>\n",
       "      <td>1</td>\n",
       "      <td>housewares</td>\n",
       "      <td>7c396fd4830fd04220f754e42b4e5bff</td>\n",
       "      <td>2017-10-02 10:56:33</td>\n",
       "      <td>-23.685712</td>\n",
       "      <td>-46.444796</td>\n",
       "      <td>87285b34884572647811a353c7ac498a</td>\n",
       "    </tr>\n",
       "    <tr>\n",
       "      <th>3</th>\n",
       "      <td>4</td>\n",
       "      <td>29.99</td>\n",
       "      <td>SP</td>\n",
       "      <td>delivered</td>\n",
       "      <td>SP</td>\n",
       "      <td>1</td>\n",
       "      <td>housewares</td>\n",
       "      <td>7c396fd4830fd04220f754e42b4e5bff</td>\n",
       "      <td>2017-10-02 10:56:33</td>\n",
       "      <td>-23.679951</td>\n",
       "      <td>-46.448247</td>\n",
       "      <td>87285b34884572647811a353c7ac498a</td>\n",
       "    </tr>\n",
       "    <tr>\n",
       "      <th>4</th>\n",
       "      <td>4</td>\n",
       "      <td>29.99</td>\n",
       "      <td>SP</td>\n",
       "      <td>delivered</td>\n",
       "      <td>SP</td>\n",
       "      <td>1</td>\n",
       "      <td>housewares</td>\n",
       "      <td>7c396fd4830fd04220f754e42b4e5bff</td>\n",
       "      <td>2017-10-02 10:56:33</td>\n",
       "      <td>-23.678662</td>\n",
       "      <td>-46.442578</td>\n",
       "      <td>87285b34884572647811a353c7ac498a</td>\n",
       "    </tr>\n",
       "  </tbody>\n",
       "</table>\n",
       "</div>"
      ],
      "text/plain": [
       "   review_score  price customer_state order_status seller_state  \\\n",
       "0             4  29.99             SP    delivered           SP   \n",
       "1             4  29.99             SP    delivered           SP   \n",
       "2             4  29.99             SP    delivered           SP   \n",
       "3             4  29.99             SP    delivered           SP   \n",
       "4             4  29.99             SP    delivered           SP   \n",
       "\n",
       "   order_item_id product_category_name_english  \\\n",
       "0              1                    housewares   \n",
       "1              1                    housewares   \n",
       "2              1                    housewares   \n",
       "3              1                    housewares   \n",
       "4              1                    housewares   \n",
       "\n",
       "                 customer_unique_id order_purchase_timestamp  geolocation_lat  \\\n",
       "0  7c396fd4830fd04220f754e42b4e5bff      2017-10-02 10:56:33       -23.680114   \n",
       "1  7c396fd4830fd04220f754e42b4e5bff      2017-10-02 10:56:33       -23.675223   \n",
       "2  7c396fd4830fd04220f754e42b4e5bff      2017-10-02 10:56:33       -23.685712   \n",
       "3  7c396fd4830fd04220f754e42b4e5bff      2017-10-02 10:56:33       -23.679951   \n",
       "4  7c396fd4830fd04220f754e42b4e5bff      2017-10-02 10:56:33       -23.678662   \n",
       "\n",
       "   geolocation_lng                        product_id  \n",
       "0       -46.452454  87285b34884572647811a353c7ac498a  \n",
       "1       -46.441038  87285b34884572647811a353c7ac498a  \n",
       "2       -46.444796  87285b34884572647811a353c7ac498a  \n",
       "3       -46.448247  87285b34884572647811a353c7ac498a  \n",
       "4       -46.442578  87285b34884572647811a353c7ac498a  "
      ]
     },
     "execution_count": 10,
     "metadata": {},
     "output_type": "execute_result"
    }
   ],
   "source": [
    "df.head()"
   ]
  },
  {
   "cell_type": "code",
   "execution_count": 11,
   "metadata": {},
   "outputs": [
    {
     "name": "stdout",
     "output_type": "stream",
     "text": [
      "WARNING:tensorflow:From <ipython-input-11-fb08a34297ce>:2: is_gpu_available (from tensorflow.python.framework.test_util) is deprecated and will be removed in a future version.\n",
      "Instructions for updating:\n",
      "Use `tf.config.list_physical_devices('GPU')` instead.\n"
     ]
    },
    {
     "data": {
      "text/plain": [
       "False"
      ]
     },
     "execution_count": 11,
     "metadata": {},
     "output_type": "execute_result"
    }
   ],
   "source": [
    "import tensorflow as tf\n",
    "tf.test.is_gpu_available() # True/False\n",
    "\n",
    "# Or only check for gpu's with cuda support\n",
    "tf.test.is_gpu_available(cuda_only=True) "
   ]
  },
  {
   "cell_type": "code",
   "execution_count": 13,
   "metadata": {
    "colab": {
     "base_uri": "https://localhost:8080/",
     "height": 441
    },
    "id": "1mPUMXPtXDjn",
    "outputId": "3e6d72c4-cc57-47a9-c415-852528ae56fe"
   },
   "outputs": [
    {
     "data": {
      "text/html": [
       "<div>\n",
       "<style scoped>\n",
       "    .dataframe tbody tr th:only-of-type {\n",
       "        vertical-align: middle;\n",
       "    }\n",
       "\n",
       "    .dataframe tbody tr th {\n",
       "        vertical-align: top;\n",
       "    }\n",
       "\n",
       "    .dataframe thead th {\n",
       "        text-align: right;\n",
       "    }\n",
       "</style>\n",
       "<table border=\"1\" class=\"dataframe\">\n",
       "  <thead>\n",
       "    <tr style=\"text-align: right;\">\n",
       "      <th></th>\n",
       "      <th>customer_id</th>\n",
       "      <th>product_id</th>\n",
       "      <th>review_score</th>\n",
       "    </tr>\n",
       "  </thead>\n",
       "  <tbody>\n",
       "    <tr>\n",
       "      <th>0</th>\n",
       "      <td>9ef432eb6251297304e76186b10a928d</td>\n",
       "      <td>87285b34884572647811a353c7ac498a</td>\n",
       "      <td>4</td>\n",
       "    </tr>\n",
       "    <tr>\n",
       "      <th>1</th>\n",
       "      <td>a20e8105f23924cd00833fd87daa0831</td>\n",
       "      <td>87285b34884572647811a353c7ac498a</td>\n",
       "      <td>4</td>\n",
       "    </tr>\n",
       "    <tr>\n",
       "      <th>2</th>\n",
       "      <td>26c7ac168e1433912a51b924fbd34d34</td>\n",
       "      <td>87285b34884572647811a353c7ac498a</td>\n",
       "      <td>5</td>\n",
       "    </tr>\n",
       "    <tr>\n",
       "      <th>3</th>\n",
       "      <td>53904ddbea91e1e92b2b3f1d09a7af86</td>\n",
       "      <td>87285b34884572647811a353c7ac498a</td>\n",
       "      <td>3</td>\n",
       "    </tr>\n",
       "    <tr>\n",
       "      <th>4</th>\n",
       "      <td>a7260a6ccba78544ccfaf43f920b7240</td>\n",
       "      <td>be03d93320192443b8fa24c0ca6ead98</td>\n",
       "      <td>1</td>\n",
       "    </tr>\n",
       "    <tr>\n",
       "      <th>...</th>\n",
       "      <td>...</td>\n",
       "      <td>...</td>\n",
       "      <td>...</td>\n",
       "    </tr>\n",
       "    <tr>\n",
       "      <th>100943</th>\n",
       "      <td>49bc0bacf1f213a2d30e240c648ccb01</td>\n",
       "      <td>f83fd2b539bc73678c65be8d418be8c1</td>\n",
       "      <td>1</td>\n",
       "    </tr>\n",
       "    <tr>\n",
       "      <th>100944</th>\n",
       "      <td>2108cb2ccd6811d5118b77d19957b536</td>\n",
       "      <td>f83fd2b539bc73678c65be8d418be8c1</td>\n",
       "      <td>1</td>\n",
       "    </tr>\n",
       "    <tr>\n",
       "      <th>100945</th>\n",
       "      <td>d8b65951c84554c80270720c9b5f1178</td>\n",
       "      <td>5a92ef8a5a2511f0d2dff3ea562700ab</td>\n",
       "      <td>5</td>\n",
       "    </tr>\n",
       "    <tr>\n",
       "      <th>100946</th>\n",
       "      <td>62d3c457010afc957d955568318e6d78</td>\n",
       "      <td>53e695484b71a194bf7d89b48700756a</td>\n",
       "      <td>5</td>\n",
       "    </tr>\n",
       "    <tr>\n",
       "      <th>100947</th>\n",
       "      <td>e924482b6903522795771e672721f5d2</td>\n",
       "      <td>47488bf996fd46283813059897e71e1e</td>\n",
       "      <td>1</td>\n",
       "    </tr>\n",
       "  </tbody>\n",
       "</table>\n",
       "<p>100948 rows × 3 columns</p>\n",
       "</div>"
      ],
      "text/plain": [
       "                             customer_id                        product_id  \\\n",
       "0       9ef432eb6251297304e76186b10a928d  87285b34884572647811a353c7ac498a   \n",
       "1       a20e8105f23924cd00833fd87daa0831  87285b34884572647811a353c7ac498a   \n",
       "2       26c7ac168e1433912a51b924fbd34d34  87285b34884572647811a353c7ac498a   \n",
       "3       53904ddbea91e1e92b2b3f1d09a7af86  87285b34884572647811a353c7ac498a   \n",
       "4       a7260a6ccba78544ccfaf43f920b7240  be03d93320192443b8fa24c0ca6ead98   \n",
       "...                                  ...                               ...   \n",
       "100943  49bc0bacf1f213a2d30e240c648ccb01  f83fd2b539bc73678c65be8d418be8c1   \n",
       "100944  2108cb2ccd6811d5118b77d19957b536  f83fd2b539bc73678c65be8d418be8c1   \n",
       "100945  d8b65951c84554c80270720c9b5f1178  5a92ef8a5a2511f0d2dff3ea562700ab   \n",
       "100946  62d3c457010afc957d955568318e6d78  53e695484b71a194bf7d89b48700756a   \n",
       "100947  e924482b6903522795771e672721f5d2  47488bf996fd46283813059897e71e1e   \n",
       "\n",
       "        review_score  \n",
       "0                  4  \n",
       "1                  4  \n",
       "2                  5  \n",
       "3                  3  \n",
       "4                  1  \n",
       "...              ...  \n",
       "100943             1  \n",
       "100944             1  \n",
       "100945             5  \n",
       "100946             5  \n",
       "100947             1  \n",
       "\n",
       "[100948 rows x 3 columns]"
      ]
     },
     "execution_count": 13,
     "metadata": {},
     "output_type": "execute_result"
    }
   ],
   "source": [
    "df"
   ]
  },
  {
   "cell_type": "code",
   "execution_count": 12,
   "metadata": {
    "colab": {
     "base_uri": "https://localhost:8080/"
    },
    "id": "KqlXg3iMXD9f",
    "outputId": "a2b12166-c392-400f-fdab-76f7ce25c412"
   },
   "outputs": [
    {
     "data": {
      "text/plain": [
       "5    9421600\n",
       "4    3157851\n",
       "1    2195829\n",
       "3    1466844\n",
       "2     607344\n",
       "Name: review_score, dtype: int64"
      ]
     },
     "execution_count": 12,
     "metadata": {},
     "output_type": "execute_result"
    }
   ],
   "source": [
    "df.review_score.value_counts()"
   ]
  },
  {
   "cell_type": "markdown",
   "metadata": {
    "id": "iTW-9QO-nsiS"
   },
   "source": [
    "# Recommender ANN\n",
    "\n",
    "Based on https://medium.com/@jdwittenauer/deep-learning-with-keras-recommender-systems-e7b99cb29929\n"
   ]
  },
  {
   "cell_type": "code",
   "execution_count": 13,
   "metadata": {
    "id": "civbcyw-XT6n"
   },
   "outputs": [],
   "source": [
    "class EmbeddingLayer:\n",
    "    def __init__(self, n_items, n_factors):\n",
    "        self.n_items = n_items\n",
    "        self.n_factors = n_factors\n",
    "    \n",
    "    def __call__(self, x):\n",
    "        x = Embedding(self.n_items, self.n_factors, embeddings_initializer='he_normal',\n",
    "                      embeddings_regularizer=l2(1e-6))(x)\n",
    "        x = Reshape((self.n_factors,))(x)\n",
    "        return x"
   ]
  },
  {
   "cell_type": "code",
   "execution_count": 77,
   "metadata": {
    "id": "Tr7QbOGAXf01"
   },
   "outputs": [],
   "source": [
    "def RecommenderNet(n_customers, n_items, n_factors, min_rating, max_rating, output_nodes = 5):\n",
    "    user = Input(shape=(1,))\n",
    "    u = EmbeddingLayer(n_customers, n_factors)(user)\n",
    "    \n",
    "    item = Input(shape=(1,))\n",
    "    m = EmbeddingLayer(n_items, n_factors)(item)\n",
    "    \n",
    "    x = Concatenate()([u, m])\n",
    "    x = Dropout(0.05)(x)\n",
    "    \n",
    "    x = Dense(5, kernel_initializer='he_normal')(x)\n",
    "    x = Activation('relu')(x)\n",
    "    x = Dropout(0.5)(x)\n",
    "    \n",
    "    x = Dense(output_nodes, kernel_initializer='he_normal')(x)\n",
    "    if output_nodes == 1:\n",
    "        x = Activation('sigmoid')(x)\n",
    "    else:\n",
    "        x = Activation('softmax')(x)\n",
    "    #x = Lambda(lambda x: x * (max_rating - min_rating) + min_rating)(x)\n",
    "    model = Model(inputs=[user, item], outputs=x)\n",
    "    opt = Adam(lr=0.001)\n",
    "    if output_nodes == 1:\n",
    "        model.compile(loss='binary_crossentropy', optimizer=opt, metrics=['accuracy'])\n",
    "    else:\n",
    "        model.compile(loss='sparse_categorical_crossentropy', optimizer=opt, metrics=['accuracy'])\n",
    "    return model"
   ]
  },
  {
   "cell_type": "code",
   "execution_count": 255,
   "metadata": {
    "id": "kTtcd1joXi--"
   },
   "outputs": [],
   "source": [
    "try:\n",
    "    df_keras = df.loc[:,'customer_unique_id,product_id,review_score,order_purchase_timestamp'.split(',')]\n",
    "except:\n",
    "    df_keras = df\n"
   ]
  },
  {
   "cell_type": "code",
   "execution_count": 256,
   "metadata": {},
   "outputs": [
    {
     "data": {
      "text/html": [
       "<div>\n",
       "<style scoped>\n",
       "    .dataframe tbody tr th:only-of-type {\n",
       "        vertical-align: middle;\n",
       "    }\n",
       "\n",
       "    .dataframe tbody tr th {\n",
       "        vertical-align: top;\n",
       "    }\n",
       "\n",
       "    .dataframe thead th {\n",
       "        text-align: right;\n",
       "    }\n",
       "</style>\n",
       "<table border=\"1\" class=\"dataframe\">\n",
       "  <thead>\n",
       "    <tr style=\"text-align: right;\">\n",
       "      <th></th>\n",
       "      <th>customer_unique_id</th>\n",
       "      <th>product_id</th>\n",
       "      <th>review_score</th>\n",
       "      <th>order_purchase_timestamp</th>\n",
       "    </tr>\n",
       "  </thead>\n",
       "  <tbody>\n",
       "    <tr>\n",
       "      <th>0</th>\n",
       "      <td>7c396fd4830fd04220f754e42b4e5bff</td>\n",
       "      <td>87285b34884572647811a353c7ac498a</td>\n",
       "      <td>4</td>\n",
       "      <td>2017-10-02 10:56:33</td>\n",
       "    </tr>\n",
       "    <tr>\n",
       "      <th>1</th>\n",
       "      <td>7c396fd4830fd04220f754e42b4e5bff</td>\n",
       "      <td>87285b34884572647811a353c7ac498a</td>\n",
       "      <td>4</td>\n",
       "      <td>2017-10-02 10:56:33</td>\n",
       "    </tr>\n",
       "    <tr>\n",
       "      <th>2</th>\n",
       "      <td>7c396fd4830fd04220f754e42b4e5bff</td>\n",
       "      <td>87285b34884572647811a353c7ac498a</td>\n",
       "      <td>4</td>\n",
       "      <td>2017-10-02 10:56:33</td>\n",
       "    </tr>\n",
       "    <tr>\n",
       "      <th>3</th>\n",
       "      <td>7c396fd4830fd04220f754e42b4e5bff</td>\n",
       "      <td>87285b34884572647811a353c7ac498a</td>\n",
       "      <td>4</td>\n",
       "      <td>2017-10-02 10:56:33</td>\n",
       "    </tr>\n",
       "    <tr>\n",
       "      <th>4</th>\n",
       "      <td>7c396fd4830fd04220f754e42b4e5bff</td>\n",
       "      <td>87285b34884572647811a353c7ac498a</td>\n",
       "      <td>4</td>\n",
       "      <td>2017-10-02 10:56:33</td>\n",
       "    </tr>\n",
       "  </tbody>\n",
       "</table>\n",
       "</div>"
      ],
      "text/plain": [
       "                 customer_unique_id                        product_id  \\\n",
       "0  7c396fd4830fd04220f754e42b4e5bff  87285b34884572647811a353c7ac498a   \n",
       "1  7c396fd4830fd04220f754e42b4e5bff  87285b34884572647811a353c7ac498a   \n",
       "2  7c396fd4830fd04220f754e42b4e5bff  87285b34884572647811a353c7ac498a   \n",
       "3  7c396fd4830fd04220f754e42b4e5bff  87285b34884572647811a353c7ac498a   \n",
       "4  7c396fd4830fd04220f754e42b4e5bff  87285b34884572647811a353c7ac498a   \n",
       "\n",
       "   review_score order_purchase_timestamp  \n",
       "0             4      2017-10-02 10:56:33  \n",
       "1             4      2017-10-02 10:56:33  \n",
       "2             4      2017-10-02 10:56:33  \n",
       "3             4      2017-10-02 10:56:33  \n",
       "4             4      2017-10-02 10:56:33  "
      ]
     },
     "execution_count": 256,
     "metadata": {},
     "output_type": "execute_result"
    }
   ],
   "source": [
    "df_keras.head()"
   ]
  },
  {
   "cell_type": "code",
   "execution_count": 257,
   "metadata": {},
   "outputs": [
    {
     "data": {
      "text/plain": [
       "16849468"
      ]
     },
     "execution_count": 257,
     "metadata": {},
     "output_type": "execute_result"
    }
   ],
   "source": [
    "len(df_keras)"
   ]
  },
  {
   "cell_type": "code",
   "execution_count": 258,
   "metadata": {},
   "outputs": [],
   "source": [
    "df_keras = df_keras.drop_duplicates()"
   ]
  },
  {
   "cell_type": "code",
   "execution_count": 259,
   "metadata": {},
   "outputs": [
    {
     "data": {
      "text/plain": [
       "100917"
      ]
     },
     "execution_count": 259,
     "metadata": {},
     "output_type": "execute_result"
    }
   ],
   "source": [
    "len(df_keras)"
   ]
  },
  {
   "cell_type": "markdown",
   "metadata": {},
   "source": [
    "## Binary approach"
   ]
  },
  {
   "cell_type": "code",
   "execution_count": 260,
   "metadata": {},
   "outputs": [],
   "source": [
    "def binarize_ratings(rating):\n",
    "    if rating == 4:\n",
    "        return 1\n",
    "    else:\n",
    "        return 0"
   ]
  },
  {
   "cell_type": "code",
   "execution_count": 261,
   "metadata": {},
   "outputs": [],
   "source": [
    "df_keras = df_keras[df_keras.groupby('customer_unique_id').customer_unique_id.transform('count')>1].copy()"
   ]
  },
  {
   "cell_type": "code",
   "execution_count": 262,
   "metadata": {
    "colab": {
     "base_uri": "https://localhost:8080/"
    },
    "id": "KyRgrfxFXrsA",
    "outputId": "5e408cfb-13b1-4c81-ac50-8760e02558ec"
   },
   "outputs": [
    {
     "data": {
      "text/plain": [
       "(5663, 7802, 0, 4)"
      ]
     },
     "execution_count": 262,
     "metadata": {},
     "output_type": "execute_result"
    }
   ],
   "source": [
    "customer_enc = LabelEncoder()\n",
    "df_keras['customer'] = customer_enc.fit_transform(df_keras.customer_unique_id.values)\n",
    "n_customers = df_keras.customer.max() # to be corrected, nunique\n",
    "item_enc = LabelEncoder()\n",
    "df_keras['item'] = item_enc.fit_transform(df_keras.product_id.values)\n",
    "n_items = df_keras.item.max() # see above\n",
    "\n",
    "rating_enc = LabelEncoder()\n",
    "df_keras['rating'] = rating_enc.fit_transform(df_keras.review_score.values)\n",
    "min_rating = min(df_keras.rating)\n",
    "max_rating = max(df_keras.rating)\n",
    "n_customers, n_items, min_rating, max_rating"
   ]
  },
  {
   "cell_type": "code",
   "execution_count": 263,
   "metadata": {},
   "outputs": [],
   "source": [
    "df_keras.rating = df_keras.rating.apply(binarize_ratings)"
   ]
  },
  {
   "cell_type": "code",
   "execution_count": 264,
   "metadata": {},
   "outputs": [
    {
     "data": {
      "text/plain": [
       "<matplotlib.collections.PathCollection at 0x1b7781e0940>"
      ]
     },
     "execution_count": 264,
     "metadata": {},
     "output_type": "execute_result"
    },
    {
     "data": {
      "image/png": "[encoded data removed]",
      "text/plain": [
       "<Figure size 432x288 with 1 Axes>"
      ]
     },
     "metadata": {
      "needs_background": "light"
     },
     "output_type": "display_data"
    }
   ],
   "source": [
    "plt.scatter(sorted(df_keras.customer.values),range(len(df_keras.customer.values)) )"
   ]
  },
  {
   "cell_type": "code",
   "execution_count": 265,
   "metadata": {},
   "outputs": [
    {
     "data": {
      "text/plain": [
       "3082    15\n",
       "1346    13\n",
       "611      9\n",
       "4468     9\n",
       "2316     8\n",
       "        ..\n",
       "3763     2\n",
       "1714     2\n",
       "3755     2\n",
       "1706     2\n",
       "2047     2\n",
       "Name: customer, Length: 5664, dtype: int64"
      ]
     },
     "execution_count": 265,
     "metadata": {},
     "output_type": "execute_result"
    }
   ],
   "source": [
    "df_keras.customer.value_counts()"
   ]
  },
  {
   "cell_type": "code",
   "execution_count": 266,
   "metadata": {},
   "outputs": [],
   "source": [
    "df_test = df_keras.sort_values('order_purchase_timestamp', ascending=False).groupby(['customer']).head(1)"
   ]
  },
  {
   "cell_type": "code",
   "execution_count": 276,
   "metadata": {},
   "outputs": [],
   "source": [
    "df_train = df_keras[~df_keras.index.isin(df_test.index)]"
   ]
  },
  {
   "cell_type": "code",
   "execution_count": 277,
   "metadata": {},
   "outputs": [
    {
     "data": {
      "text/plain": [
       "nan"
      ]
     },
     "execution_count": 277,
     "metadata": {},
     "output_type": "execute_result"
    }
   ],
   "source": [
    "df_test[df_test.customer == 51762].order_purchase_timestamp.max()"
   ]
  },
  {
   "cell_type": "code",
   "execution_count": 278,
   "metadata": {},
   "outputs": [
    {
     "data": {
      "text/plain": [
       "nan"
      ]
     },
     "execution_count": 278,
     "metadata": {},
     "output_type": "execute_result"
    }
   ],
   "source": [
    "df_train[df_train.customer == 51762].order_purchase_timestamp.max()"
   ]
  },
  {
   "cell_type": "code",
   "execution_count": 279,
   "metadata": {},
   "outputs": [
    {
     "name": "stdout",
     "output_type": "stream",
     "text": [
      "12696 5664 7032\n"
     ]
    }
   ],
   "source": [
    "print(len(df_keras), len(df_test), len(df_train))"
   ]
  },
  {
   "cell_type": "code",
   "execution_count": 280,
   "metadata": {},
   "outputs": [
    {
     "data": {
      "text/html": [
       "<div>\n",
       "<style scoped>\n",
       "    .dataframe tbody tr th:only-of-type {\n",
       "        vertical-align: middle;\n",
       "    }\n",
       "\n",
       "    .dataframe tbody tr th {\n",
       "        vertical-align: top;\n",
       "    }\n",
       "\n",
       "    .dataframe thead th {\n",
       "        text-align: right;\n",
       "    }\n",
       "</style>\n",
       "<table border=\"1\" class=\"dataframe\">\n",
       "  <thead>\n",
       "    <tr style=\"text-align: right;\">\n",
       "      <th></th>\n",
       "      <th>customer_unique_id</th>\n",
       "      <th>product_id</th>\n",
       "      <th>review_score</th>\n",
       "      <th>order_purchase_timestamp</th>\n",
       "      <th>customer</th>\n",
       "      <th>item</th>\n",
       "      <th>rating</th>\n",
       "    </tr>\n",
       "  </thead>\n",
       "  <tbody>\n",
       "    <tr>\n",
       "      <th>1242</th>\n",
       "      <td>7a1de9bde89aedca8c5fbad489c5571c</td>\n",
       "      <td>be03d93320192443b8fa24c0ca6ead98</td>\n",
       "      <td>1</td>\n",
       "      <td>2017-08-24 11:31:28</td>\n",
       "      <td>2670</td>\n",
       "      <td>5772</td>\n",
       "      <td>0</td>\n",
       "    </tr>\n",
       "    <tr>\n",
       "      <th>6417</th>\n",
       "      <td>07f61caa1c9e850c14e94854cec87545</td>\n",
       "      <td>0bb7cb61f1957f79dac582ab66ccdc1f</td>\n",
       "      <td>5</td>\n",
       "      <td>2017-08-05 14:52:23</td>\n",
       "      <td>184</td>\n",
       "      <td>343</td>\n",
       "      <td>1</td>\n",
       "    </tr>\n",
       "    <tr>\n",
       "      <th>28528</th>\n",
       "      <td>7289ef64c73bc18f265634e530689474</td>\n",
       "      <td>d961667356e6dffef33c0d0eb4c327cc</td>\n",
       "      <td>5</td>\n",
       "      <td>2017-09-30 14:48:37</td>\n",
       "      <td>2481</td>\n",
       "      <td>6628</td>\n",
       "      <td>1</td>\n",
       "    </tr>\n",
       "    <tr>\n",
       "      <th>49787</th>\n",
       "      <td>330fdaa06f93c0c6ffb4af7d79c1ef12</td>\n",
       "      <td>d6771ada82143b0a04ba2cf7690bfcc7</td>\n",
       "      <td>1</td>\n",
       "      <td>2017-08-28 20:15:12</td>\n",
       "      <td>1125</td>\n",
       "      <td>6541</td>\n",
       "      <td>0</td>\n",
       "    </tr>\n",
       "    <tr>\n",
       "      <th>52842</th>\n",
       "      <td>ddba0e0afb9e4924ca45fc487b19a17a</td>\n",
       "      <td>a7c9b5877966d71112d9a1b392fef8d1</td>\n",
       "      <td>5</td>\n",
       "      <td>2018-06-06 17:30:59</td>\n",
       "      <td>4903</td>\n",
       "      <td>5099</td>\n",
       "      <td>1</td>\n",
       "    </tr>\n",
       "  </tbody>\n",
       "</table>\n",
       "</div>"
      ],
      "text/plain": [
       "                     customer_unique_id                        product_id  \\\n",
       "1242   7a1de9bde89aedca8c5fbad489c5571c  be03d93320192443b8fa24c0ca6ead98   \n",
       "6417   07f61caa1c9e850c14e94854cec87545  0bb7cb61f1957f79dac582ab66ccdc1f   \n",
       "28528  7289ef64c73bc18f265634e530689474  d961667356e6dffef33c0d0eb4c327cc   \n",
       "49787  330fdaa06f93c0c6ffb4af7d79c1ef12  d6771ada82143b0a04ba2cf7690bfcc7   \n",
       "52842  ddba0e0afb9e4924ca45fc487b19a17a  a7c9b5877966d71112d9a1b392fef8d1   \n",
       "\n",
       "       review_score order_purchase_timestamp  customer  item  rating  \n",
       "1242              1      2017-08-24 11:31:28      2670  5772       0  \n",
       "6417              5      2017-08-05 14:52:23       184   343       1  \n",
       "28528             5      2017-09-30 14:48:37      2481  6628       1  \n",
       "49787             1      2017-08-28 20:15:12      1125  6541       0  \n",
       "52842             5      2018-06-06 17:30:59      4903  5099       1  "
      ]
     },
     "execution_count": 280,
     "metadata": {},
     "output_type": "execute_result"
    }
   ],
   "source": [
    "df_train.head()"
   ]
  },
  {
   "cell_type": "code",
   "execution_count": 281,
   "metadata": {},
   "outputs": [],
   "source": [
    "df_train = df_train.sample(frac=1)\n",
    "df_test = df_test.sample(frac=1)\n",
    "\n",
    "X_train = [df_train.loc[:,'customer'].values, df_train.loc[:,'item'].values] \n",
    "y_train = df_train.rating\n",
    "\n",
    "X_test = [df_test.loc[:,'customer'].values, df_test.loc[:,'item'].values]\n",
    "y_test = df_test.rating"
   ]
  },
  {
   "cell_type": "code",
   "execution_count": 297,
   "metadata": {},
   "outputs": [
    {
     "data": {
      "text/plain": [
       "array([1024,  251, 3366, ..., 5011, 6475, 4314])"
      ]
     },
     "execution_count": 297,
     "metadata": {},
     "output_type": "execute_result"
    }
   ],
   "source": [
    "X_train[1]"
   ]
  },
  {
   "cell_type": "code",
   "execution_count": 296,
   "metadata": {},
   "outputs": [
    {
     "data": {
      "text/plain": [
       "array([5371,  351,  493, ..., 2211, 4886, 7302])"
      ]
     },
     "execution_count": 296,
     "metadata": {},
     "output_type": "execute_result"
    }
   ],
   "source": [
    "X_test[1]"
   ]
  },
  {
   "cell_type": "code",
   "execution_count": 298,
   "metadata": {},
   "outputs": [
    {
     "data": {
      "text/plain": [
       "11122987    0\n",
       "12547552    0\n",
       "3232841     0\n",
       "14288716    0\n",
       "6312629     1\n",
       "           ..\n",
       "5510130     1\n",
       "1027901     0\n",
       "14264406    1\n",
       "4642588     1\n",
       "12671461    1\n",
       "Name: rating, Length: 7032, dtype: int64"
      ]
     },
     "execution_count": 298,
     "metadata": {},
     "output_type": "execute_result"
    }
   ],
   "source": [
    "y_train"
   ]
  },
  {
   "cell_type": "code",
   "execution_count": 299,
   "metadata": {},
   "outputs": [
    {
     "data": {
      "text/plain": [
       "14259258    0\n",
       "4692363     0\n",
       "3094234     0\n",
       "5621318     1\n",
       "4939004     1\n",
       "           ..\n",
       "8852845     0\n",
       "3566907     0\n",
       "13642928    0\n",
       "9381721     1\n",
       "12444496    0\n",
       "Name: rating, Length: 5664, dtype: int64"
      ]
     },
     "execution_count": 299,
     "metadata": {},
     "output_type": "execute_result"
    }
   ],
   "source": [
    "y_test"
   ]
  },
  {
   "cell_type": "code",
   "execution_count": 323,
   "metadata": {},
   "outputs": [],
   "source": [
    "n_factors = 10"
   ]
  },
  {
   "cell_type": "code",
   "execution_count": 324,
   "metadata": {},
   "outputs": [
    {
     "name": "stdout",
     "output_type": "stream",
     "text": [
      "5663 7802 10 0 1 1\n",
      "Epoch 1/100\n",
      "14/14 [==============================] - 0s 12ms/step - loss: 0.6931 - accuracy: 0.4990 - val_loss: 0.6927 - val_accuracy: 0.5344\n",
      "Epoch 2/100\n",
      "14/14 [==============================] - 0s 3ms/step - loss: 0.6909 - accuracy: 0.5958 - val_loss: 0.6917 - val_accuracy: 0.5800\n",
      "Epoch 3/100\n",
      "14/14 [==============================] - 0s 3ms/step - loss: 0.6881 - accuracy: 0.6351 - val_loss: 0.6901 - val_accuracy: 0.6199\n",
      "Epoch 4/100\n",
      "14/14 [==============================] - 0s 3ms/step - loss: 0.6844 - accuracy: 0.6748 - val_loss: 0.6877 - val_accuracy: 0.6418\n",
      "Epoch 5/100\n",
      "14/14 [==============================] - 0s 3ms/step - loss: 0.6776 - accuracy: 0.7196 - val_loss: 0.6840 - val_accuracy: 0.6471\n",
      "Epoch 6/100\n",
      "14/14 [==============================] - 0s 3ms/step - loss: 0.6687 - accuracy: 0.7551 - val_loss: 0.6785 - val_accuracy: 0.6675\n",
      "Epoch 7/100\n",
      "14/14 [==============================] - 0s 3ms/step - loss: 0.6550 - accuracy: 0.7982 - val_loss: 0.6709 - val_accuracy: 0.6926\n",
      "Epoch 8/100\n",
      "14/14 [==============================] - 0s 3ms/step - loss: 0.6379 - accuracy: 0.8426 - val_loss: 0.6612 - val_accuracy: 0.7129\n",
      "Epoch 9/100\n",
      "14/14 [==============================] - 0s 3ms/step - loss: 0.6151 - accuracy: 0.8690 - val_loss: 0.6492 - val_accuracy: 0.7362\n",
      "Epoch 10/100\n",
      "14/14 [==============================] - 0s 3ms/step - loss: 0.5920 - accuracy: 0.8864 - val_loss: 0.6352 - val_accuracy: 0.7652\n",
      "Epoch 11/100\n",
      "14/14 [==============================] - 0s 3ms/step - loss: 0.5603 - accuracy: 0.9070 - val_loss: 0.6197 - val_accuracy: 0.7871\n",
      "Epoch 12/100\n",
      "14/14 [==============================] - 0s 3ms/step - loss: 0.5317 - accuracy: 0.9121 - val_loss: 0.6033 - val_accuracy: 0.8058\n",
      "Epoch 13/100\n",
      "14/14 [==============================] - 0s 3ms/step - loss: 0.5040 - accuracy: 0.9245 - val_loss: 0.5866 - val_accuracy: 0.8192\n",
      "Epoch 14/100\n",
      "14/14 [==============================] - 0s 3ms/step - loss: 0.4728 - accuracy: 0.9246 - val_loss: 0.5701 - val_accuracy: 0.8257\n",
      "Epoch 15/100\n",
      "14/14 [==============================] - 0s 3ms/step - loss: 0.4419 - accuracy: 0.9361 - val_loss: 0.5542 - val_accuracy: 0.8310\n",
      "Epoch 16/100\n",
      "14/14 [==============================] - 0s 3ms/step - loss: 0.4173 - accuracy: 0.9393 - val_loss: 0.5391 - val_accuracy: 0.8355\n",
      "Epoch 17/100\n",
      "14/14 [==============================] - 0s 3ms/step - loss: 0.3925 - accuracy: 0.9451 - val_loss: 0.5253 - val_accuracy: 0.8351\n",
      "Epoch 18/100\n",
      "14/14 [==============================] - 0s 3ms/step - loss: 0.3706 - accuracy: 0.9477 - val_loss: 0.5130 - val_accuracy: 0.8358\n",
      "Epoch 19/100\n",
      "14/14 [==============================] - 0s 3ms/step - loss: 0.3502 - accuracy: 0.9494 - val_loss: 0.5017 - val_accuracy: 0.8377\n",
      "Epoch 20/100\n",
      "14/14 [==============================] - 0s 3ms/step - loss: 0.3339 - accuracy: 0.9480 - val_loss: 0.4914 - val_accuracy: 0.8397\n",
      "Epoch 21/100\n",
      "14/14 [==============================] - 0s 3ms/step - loss: 0.3157 - accuracy: 0.9535 - val_loss: 0.4828 - val_accuracy: 0.8406\n",
      "Epoch 22/100\n",
      "14/14 [==============================] - 0s 3ms/step - loss: 0.2988 - accuracy: 0.9524 - val_loss: 0.4755 - val_accuracy: 0.8411\n",
      "Epoch 23/100\n",
      "14/14 [==============================] - 0s 3ms/step - loss: 0.2855 - accuracy: 0.9556 - val_loss: 0.4694 - val_accuracy: 0.8407\n",
      "Epoch 24/100\n",
      "14/14 [==============================] - 0s 3ms/step - loss: 0.2785 - accuracy: 0.9531 - val_loss: 0.4642 - val_accuracy: 0.8416\n",
      "Epoch 25/100\n",
      "14/14 [==============================] - 0s 3ms/step - loss: 0.2663 - accuracy: 0.9534 - val_loss: 0.4599 - val_accuracy: 0.8418\n",
      "Epoch 26/100\n",
      "14/14 [==============================] - 0s 3ms/step - loss: 0.2553 - accuracy: 0.9575 - val_loss: 0.4563 - val_accuracy: 0.8427\n",
      "Epoch 27/100\n",
      "14/14 [==============================] - 0s 3ms/step - loss: 0.2465 - accuracy: 0.9548 - val_loss: 0.4538 - val_accuracy: 0.8429\n",
      "Epoch 28/100\n",
      "14/14 [==============================] - 0s 3ms/step - loss: 0.2389 - accuracy: 0.9573 - val_loss: 0.4522 - val_accuracy: 0.8427\n",
      "Epoch 29/100\n",
      "14/14 [==============================] - 0s 3ms/step - loss: 0.2373 - accuracy: 0.9565 - val_loss: 0.4510 - val_accuracy: 0.8436\n",
      "Epoch 30/100\n",
      "14/14 [==============================] - 0s 3ms/step - loss: 0.2236 - accuracy: 0.9595 - val_loss: 0.4501 - val_accuracy: 0.8439\n",
      "Epoch 31/100\n",
      "14/14 [==============================] - 0s 3ms/step - loss: 0.2184 - accuracy: 0.9588 - val_loss: 0.4497 - val_accuracy: 0.8446\n",
      "Epoch 32/100\n",
      "14/14 [==============================] - 0s 3ms/step - loss: 0.2142 - accuracy: 0.9602 - val_loss: 0.4498 - val_accuracy: 0.8441\n",
      "Epoch 33/100\n",
      "14/14 [==============================] - 0s 3ms/step - loss: 0.2104 - accuracy: 0.9576 - val_loss: 0.4498 - val_accuracy: 0.8446\n",
      "Epoch 34/100\n",
      "14/14 [==============================] - 0s 3ms/step - loss: 0.2081 - accuracy: 0.9586 - val_loss: 0.4504 - val_accuracy: 0.8450\n",
      "Epoch 35/100\n",
      "14/14 [==============================] - 0s 3ms/step - loss: 0.2070 - accuracy: 0.9568 - val_loss: 0.4521 - val_accuracy: 0.8446\n",
      "Epoch 36/100\n",
      "14/14 [==============================] - 0s 3ms/step - loss: 0.1976 - accuracy: 0.9589 - val_loss: 0.4538 - val_accuracy: 0.8445\n",
      "Epoch 37/100\n",
      "14/14 [==============================] - 0s 3ms/step - loss: 0.1946 - accuracy: 0.9599 - val_loss: 0.4560 - val_accuracy: 0.8441\n",
      "Epoch 38/100\n",
      "14/14 [==============================] - 0s 3ms/step - loss: 0.1889 - accuracy: 0.9566 - val_loss: 0.4583 - val_accuracy: 0.8445\n",
      "Epoch 39/100\n",
      "14/14 [==============================] - 0s 3ms/step - loss: 0.1924 - accuracy: 0.9580 - val_loss: 0.4605 - val_accuracy: 0.8446\n",
      "Epoch 40/100\n",
      "14/14 [==============================] - 0s 3ms/step - loss: 0.1879 - accuracy: 0.9582 - val_loss: 0.4632 - val_accuracy: 0.8448\n",
      "Epoch 41/100\n",
      "14/14 [==============================] - 0s 3ms/step - loss: 0.1846 - accuracy: 0.9593 - val_loss: 0.4658 - val_accuracy: 0.8446\n",
      "Epoch 42/100\n",
      "14/14 [==============================] - 0s 3ms/step - loss: 0.1836 - accuracy: 0.9576 - val_loss: 0.4684 - val_accuracy: 0.8443\n",
      "Epoch 43/100\n",
      "14/14 [==============================] - 0s 3ms/step - loss: 0.1799 - accuracy: 0.9620 - val_loss: 0.4713 - val_accuracy: 0.8446\n",
      "Epoch 44/100\n",
      "14/14 [==============================] - 0s 3ms/step - loss: 0.1797 - accuracy: 0.9590 - val_loss: 0.4745 - val_accuracy: 0.8443\n",
      "Epoch 45/100\n",
      "14/14 [==============================] - 0s 3ms/step - loss: 0.1774 - accuracy: 0.9608 - val_loss: 0.4780 - val_accuracy: 0.8445\n",
      "Epoch 46/100\n",
      "14/14 [==============================] - 0s 3ms/step - loss: 0.1740 - accuracy: 0.9585 - val_loss: 0.4815 - val_accuracy: 0.8443\n",
      "Epoch 47/100\n",
      "14/14 [==============================] - 0s 3ms/step - loss: 0.1689 - accuracy: 0.9623 - val_loss: 0.4846 - val_accuracy: 0.8443\n",
      "Epoch 48/100\n",
      "14/14 [==============================] - 0s 3ms/step - loss: 0.1733 - accuracy: 0.9588 - val_loss: 0.4880 - val_accuracy: 0.8443\n",
      "Epoch 49/100\n",
      "14/14 [==============================] - 0s 3ms/step - loss: 0.1758 - accuracy: 0.9552 - val_loss: 0.4911 - val_accuracy: 0.8448\n",
      "Epoch 50/100\n",
      "14/14 [==============================] - 0s 3ms/step - loss: 0.1720 - accuracy: 0.9553 - val_loss: 0.4943 - val_accuracy: 0.8445\n",
      "Epoch 51/100\n",
      "14/14 [==============================] - 0s 3ms/step - loss: 0.1678 - accuracy: 0.9565 - val_loss: 0.4972 - val_accuracy: 0.8445\n",
      "Epoch 52/100\n",
      "14/14 [==============================] - 0s 3ms/step - loss: 0.1677 - accuracy: 0.9556 - val_loss: 0.5004 - val_accuracy: 0.8450\n",
      "Epoch 53/100\n",
      "14/14 [==============================] - 0s 3ms/step - loss: 0.1660 - accuracy: 0.9578 - val_loss: 0.5039 - val_accuracy: 0.8453\n",
      "Epoch 54/100\n",
      "14/14 [==============================] - 0s 3ms/step - loss: 0.1610 - accuracy: 0.9600 - val_loss: 0.5073 - val_accuracy: 0.8455\n",
      "Epoch 55/100\n",
      "14/14 [==============================] - 0s 3ms/step - loss: 0.1614 - accuracy: 0.9590 - val_loss: 0.5104 - val_accuracy: 0.8455\n",
      "Epoch 56/100\n",
      "14/14 [==============================] - 0s 3ms/step - loss: 0.1562 - accuracy: 0.9612 - val_loss: 0.5140 - val_accuracy: 0.8455\n",
      "Epoch 57/100\n",
      "14/14 [==============================] - 0s 3ms/step - loss: 0.1611 - accuracy: 0.9586 - val_loss: 0.5176 - val_accuracy: 0.8453\n",
      "Epoch 58/100\n",
      "14/14 [==============================] - 0s 3ms/step - loss: 0.1602 - accuracy: 0.9575 - val_loss: 0.5218 - val_accuracy: 0.8455\n",
      "Epoch 59/100\n",
      "14/14 [==============================] - 0s 3ms/step - loss: 0.1570 - accuracy: 0.9605 - val_loss: 0.5254 - val_accuracy: 0.8459\n",
      "Epoch 60/100\n",
      "14/14 [==============================] - 0s 3ms/step - loss: 0.1586 - accuracy: 0.9566 - val_loss: 0.5291 - val_accuracy: 0.8460\n",
      "Epoch 61/100\n",
      "14/14 [==============================] - 0s 3ms/step - loss: 0.1549 - accuracy: 0.9575 - val_loss: 0.5324 - val_accuracy: 0.8462\n",
      "Epoch 62/100\n",
      "14/14 [==============================] - 0s 3ms/step - loss: 0.1569 - accuracy: 0.9598 - val_loss: 0.5362 - val_accuracy: 0.8462\n",
      "Epoch 63/100\n",
      "14/14 [==============================] - 0s 3ms/step - loss: 0.1505 - accuracy: 0.9606 - val_loss: 0.5404 - val_accuracy: 0.8460\n",
      "Epoch 64/100\n",
      "14/14 [==============================] - 0s 3ms/step - loss: 0.1485 - accuracy: 0.9613 - val_loss: 0.5441 - val_accuracy: 0.8464\n",
      "Epoch 65/100\n",
      "14/14 [==============================] - 0s 3ms/step - loss: 0.1510 - accuracy: 0.9589 - val_loss: 0.5474 - val_accuracy: 0.8468\n",
      "Epoch 66/100\n",
      "14/14 [==============================] - 0s 3ms/step - loss: 0.1507 - accuracy: 0.9596 - val_loss: 0.5506 - val_accuracy: 0.8471\n",
      "Epoch 67/100\n",
      "14/14 [==============================] - 0s 3ms/step - loss: 0.1513 - accuracy: 0.9575 - val_loss: 0.5531 - val_accuracy: 0.8464\n",
      "Epoch 68/100\n",
      "14/14 [==============================] - 0s 3ms/step - loss: 0.1530 - accuracy: 0.9568 - val_loss: 0.5565 - val_accuracy: 0.8464\n",
      "Epoch 69/100\n",
      "14/14 [==============================] - 0s 3ms/step - loss: 0.1489 - accuracy: 0.9580 - val_loss: 0.5594 - val_accuracy: 0.8460\n",
      "Epoch 70/100\n",
      "14/14 [==============================] - 0s 3ms/step - loss: 0.1457 - accuracy: 0.9592 - val_loss: 0.5624 - val_accuracy: 0.8464\n",
      "Epoch 71/100\n",
      "14/14 [==============================] - 0s 3ms/step - loss: 0.1457 - accuracy: 0.9582 - val_loss: 0.5662 - val_accuracy: 0.8469\n",
      "Epoch 72/100\n",
      "14/14 [==============================] - 0s 3ms/step - loss: 0.1411 - accuracy: 0.9605 - val_loss: 0.5697 - val_accuracy: 0.8469\n",
      "Epoch 73/100\n",
      "14/14 [==============================] - 0s 3ms/step - loss: 0.1432 - accuracy: 0.9615 - val_loss: 0.5731 - val_accuracy: 0.8469\n",
      "Epoch 74/100\n",
      "14/14 [==============================] - 0s 3ms/step - loss: 0.1451 - accuracy: 0.9586 - val_loss: 0.5764 - val_accuracy: 0.8469\n",
      "Epoch 75/100\n",
      "14/14 [==============================] - 0s 3ms/step - loss: 0.1483 - accuracy: 0.9559 - val_loss: 0.5798 - val_accuracy: 0.8468\n",
      "Epoch 76/100\n",
      "14/14 [==============================] - 0s 3ms/step - loss: 0.1419 - accuracy: 0.9602 - val_loss: 0.5835 - val_accuracy: 0.8462\n",
      "Epoch 77/100\n",
      "14/14 [==============================] - 0s 3ms/step - loss: 0.1414 - accuracy: 0.9598 - val_loss: 0.5866 - val_accuracy: 0.8466\n",
      "Epoch 78/100\n",
      "14/14 [==============================] - 0s 3ms/step - loss: 0.1449 - accuracy: 0.9590 - val_loss: 0.5900 - val_accuracy: 0.8468\n",
      "Epoch 79/100\n",
      "14/14 [==============================] - 0s 3ms/step - loss: 0.1393 - accuracy: 0.9603 - val_loss: 0.5928 - val_accuracy: 0.8473\n",
      "Epoch 80/100\n",
      "14/14 [==============================] - 0s 3ms/step - loss: 0.1385 - accuracy: 0.9592 - val_loss: 0.5960 - val_accuracy: 0.8469\n",
      "Epoch 81/100\n",
      "14/14 [==============================] - 0s 3ms/step - loss: 0.1376 - accuracy: 0.9579 - val_loss: 0.5981 - val_accuracy: 0.8476\n",
      "Epoch 82/100\n",
      "14/14 [==============================] - 0s 3ms/step - loss: 0.1423 - accuracy: 0.9578 - val_loss: 0.6013 - val_accuracy: 0.8473\n",
      "Epoch 83/100\n",
      "14/14 [==============================] - 0s 3ms/step - loss: 0.1387 - accuracy: 0.9579 - val_loss: 0.6043 - val_accuracy: 0.8478\n",
      "Epoch 84/100\n",
      "14/14 [==============================] - 0s 3ms/step - loss: 0.1392 - accuracy: 0.9583 - val_loss: 0.6079 - val_accuracy: 0.8476\n",
      "Epoch 85/100\n",
      "14/14 [==============================] - 0s 3ms/step - loss: 0.1408 - accuracy: 0.9566 - val_loss: 0.6115 - val_accuracy: 0.8475\n",
      "Epoch 86/100\n",
      "14/14 [==============================] - 0s 3ms/step - loss: 0.1373 - accuracy: 0.9603 - val_loss: 0.6148 - val_accuracy: 0.8473\n",
      "Epoch 87/100\n",
      "14/14 [==============================] - 0s 3ms/step - loss: 0.1349 - accuracy: 0.9602 - val_loss: 0.6179 - val_accuracy: 0.8468\n",
      "Epoch 88/100\n",
      "14/14 [==============================] - 0s 3ms/step - loss: 0.1307 - accuracy: 0.9622 - val_loss: 0.6212 - val_accuracy: 0.8468\n",
      "Epoch 89/100\n",
      "14/14 [==============================] - 0s 3ms/step - loss: 0.1375 - accuracy: 0.9571 - val_loss: 0.6250 - val_accuracy: 0.8466\n",
      "Epoch 90/100\n",
      "14/14 [==============================] - 0s 3ms/step - loss: 0.1347 - accuracy: 0.9573 - val_loss: 0.6280 - val_accuracy: 0.8466\n",
      "Epoch 91/100\n",
      "14/14 [==============================] - 0s 3ms/step - loss: 0.1322 - accuracy: 0.9616 - val_loss: 0.6315 - val_accuracy: 0.8462\n",
      "Epoch 92/100\n",
      "14/14 [==============================] - 0s 3ms/step - loss: 0.1391 - accuracy: 0.9576 - val_loss: 0.6341 - val_accuracy: 0.8466\n",
      "Epoch 93/100\n",
      "14/14 [==============================] - 0s 3ms/step - loss: 0.1320 - accuracy: 0.9603 - val_loss: 0.6360 - val_accuracy: 0.8475\n",
      "Epoch 94/100\n",
      "14/14 [==============================] - 0s 3ms/step - loss: 0.1361 - accuracy: 0.9588 - val_loss: 0.6383 - val_accuracy: 0.8468\n",
      "Epoch 95/100\n",
      "14/14 [==============================] - 0s 3ms/step - loss: 0.1309 - accuracy: 0.9605 - val_loss: 0.6410 - val_accuracy: 0.8464\n",
      "Epoch 96/100\n",
      "14/14 [==============================] - 0s 3ms/step - loss: 0.1360 - accuracy: 0.9571 - val_loss: 0.6432 - val_accuracy: 0.8464\n",
      "Epoch 97/100\n",
      "14/14 [==============================] - 0s 3ms/step - loss: 0.1289 - accuracy: 0.9615 - val_loss: 0.6459 - val_accuracy: 0.8468\n",
      "Epoch 98/100\n",
      "14/14 [==============================] - 0s 3ms/step - loss: 0.1280 - accuracy: 0.9612 - val_loss: 0.6490 - val_accuracy: 0.8464\n",
      "Epoch 99/100\n",
      "14/14 [==============================] - 0s 3ms/step - loss: 0.1315 - accuracy: 0.9583 - val_loss: 0.6512 - val_accuracy: 0.8464\n",
      "Epoch 100/100\n",
      "14/14 [==============================] - 0s 3ms/step - loss: 0.1330 - accuracy: 0.9583 - val_loss: 0.6541 - val_accuracy: 0.8468\n"
     ]
    }
   ],
   "source": [
    "print(n_customers, n_items, n_factors, 0, 1, 1)\n",
    "model = RecommenderNet(n_customers+1, n_items+1, n_factors, 0, 1, 1)\n",
    "history = model.fit(x=X_train, y=y_train, batch_size=512, epochs=100,\n",
    "                    verbose=1, validation_data=(X_test, y_test))"
   ]
  },
  {
   "cell_type": "code",
   "execution_count": 325,
   "metadata": {},
   "outputs": [
    {
     "name": "stdout",
     "output_type": "stream",
     "text": [
      "177/177 [==============================] - 0s 897us/step - loss: 0.6541 - accuracy: 0.8468\n"
     ]
    },
    {
     "data": {
      "text/plain": [
       "[0.6541016697883606, 0.8467513918876648]"
      ]
     },
     "execution_count": 325,
     "metadata": {},
     "output_type": "execute_result"
    }
   ],
   "source": [
    "model.evaluate(X_test, y_test)"
   ]
  },
  {
   "cell_type": "code",
   "execution_count": 326,
   "metadata": {},
   "outputs": [],
   "source": [
    "y_pred = model.predict(X_test)#.astype(int).flatten()\n",
    "y_pred = np.rint(y_pred)"
   ]
  },
  {
   "cell_type": "code",
   "execution_count": 327,
   "metadata": {},
   "outputs": [
    {
     "data": {
      "image/png": "[encoded data removed]",
      "text/plain": [
       "<Figure size 1000x1000 with 2 Axes>"
      ]
     },
     "metadata": {
      "needs_background": "light"
     },
     "output_type": "display_data"
    }
   ],
   "source": [
    "plot_confusion_matrix(y_test, y_pred, save_path='conf_matrix_binary.png')"
   ]
  },
  {
   "cell_type": "markdown",
   "metadata": {},
   "source": [
    "## Multiclass approach"
   ]
  },
  {
   "cell_type": "code",
   "execution_count": 111,
   "metadata": {
    "colab": {
     "base_uri": "https://localhost:8080/"
    },
    "id": "XSJkNqPwXt5z",
    "outputId": "18934c26-504a-478e-89bf-46f8e449832f"
   },
   "outputs": [
    {
     "data": {
      "text/plain": [
       "((48449, 2), (23864, 2), (48449,), (23864,))"
      ]
     },
     "execution_count": 111,
     "metadata": {
      "tags": []
     },
     "output_type": "execute_result"
    }
   ],
   "source": [
    "X = df_keras[['customer', 'item']].values\n",
    "y = df_keras['rating'].values\n",
    "X_train, X_test, y_train, y_test = train_test_split(X, y, test_size=0.33, random_state=42)\n",
    "X_train.shape, X_test.shape, y_train.shape, y_test.shape"
   ]
  },
  {
   "cell_type": "code",
   "execution_count": 112,
   "metadata": {
    "id": "YY9U8YjQX6gY"
   },
   "outputs": [],
   "source": [
    "n_factors = 50 #first hyperparameter to tune\n",
    "\n",
    "X_train_array = [X_train[:, 0], X_train[:, 1]]\n",
    "X_test_array = [X_test[:, 0], X_test[:, 1]]"
   ]
  },
  {
   "cell_type": "code",
   "execution_count": 113,
   "metadata": {
    "colab": {
     "base_uri": "https://localhost:8080/"
    },
    "id": "6s34A8Q-X-uD",
    "outputId": "0e180bf4-af32-4fc8-9733-ecbf9ce325c2"
   },
   "outputs": [
    {
     "name": "stdout",
     "output_type": "stream",
     "text": [
      "Epoch 1/10\n",
      "95/95 [==============================] - 1s 8ms/step - loss: 1.3433 - accuracy: 0.5030 - val_loss: 0.4437 - val_accuracy: 0.8944\n",
      "Epoch 2/10\n",
      "95/95 [==============================] - 1s 6ms/step - loss: 0.3432 - accuracy: 0.9136 - val_loss: 0.0720 - val_accuracy: 0.9909\n",
      "Epoch 3/10\n",
      "95/95 [==============================] - 1s 6ms/step - loss: 0.0833 - accuracy: 0.9859 - val_loss: 0.0201 - val_accuracy: 0.9940\n",
      "Epoch 4/10\n",
      "95/95 [==============================] - 1s 6ms/step - loss: 0.0376 - accuracy: 0.9924 - val_loss: 0.0130 - val_accuracy: 0.9938\n",
      "Epoch 5/10\n",
      "95/95 [==============================] - 1s 6ms/step - loss: 0.0248 - accuracy: 0.9927 - val_loss: 0.0112 - val_accuracy: 0.9941\n",
      "Epoch 6/10\n",
      "95/95 [==============================] - 1s 6ms/step - loss: 0.0203 - accuracy: 0.9934 - val_loss: 0.0108 - val_accuracy: 0.9939\n",
      "Epoch 7/10\n",
      "95/95 [==============================] - 1s 6ms/step - loss: 0.0179 - accuracy: 0.9933 - val_loss: 0.0107 - val_accuracy: 0.9939\n",
      "Epoch 8/10\n",
      "95/95 [==============================] - 1s 6ms/step - loss: 0.0168 - accuracy: 0.9929 - val_loss: 0.0104 - val_accuracy: 0.9941\n",
      "Epoch 9/10\n",
      "95/95 [==============================] - 1s 6ms/step - loss: 0.0152 - accuracy: 0.9933 - val_loss: 0.0103 - val_accuracy: 0.9941\n",
      "Epoch 10/10\n",
      "95/95 [==============================] - 1s 6ms/step - loss: 0.0142 - accuracy: 0.9940 - val_loss: 0.0102 - val_accuracy: 0.9939\n"
     ]
    }
   ],
   "source": [
    "model = RecommenderNet(n_customers, n_items, n_factors, min_rating, max_rating)\n",
    "history = model.fit(x=X_train_array, y=y_train, batch_size=512, epochs=10,\n",
    "                    verbose=1, validation_data=(X_test_array, y_test))"
   ]
  },
  {
   "cell_type": "code",
   "execution_count": 114,
   "metadata": {
    "id": "5lFSd1tZYB6u"
   },
   "outputs": [],
   "source": [
    "y_pred = model.predict(X_test_array)#.astype(int).flatten()\n",
    "y_pred = np.argmax(y_pred, axis=1)"
   ]
  },
  {
   "cell_type": "code",
   "execution_count": 65,
   "metadata": {
    "id": "snxOH7pjYeVm"
   },
   "outputs": [],
   "source": [
    "def plot_confusion_matrix(test_labels, predicted_labels, save_path=None, encoder=None):\n",
    "    if encoder:\n",
    "      test_labels = encoder.inverse_transform(test_labels)\n",
    "      predicted_labels = encoder.inverse_transform(predicted_labels)\n",
    "\n",
    "    conf_matrix = confusion_matrix(test_labels, predicted_labels)\n",
    "    conf_matrix = conf_matrix.astype('float') / conf_matrix.sum(axis=1)[:, np.newaxis]\n",
    "    fig, ax = plt.subplots(figsize=[10, 10], dpi=100)\n",
    "    im = ax.imshow(conf_matrix, interpolation='nearest', cmap=plt.cm.Blues)\n",
    "    ax.figure.colorbar(im, ax=ax)\n",
    "    classes = unique_labels(test_labels, predicted_labels)\n",
    "    ax.set(xticks=np.arange(conf_matrix.shape[1]),\n",
    "           yticks=np.arange(conf_matrix.shape[0]),\n",
    "           xticklabels=classes, yticklabels=classes,\n",
    "           ylabel='True label',\n",
    "           xlabel='Predicted label')\n",
    "    fmt = '.3f'\n",
    "    thresh = conf_matrix.max() / 2.\n",
    "    for i in range(conf_matrix.shape[0]):\n",
    "        for j in range(conf_matrix.shape[1]):\n",
    "            ax.text(j, i, format(conf_matrix[i, j], fmt),\n",
    "                    ha=\"center\", va=\"center\",\n",
    "                    color=\"white\" if conf_matrix[i, j] > thresh else \"black\")\n",
    "    if save_path:\n",
    "        plt.savefig(save_path)\n",
    "    else:\n",
    "        plt.show()"
   ]
  },
  {
   "cell_type": "code",
   "execution_count": 80,
   "metadata": {
    "colab": {
     "base_uri": "https://localhost:8080/",
     "height": 805
    },
    "id": "X5TLc622cRHL",
    "outputId": "1a388650-65f2-48f7-c903-27b81eea1501"
   },
   "outputs": [
    {
     "data": {
      "image/png": "[encoded data removed]",
      "text/plain": [
       "<Figure size 1000x1000 with 2 Axes>"
      ]
     },
     "metadata": {
      "needs_background": "light",
      "tags": []
     },
     "output_type": "display_data"
    }
   ],
   "source": [
    "plot_confusion_matrix(y_test, y_pred, encoder=rating_enc)"
   ]
  },
  {
   "cell_type": "markdown",
   "metadata": {
    "id": "K3rvLT4Ffc-i"
   },
   "source": [
    "\n",
    "# Cross validation\n",
    "Based on https://medium.com/the-owl/k-fold-cross-validation-in-keras-3ec4a3a00538"
   ]
  },
  {
   "cell_type": "code",
   "execution_count": 122,
   "metadata": {
    "id": "PSRjlUMjeCPm"
   },
   "outputs": [],
   "source": [
    "n_splits = 5\n",
    "kf = KFold(n_splits, shuffle=True)"
   ]
  },
  {
   "cell_type": "code",
   "execution_count": 89,
   "metadata": {
    "id": "N_mGXPFEhh-U"
   },
   "outputs": [],
   "source": [
    "def get_model_name(k):\n",
    "    return 'model_'+str(k)+'.h5'"
   ]
  },
  {
   "cell_type": "code",
   "execution_count": 116,
   "metadata": {
    "colab": {
     "base_uri": "https://localhost:8080/"
    },
    "id": "TM2M4XiUffud",
    "outputId": "630ab533-4da5-4345-a401-02afff473f59"
   },
   "outputs": [
    {
     "name": "stdout",
     "output_type": "stream",
     "text": [
      "Epoch 1/10\n",
      "113/113 [==============================] - 1s 7ms/step - loss: 1.2282 - accuracy: 0.5747 - val_loss: 0.2503 - val_accuracy: 0.9527\n",
      "\n",
      "Epoch 00001: val_accuracy improved from -inf to 0.95271, saving model to /content/drive/MyDrive/DTU/ABA/saved_models/model_0.h5\n",
      "Epoch 2/10\n",
      "113/113 [==============================] - 1s 6ms/step - loss: 0.1978 - accuracy: 0.9569 - val_loss: 0.0390 - val_accuracy: 0.9911\n",
      "\n",
      "Epoch 00002: val_accuracy improved from 0.95271 to 0.99108, saving model to /content/drive/MyDrive/DTU/ABA/saved_models/model_0.h5\n",
      "Epoch 3/10\n",
      "113/113 [==============================] - 1s 6ms/step - loss: 0.0546 - accuracy: 0.9905 - val_loss: 0.0157 - val_accuracy: 0.9932\n",
      "\n",
      "Epoch 00003: val_accuracy improved from 0.99108 to 0.99315, saving model to /content/drive/MyDrive/DTU/ABA/saved_models/model_0.h5\n",
      "Epoch 4/10\n",
      "113/113 [==============================] - 1s 6ms/step - loss: 0.0276 - accuracy: 0.9939 - val_loss: 0.0124 - val_accuracy: 0.9934\n",
      "\n",
      "Epoch 00004: val_accuracy improved from 0.99315 to 0.99336, saving model to /content/drive/MyDrive/DTU/ABA/saved_models/model_0.h5\n",
      "Epoch 5/10\n",
      "113/113 [==============================] - 1s 6ms/step - loss: 0.0202 - accuracy: 0.9939 - val_loss: 0.0119 - val_accuracy: 0.9932\n",
      "\n",
      "Epoch 00005: val_accuracy did not improve from 0.99336\n",
      "Epoch 6/10\n",
      "113/113 [==============================] - 1s 6ms/step - loss: 0.0178 - accuracy: 0.9944 - val_loss: 0.0112 - val_accuracy: 0.9934\n",
      "\n",
      "Epoch 00006: val_accuracy did not improve from 0.99336\n",
      "Epoch 7/10\n",
      "113/113 [==============================] - 1s 6ms/step - loss: 0.0156 - accuracy: 0.9940 - val_loss: 0.0116 - val_accuracy: 0.9932\n",
      "\n",
      "Epoch 00007: val_accuracy did not improve from 0.99336\n",
      "Epoch 8/10\n",
      "113/113 [==============================] - 1s 6ms/step - loss: 0.0148 - accuracy: 0.9941 - val_loss: 0.0110 - val_accuracy: 0.9932\n",
      "\n",
      "Epoch 00008: val_accuracy did not improve from 0.99336\n",
      "Epoch 9/10\n",
      "113/113 [==============================] - 1s 6ms/step - loss: 0.0136 - accuracy: 0.9939 - val_loss: 0.0109 - val_accuracy: 0.9932\n",
      "\n",
      "Epoch 00009: val_accuracy did not improve from 0.99336\n",
      "Epoch 10/10\n",
      "113/113 [==============================] - 1s 6ms/step - loss: 0.0127 - accuracy: 0.9942 - val_loss: 0.0108 - val_accuracy: 0.9934\n",
      "\n",
      "Epoch 00010: val_accuracy did not improve from 0.99336\n",
      "452/452 [==============================] - 1s 1ms/step - loss: 0.0124 - accuracy: 0.9934\n",
      "Epoch 1/10\n",
      "113/113 [==============================] - 1s 8ms/step - loss: 1.3215 - accuracy: 0.5165 - val_loss: 0.3129 - val_accuracy: 0.9479\n",
      "\n",
      "Epoch 00001: val_accuracy improved from -inf to 0.94787, saving model to /content/drive/MyDrive/DTU/ABA/saved_models/model_1.h5\n",
      "Epoch 2/10\n",
      "113/113 [==============================] - 1s 6ms/step - loss: 0.2327 - accuracy: 0.9553 - val_loss: 0.0301 - val_accuracy: 0.9934\n",
      "\n",
      "Epoch 00002: val_accuracy improved from 0.94787 to 0.99336, saving model to /content/drive/MyDrive/DTU/ABA/saved_models/model_1.h5\n",
      "Epoch 3/10\n",
      "113/113 [==============================] - 1s 5ms/step - loss: 0.0473 - accuracy: 0.9921 - val_loss: 0.0131 - val_accuracy: 0.9944\n",
      "\n",
      "Epoch 00003: val_accuracy improved from 0.99336 to 0.99440, saving model to /content/drive/MyDrive/DTU/ABA/saved_models/model_1.h5\n",
      "Epoch 4/10\n",
      "113/113 [==============================] - 1s 6ms/step - loss: 0.0270 - accuracy: 0.9927 - val_loss: 0.0107 - val_accuracy: 0.9944\n",
      "\n",
      "Epoch 00004: val_accuracy did not improve from 0.99440\n",
      "Epoch 5/10\n",
      "113/113 [==============================] - 1s 6ms/step - loss: 0.0214 - accuracy: 0.9928 - val_loss: 0.0103 - val_accuracy: 0.9939\n",
      "\n",
      "Epoch 00005: val_accuracy did not improve from 0.99440\n",
      "Epoch 6/10\n",
      "113/113 [==============================] - 1s 6ms/step - loss: 0.0178 - accuracy: 0.9936 - val_loss: 0.0099 - val_accuracy: 0.9939\n",
      "\n",
      "Epoch 00006: val_accuracy did not improve from 0.99440\n",
      "Epoch 7/10\n",
      "113/113 [==============================] - 1s 6ms/step - loss: 0.0148 - accuracy: 0.9937 - val_loss: 0.0099 - val_accuracy: 0.9939\n",
      "\n",
      "Epoch 00007: val_accuracy did not improve from 0.99440\n",
      "Epoch 8/10\n",
      "113/113 [==============================] - 1s 6ms/step - loss: 0.0141 - accuracy: 0.9940 - val_loss: 0.0098 - val_accuracy: 0.9939\n",
      "\n",
      "Epoch 00008: val_accuracy did not improve from 0.99440\n",
      "Epoch 9/10\n",
      "113/113 [==============================] - 1s 6ms/step - loss: 0.0135 - accuracy: 0.9934 - val_loss: 0.0097 - val_accuracy: 0.9939\n",
      "\n",
      "Epoch 00009: val_accuracy did not improve from 0.99440\n",
      "Epoch 10/10\n",
      "113/113 [==============================] - 1s 6ms/step - loss: 0.0137 - accuracy: 0.9931 - val_loss: 0.0097 - val_accuracy: 0.9939\n",
      "\n",
      "Epoch 00010: val_accuracy did not improve from 0.99440\n",
      "452/452 [==============================] - 1s 1ms/step - loss: 0.0131 - accuracy: 0.9944\n",
      "Epoch 1/10\n",
      "113/113 [==============================] - 1s 8ms/step - loss: 1.3635 - accuracy: 0.4985 - val_loss: 0.2797 - val_accuracy: 0.9460\n",
      "\n",
      "Epoch 00001: val_accuracy improved from -inf to 0.94600, saving model to /content/drive/MyDrive/DTU/ABA/saved_models/model_2.h5\n",
      "Epoch 2/10\n",
      "113/113 [==============================] - 1s 6ms/step - loss: 0.2102 - accuracy: 0.9598 - val_loss: 0.0305 - val_accuracy: 0.9940\n",
      "\n",
      "Epoch 00002: val_accuracy improved from 0.94600 to 0.99398, saving model to /content/drive/MyDrive/DTU/ABA/saved_models/model_2.h5\n",
      "Epoch 3/10\n",
      "113/113 [==============================] - 1s 6ms/step - loss: 0.0470 - accuracy: 0.9909 - val_loss: 0.0133 - val_accuracy: 0.9943\n",
      "\n",
      "Epoch 00003: val_accuracy improved from 0.99398 to 0.99433, saving model to /content/drive/MyDrive/DTU/ABA/saved_models/model_2.h5\n",
      "Epoch 4/10\n",
      "113/113 [==============================] - 1s 6ms/step - loss: 0.0268 - accuracy: 0.9924 - val_loss: 0.0107 - val_accuracy: 0.9943\n",
      "\n",
      "Epoch 00004: val_accuracy did not improve from 0.99433\n",
      "Epoch 5/10\n",
      "113/113 [==============================] - 1s 6ms/step - loss: 0.0194 - accuracy: 0.9934 - val_loss: 0.0099 - val_accuracy: 0.9943\n",
      "\n",
      "Epoch 00005: val_accuracy did not improve from 0.99433\n",
      "Epoch 6/10\n",
      "113/113 [==============================] - 1s 6ms/step - loss: 0.0178 - accuracy: 0.9929 - val_loss: 0.0096 - val_accuracy: 0.9943\n",
      "\n",
      "Epoch 00006: val_accuracy did not improve from 0.99433\n",
      "Epoch 7/10\n",
      "113/113 [==============================] - 1s 6ms/step - loss: 0.0152 - accuracy: 0.9939 - val_loss: 0.0095 - val_accuracy: 0.9943\n",
      "\n",
      "Epoch 00007: val_accuracy did not improve from 0.99433\n",
      "Epoch 8/10\n",
      "113/113 [==============================] - 1s 6ms/step - loss: 0.0150 - accuracy: 0.9931 - val_loss: 0.0094 - val_accuracy: 0.9943\n",
      "\n",
      "Epoch 00008: val_accuracy did not improve from 0.99433\n",
      "Epoch 9/10\n",
      "113/113 [==============================] - 1s 6ms/step - loss: 0.0136 - accuracy: 0.9939 - val_loss: 0.0093 - val_accuracy: 0.9943\n",
      "\n",
      "Epoch 00009: val_accuracy did not improve from 0.99433\n",
      "Epoch 10/10\n",
      "113/113 [==============================] - 1s 6ms/step - loss: 0.0130 - accuracy: 0.9934 - val_loss: 0.0093 - val_accuracy: 0.9943\n",
      "\n",
      "Epoch 00010: val_accuracy did not improve from 0.99433\n",
      "452/452 [==============================] - 1s 1ms/step - loss: 0.0133 - accuracy: 0.9943\n",
      "Epoch 1/10\n",
      "113/113 [==============================] - 2s 8ms/step - loss: 1.2919 - accuracy: 0.5362 - val_loss: 0.2790 - val_accuracy: 0.9479\n",
      "\n",
      "Epoch 00001: val_accuracy improved from -inf to 0.94793, saving model to /content/drive/MyDrive/DTU/ABA/saved_models/model_3.h5\n",
      "Epoch 2/10\n",
      "113/113 [==============================] - 1s 6ms/step - loss: 0.2088 - accuracy: 0.9523 - val_loss: 0.0479 - val_accuracy: 0.9930\n",
      "\n",
      "Epoch 00002: val_accuracy improved from 0.94793 to 0.99302, saving model to /content/drive/MyDrive/DTU/ABA/saved_models/model_3.h5\n",
      "Epoch 3/10\n",
      "113/113 [==============================] - 1s 6ms/step - loss: 0.0567 - accuracy: 0.9899 - val_loss: 0.0169 - val_accuracy: 0.9933\n",
      "\n",
      "Epoch 00003: val_accuracy improved from 0.99302 to 0.99329, saving model to /content/drive/MyDrive/DTU/ABA/saved_models/model_3.h5\n",
      "Epoch 4/10\n",
      "113/113 [==============================] - 1s 6ms/step - loss: 0.0287 - accuracy: 0.9928 - val_loss: 0.0124 - val_accuracy: 0.9940\n",
      "\n",
      "Epoch 00004: val_accuracy improved from 0.99329 to 0.99398, saving model to /content/drive/MyDrive/DTU/ABA/saved_models/model_3.h5\n",
      "Epoch 5/10\n",
      "113/113 [==============================] - 1s 6ms/step - loss: 0.0217 - accuracy: 0.9932 - val_loss: 0.0115 - val_accuracy: 0.9940\n",
      "\n",
      "Epoch 00005: val_accuracy did not improve from 0.99398\n",
      "Epoch 6/10\n",
      "113/113 [==============================] - 1s 6ms/step - loss: 0.0183 - accuracy: 0.9929 - val_loss: 0.0110 - val_accuracy: 0.9940\n",
      "\n",
      "Epoch 00006: val_accuracy did not improve from 0.99398\n",
      "Epoch 7/10\n",
      "113/113 [==============================] - 1s 6ms/step - loss: 0.0169 - accuracy: 0.9931 - val_loss: 0.0110 - val_accuracy: 0.9934\n",
      "\n",
      "Epoch 00007: val_accuracy did not improve from 0.99398\n",
      "Epoch 8/10\n",
      "113/113 [==============================] - 1s 6ms/step - loss: 0.0154 - accuracy: 0.9930 - val_loss: 0.0114 - val_accuracy: 0.9934\n",
      "\n",
      "Epoch 00008: val_accuracy did not improve from 0.99398\n",
      "Epoch 9/10\n",
      "113/113 [==============================] - 1s 6ms/step - loss: 0.0138 - accuracy: 0.9936 - val_loss: 0.0109 - val_accuracy: 0.9934\n",
      "\n",
      "Epoch 00009: val_accuracy did not improve from 0.99398\n",
      "Epoch 10/10\n",
      "113/113 [==============================] - 1s 6ms/step - loss: 0.0139 - accuracy: 0.9934 - val_loss: 0.0107 - val_accuracy: 0.9934\n",
      "\n",
      "Epoch 00010: val_accuracy did not improve from 0.99398\n",
      "452/452 [==============================] - 1s 1ms/step - loss: 0.0124 - accuracy: 0.9940\n",
      "Epoch 1/10\n",
      "113/113 [==============================] - 2s 8ms/step - loss: 1.2660 - accuracy: 0.5547 - val_loss: 0.2445 - val_accuracy: 0.9684\n",
      "\n",
      "Epoch 00001: val_accuracy improved from -inf to 0.96840, saving model to /content/drive/MyDrive/DTU/ABA/saved_models/model_4.h5\n",
      "Epoch 2/10\n",
      "113/113 [==============================] - 1s 6ms/step - loss: 0.1835 - accuracy: 0.9707 - val_loss: 0.0289 - val_accuracy: 0.9936\n",
      "\n",
      "Epoch 00002: val_accuracy improved from 0.96840 to 0.99364, saving model to /content/drive/MyDrive/DTU/ABA/saved_models/model_4.h5\n",
      "Epoch 3/10\n",
      "113/113 [==============================] - 1s 6ms/step - loss: 0.0445 - accuracy: 0.9921 - val_loss: 0.0128 - val_accuracy: 0.9954\n",
      "\n",
      "Epoch 00003: val_accuracy improved from 0.99364 to 0.99537, saving model to /content/drive/MyDrive/DTU/ABA/saved_models/model_4.h5\n",
      "Epoch 4/10\n",
      "113/113 [==============================] - 1s 6ms/step - loss: 0.0273 - accuracy: 0.9928 - val_loss: 0.0105 - val_accuracy: 0.9941\n",
      "\n",
      "Epoch 00004: val_accuracy did not improve from 0.99537\n",
      "Epoch 5/10\n",
      "113/113 [==============================] - 1s 6ms/step - loss: 0.0202 - accuracy: 0.9933 - val_loss: 0.0100 - val_accuracy: 0.9941\n",
      "\n",
      "Epoch 00005: val_accuracy did not improve from 0.99537\n",
      "Epoch 6/10\n",
      "113/113 [==============================] - 1s 6ms/step - loss: 0.0177 - accuracy: 0.9936 - val_loss: 0.0097 - val_accuracy: 0.9941\n",
      "\n",
      "Epoch 00006: val_accuracy did not improve from 0.99537\n",
      "Epoch 7/10\n",
      "113/113 [==============================] - 1s 6ms/step - loss: 0.0165 - accuracy: 0.9937 - val_loss: 0.0094 - val_accuracy: 0.9941\n",
      "\n",
      "Epoch 00007: val_accuracy did not improve from 0.99537\n",
      "Epoch 8/10\n",
      "113/113 [==============================] - 1s 6ms/step - loss: 0.0159 - accuracy: 0.9923 - val_loss: 0.0092 - val_accuracy: 0.9941\n",
      "\n",
      "Epoch 00008: val_accuracy did not improve from 0.99537\n",
      "Epoch 9/10\n",
      "113/113 [==============================] - 1s 6ms/step - loss: 0.0137 - accuracy: 0.9937 - val_loss: 0.0091 - val_accuracy: 0.9954\n",
      "\n",
      "Epoch 00009: val_accuracy did not improve from 0.99537\n",
      "Epoch 10/10\n",
      "113/113 [==============================] - 1s 7ms/step - loss: 0.0134 - accuracy: 0.9936 - val_loss: 0.0090 - val_accuracy: 0.9941\n",
      "\n",
      "Epoch 00010: val_accuracy did not improve from 0.99537\n",
      "452/452 [==============================] - 1s 1ms/step - loss: 0.0128 - accuracy: 0.9954\n"
     ]
    }
   ],
   "source": [
    "\n",
    "VALIDATION_ACCURACY = []\n",
    "VALIDATION_LOSS = []\n",
    "\n",
    "for fold_var, (train_index, val_index) in enumerate(kf.split(X,y)):\n",
    "  X_train = X[train_index]\n",
    "  X_test = X[val_index]\n",
    "\n",
    "  X_train_array = [X_train[:, 0], X_train[:, 1]]\n",
    "  X_test_array = [X_test[:, 0], X_test[:, 1]] \n",
    "\n",
    "  y_train = y[train_index]\n",
    "  y_test = y[val_index]\n",
    "\n",
    "  model = RecommenderNet(n_customers, n_items, n_factors, min_rating, max_rating)\n",
    "  \n",
    "  \n",
    "  checkpoint = ModelCheckpoint(path+'/saved_models/'+get_model_name(fold_var), \n",
    "\t\t\t\t\t\t\tmonitor='val_accuracy', verbose=1, \n",
    "\t\t\t\t\t\t\tsave_best_only=True, mode='max')\n",
    "  callbacks_list = [checkpoint]\n",
    "\n",
    "  history = model.fit(x=X_train_array, y=y_train, batch_size=512, epochs=10,\n",
    "                    verbose=1, validation_data=(X_test_array, y_test), callbacks=callbacks_list)\n",
    "  \n",
    "  model.load_weights(path+\"/saved_models/model_\"+str(fold_var)+\".h5\")\n",
    "  \n",
    "  results = model.evaluate(X_test_array, y_test)\n",
    "  results = dict(zip(model.metrics_names,results))\n",
    "\t\n",
    "  VALIDATION_ACCURACY.append(results['accuracy'])\n",
    "  VALIDATION_LOSS.append(results['loss'])\n",
    "  \n",
    "  backend.clear_session()"
   ]
  },
  {
   "cell_type": "code",
   "execution_count": 118,
   "metadata": {
    "id": "R_H118jBgN_1"
   },
   "outputs": [],
   "source": [
    "VALIDATION_ACCURACY = np.array(VALIDATION_ACCURACY)"
   ]
  },
  {
   "cell_type": "code",
   "execution_count": 123,
   "metadata": {
    "colab": {
     "base_uri": "https://localhost:8080/"
    },
    "id": "2bK7Ybi3kurJ",
    "outputId": "aa5c2ceb-de2c-48d7-dec6-9b607dcbe39c"
   },
   "outputs": [
    {
     "name": "stdout",
     "output_type": "stream",
     "text": [
      "Mean accuracy of the 5-split cross validation: 0.99(0.00)\n"
     ]
    }
   ],
   "source": [
    "print(f'Mean accuracy of the {n_splits}-split cross validation: {VALIDATION_ACCURACY.mean():.2f}({VALIDATION_ACCURACY.std():.2f})')"
   ]
  },
  {
   "cell_type": "code",
   "execution_count": null,
   "metadata": {
    "id": "Cpd2Q-kanSUX"
   },
   "outputs": [],
   "source": []
  }
 ],
 "metadata": {
  "colab": {
   "authorship_tag": "ABX9TyOSlQIL51uscdPv38wiIg2I",
   "collapsed_sections": [],
   "include_colab_link": true,
   "name": "DL_recommender_classifier.ipynb",
   "provenance": []
  },
  "kernelspec": {
   "display_name": "Python 3",
   "language": "python",
   "name": "python3"
  },
  "language_info": {
   "codemirror_mode": {
    "name": "ipython",
    "version": 3
   },
   "file_extension": ".py",
   "mimetype": "text/x-python",
   "name": "python",
   "nbconvert_exporter": "python",
   "pygments_lexer": "ipython3",
   "version": "3.8.5"
  }
 },
 "nbformat": 4,
 "nbformat_minor": 4
}
