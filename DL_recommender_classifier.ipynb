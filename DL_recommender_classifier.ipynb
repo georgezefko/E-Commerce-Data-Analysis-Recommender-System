{
  "nbformat": 4,
  "nbformat_minor": 0,
  "metadata": {
    "colab": {
      "name": "DL_recommender_classifier.ipynb",
      "provenance": [],
      "collapsed_sections": [],
      "authorship_tag": "ABX9TyOSlQIL51uscdPv38wiIg2I",
      "include_colab_link": true
    },
    "kernelspec": {
      "name": "python3",
      "display_name": "Python 3"
    },
    "language_info": {
      "name": "python"
    }
  },
  "cells": [
    {
      "cell_type": "markdown",
      "metadata": {
        "id": "view-in-github",
        "colab_type": "text"
      },
      "source": [
        "<a href=\"https://colab.research.google.com/github/georgezefko/Recommender_System/blob/main/DL_recommender_classifier.ipynb\" target=\"_parent\"><img src=\"https://colab.research.google.com/assets/colab-badge.svg\" alt=\"Open In Colab\"/></a>"
      ]
    },
    {
      "cell_type": "code",
      "metadata": {
        "colab": {
          "base_uri": "https://localhost:8080/"
        },
        "id": "qydw_3u_VF9e",
        "outputId": "4af7b2f8-0099-41d1-b7c0-5e2369e3e6cb"
      },
      "source": [
        "from google.colab import drive\n",
        "drive.mount('/content/drive', force_remount=True)"
      ],
      "execution_count": 1,
      "outputs": [
        {
          "output_type": "stream",
          "text": [
            "Mounted at /content/drive\n"
          ],
          "name": "stdout"
        }
      ]
    },
    {
      "cell_type": "code",
      "metadata": {
        "colab": {
          "base_uri": "https://localhost:8080/"
        },
        "id": "ekpsL8OLVHnu",
        "outputId": "47f0a16a-1648-4a39-8b6e-26e138a6e523"
      },
      "source": [
        "import pandas as pd\n",
        "import re\n",
        "import numpy as np\n",
        "import matplotlib.pyplot as plt\n",
        "from nltk.tokenize import word_tokenize\n",
        "from nltk.stem.porter import PorterStemmer\n",
        "from nltk.stem import WordNetLemmatizer\n",
        "import seaborn as sns\n",
        "from collections import Counter\n",
        "import nltk\n",
        "nltk.download('stopwords')\n",
        "from nltk.corpus import stopwords\n",
        "nltk.download('wordnet')\n",
        "nltk.download('punkt')\n",
        "nltk.download('averaged_perceptron_tagger') \n",
        "from nltk import sent_tokenize\n",
        "from textblob import TextBlob\n",
        "from sklearn.feature_extraction.text import CountVectorizer\n",
        "from sklearn.feature_extraction.text import TfidfVectorizer\n",
        "import warnings \n",
        "warnings.filterwarnings('ignore')\n",
        "\n",
        "from sklearn.model_selection import train_test_split\n",
        "from sklearn.preprocessing import LabelEncoder\n",
        "from keras.models import Model\n",
        "from keras.layers import Input, Reshape, Dot, Add, Activation, Lambda, Concatenate, Dense, Dropout\n",
        "from keras.layers.embeddings import Embedding\n",
        "from keras.optimizers import Adam\n",
        "from keras.regularizers import l2\n",
        "from sklearn.metrics import accuracy_score\n",
        "from sklearn.metrics import confusion_matrix\n",
        "from sklearn.utils.multiclass import unique_labels\n",
        "from sklearn.model_selection import KFold, StratifiedKFold\n",
        "from keras.callbacks import ModelCheckpoint\n",
        "from keras import backend"
      ],
      "execution_count": 103,
      "outputs": [
        {
          "output_type": "stream",
          "text": [
            "[nltk_data] Downloading package stopwords to /root/nltk_data...\n",
            "[nltk_data]   Package stopwords is already up-to-date!\n",
            "[nltk_data] Downloading package wordnet to /root/nltk_data...\n",
            "[nltk_data]   Package wordnet is already up-to-date!\n",
            "[nltk_data] Downloading package punkt to /root/nltk_data...\n",
            "[nltk_data]   Package punkt is already up-to-date!\n",
            "[nltk_data] Downloading package averaged_perceptron_tagger to\n",
            "[nltk_data]     /root/nltk_data...\n",
            "[nltk_data]   Package averaged_perceptron_tagger is already up-to-\n",
            "[nltk_data]       date!\n"
          ],
          "name": "stdout"
        }
      ]
    },
    {
      "cell_type": "code",
      "metadata": {
        "id": "udQbuLymVfn1"
      },
      "source": [
        "path ='/content/drive/MyDrive/DTU/ABA'\n",
        "df = pd.read_csv(path + '/sample.csv')"
      ],
      "execution_count": 6,
      "outputs": []
    },
    {
      "cell_type": "code",
      "metadata": {
        "colab": {
          "base_uri": "https://localhost:8080/",
          "height": 441
        },
        "id": "1mPUMXPtXDjn",
        "outputId": "3e6d72c4-cc57-47a9-c415-852528ae56fe"
      },
      "source": [
        "df"
      ],
      "execution_count": 7,
      "outputs": [
        {
          "output_type": "execute_result",
          "data": {
            "text/html": [
              "<div>\n",
              "<style scoped>\n",
              "    .dataframe tbody tr th:only-of-type {\n",
              "        vertical-align: middle;\n",
              "    }\n",
              "\n",
              "    .dataframe tbody tr th {\n",
              "        vertical-align: top;\n",
              "    }\n",
              "\n",
              "    .dataframe thead th {\n",
              "        text-align: right;\n",
              "    }\n",
              "</style>\n",
              "<table border=\"1\" class=\"dataframe\">\n",
              "  <thead>\n",
              "    <tr style=\"text-align: right;\">\n",
              "      <th></th>\n",
              "      <th>Unnamed: 0</th>\n",
              "      <th>review_score</th>\n",
              "      <th>price</th>\n",
              "      <th>customer_state</th>\n",
              "      <th>order_status</th>\n",
              "      <th>seller_state</th>\n",
              "      <th>order_item_id</th>\n",
              "      <th>product_category_name_english</th>\n",
              "      <th>customer_unique_id</th>\n",
              "      <th>order_purchase_timestamp</th>\n",
              "      <th>geolocation_lat</th>\n",
              "      <th>geolocation_lng</th>\n",
              "      <th>product_id</th>\n",
              "    </tr>\n",
              "  </thead>\n",
              "  <tbody>\n",
              "    <tr>\n",
              "      <th>0</th>\n",
              "      <td>16295719</td>\n",
              "      <td>1</td>\n",
              "      <td>41.29</td>\n",
              "      <td>SP</td>\n",
              "      <td>canceled</td>\n",
              "      <td>SP</td>\n",
              "      <td>1</td>\n",
              "      <td>home_appliances</td>\n",
              "      <td>595e4f5543fcf93e124729bc947ca896</td>\n",
              "      <td>2018-02-17 09:59:29</td>\n",
              "      <td>-23.677741</td>\n",
              "      <td>-46.668647</td>\n",
              "      <td>f727147ccedba9da38dc2ab8b496a444</td>\n",
              "    </tr>\n",
              "    <tr>\n",
              "      <th>1</th>\n",
              "      <td>16295720</td>\n",
              "      <td>1</td>\n",
              "      <td>41.29</td>\n",
              "      <td>SP</td>\n",
              "      <td>canceled</td>\n",
              "      <td>SP</td>\n",
              "      <td>1</td>\n",
              "      <td>home_appliances</td>\n",
              "      <td>595e4f5543fcf93e124729bc947ca896</td>\n",
              "      <td>2018-02-17 09:59:29</td>\n",
              "      <td>-23.676303</td>\n",
              "      <td>-46.668801</td>\n",
              "      <td>f727147ccedba9da38dc2ab8b496a444</td>\n",
              "    </tr>\n",
              "    <tr>\n",
              "      <th>2</th>\n",
              "      <td>16295721</td>\n",
              "      <td>1</td>\n",
              "      <td>41.29</td>\n",
              "      <td>SP</td>\n",
              "      <td>canceled</td>\n",
              "      <td>SP</td>\n",
              "      <td>1</td>\n",
              "      <td>home_appliances</td>\n",
              "      <td>595e4f5543fcf93e124729bc947ca896</td>\n",
              "      <td>2018-02-17 09:59:29</td>\n",
              "      <td>-23.683332</td>\n",
              "      <td>-46.672478</td>\n",
              "      <td>f727147ccedba9da38dc2ab8b496a444</td>\n",
              "    </tr>\n",
              "    <tr>\n",
              "      <th>3</th>\n",
              "      <td>16295722</td>\n",
              "      <td>1</td>\n",
              "      <td>41.29</td>\n",
              "      <td>SP</td>\n",
              "      <td>canceled</td>\n",
              "      <td>SP</td>\n",
              "      <td>1</td>\n",
              "      <td>home_appliances</td>\n",
              "      <td>595e4f5543fcf93e124729bc947ca896</td>\n",
              "      <td>2018-02-17 09:59:29</td>\n",
              "      <td>-23.675802</td>\n",
              "      <td>-46.670181</td>\n",
              "      <td>f727147ccedba9da38dc2ab8b496a444</td>\n",
              "    </tr>\n",
              "    <tr>\n",
              "      <th>4</th>\n",
              "      <td>16295723</td>\n",
              "      <td>1</td>\n",
              "      <td>41.29</td>\n",
              "      <td>SP</td>\n",
              "      <td>canceled</td>\n",
              "      <td>SP</td>\n",
              "      <td>1</td>\n",
              "      <td>home_appliances</td>\n",
              "      <td>595e4f5543fcf93e124729bc947ca896</td>\n",
              "      <td>2018-02-17 09:59:29</td>\n",
              "      <td>-23.677500</td>\n",
              "      <td>-46.670550</td>\n",
              "      <td>f727147ccedba9da38dc2ab8b496a444</td>\n",
              "    </tr>\n",
              "    <tr>\n",
              "      <th>...</th>\n",
              "      <td>...</td>\n",
              "      <td>...</td>\n",
              "      <td>...</td>\n",
              "      <td>...</td>\n",
              "      <td>...</td>\n",
              "      <td>...</td>\n",
              "      <td>...</td>\n",
              "      <td>...</td>\n",
              "      <td>...</td>\n",
              "      <td>...</td>\n",
              "      <td>...</td>\n",
              "      <td>...</td>\n",
              "      <td>...</td>\n",
              "    </tr>\n",
              "    <tr>\n",
              "      <th>72308</th>\n",
              "      <td>11900298</td>\n",
              "      <td>5</td>\n",
              "      <td>22.00</td>\n",
              "      <td>RO</td>\n",
              "      <td>delivered</td>\n",
              "      <td>SP</td>\n",
              "      <td>3</td>\n",
              "      <td>agro_industry_and_commerce</td>\n",
              "      <td>51d121ddc025c1b70f8f62a1b727aecf</td>\n",
              "      <td>2017-08-30 23:28:35</td>\n",
              "      <td>-23.303878</td>\n",
              "      <td>-45.968478</td>\n",
              "      <td>6ff1fc9209c7854704a4f75c9fac41b4</td>\n",
              "    </tr>\n",
              "    <tr>\n",
              "      <th>72309</th>\n",
              "      <td>11900299</td>\n",
              "      <td>5</td>\n",
              "      <td>22.00</td>\n",
              "      <td>RO</td>\n",
              "      <td>delivered</td>\n",
              "      <td>SP</td>\n",
              "      <td>3</td>\n",
              "      <td>agro_industry_and_commerce</td>\n",
              "      <td>51d121ddc025c1b70f8f62a1b727aecf</td>\n",
              "      <td>2017-08-30 23:28:35</td>\n",
              "      <td>-23.307105</td>\n",
              "      <td>-45.970192</td>\n",
              "      <td>6ff1fc9209c7854704a4f75c9fac41b4</td>\n",
              "    </tr>\n",
              "    <tr>\n",
              "      <th>72310</th>\n",
              "      <td>11900300</td>\n",
              "      <td>5</td>\n",
              "      <td>22.00</td>\n",
              "      <td>RO</td>\n",
              "      <td>delivered</td>\n",
              "      <td>SP</td>\n",
              "      <td>3</td>\n",
              "      <td>agro_industry_and_commerce</td>\n",
              "      <td>51d121ddc025c1b70f8f62a1b727aecf</td>\n",
              "      <td>2017-08-30 23:28:35</td>\n",
              "      <td>-23.299062</td>\n",
              "      <td>-45.965588</td>\n",
              "      <td>6ff1fc9209c7854704a4f75c9fac41b4</td>\n",
              "    </tr>\n",
              "    <tr>\n",
              "      <th>72311</th>\n",
              "      <td>11900301</td>\n",
              "      <td>5</td>\n",
              "      <td>22.00</td>\n",
              "      <td>RO</td>\n",
              "      <td>delivered</td>\n",
              "      <td>SP</td>\n",
              "      <td>3</td>\n",
              "      <td>agro_industry_and_commerce</td>\n",
              "      <td>51d121ddc025c1b70f8f62a1b727aecf</td>\n",
              "      <td>2017-08-30 23:28:35</td>\n",
              "      <td>-23.298785</td>\n",
              "      <td>-45.966985</td>\n",
              "      <td>6ff1fc9209c7854704a4f75c9fac41b4</td>\n",
              "    </tr>\n",
              "    <tr>\n",
              "      <th>72312</th>\n",
              "      <td>11900302</td>\n",
              "      <td>5</td>\n",
              "      <td>22.00</td>\n",
              "      <td>RO</td>\n",
              "      <td>delivered</td>\n",
              "      <td>SP</td>\n",
              "      <td>3</td>\n",
              "      <td>agro_industry_and_commerce</td>\n",
              "      <td>51d121ddc025c1b70f8f62a1b727aecf</td>\n",
              "      <td>2017-08-30 23:28:35</td>\n",
              "      <td>-23.301594</td>\n",
              "      <td>-45.974932</td>\n",
              "      <td>6ff1fc9209c7854704a4f75c9fac41b4</td>\n",
              "    </tr>\n",
              "  </tbody>\n",
              "</table>\n",
              "<p>72313 rows × 13 columns</p>\n",
              "</div>"
            ],
            "text/plain": [
              "       Unnamed: 0  ...                        product_id\n",
              "0        16295719  ...  f727147ccedba9da38dc2ab8b496a444\n",
              "1        16295720  ...  f727147ccedba9da38dc2ab8b496a444\n",
              "2        16295721  ...  f727147ccedba9da38dc2ab8b496a444\n",
              "3        16295722  ...  f727147ccedba9da38dc2ab8b496a444\n",
              "4        16295723  ...  f727147ccedba9da38dc2ab8b496a444\n",
              "...           ...  ...                               ...\n",
              "72308    11900298  ...  6ff1fc9209c7854704a4f75c9fac41b4\n",
              "72309    11900299  ...  6ff1fc9209c7854704a4f75c9fac41b4\n",
              "72310    11900300  ...  6ff1fc9209c7854704a4f75c9fac41b4\n",
              "72311    11900301  ...  6ff1fc9209c7854704a4f75c9fac41b4\n",
              "72312    11900302  ...  6ff1fc9209c7854704a4f75c9fac41b4\n",
              "\n",
              "[72313 rows x 13 columns]"
            ]
          },
          "metadata": {
            "tags": []
          },
          "execution_count": 7
        }
      ]
    },
    {
      "cell_type": "code",
      "metadata": {
        "colab": {
          "base_uri": "https://localhost:8080/"
        },
        "id": "KqlXg3iMXD9f",
        "outputId": "a2b12166-c392-400f-fdab-76f7ce25c412"
      },
      "source": [
        "df.review_score.value_counts()"
      ],
      "execution_count": 8,
      "outputs": [
        {
          "output_type": "execute_result",
          "data": {
            "text/plain": [
              "5    42547\n",
              "4    13860\n",
              "1     8154\n",
              "3     5834\n",
              "2     1918\n",
              "Name: review_score, dtype: int64"
            ]
          },
          "metadata": {
            "tags": []
          },
          "execution_count": 8
        }
      ]
    },
    {
      "cell_type": "markdown",
      "metadata": {
        "id": "iTW-9QO-nsiS"
      },
      "source": [
        "# Recommender ANN\n",
        "\n",
        "Based on https://medium.com/@jdwittenauer/deep-learning-with-keras-recommender-systems-e7b99cb29929\n"
      ]
    },
    {
      "cell_type": "code",
      "metadata": {
        "id": "civbcyw-XT6n"
      },
      "source": [
        "class EmbeddingLayer:\n",
        "    def __init__(self, n_items, n_factors):\n",
        "        self.n_items = n_items\n",
        "        self.n_factors = n_factors\n",
        "    \n",
        "    def __call__(self, x):\n",
        "        x = Embedding(self.n_items, self.n_factors, embeddings_initializer='he_normal',\n",
        "                      embeddings_regularizer=l2(1e-6))(x)\n",
        "        x = Reshape((self.n_factors,))(x)\n",
        "        return x"
      ],
      "execution_count": 9,
      "outputs": []
    },
    {
      "cell_type": "code",
      "metadata": {
        "id": "Tr7QbOGAXf01"
      },
      "source": [
        "def RecommenderNet(n_customers, n_items, n_factors, min_rating, max_rating):\n",
        "    user = Input(shape=(1,))\n",
        "    u = EmbeddingLayer(n_customers, n_factors)(user)\n",
        "    \n",
        "    item = Input(shape=(1,))\n",
        "    m = EmbeddingLayer(n_items, n_factors)(item)\n",
        "    \n",
        "    x = Concatenate()([u, m])\n",
        "    x = Dropout(0.05)(x)\n",
        "    \n",
        "    x = Dense(50, kernel_initializer='he_normal')(x)\n",
        "    x = Activation('relu')(x)\n",
        "    x = Dropout(0.5)(x)\n",
        "    \n",
        "    x = Dense(5, kernel_initializer='he_normal')(x)\n",
        "    x = Activation('softmax')(x)\n",
        "    #x = Lambda(lambda x: x * (max_rating - min_rating) + min_rating)(x)\n",
        "    model = Model(inputs=[user, item], outputs=x)\n",
        "    opt = Adam(lr=0.001)\n",
        "    model.compile(loss='sparse_categorical_crossentropy', optimizer=opt, metrics=['accuracy'])\n",
        "    return model"
      ],
      "execution_count": 72,
      "outputs": []
    },
    {
      "cell_type": "code",
      "metadata": {
        "id": "kTtcd1joXi--"
      },
      "source": [
        "df_keras = df.loc[:,'customer_unique_id,product_id,review_score,order_purchase_timestamp'.split(',')]\n"
      ],
      "execution_count": 109,
      "outputs": []
    },
    {
      "cell_type": "code",
      "metadata": {
        "colab": {
          "base_uri": "https://localhost:8080/"
        },
        "id": "KyRgrfxFXrsA",
        "outputId": "5e408cfb-13b1-4c81-ac50-8760e02558ec"
      },
      "source": [
        "customer_enc = LabelEncoder()\n",
        "df_keras['customer'] = customer_enc.fit_transform(df_keras.customer_unique_id.values)\n",
        "n_customers = df_keras.customer.nunique()\n",
        "item_enc = LabelEncoder()\n",
        "df_keras['item'] = item_enc.fit_transform(df_keras.product_id.values)\n",
        "n_items = df_keras.item.nunique()\n",
        "\n",
        "rating_enc = LabelEncoder()\n",
        "df_keras['rating'] = rating_enc.fit_transform(df_keras.review_score.values)\n",
        "min_rating = min(df_keras.rating)\n",
        "max_rating = max(df_keras.rating)\n",
        "n_customers, n_items, min_rating, max_rating"
      ],
      "execution_count": 110,
      "outputs": [
        {
          "output_type": "execute_result",
          "data": {
            "text/plain": [
              "(453, 158, 0, 4)"
            ]
          },
          "metadata": {
            "tags": []
          },
          "execution_count": 110
        }
      ]
    },
    {
      "cell_type": "code",
      "metadata": {
        "colab": {
          "base_uri": "https://localhost:8080/"
        },
        "id": "XSJkNqPwXt5z",
        "outputId": "18934c26-504a-478e-89bf-46f8e449832f"
      },
      "source": [
        "X = df_keras[['customer', 'item']].values\n",
        "y = df_keras['rating'].values\n",
        "X_train, X_test, y_train, y_test = train_test_split(X, y, test_size=0.33, random_state=42)\n",
        "X_train.shape, X_test.shape, y_train.shape, y_test.shape"
      ],
      "execution_count": 111,
      "outputs": [
        {
          "output_type": "execute_result",
          "data": {
            "text/plain": [
              "((48449, 2), (23864, 2), (48449,), (23864,))"
            ]
          },
          "metadata": {
            "tags": []
          },
          "execution_count": 111
        }
      ]
    },
    {
      "cell_type": "code",
      "metadata": {
        "id": "YY9U8YjQX6gY"
      },
      "source": [
        "n_factors = 50 #first hyperparameter to tune\n",
        "\n",
        "X_train_array = [X_train[:, 0], X_train[:, 1]]\n",
        "X_test_array = [X_test[:, 0], X_test[:, 1]]"
      ],
      "execution_count": 112,
      "outputs": []
    },
    {
      "cell_type": "code",
      "metadata": {
        "colab": {
          "base_uri": "https://localhost:8080/"
        },
        "id": "6s34A8Q-X-uD",
        "outputId": "0e180bf4-af32-4fc8-9733-ecbf9ce325c2"
      },
      "source": [
        "model = RecommenderNet(n_customers, n_items, n_factors, min_rating, max_rating)\n",
        "history = model.fit(x=X_train_array, y=y_train, batch_size=512, epochs=10,\n",
        "                    verbose=1, validation_data=(X_test_array, y_test))"
      ],
      "execution_count": 113,
      "outputs": [
        {
          "output_type": "stream",
          "text": [
            "Epoch 1/10\n",
            "95/95 [==============================] - 1s 8ms/step - loss: 1.3433 - accuracy: 0.5030 - val_loss: 0.4437 - val_accuracy: 0.8944\n",
            "Epoch 2/10\n",
            "95/95 [==============================] - 1s 6ms/step - loss: 0.3432 - accuracy: 0.9136 - val_loss: 0.0720 - val_accuracy: 0.9909\n",
            "Epoch 3/10\n",
            "95/95 [==============================] - 1s 6ms/step - loss: 0.0833 - accuracy: 0.9859 - val_loss: 0.0201 - val_accuracy: 0.9940\n",
            "Epoch 4/10\n",
            "95/95 [==============================] - 1s 6ms/step - loss: 0.0376 - accuracy: 0.9924 - val_loss: 0.0130 - val_accuracy: 0.9938\n",
            "Epoch 5/10\n",
            "95/95 [==============================] - 1s 6ms/step - loss: 0.0248 - accuracy: 0.9927 - val_loss: 0.0112 - val_accuracy: 0.9941\n",
            "Epoch 6/10\n",
            "95/95 [==============================] - 1s 6ms/step - loss: 0.0203 - accuracy: 0.9934 - val_loss: 0.0108 - val_accuracy: 0.9939\n",
            "Epoch 7/10\n",
            "95/95 [==============================] - 1s 6ms/step - loss: 0.0179 - accuracy: 0.9933 - val_loss: 0.0107 - val_accuracy: 0.9939\n",
            "Epoch 8/10\n",
            "95/95 [==============================] - 1s 6ms/step - loss: 0.0168 - accuracy: 0.9929 - val_loss: 0.0104 - val_accuracy: 0.9941\n",
            "Epoch 9/10\n",
            "95/95 [==============================] - 1s 6ms/step - loss: 0.0152 - accuracy: 0.9933 - val_loss: 0.0103 - val_accuracy: 0.9941\n",
            "Epoch 10/10\n",
            "95/95 [==============================] - 1s 6ms/step - loss: 0.0142 - accuracy: 0.9940 - val_loss: 0.0102 - val_accuracy: 0.9939\n"
          ],
          "name": "stdout"
        }
      ]
    },
    {
      "cell_type": "code",
      "metadata": {
        "id": "5lFSd1tZYB6u"
      },
      "source": [
        "y_pred = model.predict(X_test_array)#.astype(int).flatten()\n",
        "y_pred = np.argmax(y_pred, axis=1)"
      ],
      "execution_count": 114,
      "outputs": []
    },
    {
      "cell_type": "code",
      "metadata": {
        "id": "snxOH7pjYeVm"
      },
      "source": [
        "def plot_confusion_matrix(test_labels, predicted_labels, save_path=None, encoder=None):\n",
        "    if encoder:\n",
        "      test_labels = encoder.inverse_transform(test_labels)\n",
        "      predicted_labels = encoder.inverse_transform(predicted_labels)\n",
        "\n",
        "    conf_matrix = confusion_matrix(test_labels, predicted_labels)\n",
        "    conf_matrix = conf_matrix.astype('float') / conf_matrix.sum(axis=1)[:, np.newaxis]\n",
        "    fig, ax = plt.subplots(figsize=[10, 10], dpi=100)\n",
        "    im = ax.imshow(conf_matrix, interpolation='nearest', cmap=plt.cm.Blues)\n",
        "    ax.figure.colorbar(im, ax=ax)\n",
        "    classes = unique_labels(test_labels, predicted_labels)\n",
        "    ax.set(xticks=np.arange(conf_matrix.shape[1]),\n",
        "           yticks=np.arange(conf_matrix.shape[0]),\n",
        "           xticklabels=classes, yticklabels=classes,\n",
        "           ylabel='True label',\n",
        "           xlabel='Predicted label')\n",
        "    fmt = '.3f'\n",
        "    thresh = conf_matrix.max() / 2.\n",
        "    for i in range(conf_matrix.shape[0]):\n",
        "        for j in range(conf_matrix.shape[1]):\n",
        "            ax.text(j, i, format(conf_matrix[i, j], fmt),\n",
        "                    ha=\"center\", va=\"center\",\n",
        "                    color=\"white\" if conf_matrix[i, j] > thresh else \"black\")\n",
        "    if save_path:\n",
        "        plt.savefig(save_path)\n",
        "    else:\n",
        "        plt.show()"
      ],
      "execution_count": 78,
      "outputs": []
    },
    {
      "cell_type": "code",
      "metadata": {
        "colab": {
          "base_uri": "https://localhost:8080/",
          "height": 805
        },
        "id": "X5TLc622cRHL",
        "outputId": "1a388650-65f2-48f7-c903-27b81eea1501"
      },
      "source": [
        "plot_confusion_matrix(y_test, y_pred, encoder=rating_enc)"
      ],
      "execution_count": 80,
      "outputs": [
        {
          "output_type": "display_data",
          "data": {
            "image/png": "[encoded data removed]",
            "text/plain": [
              "<Figure size 1000x1000 with 2 Axes>"
            ]
          },
          "metadata": {
            "tags": [],
            "needs_background": "light"
          }
        }
      ]
    },
    {
      "cell_type": "markdown",
      "metadata": {
        "id": "K3rvLT4Ffc-i"
      },
      "source": [
        "\n",
        "# Cross validation\n",
        "Based on https://medium.com/the-owl/k-fold-cross-validation-in-keras-3ec4a3a00538"
      ]
    },
    {
      "cell_type": "code",
      "metadata": {
        "id": "PSRjlUMjeCPm"
      },
      "source": [
        "n_splits = 5\n",
        "kf = KFold(n_splits, shuffle=True)"
      ],
      "execution_count": 122,
      "outputs": []
    },
    {
      "cell_type": "code",
      "metadata": {
        "id": "N_mGXPFEhh-U"
      },
      "source": [
        "def get_model_name(k):\n",
        "    return 'model_'+str(k)+'.h5'"
      ],
      "execution_count": 89,
      "outputs": []
    },
    {
      "cell_type": "code",
      "metadata": {
        "colab": {
          "base_uri": "https://localhost:8080/"
        },
        "id": "TM2M4XiUffud",
        "outputId": "630ab533-4da5-4345-a401-02afff473f59"
      },
      "source": [
        "\n",
        "VALIDATION_ACCURACY = []\n",
        "VALIDATION_LOSS = []\n",
        "\n",
        "for fold_var, (train_index, val_index) in enumerate(kf.split(X,y)):\n",
        "  X_train = X[train_index]\n",
        "  X_test = X[val_index]\n",
        "\n",
        "  X_train_array = [X_train[:, 0], X_train[:, 1]]\n",
        "  X_test_array = [X_test[:, 0], X_test[:, 1]] \n",
        "\n",
        "  y_train = y[train_index]\n",
        "  y_test = y[val_index]\n",
        "\n",
        "  model = RecommenderNet(n_customers, n_items, n_factors, min_rating, max_rating)\n",
        "  \n",
        "  \n",
        "  checkpoint = ModelCheckpoint(path+'/saved_models/'+get_model_name(fold_var), \n",
        "\t\t\t\t\t\t\tmonitor='val_accuracy', verbose=1, \n",
        "\t\t\t\t\t\t\tsave_best_only=True, mode='max')\n",
        "  callbacks_list = [checkpoint]\n",
        "\n",
        "  history = model.fit(x=X_train_array, y=y_train, batch_size=512, epochs=10,\n",
        "                    verbose=1, validation_data=(X_test_array, y_test), callbacks=callbacks_list)\n",
        "  \n",
        "  model.load_weights(path+\"/saved_models/model_\"+str(fold_var)+\".h5\")\n",
        "  \n",
        "  results = model.evaluate(X_test_array, y_test)\n",
        "  results = dict(zip(model.metrics_names,results))\n",
        "\t\n",
        "  VALIDATION_ACCURACY.append(results['accuracy'])\n",
        "  VALIDATION_LOSS.append(results['loss'])\n",
        "  \n",
        "  backend.clear_session()"
      ],
      "execution_count": 116,
      "outputs": [
        {
          "output_type": "stream",
          "text": [
            "Epoch 1/10\n",
            "113/113 [==============================] - 1s 7ms/step - loss: 1.2282 - accuracy: 0.5747 - val_loss: 0.2503 - val_accuracy: 0.9527\n",
            "\n",
            "Epoch 00001: val_accuracy improved from -inf to 0.95271, saving model to /content/drive/MyDrive/DTU/ABA/saved_models/model_0.h5\n",
            "Epoch 2/10\n",
            "113/113 [==============================] - 1s 6ms/step - loss: 0.1978 - accuracy: 0.9569 - val_loss: 0.0390 - val_accuracy: 0.9911\n",
            "\n",
            "Epoch 00002: val_accuracy improved from 0.95271 to 0.99108, saving model to /content/drive/MyDrive/DTU/ABA/saved_models/model_0.h5\n",
            "Epoch 3/10\n",
            "113/113 [==============================] - 1s 6ms/step - loss: 0.0546 - accuracy: 0.9905 - val_loss: 0.0157 - val_accuracy: 0.9932\n",
            "\n",
            "Epoch 00003: val_accuracy improved from 0.99108 to 0.99315, saving model to /content/drive/MyDrive/DTU/ABA/saved_models/model_0.h5\n",
            "Epoch 4/10\n",
            "113/113 [==============================] - 1s 6ms/step - loss: 0.0276 - accuracy: 0.9939 - val_loss: 0.0124 - val_accuracy: 0.9934\n",
            "\n",
            "Epoch 00004: val_accuracy improved from 0.99315 to 0.99336, saving model to /content/drive/MyDrive/DTU/ABA/saved_models/model_0.h5\n",
            "Epoch 5/10\n",
            "113/113 [==============================] - 1s 6ms/step - loss: 0.0202 - accuracy: 0.9939 - val_loss: 0.0119 - val_accuracy: 0.9932\n",
            "\n",
            "Epoch 00005: val_accuracy did not improve from 0.99336\n",
            "Epoch 6/10\n",
            "113/113 [==============================] - 1s 6ms/step - loss: 0.0178 - accuracy: 0.9944 - val_loss: 0.0112 - val_accuracy: 0.9934\n",
            "\n",
            "Epoch 00006: val_accuracy did not improve from 0.99336\n",
            "Epoch 7/10\n",
            "113/113 [==============================] - 1s 6ms/step - loss: 0.0156 - accuracy: 0.9940 - val_loss: 0.0116 - val_accuracy: 0.9932\n",
            "\n",
            "Epoch 00007: val_accuracy did not improve from 0.99336\n",
            "Epoch 8/10\n",
            "113/113 [==============================] - 1s 6ms/step - loss: 0.0148 - accuracy: 0.9941 - val_loss: 0.0110 - val_accuracy: 0.9932\n",
            "\n",
            "Epoch 00008: val_accuracy did not improve from 0.99336\n",
            "Epoch 9/10\n",
            "113/113 [==============================] - 1s 6ms/step - loss: 0.0136 - accuracy: 0.9939 - val_loss: 0.0109 - val_accuracy: 0.9932\n",
            "\n",
            "Epoch 00009: val_accuracy did not improve from 0.99336\n",
            "Epoch 10/10\n",
            "113/113 [==============================] - 1s 6ms/step - loss: 0.0127 - accuracy: 0.9942 - val_loss: 0.0108 - val_accuracy: 0.9934\n",
            "\n",
            "Epoch 00010: val_accuracy did not improve from 0.99336\n",
            "452/452 [==============================] - 1s 1ms/step - loss: 0.0124 - accuracy: 0.9934\n",
            "Epoch 1/10\n",
            "113/113 [==============================] - 1s 8ms/step - loss: 1.3215 - accuracy: 0.5165 - val_loss: 0.3129 - val_accuracy: 0.9479\n",
            "\n",
            "Epoch 00001: val_accuracy improved from -inf to 0.94787, saving model to /content/drive/MyDrive/DTU/ABA/saved_models/model_1.h5\n",
            "Epoch 2/10\n",
            "113/113 [==============================] - 1s 6ms/step - loss: 0.2327 - accuracy: 0.9553 - val_loss: 0.0301 - val_accuracy: 0.9934\n",
            "\n",
            "Epoch 00002: val_accuracy improved from 0.94787 to 0.99336, saving model to /content/drive/MyDrive/DTU/ABA/saved_models/model_1.h5\n",
            "Epoch 3/10\n",
            "113/113 [==============================] - 1s 5ms/step - loss: 0.0473 - accuracy: 0.9921 - val_loss: 0.0131 - val_accuracy: 0.9944\n",
            "\n",
            "Epoch 00003: val_accuracy improved from 0.99336 to 0.99440, saving model to /content/drive/MyDrive/DTU/ABA/saved_models/model_1.h5\n",
            "Epoch 4/10\n",
            "113/113 [==============================] - 1s 6ms/step - loss: 0.0270 - accuracy: 0.9927 - val_loss: 0.0107 - val_accuracy: 0.9944\n",
            "\n",
            "Epoch 00004: val_accuracy did not improve from 0.99440\n",
            "Epoch 5/10\n",
            "113/113 [==============================] - 1s 6ms/step - loss: 0.0214 - accuracy: 0.9928 - val_loss: 0.0103 - val_accuracy: 0.9939\n",
            "\n",
            "Epoch 00005: val_accuracy did not improve from 0.99440\n",
            "Epoch 6/10\n",
            "113/113 [==============================] - 1s 6ms/step - loss: 0.0178 - accuracy: 0.9936 - val_loss: 0.0099 - val_accuracy: 0.9939\n",
            "\n",
            "Epoch 00006: val_accuracy did not improve from 0.99440\n",
            "Epoch 7/10\n",
            "113/113 [==============================] - 1s 6ms/step - loss: 0.0148 - accuracy: 0.9937 - val_loss: 0.0099 - val_accuracy: 0.9939\n",
            "\n",
            "Epoch 00007: val_accuracy did not improve from 0.99440\n",
            "Epoch 8/10\n",
            "113/113 [==============================] - 1s 6ms/step - loss: 0.0141 - accuracy: 0.9940 - val_loss: 0.0098 - val_accuracy: 0.9939\n",
            "\n",
            "Epoch 00008: val_accuracy did not improve from 0.99440\n",
            "Epoch 9/10\n",
            "113/113 [==============================] - 1s 6ms/step - loss: 0.0135 - accuracy: 0.9934 - val_loss: 0.0097 - val_accuracy: 0.9939\n",
            "\n",
            "Epoch 00009: val_accuracy did not improve from 0.99440\n",
            "Epoch 10/10\n",
            "113/113 [==============================] - 1s 6ms/step - loss: 0.0137 - accuracy: 0.9931 - val_loss: 0.0097 - val_accuracy: 0.9939\n",
            "\n",
            "Epoch 00010: val_accuracy did not improve from 0.99440\n",
            "452/452 [==============================] - 1s 1ms/step - loss: 0.0131 - accuracy: 0.9944\n",
            "Epoch 1/10\n",
            "113/113 [==============================] - 1s 8ms/step - loss: 1.3635 - accuracy: 0.4985 - val_loss: 0.2797 - val_accuracy: 0.9460\n",
            "\n",
            "Epoch 00001: val_accuracy improved from -inf to 0.94600, saving model to /content/drive/MyDrive/DTU/ABA/saved_models/model_2.h5\n",
            "Epoch 2/10\n",
            "113/113 [==============================] - 1s 6ms/step - loss: 0.2102 - accuracy: 0.9598 - val_loss: 0.0305 - val_accuracy: 0.9940\n",
            "\n",
            "Epoch 00002: val_accuracy improved from 0.94600 to 0.99398, saving model to /content/drive/MyDrive/DTU/ABA/saved_models/model_2.h5\n",
            "Epoch 3/10\n",
            "113/113 [==============================] - 1s 6ms/step - loss: 0.0470 - accuracy: 0.9909 - val_loss: 0.0133 - val_accuracy: 0.9943\n",
            "\n",
            "Epoch 00003: val_accuracy improved from 0.99398 to 0.99433, saving model to /content/drive/MyDrive/DTU/ABA/saved_models/model_2.h5\n",
            "Epoch 4/10\n",
            "113/113 [==============================] - 1s 6ms/step - loss: 0.0268 - accuracy: 0.9924 - val_loss: 0.0107 - val_accuracy: 0.9943\n",
            "\n",
            "Epoch 00004: val_accuracy did not improve from 0.99433\n",
            "Epoch 5/10\n",
            "113/113 [==============================] - 1s 6ms/step - loss: 0.0194 - accuracy: 0.9934 - val_loss: 0.0099 - val_accuracy: 0.9943\n",
            "\n",
            "Epoch 00005: val_accuracy did not improve from 0.99433\n",
            "Epoch 6/10\n",
            "113/113 [==============================] - 1s 6ms/step - loss: 0.0178 - accuracy: 0.9929 - val_loss: 0.0096 - val_accuracy: 0.9943\n",
            "\n",
            "Epoch 00006: val_accuracy did not improve from 0.99433\n",
            "Epoch 7/10\n",
            "113/113 [==============================] - 1s 6ms/step - loss: 0.0152 - accuracy: 0.9939 - val_loss: 0.0095 - val_accuracy: 0.9943\n",
            "\n",
            "Epoch 00007: val_accuracy did not improve from 0.99433\n",
            "Epoch 8/10\n",
            "113/113 [==============================] - 1s 6ms/step - loss: 0.0150 - accuracy: 0.9931 - val_loss: 0.0094 - val_accuracy: 0.9943\n",
            "\n",
            "Epoch 00008: val_accuracy did not improve from 0.99433\n",
            "Epoch 9/10\n",
            "113/113 [==============================] - 1s 6ms/step - loss: 0.0136 - accuracy: 0.9939 - val_loss: 0.0093 - val_accuracy: 0.9943\n",
            "\n",
            "Epoch 00009: val_accuracy did not improve from 0.99433\n",
            "Epoch 10/10\n",
            "113/113 [==============================] - 1s 6ms/step - loss: 0.0130 - accuracy: 0.9934 - val_loss: 0.0093 - val_accuracy: 0.9943\n",
            "\n",
            "Epoch 00010: val_accuracy did not improve from 0.99433\n",
            "452/452 [==============================] - 1s 1ms/step - loss: 0.0133 - accuracy: 0.9943\n",
            "Epoch 1/10\n",
            "113/113 [==============================] - 2s 8ms/step - loss: 1.2919 - accuracy: 0.5362 - val_loss: 0.2790 - val_accuracy: 0.9479\n",
            "\n",
            "Epoch 00001: val_accuracy improved from -inf to 0.94793, saving model to /content/drive/MyDrive/DTU/ABA/saved_models/model_3.h5\n",
            "Epoch 2/10\n",
            "113/113 [==============================] - 1s 6ms/step - loss: 0.2088 - accuracy: 0.9523 - val_loss: 0.0479 - val_accuracy: 0.9930\n",
            "\n",
            "Epoch 00002: val_accuracy improved from 0.94793 to 0.99302, saving model to /content/drive/MyDrive/DTU/ABA/saved_models/model_3.h5\n",
            "Epoch 3/10\n",
            "113/113 [==============================] - 1s 6ms/step - loss: 0.0567 - accuracy: 0.9899 - val_loss: 0.0169 - val_accuracy: 0.9933\n",
            "\n",
            "Epoch 00003: val_accuracy improved from 0.99302 to 0.99329, saving model to /content/drive/MyDrive/DTU/ABA/saved_models/model_3.h5\n",
            "Epoch 4/10\n",
            "113/113 [==============================] - 1s 6ms/step - loss: 0.0287 - accuracy: 0.9928 - val_loss: 0.0124 - val_accuracy: 0.9940\n",
            "\n",
            "Epoch 00004: val_accuracy improved from 0.99329 to 0.99398, saving model to /content/drive/MyDrive/DTU/ABA/saved_models/model_3.h5\n",
            "Epoch 5/10\n",
            "113/113 [==============================] - 1s 6ms/step - loss: 0.0217 - accuracy: 0.9932 - val_loss: 0.0115 - val_accuracy: 0.9940\n",
            "\n",
            "Epoch 00005: val_accuracy did not improve from 0.99398\n",
            "Epoch 6/10\n",
            "113/113 [==============================] - 1s 6ms/step - loss: 0.0183 - accuracy: 0.9929 - val_loss: 0.0110 - val_accuracy: 0.9940\n",
            "\n",
            "Epoch 00006: val_accuracy did not improve from 0.99398\n",
            "Epoch 7/10\n",
            "113/113 [==============================] - 1s 6ms/step - loss: 0.0169 - accuracy: 0.9931 - val_loss: 0.0110 - val_accuracy: 0.9934\n",
            "\n",
            "Epoch 00007: val_accuracy did not improve from 0.99398\n",
            "Epoch 8/10\n",
            "113/113 [==============================] - 1s 6ms/step - loss: 0.0154 - accuracy: 0.9930 - val_loss: 0.0114 - val_accuracy: 0.9934\n",
            "\n",
            "Epoch 00008: val_accuracy did not improve from 0.99398\n",
            "Epoch 9/10\n",
            "113/113 [==============================] - 1s 6ms/step - loss: 0.0138 - accuracy: 0.9936 - val_loss: 0.0109 - val_accuracy: 0.9934\n",
            "\n",
            "Epoch 00009: val_accuracy did not improve from 0.99398\n",
            "Epoch 10/10\n",
            "113/113 [==============================] - 1s 6ms/step - loss: 0.0139 - accuracy: 0.9934 - val_loss: 0.0107 - val_accuracy: 0.9934\n",
            "\n",
            "Epoch 00010: val_accuracy did not improve from 0.99398\n",
            "452/452 [==============================] - 1s 1ms/step - loss: 0.0124 - accuracy: 0.9940\n",
            "Epoch 1/10\n",
            "113/113 [==============================] - 2s 8ms/step - loss: 1.2660 - accuracy: 0.5547 - val_loss: 0.2445 - val_accuracy: 0.9684\n",
            "\n",
            "Epoch 00001: val_accuracy improved from -inf to 0.96840, saving model to /content/drive/MyDrive/DTU/ABA/saved_models/model_4.h5\n",
            "Epoch 2/10\n",
            "113/113 [==============================] - 1s 6ms/step - loss: 0.1835 - accuracy: 0.9707 - val_loss: 0.0289 - val_accuracy: 0.9936\n",
            "\n",
            "Epoch 00002: val_accuracy improved from 0.96840 to 0.99364, saving model to /content/drive/MyDrive/DTU/ABA/saved_models/model_4.h5\n",
            "Epoch 3/10\n",
            "113/113 [==============================] - 1s 6ms/step - loss: 0.0445 - accuracy: 0.9921 - val_loss: 0.0128 - val_accuracy: 0.9954\n",
            "\n",
            "Epoch 00003: val_accuracy improved from 0.99364 to 0.99537, saving model to /content/drive/MyDrive/DTU/ABA/saved_models/model_4.h5\n",
            "Epoch 4/10\n",
            "113/113 [==============================] - 1s 6ms/step - loss: 0.0273 - accuracy: 0.9928 - val_loss: 0.0105 - val_accuracy: 0.9941\n",
            "\n",
            "Epoch 00004: val_accuracy did not improve from 0.99537\n",
            "Epoch 5/10\n",
            "113/113 [==============================] - 1s 6ms/step - loss: 0.0202 - accuracy: 0.9933 - val_loss: 0.0100 - val_accuracy: 0.9941\n",
            "\n",
            "Epoch 00005: val_accuracy did not improve from 0.99537\n",
            "Epoch 6/10\n",
            "113/113 [==============================] - 1s 6ms/step - loss: 0.0177 - accuracy: 0.9936 - val_loss: 0.0097 - val_accuracy: 0.9941\n",
            "\n",
            "Epoch 00006: val_accuracy did not improve from 0.99537\n",
            "Epoch 7/10\n",
            "113/113 [==============================] - 1s 6ms/step - loss: 0.0165 - accuracy: 0.9937 - val_loss: 0.0094 - val_accuracy: 0.9941\n",
            "\n",
            "Epoch 00007: val_accuracy did not improve from 0.99537\n",
            "Epoch 8/10\n",
            "113/113 [==============================] - 1s 6ms/step - loss: 0.0159 - accuracy: 0.9923 - val_loss: 0.0092 - val_accuracy: 0.9941\n",
            "\n",
            "Epoch 00008: val_accuracy did not improve from 0.99537\n",
            "Epoch 9/10\n",
            "113/113 [==============================] - 1s 6ms/step - loss: 0.0137 - accuracy: 0.9937 - val_loss: 0.0091 - val_accuracy: 0.9954\n",
            "\n",
            "Epoch 00009: val_accuracy did not improve from 0.99537\n",
            "Epoch 10/10\n",
            "113/113 [==============================] - 1s 7ms/step - loss: 0.0134 - accuracy: 0.9936 - val_loss: 0.0090 - val_accuracy: 0.9941\n",
            "\n",
            "Epoch 00010: val_accuracy did not improve from 0.99537\n",
            "452/452 [==============================] - 1s 1ms/step - loss: 0.0128 - accuracy: 0.9954\n"
          ],
          "name": "stdout"
        }
      ]
    },
    {
      "cell_type": "code",
      "metadata": {
        "id": "R_H118jBgN_1"
      },
      "source": [
        "VALIDATION_ACCURACY = np.array(VALIDATION_ACCURACY)"
      ],
      "execution_count": 118,
      "outputs": []
    },
    {
      "cell_type": "code",
      "metadata": {
        "colab": {
          "base_uri": "https://localhost:8080/"
        },
        "id": "2bK7Ybi3kurJ",
        "outputId": "aa5c2ceb-de2c-48d7-dec6-9b607dcbe39c"
      },
      "source": [
        "print(f'Mean accuracy of the {n_splits}-split cross validation: {VALIDATION_ACCURACY.mean():.2f}({VALIDATION_ACCURACY.std():.2f})')"
      ],
      "execution_count": 123,
      "outputs": [
        {
          "output_type": "stream",
          "text": [
            "Mean accuracy of the 5-split cross validation: 0.99(0.00)\n"
          ],
          "name": "stdout"
        }
      ]
    },
    {
      "cell_type": "code",
      "metadata": {
        "id": "Cpd2Q-kanSUX"
      },
      "source": [
        ""
      ],
      "execution_count": null,
      "outputs": []
    }
  ]
}