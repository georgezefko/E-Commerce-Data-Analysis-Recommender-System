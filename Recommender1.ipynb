{
  "nbformat": 4,
  "nbformat_minor": 0,
  "metadata": {
    "colab": {
      "name": "Untitled1.ipynb",
      "provenance": [],
      "authorship_tag": "ABX9TyP7zpATPnLqnTEQyYZVIq7o",
      "include_colab_link": true
    },
    "kernelspec": {
      "name": "python3",
      "display_name": "Python 3"
    },
    "language_info": {
      "name": "python"
    },
    "accelerator": "GPU"
  },
  "cells": [
    {
      "cell_type": "markdown",
      "metadata": {
        "id": "view-in-github",
        "colab_type": "text"
      },
      "source": [
        "<a href=\"https://colab.research.google.com/github/georgezefko/Recommender_System/blob/main/Recommender1.ipynb\" target=\"_parent\"><img src=\"https://colab.research.google.com/assets/colab-badge.svg\" alt=\"Open In Colab\"/></a>"
      ]
    },
    {
      "cell_type": "code",
      "metadata": {
        "colab": {
          "base_uri": "https://localhost:8080/"
        },
        "id": "jBCtw5LKb-ls",
        "outputId": "67fd407a-6499-4cc4-f7b2-db4bd8116d14"
      },
      "source": [
        "from google.colab import drive\n",
        "drive.mount('/content/drive', force_remount=True)"
      ],
      "execution_count": 1,
      "outputs": [
        {
          "output_type": "stream",
          "text": [
            "Mounted at /content/drive\n"
          ],
          "name": "stdout"
        }
      ]
    },
    {
      "cell_type": "code",
      "metadata": {
        "colab": {
          "base_uri": "https://localhost:8080/"
        },
        "id": "KeuHbjbLcEMx",
        "outputId": "e399d339-8429-4275-a790-e45578832b94"
      },
      "source": [
        "import pandas as pd\n",
        "import re\n",
        "import numpy as np\n",
        "import matplotlib.pyplot as plt\n",
        "from nltk.tokenize import word_tokenize\n",
        "from nltk.stem.porter import PorterStemmer\n",
        "from nltk.stem import WordNetLemmatizer\n",
        "import seaborn as sns\n",
        "from collections import Counter\n",
        "import nltk\n",
        "nltk.download('stopwords')\n",
        "from nltk.corpus import stopwords\n",
        "nltk.download('wordnet')\n",
        "nltk.download('punkt')\n",
        "nltk.download('averaged_perceptron_tagger') \n",
        "from nltk import sent_tokenize\n",
        "from textblob import TextBlob\n",
        "from sklearn.feature_extraction.text import CountVectorizer\n",
        "from sklearn.feature_extraction.text import TfidfVectorizer\n",
        "import warnings \n",
        "warnings.filterwarnings('ignore')\n"
      ],
      "execution_count": 2,
      "outputs": [
        {
          "output_type": "stream",
          "text": [
            "[nltk_data] Downloading package stopwords to /root/nltk_data...\n",
            "[nltk_data]   Package stopwords is already up-to-date!\n",
            "[nltk_data] Downloading package wordnet to /root/nltk_data...\n",
            "[nltk_data]   Package wordnet is already up-to-date!\n",
            "[nltk_data] Downloading package punkt to /root/nltk_data...\n",
            "[nltk_data]   Package punkt is already up-to-date!\n",
            "[nltk_data] Downloading package averaged_perceptron_tagger to\n",
            "[nltk_data]     /root/nltk_data...\n",
            "[nltk_data]   Package averaged_perceptron_tagger is already up-to-\n",
            "[nltk_data]       date!\n"
          ],
          "name": "stdout"
        }
      ]
    },
    {
      "cell_type": "code",
      "metadata": {
        "id": "Dwj5DBfecFOU"
      },
      "source": [
        "path ='/content/drive/MyDrive/olist_project'\n",
        "#path = '/content/drive/MyDrive/AdvancedBA/Olie_data/archive' #adust this one to yours\n",
        "#path ='/content/drive/MyDrive/DTU/ABA'\n",
        "\n",
        "customers = pd.read_csv(path +'/olist_customers_dataset.csv')\n",
        "reviews = pd.read_csv(path+'/olist_order_reviews_dataset.csv')\n",
        "geolocation = pd.read_csv(path+'/olist_geolocation_dataset.csv')\n",
        "items = pd.read_csv(path + '/olist_order_items_dataset.csv')\n",
        "payments  = pd.read_csv(path + '/olist_order_payments_dataset.csv')\n",
        "orders= pd.read_csv(path + '/olist_orders_dataset.csv')\n",
        "products = pd.read_csv(path + '/olist_products_dataset.csv')\n",
        "sellers =pd.read_csv(path + '/olist_sellers_dataset.csv')\n",
        "category =  pd.read_csv(path + '/product_category_name_translation.csv')"
      ],
      "execution_count": 3,
      "outputs": []
    },
    {
      "cell_type": "code",
      "metadata": {
        "id": "Dr0xpMwicZ5Q"
      },
      "source": [
        "data = pd.merge(orders,customers,on='customer_id')\n",
        "data = pd.merge(data,reviews,on='order_id')\n",
        "data = pd.merge(data,payments,on='order_id')\n",
        "data = pd.merge(data,items,on='order_id')\n",
        "data = pd.merge(data,products,on='product_id')\n",
        "data = pd.merge(data,sellers,on='seller_id')\n",
        "data = pd.merge(data,geolocation,left_on='seller_zip_code_prefix', right_on='geolocation_zip_code_prefix')\n",
        "data = pd.merge(data, category,on ='product_category_name')\n",
        "data.head()"
      ],
      "execution_count": null,
      "outputs": []
    },
    {
      "cell_type": "code",
      "metadata": {
        "id": "caKevYtAceIV"
      },
      "source": [
        "recommender = data[['review_score','price','customer_state','order_status','seller_state','order_item_id','product_category_name_english','customer_unique_id','order_purchase_timestamp','geolocation_lat','geolocation_lng', 'product_id']]"
      ],
      "execution_count": null,
      "outputs": []
    }
  ]
}