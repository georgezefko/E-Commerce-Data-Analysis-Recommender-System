{
  "nbformat": 4,
  "nbformat_minor": 0,
  "metadata": {
    "colab": {
      "name": "ABA_recommender_MF_30_04_21.ipynb",
      "provenance": [],
      "collapsed_sections": [],
      "machine_shape": "hm",
      "include_colab_link": true
    },
    "kernelspec": {
      "name": "python3",
      "display_name": "Python 3"
    },
    "language_info": {
      "name": "python"
    },
    "accelerator": "GPU"
  },
  "cells": [
    {
      "cell_type": "markdown",
      "metadata": {
        "id": "view-in-github",
        "colab_type": "text"
      },
      "source": [
        "<a href=\"https://colab.research.google.com/github/georgezefko/Recommender_System/blob/Matrix_approach/Recommender_MF_01_05_21.ipynb\" target=\"_parent\"><img src=\"https://colab.research.google.com/assets/colab-badge.svg\" alt=\"Open In Colab\"/></a>"
      ]
    },
    {
      "cell_type": "code",
      "metadata": {
        "colab": {
          "base_uri": "https://localhost:8080/"
        },
        "id": "xhYUiF3m3mS1",
        "outputId": "2fb2e1f8-b850-46e0-a423-4c1c3bfbec72"
      },
      "source": [
        "from google.colab import drive\n",
        "drive.mount('/content/drive', force_remount=True)"
      ],
      "execution_count": 1,
      "outputs": [
        {
          "output_type": "stream",
          "text": [
            "Mounted at /content/drive\n"
          ],
          "name": "stdout"
        }
      ]
    },
    {
      "cell_type": "code",
      "metadata": {
        "colab": {
          "base_uri": "https://localhost:8080/"
        },
        "id": "SuTgJBwWsDah",
        "outputId": "8782a978-14fb-4952-cd6f-d4a4db10f88f"
      },
      "source": [
        "!pip install surprise"
      ],
      "execution_count": 2,
      "outputs": [
        {
          "output_type": "stream",
          "text": [
            "Requirement already satisfied: surprise in /usr/local/lib/python3.7/dist-packages (0.1)\n",
            "Requirement already satisfied: scikit-surprise in /usr/local/lib/python3.7/dist-packages (from surprise) (1.1.1)\n",
            "Requirement already satisfied: numpy>=1.11.2 in /usr/local/lib/python3.7/dist-packages (from scikit-surprise->surprise) (1.19.5)\n",
            "Requirement already satisfied: joblib>=0.11 in /usr/local/lib/python3.7/dist-packages (from scikit-surprise->surprise) (1.0.1)\n",
            "Requirement already satisfied: scipy>=1.0.0 in /usr/local/lib/python3.7/dist-packages (from scikit-surprise->surprise) (1.4.1)\n",
            "Requirement already satisfied: six>=1.10.0 in /usr/local/lib/python3.7/dist-packages (from scikit-surprise->surprise) (1.15.0)\n"
          ],
          "name": "stdout"
        }
      ]
    },
    {
      "cell_type": "code",
      "metadata": {
        "id": "7QillAFo3rqM"
      },
      "source": [
        "import pandas as pd\n",
        "import numpy as np\n",
        "import seaborn as sns\n",
        "import matplotlib.pyplot as plt\n",
        "from sklearn.model_selection import train_test_split\n",
        "from math import sqrt\n",
        "from sklearn.metrics import mean_squared_error\n",
        "from scipy.sparse.linalg import svds\n",
        "from scipy import linalg\n",
        "from datetime import datetime\n",
        "from surprise import Reader, Dataset, SVD, SVDpp, NMF, KNNBaseline,CoClustering,KNNBasic, KNNWithMeans,KNNWithZScore,SlopeOne,accuracy\n",
        "\n",
        "from surprise.model_selection import cross_validate\n",
        "from surprise.model_selection import KFold, GridSearchCV\n",
        "from sklearn.linear_model import LinearRegression\n",
        "from collections import defaultdict\n",
        "from sklearn.metrics.pairwise import linear_kernel\n",
        "from sklearn.feature_extraction.text import TfidfVectorizer\n",
        "from sklearn.feature_extraction.text import CountVectorizer\n",
        "from sklearn.metrics.pairwise import cosine_similarity\n",
        "import warnings\n",
        "warnings.filterwarnings(\"ignore\", category=np.VisibleDeprecationWarning) \n",
        "\n"
      ],
      "execution_count": 64,
      "outputs": []
    },
    {
      "cell_type": "code",
      "metadata": {
        "id": "kK2y7-0x4HFa"
      },
      "source": [
        "path = '/content/drive/MyDrive/AdvancedBA/Olie_data/'\n",
        "#path ='/content/drive/MyDrive/olist_project/'\n",
        "data = pd.read_csv(path+'recommender.csv')"
      ],
      "execution_count": 3,
      "outputs": []
    },
    {
      "cell_type": "code",
      "metadata": {
        "colab": {
          "base_uri": "https://localhost:8080/",
          "height": 241
        },
        "id": "xCkuqB9O4VS_",
        "outputId": "8c7718d3-165a-4a58-e1c1-065a88a862d5"
      },
      "source": [
        "data.head()"
      ],
      "execution_count": 4,
      "outputs": [
        {
          "output_type": "execute_result",
          "data": {
            "text/html": [
              "<div>\n",
              "<style scoped>\n",
              "    .dataframe tbody tr th:only-of-type {\n",
              "        vertical-align: middle;\n",
              "    }\n",
              "\n",
              "    .dataframe tbody tr th {\n",
              "        vertical-align: top;\n",
              "    }\n",
              "\n",
              "    .dataframe thead th {\n",
              "        text-align: right;\n",
              "    }\n",
              "</style>\n",
              "<table border=\"1\" class=\"dataframe\">\n",
              "  <thead>\n",
              "    <tr style=\"text-align: right;\">\n",
              "      <th></th>\n",
              "      <th>Unnamed: 0</th>\n",
              "      <th>review_score</th>\n",
              "      <th>customer_state</th>\n",
              "      <th>seller_state</th>\n",
              "      <th>product_id</th>\n",
              "      <th>product_category_name_english</th>\n",
              "      <th>customer_unique_id</th>\n",
              "      <th>order_delivered_customer_date</th>\n",
              "      <th>price</th>\n",
              "      <th>delivered_date</th>\n",
              "      <th>days_diff</th>\n",
              "      <th>order_weekday</th>\n",
              "      <th>order_month</th>\n",
              "      <th>price_category</th>\n",
              "      <th>day_category</th>\n",
              "    </tr>\n",
              "  </thead>\n",
              "  <tbody>\n",
              "    <tr>\n",
              "      <th>0</th>\n",
              "      <td>0</td>\n",
              "      <td>4</td>\n",
              "      <td>SP</td>\n",
              "      <td>SP</td>\n",
              "      <td>17106</td>\n",
              "      <td>housewares</td>\n",
              "      <td>45758</td>\n",
              "      <td>2017-10-10 21:25:13</td>\n",
              "      <td>29.99</td>\n",
              "      <td>2017-10-10</td>\n",
              "      <td>8.0</td>\n",
              "      <td>Monday</td>\n",
              "      <td>Oct</td>\n",
              "      <td>Low</td>\n",
              "      <td>morning</td>\n",
              "    </tr>\n",
              "    <tr>\n",
              "      <th>1</th>\n",
              "      <td>1</td>\n",
              "      <td>4</td>\n",
              "      <td>SP</td>\n",
              "      <td>SP</td>\n",
              "      <td>17106</td>\n",
              "      <td>housewares</td>\n",
              "      <td>21530</td>\n",
              "      <td>2017-08-18 14:44:43</td>\n",
              "      <td>29.99</td>\n",
              "      <td>2017-08-18</td>\n",
              "      <td>3.0</td>\n",
              "      <td>Tuesday</td>\n",
              "      <td>Aug</td>\n",
              "      <td>Low</td>\n",
              "      <td>afternoon</td>\n",
              "    </tr>\n",
              "    <tr>\n",
              "      <th>2</th>\n",
              "      <td>2</td>\n",
              "      <td>5</td>\n",
              "      <td>SP</td>\n",
              "      <td>SP</td>\n",
              "      <td>17106</td>\n",
              "      <td>housewares</td>\n",
              "      <td>87936</td>\n",
              "      <td>2017-08-07 18:30:01</td>\n",
              "      <td>29.99</td>\n",
              "      <td>2017-08-07</td>\n",
              "      <td>5.0</td>\n",
              "      <td>Wednesday</td>\n",
              "      <td>Aug</td>\n",
              "      <td>Low</td>\n",
              "      <td>afternoon</td>\n",
              "    </tr>\n",
              "    <tr>\n",
              "      <th>3</th>\n",
              "      <td>3</td>\n",
              "      <td>3</td>\n",
              "      <td>SC</td>\n",
              "      <td>SP</td>\n",
              "      <td>17106</td>\n",
              "      <td>housewares</td>\n",
              "      <td>85228</td>\n",
              "      <td>2017-11-07 18:04:59</td>\n",
              "      <td>29.99</td>\n",
              "      <td>2017-11-07</td>\n",
              "      <td>15.0</td>\n",
              "      <td>Monday</td>\n",
              "      <td>Oct</td>\n",
              "      <td>Low</td>\n",
              "      <td>evening</td>\n",
              "    </tr>\n",
              "    <tr>\n",
              "      <th>4</th>\n",
              "      <td>4</td>\n",
              "      <td>1</td>\n",
              "      <td>SP</td>\n",
              "      <td>SP</td>\n",
              "      <td>23951</td>\n",
              "      <td>housewares</td>\n",
              "      <td>44958</td>\n",
              "      <td>2017-08-28 20:12:20</td>\n",
              "      <td>46.80</td>\n",
              "      <td>2017-08-28</td>\n",
              "      <td>4.0</td>\n",
              "      <td>Thursday</td>\n",
              "      <td>Aug</td>\n",
              "      <td>Low</td>\n",
              "      <td>morning</td>\n",
              "    </tr>\n",
              "  </tbody>\n",
              "</table>\n",
              "</div>"
            ],
            "text/plain": [
              "   Unnamed: 0  review_score  ... price_category day_category\n",
              "0           0             4  ...            Low      morning\n",
              "1           1             4  ...            Low    afternoon\n",
              "2           2             5  ...            Low    afternoon\n",
              "3           3             3  ...            Low      evening\n",
              "4           4             1  ...            Low      morning\n",
              "\n",
              "[5 rows x 15 columns]"
            ]
          },
          "metadata": {
            "tags": []
          },
          "execution_count": 4
        }
      ]
    },
    {
      "cell_type": "code",
      "metadata": {
        "id": "PaFi0dns4Wfn"
      },
      "source": [
        "data = data.iloc[:,1:]"
      ],
      "execution_count": 5,
      "outputs": []
    },
    {
      "cell_type": "code",
      "metadata": {
        "colab": {
          "base_uri": "https://localhost:8080/"
        },
        "id": "wqA__dmoUnla",
        "outputId": "1c50f412-aef1-46da-e01a-dd0d167347b5"
      },
      "source": [
        "data.shape"
      ],
      "execution_count": 6,
      "outputs": [
        {
          "output_type": "execute_result",
          "data": {
            "text/plain": [
              "(111686, 14)"
            ]
          },
          "metadata": {
            "tags": []
          },
          "execution_count": 6
        }
      ]
    },
    {
      "cell_type": "code",
      "metadata": {
        "id": "nZpa4ELL4ZlH"
      },
      "source": [
        "data = data.drop_duplicates()"
      ],
      "execution_count": 7,
      "outputs": []
    },
    {
      "cell_type": "code",
      "metadata": {
        "colab": {
          "base_uri": "https://localhost:8080/"
        },
        "id": "n1I5zqdDUqQR",
        "outputId": "350ab039-b38c-4323-9382-c079080b52e8"
      },
      "source": [
        "data.shape"
      ],
      "execution_count": 8,
      "outputs": [
        {
          "output_type": "execute_result",
          "data": {
            "text/plain": [
              "(101173, 14)"
            ]
          },
          "metadata": {
            "tags": []
          },
          "execution_count": 8
        }
      ]
    },
    {
      "cell_type": "code",
      "metadata": {
        "colab": {
          "base_uri": "https://localhost:8080/"
        },
        "id": "hmAsLa5fl0aC",
        "outputId": "3b8f4311-9fcb-4c3c-a79a-3e5734583576"
      },
      "source": [
        "#reduce dimensionality based on the number of ratings\n",
        "min_product_ratings = 1\n",
        "filter_products = data['product_id'].value_counts() > min_product_ratings\n",
        "filter_products = filter_products[filter_products].index.tolist()\n",
        "\n",
        "\n",
        "min_user_ratings = 1\n",
        "filter_users = data['customer_unique_id'].value_counts() > min_user_ratings\n",
        "filter_users = filter_users[filter_users].index.tolist()\n",
        "\n",
        "data_new = data[(data['product_id'].isin(filter_products)) & (data['customer_unique_id'].isin(filter_users))]"
      ],
      "execution_count": 24,
      "outputs": [
        {
          "output_type": "execute_result",
          "data": {
            "text/plain": [
              "13230"
            ]
          },
          "metadata": {
            "tags": []
          },
          "execution_count": 24
        }
      ]
    },
    {
      "cell_type": "code",
      "metadata": {
        "colab": {
          "base_uri": "https://localhost:8080/",
          "height": 439
        },
        "id": "ro5x9Lramu4E",
        "outputId": "6933a713-e128-4c3d-98cc-192009f0848c"
      },
      "source": [
        "data_new"
      ],
      "execution_count": 29,
      "outputs": [
        {
          "output_type": "execute_result",
          "data": {
            "text/html": [
              "<div>\n",
              "<style scoped>\n",
              "    .dataframe tbody tr th:only-of-type {\n",
              "        vertical-align: middle;\n",
              "    }\n",
              "\n",
              "    .dataframe tbody tr th {\n",
              "        vertical-align: top;\n",
              "    }\n",
              "\n",
              "    .dataframe thead th {\n",
              "        text-align: right;\n",
              "    }\n",
              "</style>\n",
              "<table border=\"1\" class=\"dataframe\">\n",
              "  <thead>\n",
              "    <tr style=\"text-align: right;\">\n",
              "      <th></th>\n",
              "      <th>review_score</th>\n",
              "      <th>customer_state</th>\n",
              "      <th>seller_state</th>\n",
              "      <th>product_id</th>\n",
              "      <th>product_category_name_english</th>\n",
              "      <th>customer_unique_id</th>\n",
              "      <th>order_delivered_customer_date</th>\n",
              "      <th>price</th>\n",
              "      <th>delivered_date</th>\n",
              "      <th>days_diff</th>\n",
              "      <th>order_weekday</th>\n",
              "      <th>order_month</th>\n",
              "      <th>price_category</th>\n",
              "      <th>day_category</th>\n",
              "    </tr>\n",
              "  </thead>\n",
              "  <tbody>\n",
              "    <tr>\n",
              "      <th>0</th>\n",
              "      <td>4</td>\n",
              "      <td>SP</td>\n",
              "      <td>SP</td>\n",
              "      <td>17106</td>\n",
              "      <td>housewares</td>\n",
              "      <td>45758</td>\n",
              "      <td>2017-10-10 21:25:13</td>\n",
              "      <td>29.99</td>\n",
              "      <td>2017-10-10</td>\n",
              "      <td>8.0</td>\n",
              "      <td>Monday</td>\n",
              "      <td>Oct</td>\n",
              "      <td>Low</td>\n",
              "      <td>morning</td>\n",
              "    </tr>\n",
              "    <tr>\n",
              "      <th>50</th>\n",
              "      <td>4</td>\n",
              "      <td>RS</td>\n",
              "      <td>SP</td>\n",
              "      <td>3315</td>\n",
              "      <td>housewares</td>\n",
              "      <td>54651</td>\n",
              "      <td>2018-01-23 13:54:57</td>\n",
              "      <td>24.95</td>\n",
              "      <td>2018-01-23</td>\n",
              "      <td>21.0</td>\n",
              "      <td>Tuesday</td>\n",
              "      <td>Jan</td>\n",
              "      <td>Low</td>\n",
              "      <td>evening</td>\n",
              "    </tr>\n",
              "    <tr>\n",
              "      <th>54</th>\n",
              "      <td>1</td>\n",
              "      <td>SP</td>\n",
              "      <td>SP</td>\n",
              "      <td>27150</td>\n",
              "      <td>housewares</td>\n",
              "      <td>18828</td>\n",
              "      <td>2017-09-05 19:12:38</td>\n",
              "      <td>43.56</td>\n",
              "      <td>2017-09-05</td>\n",
              "      <td>8.0</td>\n",
              "      <td>Monday</td>\n",
              "      <td>Aug</td>\n",
              "      <td>Low</td>\n",
              "      <td>evening</td>\n",
              "    </tr>\n",
              "    <tr>\n",
              "      <th>95</th>\n",
              "      <td>1</td>\n",
              "      <td>RJ</td>\n",
              "      <td>SP</td>\n",
              "      <td>23621</td>\n",
              "      <td>housewares</td>\n",
              "      <td>18846</td>\n",
              "      <td>2018-04-19 23:42:25</td>\n",
              "      <td>28.00</td>\n",
              "      <td>2018-04-19</td>\n",
              "      <td>8.0</td>\n",
              "      <td>Wednesday</td>\n",
              "      <td>Apr</td>\n",
              "      <td>Low</td>\n",
              "      <td>evening</td>\n",
              "    </tr>\n",
              "    <tr>\n",
              "      <th>134</th>\n",
              "      <td>5</td>\n",
              "      <td>SP</td>\n",
              "      <td>SP</td>\n",
              "      <td>24487</td>\n",
              "      <td>housewares</td>\n",
              "      <td>79270</td>\n",
              "      <td>2018-03-29 19:24:35</td>\n",
              "      <td>33.00</td>\n",
              "      <td>2018-03-29</td>\n",
              "      <td>2.0</td>\n",
              "      <td>Tuesday</td>\n",
              "      <td>Mar</td>\n",
              "      <td>Low</td>\n",
              "      <td>afternoon</td>\n",
              "    </tr>\n",
              "    <tr>\n",
              "      <th>...</th>\n",
              "      <td>...</td>\n",
              "      <td>...</td>\n",
              "      <td>...</td>\n",
              "      <td>...</td>\n",
              "      <td>...</td>\n",
              "      <td>...</td>\n",
              "      <td>...</td>\n",
              "      <td>...</td>\n",
              "      <td>...</td>\n",
              "      <td>...</td>\n",
              "      <td>...</td>\n",
              "      <td>...</td>\n",
              "      <td>...</td>\n",
              "      <td>...</td>\n",
              "    </tr>\n",
              "    <tr>\n",
              "      <th>111637</th>\n",
              "      <td>5</td>\n",
              "      <td>SP</td>\n",
              "      <td>SP</td>\n",
              "      <td>32053</td>\n",
              "      <td>books_imported</td>\n",
              "      <td>48527</td>\n",
              "      <td>2017-11-07 18:04:58</td>\n",
              "      <td>61.00</td>\n",
              "      <td>2017-11-07</td>\n",
              "      <td>4.0</td>\n",
              "      <td>Friday</td>\n",
              "      <td>Nov</td>\n",
              "      <td>Low</td>\n",
              "      <td>evening</td>\n",
              "    </tr>\n",
              "    <tr>\n",
              "      <th>111647</th>\n",
              "      <td>5</td>\n",
              "      <td>SP</td>\n",
              "      <td>SP</td>\n",
              "      <td>13293</td>\n",
              "      <td>books_imported</td>\n",
              "      <td>66013</td>\n",
              "      <td>2018-07-16 13:56:21</td>\n",
              "      <td>59.89</td>\n",
              "      <td>2018-07-16</td>\n",
              "      <td>14.0</td>\n",
              "      <td>Monday</td>\n",
              "      <td>Jul</td>\n",
              "      <td>Low</td>\n",
              "      <td>afternoon</td>\n",
              "    </tr>\n",
              "    <tr>\n",
              "      <th>111660</th>\n",
              "      <td>4</td>\n",
              "      <td>SP</td>\n",
              "      <td>SP</td>\n",
              "      <td>16592</td>\n",
              "      <td>books_imported</td>\n",
              "      <td>46303</td>\n",
              "      <td>2018-05-03 23:51:56</td>\n",
              "      <td>18.99</td>\n",
              "      <td>2018-05-03</td>\n",
              "      <td>5.0</td>\n",
              "      <td>Saturday</td>\n",
              "      <td>Apr</td>\n",
              "      <td>Low</td>\n",
              "      <td>afternoon</td>\n",
              "    </tr>\n",
              "    <tr>\n",
              "      <th>111676</th>\n",
              "      <td>1</td>\n",
              "      <td>GO</td>\n",
              "      <td>SC</td>\n",
              "      <td>26630</td>\n",
              "      <td>la_cuisine</td>\n",
              "      <td>34041</td>\n",
              "      <td>2017-12-13 19:36:24</td>\n",
              "      <td>137.00</td>\n",
              "      <td>2017-12-13</td>\n",
              "      <td>14.0</td>\n",
              "      <td>Wednesday</td>\n",
              "      <td>Nov</td>\n",
              "      <td>Low</td>\n",
              "      <td>afternoon</td>\n",
              "    </tr>\n",
              "    <tr>\n",
              "      <th>111682</th>\n",
              "      <td>5</td>\n",
              "      <td>SC</td>\n",
              "      <td>SC</td>\n",
              "      <td>4599</td>\n",
              "      <td>la_cuisine</td>\n",
              "      <td>32279</td>\n",
              "      <td>2017-07-27 19:03:29</td>\n",
              "      <td>105.00</td>\n",
              "      <td>2017-07-27</td>\n",
              "      <td>5.0</td>\n",
              "      <td>Saturday</td>\n",
              "      <td>Jul</td>\n",
              "      <td>Low</td>\n",
              "      <td>afternoon</td>\n",
              "    </tr>\n",
              "  </tbody>\n",
              "</table>\n",
              "<p>9882 rows × 14 columns</p>\n",
              "</div>"
            ],
            "text/plain": [
              "        review_score customer_state  ... price_category  day_category\n",
              "0                  4             SP  ...            Low       morning\n",
              "50                 4             RS  ...            Low       evening\n",
              "54                 1             SP  ...            Low       evening\n",
              "95                 1             RJ  ...            Low       evening\n",
              "134                5             SP  ...            Low     afternoon\n",
              "...              ...            ...  ...            ...           ...\n",
              "111637             5             SP  ...            Low       evening\n",
              "111647             5             SP  ...            Low     afternoon\n",
              "111660             4             SP  ...            Low     afternoon\n",
              "111676             1             GO  ...            Low     afternoon\n",
              "111682             5             SC  ...            Low     afternoon\n",
              "\n",
              "[9882 rows x 14 columns]"
            ]
          },
          "metadata": {
            "tags": []
          },
          "execution_count": 29
        }
      ]
    },
    {
      "cell_type": "markdown",
      "metadata": {
        "id": "oBLJpju5P9k6"
      },
      "source": [
        "#Baseline Model"
      ]
    },
    {
      "cell_type": "markdown",
      "metadata": {
        "id": "SewvOMe-7qqg"
      },
      "source": [
        "As first model we use a simple non-personalized mean-based recommnender system"
      ]
    },
    {
      "cell_type": "code",
      "metadata": {
        "id": "ppCo5rly8Zek"
      },
      "source": [
        "mean_based_df = data_new[['customer_unique_id','product_id','review_score']]"
      ],
      "execution_count": 30,
      "outputs": []
    },
    {
      "cell_type": "code",
      "metadata": {
        "id": "HpYwvcs98gsZ"
      },
      "source": [
        "train_df_mean, test_df_mean = train_test_split(mean_based_df, train_size=0.7, random_state = 0) # 2/3 -training "
      ],
      "execution_count": 31,
      "outputs": []
    },
    {
      "cell_type": "code",
      "metadata": {
        "id": "tF9FhFIaPAFm"
      },
      "source": [
        "y_pred = pd.DataFrame(train_df_mean.groupby('product_id')['review_score'].mean())"
      ],
      "execution_count": 32,
      "outputs": []
    },
    {
      "cell_type": "code",
      "metadata": {
        "id": "C5btpXTeSdLz"
      },
      "source": [
        "val_df = test_df_mean[['review_score','product_id']]"
      ],
      "execution_count": 33,
      "outputs": []
    },
    {
      "cell_type": "code",
      "metadata": {
        "id": "8eOj_jK9Sz0v"
      },
      "source": [
        "pred_true = pd.merge(y_pred,val_df,on='product_id')\n",
        "baseline_df = pred_true.rename(columns={'review_score_x':'predicted_score'})"
      ],
      "execution_count": 34,
      "outputs": []
    },
    {
      "cell_type": "code",
      "metadata": {
        "id": "2jSgr_I3taIB"
      },
      "source": [
        "error_baseline = sqrt(mean_squared_error(baseline_df[\"predicted_score\"], baseline_df[\"review_score_y\"]))"
      ],
      "execution_count": 77,
      "outputs": []
    },
    {
      "cell_type": "code",
      "metadata": {
        "id": "jpdofl_d2wje"
      },
      "source": [
        "#calculating rmse\n",
        "print(\"RMSE baseline model: \", error_baseline)\n",
        "baseline_df.head(10)"
      ],
      "execution_count": null,
      "outputs": []
    },
    {
      "cell_type": "markdown",
      "metadata": {
        "id": "-_yj3fsernXF"
      },
      "source": [
        "# Collaborative based recommender system\n"
      ]
    },
    {
      "cell_type": "code",
      "metadata": {
        "id": "EvLJxfTcpjVD"
      },
      "source": [
        "ratings_df = data_new[['customer_unique_id','product_id','review_score']]"
      ],
      "execution_count": 65,
      "outputs": []
    },
    {
      "cell_type": "code",
      "metadata": {
        "colab": {
          "base_uri": "https://localhost:8080/",
          "height": 419
        },
        "id": "bF1dGOw9qn8p",
        "outputId": "da3e1d37-69e9-47e6-d8a2-4f4147da647e"
      },
      "source": [
        "ratings_df"
      ],
      "execution_count": 66,
      "outputs": [
        {
          "output_type": "execute_result",
          "data": {
            "text/html": [
              "<div>\n",
              "<style scoped>\n",
              "    .dataframe tbody tr th:only-of-type {\n",
              "        vertical-align: middle;\n",
              "    }\n",
              "\n",
              "    .dataframe tbody tr th {\n",
              "        vertical-align: top;\n",
              "    }\n",
              "\n",
              "    .dataframe thead th {\n",
              "        text-align: right;\n",
              "    }\n",
              "</style>\n",
              "<table border=\"1\" class=\"dataframe\">\n",
              "  <thead>\n",
              "    <tr style=\"text-align: right;\">\n",
              "      <th></th>\n",
              "      <th>customer_unique_id</th>\n",
              "      <th>product_id</th>\n",
              "      <th>review_score</th>\n",
              "    </tr>\n",
              "  </thead>\n",
              "  <tbody>\n",
              "    <tr>\n",
              "      <th>0</th>\n",
              "      <td>45758</td>\n",
              "      <td>17106</td>\n",
              "      <td>4</td>\n",
              "    </tr>\n",
              "    <tr>\n",
              "      <th>50</th>\n",
              "      <td>54651</td>\n",
              "      <td>3315</td>\n",
              "      <td>4</td>\n",
              "    </tr>\n",
              "    <tr>\n",
              "      <th>54</th>\n",
              "      <td>18828</td>\n",
              "      <td>27150</td>\n",
              "      <td>1</td>\n",
              "    </tr>\n",
              "    <tr>\n",
              "      <th>95</th>\n",
              "      <td>18846</td>\n",
              "      <td>23621</td>\n",
              "      <td>1</td>\n",
              "    </tr>\n",
              "    <tr>\n",
              "      <th>134</th>\n",
              "      <td>79270</td>\n",
              "      <td>24487</td>\n",
              "      <td>5</td>\n",
              "    </tr>\n",
              "    <tr>\n",
              "      <th>...</th>\n",
              "      <td>...</td>\n",
              "      <td>...</td>\n",
              "      <td>...</td>\n",
              "    </tr>\n",
              "    <tr>\n",
              "      <th>111637</th>\n",
              "      <td>48527</td>\n",
              "      <td>32053</td>\n",
              "      <td>5</td>\n",
              "    </tr>\n",
              "    <tr>\n",
              "      <th>111647</th>\n",
              "      <td>66013</td>\n",
              "      <td>13293</td>\n",
              "      <td>5</td>\n",
              "    </tr>\n",
              "    <tr>\n",
              "      <th>111660</th>\n",
              "      <td>46303</td>\n",
              "      <td>16592</td>\n",
              "      <td>4</td>\n",
              "    </tr>\n",
              "    <tr>\n",
              "      <th>111676</th>\n",
              "      <td>34041</td>\n",
              "      <td>26630</td>\n",
              "      <td>1</td>\n",
              "    </tr>\n",
              "    <tr>\n",
              "      <th>111682</th>\n",
              "      <td>32279</td>\n",
              "      <td>4599</td>\n",
              "      <td>5</td>\n",
              "    </tr>\n",
              "  </tbody>\n",
              "</table>\n",
              "<p>9882 rows × 3 columns</p>\n",
              "</div>"
            ],
            "text/plain": [
              "        customer_unique_id  product_id  review_score\n",
              "0                    45758       17106             4\n",
              "50                   54651        3315             4\n",
              "54                   18828       27150             1\n",
              "95                   18846       23621             1\n",
              "134                  79270       24487             5\n",
              "...                    ...         ...           ...\n",
              "111637               48527       32053             5\n",
              "111647               66013       13293             5\n",
              "111660               46303       16592             4\n",
              "111676               34041       26630             1\n",
              "111682               32279        4599             5\n",
              "\n",
              "[9882 rows x 3 columns]"
            ]
          },
          "metadata": {
            "tags": []
          },
          "execution_count": 66
        }
      ]
    },
    {
      "cell_type": "code",
      "metadata": {
        "id": "K0V4195vrqrJ"
      },
      "source": [
        "train_df, test_df = train_test_split(ratings_df, train_size=0.7, random_state = 0) # 2/3 -training "
      ],
      "execution_count": 68,
      "outputs": []
    },
    {
      "cell_type": "code",
      "metadata": {
        "id": "PsvvcTI6r34n"
      },
      "source": [
        "# function to calculate the RMSE\n",
        "def RMSE(y_true, y_pred):\n",
        "    return np.linalg.norm(y_true - y_pred) / np.sqrt(len(y_true))"
      ],
      "execution_count": 69,
      "outputs": []
    },
    {
      "cell_type": "code",
      "metadata": {
        "id": "eF2KyvJaxJUj"
      },
      "source": [
        "def performance(user,product,model):\n",
        "  y_pred = []\n",
        "  for user_id, product_id in zip(user, product):\n",
        "    r = model.predict(user_id, product_id, verbose=False).est # predict ratings from user_id & product_id in test set\n",
        "    y_pred.append(r)\n",
        "  y_pred = np.array(y_pred)\n",
        "  return y_pred"
      ],
      "execution_count": 70,
      "outputs": []
    },
    {
      "cell_type": "code",
      "metadata": {
        "id": "sbePd3EJ59EC"
      },
      "source": [
        "def recommendations(user,product,model):\n",
        "  \n",
        "  recommendations = []\n",
        "  for product_id in  product:\n",
        "    r = model.predict(user_id, product_id, verbose=False).est # predict ratings from user_id & product_id in test set\n",
        "    recommendations.append((product_id,r))\n",
        "   \n",
        "  recommendations.sort(reverse=True, key=lambda x: x[1])\n",
        "\n",
        "  return recommendations[:5]"
      ],
      "execution_count": null,
      "outputs": []
    },
    {
      "cell_type": "code",
      "metadata": {
        "id": "J88bSZrVr46z"
      },
      "source": [
        "reader = Reader(rating_scale=(0, 9))\n",
        "data_train_surprise = Dataset.load_from_df(train_df, reader)\n",
        "data_surprise = data_train_surprise.build_full_trainset()"
      ],
      "execution_count": 72,
      "outputs": []
    },
    {
      "cell_type": "code",
      "metadata": {
        "id": "neCUaqatsXm3"
      },
      "source": [
        "# chosen models\n",
        "models = ['svd','svd++','nmfb','nmf','CoClustering','KNNBasic','KNNWithMeans','KNNWithZScore','KNNBaseline']\n",
        "\n",
        "# values needed for predictions\n",
        "y_true = test_df['review_score'].values \n",
        "user_ids_true = test_df['customer_unique_id'].values\n",
        "product_ids_true = test_df['product_id'].values\n",
        "\n",
        "\n",
        "\n",
        "for i in models:\n",
        "  if i == 'svd':\n",
        "    param_grid = {'n_factors': [70, 80, 90, 100, 110, 120, 130, 140, 150, 160], \n",
        "                  'n_epochs': [100], \n",
        "                  'reg_all': [0.1]}\n",
        "    gs_svd = GridSearchCV(SVD, param_grid, measures=['rmse'], cv=3) # cross validation 3-folds\n",
        "    gs_svd.fit(data_surprise)\n",
        "    best_svd = gs_svd.best_score['rmse']\n",
        "    best_svd_params = gs_svd.best_params['rmse']\n",
        "    model_svd = gs_svd.best_estimator['rmse']\n",
        "    model_svd.fit(data_surprise.build_full_trainset())\n",
        "    y_pred_svd = performance(user_ids_true,product_ids_true,model_svd)\n",
        "    error_svd = RMSE(y_true, y_pred_svd)\n",
        "  \n",
        "  elif i == 'svd++':\n",
        "    param_grid = {'lr_all': [0.001, 0.003, 0.005, 0.007, 0.009], \n",
        "                  'reg_all': [0.005, 0.01, 0.015, 0.02, 0.025]}\n",
        "    gs_svdpp = GridSearchCV(SVDpp, param_grid, measures=['rmse'], cv=3)\n",
        "    gs_svdpp.fit(data_surprise)\n",
        "    best_svd_plus = gs_svdpp.best_score['rmse']\n",
        "    best_svd_plus_params = gs_svdpp.best_params['rmse']\n",
        "    model_svd_plus = gs_svdpp.best_estimator['rmse']\n",
        "    model_svd_plus.fit(data_surprise.build_full_trainset())\n",
        "    y_pred_svd_plus = performance(user_ids_true,product_ids_true,model_svd_plus)\n",
        "    error_svd_plus = RMSE(y_true, y_pred_svd_plus)\n",
        "\n",
        "\n",
        "  elif i == 'nmfb':\n",
        "    param_grid = {'n_factors': [1,2,3,4,5,6,7,8,9,10], \n",
        "                  'n_epochs': [100], \n",
        "                  'biased': [True], \n",
        "                  'reg_bu': [0.1], \n",
        "                  'reg_bi': [0.1]}\n",
        "    gs_nmfb = GridSearchCV(NMF, param_grid, measures=['rmse'], cv=3)\n",
        "    gs_nmfb.fit(data_surprise)\n",
        "    best_nmfb = gs_nmfb.best_score['rmse']\n",
        "    best_nmfb_params = gs_nmfb.best_params['rmse']\n",
        "    model_nmfb = gs_nmfb.best_estimator['rmse']\n",
        "    model_nmfb.fit(data_surprise.build_full_trainset())\n",
        "    y_pred_nmfb = performance(user_ids_true,product_ids_true,model_nmfb)\n",
        "    error_nmfb = RMSE(y_true, y_pred_nmfb)\n",
        "\n",
        "  elif i == 'nmf':\n",
        "    param_grid = {'n_factors': [200, 220, 240], \n",
        "                  'n_epochs': [100]}\n",
        "    gs_nmf = GridSearchCV(NMF, param_grid, measures=['rmse'], cv=3)\n",
        "    gs_nmf.fit(data_surprise)\n",
        "    best_nmf = gs_nmf.best_score['rmse']\n",
        "    best_nmf_params = gs_nmf.best_params['rmse']\n",
        "    model_nmf = gs_nmf.best_estimator['rmse']\n",
        "    model_nmf.fit(data_surprise.build_full_trainset())\n",
        "    y_pred_nmf = performance(user_ids_true,product_ids_true,model_nmf)\n",
        "    error_nmf = RMSE(y_true, y_pred_nmf)\n",
        "\n",
        "  elif i == 'CoClustering':\n",
        "    param_grid = {'n_cltr_u': [3,4,5], \n",
        "                  'n_cltr_i': [3,4,5],'n_epochs':[20,100]}\n",
        "    gs_CoClustering = GridSearchCV(CoClustering, param_grid, measures=['rmse'], cv=3)\n",
        "    gs_CoClustering.fit(data_surprise)\n",
        "    best_CoClustering = gs_CoClustering.best_score['rmse']\n",
        "    best_CoClustering_params = gs_CoClustering.best_params['rmse']\n",
        "    model_CoClustering = gs_CoClustering.best_estimator['rmse']\n",
        "    model_CoClustering.fit(data_surprise.build_full_trainset())\n",
        "    y_pred_CoClustering = performance(user_ids_true,product_ids_true,model_CoClustering)\n",
        "    error_CoClustering = RMSE(y_true, y_pred_CoClustering)\n",
        "    \n",
        "  elif i == 'KNNBasic':\n",
        "    param_grid = {'k': [40, 50, 60], 'sim_options': {'user_based': [True, False]}}\n",
        "    gs_KNNBasic = GridSearchCV(KNNBasic, param_grid, measures=['rmse'], cv=3)\n",
        "    gs_KNNBasic.fit(data_surprise)\n",
        "    best_KNNBasic = gs_KNNBasic.best_score['rmse']\n",
        "    best_KNNBasic_params = gs_KNNBasic.best_params['rmse']\n",
        "    model_KNNBasic = gs_KNNBasic.best_estimator['rmse']\n",
        "    model_KNNBasic.fit(data_surprise.build_full_trainset())\n",
        "    y_pred_KNNBasic = performance(user_ids_true,product_ids_true,model_KNNBasic)\n",
        "    error_KNNBasic = RMSE(y_true, y_pred_KNNBasic)\n",
        "\n",
        "  elif i == 'KNNWithMeans':\n",
        "    param_grid = {'k': [40, 50, 60], 'sim_options': {'user_based': [True, False]}}\n",
        "    gs_KNNWithMeans = GridSearchCV(KNNWithMeans, param_grid, measures=['rmse'], cv=3)\n",
        "    gs_KNNWithMeans.fit(data_surprise)\n",
        "    best_KNNWithMeans = gs_KNNWithMeans.best_score['rmse']\n",
        "    best_KNNWithMeans_params = gs_KNNWithMeans.best_params['rmse']\n",
        "    model_KNNWithMeans = gs_KNNWithMeans.best_estimator['rmse']\n",
        "    model_KNNWithMeans.fit(data_surprise.build_full_trainset())\n",
        "    y_pred_KNNWithMeans = performance(user_ids_true,product_ids_true,model_KNNWithMeans)\n",
        "    error_KNNWithMeans = RMSE(y_true, y_pred_KNNWithMeans)\n",
        "\n",
        "  elif i == 'KNNWithZScore':\n",
        "    param_grid = {'k': [40, 50, 60], 'sim_options': {'user_based': [True, False]}}\n",
        "    gs_KNNWithZScore = GridSearchCV(KNNWithZScore, param_grid, measures=['rmse'], cv=3)\n",
        "    gs_KNNWithZScore.fit(data_surprise)\n",
        "    best_KNNWithZScore = gs_KNNWithZScore.best_score['rmse']\n",
        "    best_KNNWithZScore_params = gs_KNNWithZScore.best_params['rmse']\n",
        "    model_KNNWithZScore = gs_KNNWithZScore.best_estimator['rmse']\n",
        "    model_KNNWithZScore.fit(data_surprise.build_full_trainset())\n",
        "    y_pred_KNNWithZScore = performance(user_ids_true,product_ids_true,model_KNNWithZScore)\n",
        "    error_KNNWithZScore = RMSE(y_true, y_pred_KNNWithZScore)\n",
        "\n",
        "  elif i == 'KNNBaseline':\n",
        "    param_grid = {'k': [40, 50, 60], 'sim_options': {'user_based': [True, False]},\n",
        "              'bsl_options': {'method': ['als', 'sgd']}}\n",
        "    gs_KNNBaseline = GridSearchCV(KNNBaseline, param_grid, measures=['rmse'], cv=3)\n",
        "    gs_KNNBaseline.fit(data_surprise)\n",
        "    best_KNNBaseline = gs_KNNBaseline.best_score['rmse']\n",
        "    best_KNNBaseline_params = gs_KNNBaseline.best_params['rmse']\n",
        "    model_KNNBaseline = gs_KNNBaseline.best_estimator['rmse']\n",
        "    model_KNNBaseline.fit(data_surprise.build_full_trainset())\n",
        "    y_pred_KNNBaseline = performance(user_ids_true,product_ids_true,model_KNNBaseline)\n",
        "    error_KNNBaseline = RMSE(y_true, y_pred_KNNBaseline)\n",
        "\n",
        "\n",
        "  \n",
        "  \n",
        "\n",
        "\n",
        "\n",
        "\n",
        "\n"
      ],
      "execution_count": null,
      "outputs": []
    },
    {
      "cell_type": "code",
      "metadata": {
        "colab": {
          "base_uri": "https://localhost:8080/"
        },
        "id": "KK6SP7pINWhT",
        "outputId": "6f85d7bc-949f-42c8-94cc-b8afcbbd4e16"
      },
      "source": [
        "print(f'The best SVD score: {best_svd}\\nThe best SVD parameters are: {best_svd_params}')\n",
        "print(80*'-')\n",
        "print(f'The best SVD++ score: {best_svd_plus}\\nThe best SVD++ parameters are: {best_svd_plus_params}')\n",
        "print(80*'-')\n",
        "print(f'The best Biased NMF score: {best_nmfb}\\nThe best Biased NMF parameters are: {best_nmfb_params}')\n",
        "print(80*'-')\n",
        "print(f'The best NMF score: {best_nmf}\\nThe best NMF parameters are: {best_nmf_params}')\n",
        "print(80*'-')\n",
        "print(f'The best CoClustering score: {best_CoClustering}\\nThe best CoClustering parameters are: {best_CoClustering_params}')\n",
        "print(80*'-')\n",
        "print(f'The best KNNBasic score: {best_KNNBasic}\\nThe best KNNBasic parameters are: {best_KNNBasic_params}')\n",
        "print(80*'-')\n",
        "print(f'The best KNNWithMeans score: {best_KNNWithMeans}\\nThe best KNNWithMeans parameters are: {best_KNNWithMeans_params}')\n",
        "print(80*'-')\n",
        "print(f'The best KNNWithZScore score: {best_KNNWithZScore}\\nThe best KNNWithZScore parameters are: {best_KNNWithZScore_params}')\n",
        "print(80*'-')\n",
        "print(f'The best KNNBaseline score: {best_KNNBaseline}\\nThe best KNNBaseline parameters are: {best_KNNBaseline_params}')\n",
        "print(80*'-')\n",
        "\n"
      ],
      "execution_count": 74,
      "outputs": [
        {
          "output_type": "stream",
          "text": [
            "The best SVD score: 1.4890177629620325\n",
            "The best SVD parameters are: {'n_factors': 70, 'n_epochs': 100, 'reg_all': 0.1}\n",
            "--------------------------------------------------------------------------------\n",
            "The best SVD++ score: 1.5050988551992077\n",
            "The best SVD++ parameters are: {'lr_all': 0.009, 'reg_all': 0.015}\n",
            "--------------------------------------------------------------------------------\n",
            "The best Biased NMF score: 1.4864747652228125\n",
            "The best Biased NMF parameters are: {'n_factors': 1, 'n_epochs': 100, 'biased': True, 'reg_bu': 0.1, 'reg_bi': 0.1}\n",
            "--------------------------------------------------------------------------------\n",
            "The best NMF score: 1.554758198919808\n",
            "The best NMF parameters are: {'n_factors': 240, 'n_epochs': 100}\n",
            "--------------------------------------------------------------------------------\n",
            "The best CoClustering score: 1.576586089809487\n",
            "The best CoClustering parameters are: {'n_cltr_u': 5, 'n_cltr_i': 5, 'n_epochs': 20}\n",
            "--------------------------------------------------------------------------------\n",
            "The best KNNBasic score: 1.5632493876481506\n",
            "The best KNNBasic parameters are: {'k': 40, 'sim_options': {'user_based': False}}\n",
            "--------------------------------------------------------------------------------\n",
            "The best KNNWithMeans score: 1.4876807447616354\n",
            "The best KNNWithMeans parameters are: {'k': 50, 'sim_options': {'user_based': True}}\n",
            "--------------------------------------------------------------------------------\n",
            "The best KNNWithZScore score: 1.4790970767469231\n",
            "The best KNNWithZScore parameters are: {'k': 50, 'sim_options': {'user_based': True}}\n",
            "--------------------------------------------------------------------------------\n",
            "The best KNNBaseline score: 1.5302606880218281\n",
            "The best KNNBaseline parameters are: {'k': 40, 'sim_options': {'user_based': False}, 'bsl_options': {'method': 'sgd'}}\n",
            "--------------------------------------------------------------------------------\n"
          ],
          "name": "stdout"
        }
      ]
    },
    {
      "cell_type": "code",
      "metadata": {
        "id": "WJtcYW0HVbCK",
        "colab": {
          "base_uri": "https://localhost:8080/",
          "height": 350
        },
        "outputId": "bb1d3ece-2515-4b43-9de1-73e89b5d60cb"
      },
      "source": [
        "import matplotlib.pyplot as plt\n",
        "RMSEs = [error_baseline,error_svd, error_svd_plus, error_nmfb, error_nmf, error_CoClustering,error_KNNBasic,error_KNNWithMeans,error_KNNWithZScore,error_KNNBaseline]\n",
        "algorithms = ['Baseline','SVD', 'SVD++', \"Biased NMF\", 'NMF', 'CoClustering','KNNBasic','KNNWithMeans','KNNWithZScore','KNNBaseline']\n",
        "\n",
        "plt.figure(figsize=(15,5))\n",
        "plt.plot(algorithms, RMSEs,'bo' )\n",
        "plt.xlabel(\"Different algorithms\")\n",
        "plt.ylabel(\"RMSE\")\n",
        "plt.title('Model comparison')\n",
        "plt.show()\n"
      ],
      "execution_count": 86,
      "outputs": [
        {
          "output_type": "display_data",
          "data": {
            "image/png": "[encoded data removed]",
            "text/plain": [
              "<Figure size 1080x360 with 1 Axes>"
            ]
          },
          "metadata": {
            "tags": [],
            "needs_background": "light"
          }
        }
      ]
    },
    {
      "cell_type": "code",
      "metadata": {
        "colab": {
          "base_uri": "https://localhost:8080/"
        },
        "id": "uh51mHTF36UW",
        "outputId": "62b4f042-8335-4b7c-951c-b17242702dcc"
      },
      "source": [
        "recommendations(1303,product_ids_true,model_KNNWithMeans)"
      ],
      "execution_count": 138,
      "outputs": [
        {
          "output_type": "execute_result",
          "data": {
            "text/plain": [
              "[(22042, 3.715628162498193),\n",
              " (6999, 3.715628162498193),\n",
              " (5264, 3.715628162498193),\n",
              " (11357, 3.715628162498193),\n",
              " (5157, 3.715628162498193)]"
            ]
          },
          "metadata": {
            "tags": []
          },
          "execution_count": 138
        }
      ]
    },
    {
      "cell_type": "code",
      "metadata": {
        "id": "aOUsPl3f6i_D"
      },
      "source": [
        ""
      ],
      "execution_count": null,
      "outputs": []
    },
    {
      "cell_type": "markdown",
      "metadata": {
        "id": "I8JaMFFC6ldD"
      },
      "source": [
        "# Content based recommender system\n"
      ]
    },
    {
      "cell_type": "code",
      "metadata": {
        "colab": {
          "base_uri": "https://localhost:8080/"
        },
        "id": "7bfSjscX6ldF",
        "outputId": "fbb840b6-ff25-4c08-f7c0-033d6823ae2d"
      },
      "source": [
        "data_new['combination'] = data_new['product_id'].apply(str) +' '+ data_new['product_category_name_english'] + ' ' + data_new['order_weekday']+ ' '+data_new['seller_state']+' '+data_new['order_month']+ ' ' +data_new['day_category']+' '+data_new['price_category']"
      ],
      "execution_count": null,
      "outputs": [
        {
          "output_type": "stream",
          "text": [
            "/usr/local/lib/python3.7/dist-packages/ipykernel_launcher.py:1: SettingWithCopyWarning: \n",
            "A value is trying to be set on a copy of a slice from a DataFrame.\n",
            "Try using .loc[row_indexer,col_indexer] = value instead\n",
            "\n",
            "See the caveats in the documentation: https://pandas.pydata.org/pandas-docs/stable/user_guide/indexing.html#returning-a-view-versus-a-copy\n",
            "  \"\"\"Entry point for launching an IPython kernel.\n"
          ],
          "name": "stderr"
        }
      ]
    },
    {
      "cell_type": "code",
      "metadata": {
        "id": "ajgBIAxh6ldG"
      },
      "source": [
        "item_df = data_new[['customer_unique_id','combination']]"
      ],
      "execution_count": null,
      "outputs": []
    },
    {
      "cell_type": "code",
      "metadata": {
        "colab": {
          "base_uri": "https://localhost:8080/"
        },
        "id": "pjm3wkzt6ldG",
        "outputId": "d9d9ec75-1829-4e78-f7a9-d21a460d5fff"
      },
      "source": [
        "item_df['combination'] = item_df['combination'].str.lower()"
      ],
      "execution_count": null,
      "outputs": [
        {
          "output_type": "stream",
          "text": [
            "/usr/local/lib/python3.7/dist-packages/ipykernel_launcher.py:1: SettingWithCopyWarning: \n",
            "A value is trying to be set on a copy of a slice from a DataFrame.\n",
            "Try using .loc[row_indexer,col_indexer] = value instead\n",
            "\n",
            "See the caveats in the documentation: https://pandas.pydata.org/pandas-docs/stable/user_guide/indexing.html#returning-a-view-versus-a-copy\n",
            "  \"\"\"Entry point for launching an IPython kernel.\n"
          ],
          "name": "stderr"
        }
      ]
    },
    {
      "cell_type": "code",
      "metadata": {
        "colab": {
          "base_uri": "https://localhost:8080/",
          "height": 359
        },
        "id": "U_2lJSUp6ldG",
        "outputId": "c95daf86-5114-4bf0-ba0a-ba03deddafd4"
      },
      "source": [
        "item_df.head(10)"
      ],
      "execution_count": null,
      "outputs": [
        {
          "output_type": "execute_result",
          "data": {
            "text/html": [
              "<div>\n",
              "<style scoped>\n",
              "    .dataframe tbody tr th:only-of-type {\n",
              "        vertical-align: middle;\n",
              "    }\n",
              "\n",
              "    .dataframe tbody tr th {\n",
              "        vertical-align: top;\n",
              "    }\n",
              "\n",
              "    .dataframe thead th {\n",
              "        text-align: right;\n",
              "    }\n",
              "</style>\n",
              "<table border=\"1\" class=\"dataframe\">\n",
              "  <thead>\n",
              "    <tr style=\"text-align: right;\">\n",
              "      <th></th>\n",
              "      <th>customer_unique_id</th>\n",
              "      <th>combination</th>\n",
              "    </tr>\n",
              "  </thead>\n",
              "  <tbody>\n",
              "    <tr>\n",
              "      <th>0</th>\n",
              "      <td>45758</td>\n",
              "      <td>17106 housewares monday sp oct morning low</td>\n",
              "    </tr>\n",
              "    <tr>\n",
              "      <th>50</th>\n",
              "      <td>54651</td>\n",
              "      <td>3315 housewares tuesday sp jan evening low</td>\n",
              "    </tr>\n",
              "    <tr>\n",
              "      <th>54</th>\n",
              "      <td>18828</td>\n",
              "      <td>27150 housewares monday sp aug evening low</td>\n",
              "    </tr>\n",
              "    <tr>\n",
              "      <th>95</th>\n",
              "      <td>18846</td>\n",
              "      <td>23621 housewares wednesday sp apr evening low</td>\n",
              "    </tr>\n",
              "    <tr>\n",
              "      <th>134</th>\n",
              "      <td>79270</td>\n",
              "      <td>24487 housewares tuesday sp mar afternoon low</td>\n",
              "    </tr>\n",
              "    <tr>\n",
              "      <th>158</th>\n",
              "      <td>11716</td>\n",
              "      <td>18498 housewares friday sp jun morning low</td>\n",
              "    </tr>\n",
              "    <tr>\n",
              "      <th>161</th>\n",
              "      <td>88725</td>\n",
              "      <td>18498 housewares thursday sp jun afternoon low</td>\n",
              "    </tr>\n",
              "    <tr>\n",
              "      <th>186</th>\n",
              "      <td>88725</td>\n",
              "      <td>18498 housewares thursday sp jul morning low</td>\n",
              "    </tr>\n",
              "    <tr>\n",
              "      <th>206</th>\n",
              "      <td>47768</td>\n",
              "      <td>18498 housewares saturday sp jun morning low</td>\n",
              "    </tr>\n",
              "    <tr>\n",
              "      <th>209</th>\n",
              "      <td>11716</td>\n",
              "      <td>18498 housewares wednesday sp may morning low</td>\n",
              "    </tr>\n",
              "  </tbody>\n",
              "</table>\n",
              "</div>"
            ],
            "text/plain": [
              "     customer_unique_id                                     combination\n",
              "0                 45758      17106 housewares monday sp oct morning low\n",
              "50                54651      3315 housewares tuesday sp jan evening low\n",
              "54                18828      27150 housewares monday sp aug evening low\n",
              "95                18846   23621 housewares wednesday sp apr evening low\n",
              "134               79270   24487 housewares tuesday sp mar afternoon low\n",
              "158               11716      18498 housewares friday sp jun morning low\n",
              "161               88725  18498 housewares thursday sp jun afternoon low\n",
              "186               88725    18498 housewares thursday sp jul morning low\n",
              "206               47768    18498 housewares saturday sp jun morning low\n",
              "209               11716   18498 housewares wednesday sp may morning low"
            ]
          },
          "metadata": {
            "tags": []
          },
          "execution_count": 41
        }
      ]
    },
    {
      "cell_type": "code",
      "metadata": {
        "id": "hA_q7AJP6ldH"
      },
      "source": [
        "count = CountVectorizer(stop_words='english')\n",
        "count_matrix = count.fit_transform(item_df['combination'])"
      ],
      "execution_count": null,
      "outputs": []
    },
    {
      "cell_type": "code",
      "metadata": {
        "colab": {
          "base_uri": "https://localhost:8080/"
        },
        "id": "diJrAWKF6ldH",
        "outputId": "be4f6e68-6335-42d2-a20c-dfe3b00929f8"
      },
      "source": [
        "count_matrix.shape"
      ],
      "execution_count": null,
      "outputs": [
        {
          "output_type": "execute_result",
          "data": {
            "text/plain": [
              "(9882, 5053)"
            ]
          },
          "metadata": {
            "tags": []
          },
          "execution_count": 43
        }
      ]
    },
    {
      "cell_type": "code",
      "metadata": {
        "id": "10H4dXNU6ldH"
      },
      "source": [
        "cosine_sim2 = cosine_similarity(count_matrix, count_matrix)"
      ],
      "execution_count": null,
      "outputs": []
    },
    {
      "cell_type": "code",
      "metadata": {
        "colab": {
          "base_uri": "https://localhost:8080/",
          "height": 419
        },
        "id": "rQ6KQZ_96ldH",
        "outputId": "dc1bb497-af11-4f3f-ac80-020926e1191f"
      },
      "source": [
        "metadata = item_df.reset_index()\n",
        "#indices = pd.Series(metadata.index, index=metadata['title'])\n",
        "metadata"
      ],
      "execution_count": null,
      "outputs": [
        {
          "output_type": "execute_result",
          "data": {
            "text/html": [
              "<div>\n",
              "<style scoped>\n",
              "    .dataframe tbody tr th:only-of-type {\n",
              "        vertical-align: middle;\n",
              "    }\n",
              "\n",
              "    .dataframe tbody tr th {\n",
              "        vertical-align: top;\n",
              "    }\n",
              "\n",
              "    .dataframe thead th {\n",
              "        text-align: right;\n",
              "    }\n",
              "</style>\n",
              "<table border=\"1\" class=\"dataframe\">\n",
              "  <thead>\n",
              "    <tr style=\"text-align: right;\">\n",
              "      <th></th>\n",
              "      <th>index</th>\n",
              "      <th>customer_unique_id</th>\n",
              "      <th>combination</th>\n",
              "    </tr>\n",
              "  </thead>\n",
              "  <tbody>\n",
              "    <tr>\n",
              "      <th>0</th>\n",
              "      <td>0</td>\n",
              "      <td>45758</td>\n",
              "      <td>17106 housewares monday sp oct morning low</td>\n",
              "    </tr>\n",
              "    <tr>\n",
              "      <th>1</th>\n",
              "      <td>50</td>\n",
              "      <td>54651</td>\n",
              "      <td>3315 housewares tuesday sp jan evening low</td>\n",
              "    </tr>\n",
              "    <tr>\n",
              "      <th>2</th>\n",
              "      <td>54</td>\n",
              "      <td>18828</td>\n",
              "      <td>27150 housewares monday sp aug evening low</td>\n",
              "    </tr>\n",
              "    <tr>\n",
              "      <th>3</th>\n",
              "      <td>95</td>\n",
              "      <td>18846</td>\n",
              "      <td>23621 housewares wednesday sp apr evening low</td>\n",
              "    </tr>\n",
              "    <tr>\n",
              "      <th>4</th>\n",
              "      <td>134</td>\n",
              "      <td>79270</td>\n",
              "      <td>24487 housewares tuesday sp mar afternoon low</td>\n",
              "    </tr>\n",
              "    <tr>\n",
              "      <th>...</th>\n",
              "      <td>...</td>\n",
              "      <td>...</td>\n",
              "      <td>...</td>\n",
              "    </tr>\n",
              "    <tr>\n",
              "      <th>9877</th>\n",
              "      <td>111637</td>\n",
              "      <td>48527</td>\n",
              "      <td>32053 books_imported friday sp nov evening low</td>\n",
              "    </tr>\n",
              "    <tr>\n",
              "      <th>9878</th>\n",
              "      <td>111647</td>\n",
              "      <td>66013</td>\n",
              "      <td>13293 books_imported monday sp jul afternoon low</td>\n",
              "    </tr>\n",
              "    <tr>\n",
              "      <th>9879</th>\n",
              "      <td>111660</td>\n",
              "      <td>46303</td>\n",
              "      <td>16592 books_imported saturday sp apr afternoon...</td>\n",
              "    </tr>\n",
              "    <tr>\n",
              "      <th>9880</th>\n",
              "      <td>111676</td>\n",
              "      <td>34041</td>\n",
              "      <td>26630 la_cuisine wednesday sc nov afternoon low</td>\n",
              "    </tr>\n",
              "    <tr>\n",
              "      <th>9881</th>\n",
              "      <td>111682</td>\n",
              "      <td>32279</td>\n",
              "      <td>4599 la_cuisine saturday sc jul afternoon low</td>\n",
              "    </tr>\n",
              "  </tbody>\n",
              "</table>\n",
              "<p>9882 rows × 3 columns</p>\n",
              "</div>"
            ],
            "text/plain": [
              "       index  ...                                        combination\n",
              "0          0  ...         17106 housewares monday sp oct morning low\n",
              "1         50  ...         3315 housewares tuesday sp jan evening low\n",
              "2         54  ...         27150 housewares monday sp aug evening low\n",
              "3         95  ...      23621 housewares wednesday sp apr evening low\n",
              "4        134  ...      24487 housewares tuesday sp mar afternoon low\n",
              "...      ...  ...                                                ...\n",
              "9877  111637  ...     32053 books_imported friday sp nov evening low\n",
              "9878  111647  ...   13293 books_imported monday sp jul afternoon low\n",
              "9879  111660  ...  16592 books_imported saturday sp apr afternoon...\n",
              "9880  111676  ...    26630 la_cuisine wednesday sc nov afternoon low\n",
              "9881  111682  ...      4599 la_cuisine saturday sc jul afternoon low\n",
              "\n",
              "[9882 rows x 3 columns]"
            ]
          },
          "metadata": {
            "tags": []
          },
          "execution_count": 45
        }
      ]
    },
    {
      "cell_type": "code",
      "metadata": {
        "id": "g4S2ftZm6ldI"
      },
      "source": [
        "indices = pd.Series(metadata.index, index=metadata['customer_unique_id']).drop_duplicates()\n"
      ],
      "execution_count": null,
      "outputs": []
    },
    {
      "cell_type": "code",
      "metadata": {
        "id": "js__t0Km6ldI"
      },
      "source": [
        "def get_recommendations(customer, cosine_sim=cosine_sim2):\n",
        "    idx = indices[customer]\n",
        "    #print(idx)\n",
        "\n",
        "    sim_scores = list(enumerate(cosine_sim[idx]))\n",
        "    #print(sim_scores)\n",
        "\n",
        "    sim_scores = sorted(sim_scores, key=lambda x: x[1], reverse=True)\n",
        "\n",
        "    \n",
        "    sim_scores = sim_scores[1:11]\n",
        "\n",
        "    \n",
        "    customer_indices = [i[0] for i in sim_scores]\n",
        "    scores = [ i[1] for i in sim_scores]\n",
        "\n",
        "    \n",
        "    sim_products = metadata['combination'].iloc[customer_indices]\n",
        "    sim_customers = metadata['customer_unique_id'].iloc[customer_indices]\n",
        "    rec = {'customer': sim_customers, 'product': sim_products,'score':scores}\n",
        "    return pd.DataFrame(data=rec)"
      ],
      "execution_count": null,
      "outputs": []
    },
    {
      "cell_type": "code",
      "metadata": {
        "colab": {
          "base_uri": "https://localhost:8080/",
          "height": 359
        },
        "id": "bpQrQwVP6ldI",
        "outputId": "8a5826fa-dcf8-4069-aec3-c6d2b4ca059f"
      },
      "source": [
        "get_recommendations(18846, cosine_sim=cosine_sim2)"
      ],
      "execution_count": null,
      "outputs": [
        {
          "output_type": "execute_result",
          "data": {
            "text/html": [
              "<div>\n",
              "<style scoped>\n",
              "    .dataframe tbody tr th:only-of-type {\n",
              "        vertical-align: middle;\n",
              "    }\n",
              "\n",
              "    .dataframe tbody tr th {\n",
              "        vertical-align: top;\n",
              "    }\n",
              "\n",
              "    .dataframe thead th {\n",
              "        text-align: right;\n",
              "    }\n",
              "</style>\n",
              "<table border=\"1\" class=\"dataframe\">\n",
              "  <thead>\n",
              "    <tr style=\"text-align: right;\">\n",
              "      <th></th>\n",
              "      <th>customer</th>\n",
              "      <th>product</th>\n",
              "      <th>score</th>\n",
              "    </tr>\n",
              "  </thead>\n",
              "  <tbody>\n",
              "    <tr>\n",
              "      <th>261</th>\n",
              "      <td>43512</td>\n",
              "      <td>15549 housewares wednesday sp apr evening low</td>\n",
              "      <td>0.857143</td>\n",
              "    </tr>\n",
              "    <tr>\n",
              "      <th>350</th>\n",
              "      <td>43512</td>\n",
              "      <td>6607 housewares wednesday sp apr evening low</td>\n",
              "      <td>0.857143</td>\n",
              "    </tr>\n",
              "    <tr>\n",
              "      <th>351</th>\n",
              "      <td>33576</td>\n",
              "      <td>16216 housewares wednesday sp apr evening low</td>\n",
              "      <td>0.857143</td>\n",
              "    </tr>\n",
              "    <tr>\n",
              "      <th>31</th>\n",
              "      <td>9138</td>\n",
              "      <td>19263 housewares wednesday sp feb evening low</td>\n",
              "      <td>0.714286</td>\n",
              "    </tr>\n",
              "    <tr>\n",
              "      <th>37</th>\n",
              "      <td>81178</td>\n",
              "      <td>8523 housewares wednesday sp jan evening low</td>\n",
              "      <td>0.714286</td>\n",
              "    </tr>\n",
              "    <tr>\n",
              "      <th>126</th>\n",
              "      <td>68642</td>\n",
              "      <td>31192 housewares friday sp apr evening low</td>\n",
              "      <td>0.714286</td>\n",
              "    </tr>\n",
              "    <tr>\n",
              "      <th>138</th>\n",
              "      <td>35733</td>\n",
              "      <td>14781 housewares wednesday sp jul evening low</td>\n",
              "      <td>0.714286</td>\n",
              "    </tr>\n",
              "    <tr>\n",
              "      <th>161</th>\n",
              "      <td>37172</td>\n",
              "      <td>6425 housewares wednesday sp apr morning low</td>\n",
              "      <td>0.714286</td>\n",
              "    </tr>\n",
              "    <tr>\n",
              "      <th>265</th>\n",
              "      <td>31703</td>\n",
              "      <td>21735 housewares friday sp apr evening low</td>\n",
              "      <td>0.714286</td>\n",
              "    </tr>\n",
              "    <tr>\n",
              "      <th>278</th>\n",
              "      <td>68772</td>\n",
              "      <td>31313 housewares wednesday sp jun evening low</td>\n",
              "      <td>0.714286</td>\n",
              "    </tr>\n",
              "  </tbody>\n",
              "</table>\n",
              "</div>"
            ],
            "text/plain": [
              "     customer                                        product     score\n",
              "261     43512  15549 housewares wednesday sp apr evening low  0.857143\n",
              "350     43512   6607 housewares wednesday sp apr evening low  0.857143\n",
              "351     33576  16216 housewares wednesday sp apr evening low  0.857143\n",
              "31       9138  19263 housewares wednesday sp feb evening low  0.714286\n",
              "37      81178   8523 housewares wednesday sp jan evening low  0.714286\n",
              "126     68642     31192 housewares friday sp apr evening low  0.714286\n",
              "138     35733  14781 housewares wednesday sp jul evening low  0.714286\n",
              "161     37172   6425 housewares wednesday sp apr morning low  0.714286\n",
              "265     31703     21735 housewares friday sp apr evening low  0.714286\n",
              "278     68772  31313 housewares wednesday sp jun evening low  0.714286"
            ]
          },
          "metadata": {
            "tags": []
          },
          "execution_count": 50
        }
      ]
    }
  ]
}