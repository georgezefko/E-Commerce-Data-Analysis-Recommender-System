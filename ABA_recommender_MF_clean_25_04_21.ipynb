{
  "nbformat": 4,
  "nbformat_minor": 0,
  "metadata": {
    "colab": {
      "name": "ABA_recommender_MF.ipynb",
      "provenance": [],
      "authorship_tag": "ABX9TyPJTw+g7VrtXuRKs2C3MWTU",
      "include_colab_link": true
    },
    "kernelspec": {
      "name": "python3",
      "display_name": "Python 3"
    },
    "language_info": {
      "name": "python"
    }
  },
  "cells": [
    {
      "cell_type": "markdown",
      "metadata": {
        "id": "view-in-github",
        "colab_type": "text"
      },
      "source": [
        "<a href=\"https://colab.research.google.com/github/georgezefko/Recommender_System/blob/Matrix_approach/ABA_recommender_MF_clean_25_04_21.ipynb\" target=\"_parent\"><img src=\"https://colab.research.google.com/assets/colab-badge.svg\" alt=\"Open In Colab\"/></a>"
      ]
    },
    {
      "cell_type": "code",
      "metadata": {
        "colab": {
          "base_uri": "https://localhost:8080/"
        },
        "id": "xhYUiF3m3mS1",
        "outputId": "d58328a3-2c8e-406a-d639-b9442814244b"
      },
      "source": [
        "from google.colab import drive\n",
        "drive.mount('/content/drive', force_remount=True)"
      ],
      "execution_count": 143,
      "outputs": [
        {
          "output_type": "stream",
          "text": [
            "Mounted at /content/drive\n"
          ],
          "name": "stdout"
        }
      ]
    },
    {
      "cell_type": "code",
      "metadata": {
        "colab": {
          "base_uri": "https://localhost:8080/"
        },
        "id": "SuTgJBwWsDah",
        "outputId": "eca2b482-70fc-4768-d2af-9f4cb2dc87bd"
      },
      "source": [
        "!pip install surprise"
      ],
      "execution_count": 144,
      "outputs": [
        {
          "output_type": "stream",
          "text": [
            "Requirement already satisfied: surprise in /usr/local/lib/python3.7/dist-packages (0.1)\n",
            "Requirement already satisfied: scikit-surprise in /usr/local/lib/python3.7/dist-packages (from surprise) (1.1.1)\n",
            "Requirement already satisfied: numpy>=1.11.2 in /usr/local/lib/python3.7/dist-packages (from scikit-surprise->surprise) (1.19.5)\n",
            "Requirement already satisfied: six>=1.10.0 in /usr/local/lib/python3.7/dist-packages (from scikit-surprise->surprise) (1.15.0)\n",
            "Requirement already satisfied: scipy>=1.0.0 in /usr/local/lib/python3.7/dist-packages (from scikit-surprise->surprise) (1.4.1)\n",
            "Requirement already satisfied: joblib>=0.11 in /usr/local/lib/python3.7/dist-packages (from scikit-surprise->surprise) (1.0.1)\n"
          ],
          "name": "stdout"
        }
      ]
    },
    {
      "cell_type": "code",
      "metadata": {
        "id": "7QillAFo3rqM"
      },
      "source": [
        "import pandas as pd\n",
        "import numpy as np\n",
        "import seaborn as sns\n",
        "import matplotlib.pyplot as plt\n",
        "from sklearn.model_selection import train_test_split\n",
        "from math import sqrt\n",
        "from sklearn.metrics import mean_squared_error\n",
        "from scipy.sparse.linalg import svds\n",
        "from scipy import linalg\n",
        "from datetime import datetime\n",
        "from surprise import Reader, Dataset, SVD, SVDpp, NMF, KNNBaseline,accuracy\n",
        "\n",
        "from surprise.model_selection import cross_validate\n",
        "from surprise.model_selection import KFold, GridSearchCV\n",
        "from sklearn.linear_model import LinearRegression\n",
        "from collections import defaultdict\n",
        "import warnings\n",
        "warnings.filterwarnings(\"ignore\", category=np.VisibleDeprecationWarning) \n",
        "\n"
      ],
      "execution_count": 145,
      "outputs": []
    },
    {
      "cell_type": "code",
      "metadata": {
        "id": "kK2y7-0x4HFa"
      },
      "source": [
        "path = '/content/drive/MyDrive/AdvancedBA/Olie_data/'\n",
        "data = pd.read_csv(path+'recommender.csv')"
      ],
      "execution_count": 146,
      "outputs": []
    },
    {
      "cell_type": "code",
      "metadata": {
        "colab": {
          "base_uri": "https://localhost:8080/",
          "height": 241
        },
        "id": "xCkuqB9O4VS_",
        "outputId": "d3fe8e13-84ba-4617-fec6-1351ce6034e6"
      },
      "source": [
        "data.head()"
      ],
      "execution_count": 147,
      "outputs": [
        {
          "output_type": "execute_result",
          "data": {
            "text/html": [
              "<div>\n",
              "<style scoped>\n",
              "    .dataframe tbody tr th:only-of-type {\n",
              "        vertical-align: middle;\n",
              "    }\n",
              "\n",
              "    .dataframe tbody tr th {\n",
              "        vertical-align: top;\n",
              "    }\n",
              "\n",
              "    .dataframe thead th {\n",
              "        text-align: right;\n",
              "    }\n",
              "</style>\n",
              "<table border=\"1\" class=\"dataframe\">\n",
              "  <thead>\n",
              "    <tr style=\"text-align: right;\">\n",
              "      <th></th>\n",
              "      <th>Unnamed: 0</th>\n",
              "      <th>review_score</th>\n",
              "      <th>customer_state</th>\n",
              "      <th>seller_state</th>\n",
              "      <th>product_id</th>\n",
              "      <th>product_category_name_english</th>\n",
              "      <th>customer_unique_id</th>\n",
              "      <th>order_delivered_customer_date</th>\n",
              "      <th>price</th>\n",
              "      <th>delivered_date</th>\n",
              "      <th>days_diff</th>\n",
              "      <th>order_weekday</th>\n",
              "      <th>order_month</th>\n",
              "      <th>price_category</th>\n",
              "      <th>day_category</th>\n",
              "    </tr>\n",
              "  </thead>\n",
              "  <tbody>\n",
              "    <tr>\n",
              "      <th>0</th>\n",
              "      <td>0</td>\n",
              "      <td>4</td>\n",
              "      <td>SP</td>\n",
              "      <td>SP</td>\n",
              "      <td>17106</td>\n",
              "      <td>housewares</td>\n",
              "      <td>45758</td>\n",
              "      <td>2017-10-10 21:25:13</td>\n",
              "      <td>29.99</td>\n",
              "      <td>2017-10-10</td>\n",
              "      <td>8.0</td>\n",
              "      <td>Monday</td>\n",
              "      <td>Oct</td>\n",
              "      <td>Low</td>\n",
              "      <td>morning</td>\n",
              "    </tr>\n",
              "    <tr>\n",
              "      <th>1</th>\n",
              "      <td>1</td>\n",
              "      <td>4</td>\n",
              "      <td>SP</td>\n",
              "      <td>SP</td>\n",
              "      <td>17106</td>\n",
              "      <td>housewares</td>\n",
              "      <td>21530</td>\n",
              "      <td>2017-08-18 14:44:43</td>\n",
              "      <td>29.99</td>\n",
              "      <td>2017-08-18</td>\n",
              "      <td>3.0</td>\n",
              "      <td>Tuesday</td>\n",
              "      <td>Aug</td>\n",
              "      <td>Low</td>\n",
              "      <td>afternoon</td>\n",
              "    </tr>\n",
              "    <tr>\n",
              "      <th>2</th>\n",
              "      <td>2</td>\n",
              "      <td>5</td>\n",
              "      <td>SP</td>\n",
              "      <td>SP</td>\n",
              "      <td>17106</td>\n",
              "      <td>housewares</td>\n",
              "      <td>87936</td>\n",
              "      <td>2017-08-07 18:30:01</td>\n",
              "      <td>29.99</td>\n",
              "      <td>2017-08-07</td>\n",
              "      <td>5.0</td>\n",
              "      <td>Wednesday</td>\n",
              "      <td>Aug</td>\n",
              "      <td>Low</td>\n",
              "      <td>afternoon</td>\n",
              "    </tr>\n",
              "    <tr>\n",
              "      <th>3</th>\n",
              "      <td>3</td>\n",
              "      <td>3</td>\n",
              "      <td>SC</td>\n",
              "      <td>SP</td>\n",
              "      <td>17106</td>\n",
              "      <td>housewares</td>\n",
              "      <td>85228</td>\n",
              "      <td>2017-11-07 18:04:59</td>\n",
              "      <td>29.99</td>\n",
              "      <td>2017-11-07</td>\n",
              "      <td>15.0</td>\n",
              "      <td>Monday</td>\n",
              "      <td>Oct</td>\n",
              "      <td>Low</td>\n",
              "      <td>evening</td>\n",
              "    </tr>\n",
              "    <tr>\n",
              "      <th>4</th>\n",
              "      <td>4</td>\n",
              "      <td>1</td>\n",
              "      <td>SP</td>\n",
              "      <td>SP</td>\n",
              "      <td>23951</td>\n",
              "      <td>housewares</td>\n",
              "      <td>44958</td>\n",
              "      <td>2017-08-28 20:12:20</td>\n",
              "      <td>46.80</td>\n",
              "      <td>2017-08-28</td>\n",
              "      <td>4.0</td>\n",
              "      <td>Thursday</td>\n",
              "      <td>Aug</td>\n",
              "      <td>Low</td>\n",
              "      <td>morning</td>\n",
              "    </tr>\n",
              "  </tbody>\n",
              "</table>\n",
              "</div>"
            ],
            "text/plain": [
              "   Unnamed: 0  review_score  ... price_category day_category\n",
              "0           0             4  ...            Low      morning\n",
              "1           1             4  ...            Low    afternoon\n",
              "2           2             5  ...            Low    afternoon\n",
              "3           3             3  ...            Low      evening\n",
              "4           4             1  ...            Low      morning\n",
              "\n",
              "[5 rows x 15 columns]"
            ]
          },
          "metadata": {
            "tags": []
          },
          "execution_count": 147
        }
      ]
    },
    {
      "cell_type": "code",
      "metadata": {
        "id": "PaFi0dns4Wfn"
      },
      "source": [
        "data = data.iloc[:,1:]"
      ],
      "execution_count": 148,
      "outputs": []
    },
    {
      "cell_type": "code",
      "metadata": {
        "colab": {
          "base_uri": "https://localhost:8080/"
        },
        "id": "wqA__dmoUnla",
        "outputId": "86063dab-bd15-4557-bff2-e0bcfc4befb3"
      },
      "source": [
        "data.shape"
      ],
      "execution_count": 149,
      "outputs": [
        {
          "output_type": "execute_result",
          "data": {
            "text/plain": [
              "(111686, 14)"
            ]
          },
          "metadata": {
            "tags": []
          },
          "execution_count": 149
        }
      ]
    },
    {
      "cell_type": "code",
      "metadata": {
        "id": "nZpa4ELL4ZlH"
      },
      "source": [
        "data = data.drop_duplicates()"
      ],
      "execution_count": 150,
      "outputs": []
    },
    {
      "cell_type": "code",
      "metadata": {
        "colab": {
          "base_uri": "https://localhost:8080/"
        },
        "id": "n1I5zqdDUqQR",
        "outputId": "141f53fc-d946-4885-cab9-2e0fb06c8111"
      },
      "source": [
        "data.shape"
      ],
      "execution_count": 151,
      "outputs": [
        {
          "output_type": "execute_result",
          "data": {
            "text/plain": [
              "(101173, 14)"
            ]
          },
          "metadata": {
            "tags": []
          },
          "execution_count": 151
        }
      ]
    },
    {
      "cell_type": "code",
      "metadata": {
        "id": "Ij6ZwuG24jNf"
      },
      "source": [
        "raitings_df = data[['customer_unique_id','product_id','review_score']]"
      ],
      "execution_count": 152,
      "outputs": []
    },
    {
      "cell_type": "code",
      "metadata": {
        "colab": {
          "base_uri": "https://localhost:8080/",
          "height": 204
        },
        "id": "gRbfigtpRV3j",
        "outputId": "a1117ffd-e4d2-48a5-f1b7-37404c975f22"
      },
      "source": [
        "raitings_df.head()"
      ],
      "execution_count": 153,
      "outputs": [
        {
          "output_type": "execute_result",
          "data": {
            "text/html": [
              "<div>\n",
              "<style scoped>\n",
              "    .dataframe tbody tr th:only-of-type {\n",
              "        vertical-align: middle;\n",
              "    }\n",
              "\n",
              "    .dataframe tbody tr th {\n",
              "        vertical-align: top;\n",
              "    }\n",
              "\n",
              "    .dataframe thead th {\n",
              "        text-align: right;\n",
              "    }\n",
              "</style>\n",
              "<table border=\"1\" class=\"dataframe\">\n",
              "  <thead>\n",
              "    <tr style=\"text-align: right;\">\n",
              "      <th></th>\n",
              "      <th>customer_unique_id</th>\n",
              "      <th>product_id</th>\n",
              "      <th>review_score</th>\n",
              "    </tr>\n",
              "  </thead>\n",
              "  <tbody>\n",
              "    <tr>\n",
              "      <th>0</th>\n",
              "      <td>45758</td>\n",
              "      <td>17106</td>\n",
              "      <td>4</td>\n",
              "    </tr>\n",
              "    <tr>\n",
              "      <th>1</th>\n",
              "      <td>21530</td>\n",
              "      <td>17106</td>\n",
              "      <td>4</td>\n",
              "    </tr>\n",
              "    <tr>\n",
              "      <th>2</th>\n",
              "      <td>87936</td>\n",
              "      <td>17106</td>\n",
              "      <td>5</td>\n",
              "    </tr>\n",
              "    <tr>\n",
              "      <th>3</th>\n",
              "      <td>85228</td>\n",
              "      <td>17106</td>\n",
              "      <td>3</td>\n",
              "    </tr>\n",
              "    <tr>\n",
              "      <th>4</th>\n",
              "      <td>44958</td>\n",
              "      <td>23951</td>\n",
              "      <td>1</td>\n",
              "    </tr>\n",
              "  </tbody>\n",
              "</table>\n",
              "</div>"
            ],
            "text/plain": [
              "   customer_unique_id  product_id  review_score\n",
              "0               45758       17106             4\n",
              "1               21530       17106             4\n",
              "2               87936       17106             5\n",
              "3               85228       17106             3\n",
              "4               44958       23951             1"
            ]
          },
          "metadata": {
            "tags": []
          },
          "execution_count": 153
        }
      ]
    },
    {
      "cell_type": "markdown",
      "metadata": {
        "id": "-_yj3fsernXF"
      },
      "source": [
        "# Deepthi implementation-clean version\n"
      ]
    },
    {
      "cell_type": "code",
      "metadata": {
        "id": "K0V4195vrqrJ"
      },
      "source": [
        "train_df, test_df = train_test_split(raitings_df, train_size=0.7, random_state = 0) # 2/3 -training "
      ],
      "execution_count": 154,
      "outputs": []
    },
    {
      "cell_type": "code",
      "metadata": {
        "id": "PsvvcTI6r34n"
      },
      "source": [
        "# function to calculate the RMSE\n",
        "def RMSE(y_true, y_pred):\n",
        "    return np.linalg.norm(y_true - y_pred) / np.sqrt(len(y_true))"
      ],
      "execution_count": 155,
      "outputs": []
    },
    {
      "cell_type": "code",
      "metadata": {
        "id": "eF2KyvJaxJUj"
      },
      "source": [
        "def performance(user,product,model):\n",
        "  y_pred = []\n",
        "  for user_id, product_id in zip(user, product):\n",
        "    r = model.predict(user_id, product_id, verbose=False).est # predict ratings from user_id & product_id in test set\n",
        "    y_pred.append(r)\n",
        "  y_pred = np.array(y_pred)\n",
        "  return y_pred"
      ],
      "execution_count": 156,
      "outputs": []
    },
    {
      "cell_type": "code",
      "metadata": {
        "id": "T6KHIfkm1FZo"
      },
      "source": [
        "# function to make the boxplot\n",
        "def MakeBoxplot(y_true, y_pred, title):\n",
        "    data = [y_pred[y_true == (x*0.5+0.5)] for x in range(10)]\n",
        "    fig = plt.figure(figsize=(5, 5))\n",
        "    plt.boxplot(data)\n",
        "    min_a, max_a = 0., 5.0\n",
        "    plt.xlim((min_a, max_a))\n",
        "    plt.ylim((min_a, max_a))\n",
        "    plt.plot([min_a, max_a * 2], [min_a, max_a], ls='--', color='gray', linewidth=1.0)# x & y values of 2 points of the plot\n",
        "    plt.xticks(range(12), [x*0.5 for x in range(12)])\n",
        "    plt.xlabel('True Rating')\n",
        "    plt.ylabel('Predicted Rating')\n",
        "    plt.title(title)\n",
        "    plt.show()"
      ],
      "execution_count": 157,
      "outputs": []
    },
    {
      "cell_type": "code",
      "metadata": {
        "id": "J88bSZrVr46z"
      },
      "source": [
        "reader = Reader(rating_scale=(1, 5))\n",
        "data_surprise = Dataset.load_from_df(train_df, reader)"
      ],
      "execution_count": 158,
      "outputs": []
    },
    {
      "cell_type": "code",
      "metadata": {
        "id": "neCUaqatsXm3"
      },
      "source": [
        "# chosen models\n",
        "models = ['svd','svd++','nmfb','nmf']\n",
        "\n",
        "# values needed for predictions\n",
        "y_true = test_df['review_score'].values \n",
        "user_ids_true = test_df['customer_unique_id'].values\n",
        "product_ids_true = test_df['product_id'].values\n",
        "\n",
        "\n",
        "\n",
        "for i in models:\n",
        "  if i == 'svd':\n",
        "    param_grid = {'n_factors': [70, 80, 90, 100, 110, 120, 130, 140, 150, 160], \n",
        "                  'n_epochs': [100], \n",
        "                  'reg_all': [0.1]}\n",
        "    gs_svd = GridSearchCV(SVD, param_grid, measures=['rmse'], cv=3) # cross validation 3-folds\n",
        "    gs_svd.fit(data_surprise)\n",
        "    best_svd = gs_svd.best_score['rmse']\n",
        "    best_svd_params = gs_svd.best_params['rmse']\n",
        "    model_svd = gs_svd.best_estimator['rmse']\n",
        "    model_svd.fit(data_surprise.build_full_trainset())\n",
        "    y_pred_svd = performance(user_ids_true,product_ids_true,model_svd)\n",
        "    error_svd = RMSE(y_true, y_pred_svd)\n",
        "  \n",
        "  elif i == 'svd++':\n",
        "    param_grid = {'lr_all': [0.001, 0.003, 0.005, 0.007, 0.009], \n",
        "                  'reg_all': [0.005, 0.01, 0.015, 0.02, 0.025]}\n",
        "    gs_svdpp = GridSearchCV(SVDpp, param_grid, measures=['rmse'], cv=3)\n",
        "    gs_svdpp.fit(data_surprise)\n",
        "    best_svd_plus = gs_svdpp.best_score['rmse']\n",
        "    best_svd_plus_params = gs_svdpp.best_params['rmse']\n",
        "    model_svd_plus = gs_svdpp.best_estimator['rmse']\n",
        "    model_svd_plus.fit(data_surprise.build_full_trainset())\n",
        "    y_pred_svd_plus = performance(user_ids_true,product_ids_true,model_svd_plus)\n",
        "    error_svd_plus = RMSE(y_true, y_pred_svd_plus)\n",
        "\n",
        "\n",
        "  elif i == 'nmfb':\n",
        "    param_grid = {'n_factors': [1,2,3,4,5,6,7,8,9,10], \n",
        "                  'n_epochs': [100], \n",
        "                  'biased': [True], \n",
        "                  'reg_bu': [0.1], \n",
        "                  'reg_bi': [0.1]}\n",
        "    gs_nmfb = GridSearchCV(NMF, param_grid, measures=['rmse'], cv=3)\n",
        "    gs_nmfb.fit(data_surprise)\n",
        "    best_nmfb = gs_nmfb.best_score['rmse']\n",
        "    best_nmfb_params = gs_nmfb.best_params['rmse']\n",
        "    model_nmfb = gs_nmfb.best_estimator['rmse']\n",
        "    model_nmfb.fit(data_surprise.build_full_trainset())\n",
        "    y_pred_nmfb = performance(user_ids_true,product_ids_true,model_nmfb)\n",
        "    error_nmfb = RMSE(y_true, y_pred_nmfb)\n",
        "\n",
        "  elif i == 'nmf':\n",
        "    param_grid = {'n_factors': [200, 220, 240], \n",
        "                  'n_epochs': [100]}\n",
        "    gs_nmf = GridSearchCV(NMF, param_grid, measures=['rmse'], cv=3)\n",
        "    gs_nmf.fit(data_surprise)\n",
        "    nmf = gs_nmf.best_estimator['rmse']\n",
        "    best_nmf = gs_nmf.best_score['rmse']\n",
        "    best_nmf_params = gs_nmf.best_params['rmse']\n",
        "    model_nmf = gs_nmf.best_estimator['rmse']\n",
        "    model_nmf.fit(data_surprise.build_full_trainset())\n",
        "    y_pred_nmf = performance(user_ids_true,product_ids_true,model_nmf)\n",
        "    error_nmf = RMSE(y_true, y_pred_nmf)\n",
        "\n",
        "\n",
        "\n",
        "\n",
        "\n",
        "\n"
      ],
      "execution_count": 159,
      "outputs": []
    },
    {
      "cell_type": "code",
      "metadata": {
        "colab": {
          "base_uri": "https://localhost:8080/"
        },
        "id": "KK6SP7pINWhT",
        "outputId": "dc605d3d-d39e-4814-ce17-1541ff5b87a3"
      },
      "source": [
        "print(f'The best SVD score: {best_svd}\\nThe best the SVD parameters are: {best_svd_params}')\n",
        "print(80*'-')\n",
        "print(f'The best SVD++ score: {best_svd_plus}\\nThe best the SVD parameters are: {best_svd_plus_params}')\n",
        "print(80*'-')\n",
        "print(f'The best Biased NMF score: {best_nmfb}\\nThe best the SVD parameters are: {best_nmfb_params}')\n",
        "print(80*'-')\n",
        "print(f'The best NMF score: {best_nmf}\\nThe best the SVD parameters are: {best_nmf_params}')\n",
        "print(80*'-')"
      ],
      "execution_count": 160,
      "outputs": [
        {
          "output_type": "stream",
          "text": [
            "The best SVD score: 1.3473311144203794\n",
            "The best the SVD parameters are: {'n_factors': 90, 'n_epochs': 100, 'reg_all': 0.1}\n",
            "--------------------------------------------------------------------------------\n",
            "The best SVD++ score: 1.344971710285139\n",
            "The best the SVD parameters are: {'lr_all': 0.009, 'reg_all': 0.025}\n",
            "--------------------------------------------------------------------------------\n",
            "The best Biased NMF score: 1.4540952676102616\n",
            "The best the SVD parameters are: {'n_factors': 1, 'n_epochs': 100, 'biased': True, 'reg_bu': 0.1, 'reg_bi': 0.1}\n",
            "--------------------------------------------------------------------------------\n",
            "The best NMF score: 1.3497026510128585\n",
            "The best the SVD parameters are: {'n_factors': 240, 'n_epochs': 100}\n",
            "--------------------------------------------------------------------------------\n"
          ],
          "name": "stdout"
        }
      ]
    },
    {
      "cell_type": "code",
      "metadata": {
        "colab": {
          "base_uri": "https://localhost:8080/",
          "height": 1000
        },
        "id": "6CUY79wq1LLA",
        "outputId": "d8b295ae-a31f-4f53-ff02-e7afd5af2739"
      },
      "source": [
        "\n",
        "\n",
        "#svd\n",
        "MakeBoxplot(y_true, y_pred_svd, 'SVD test, RMSE {}'.format(error_svd))\n",
        "\n",
        "#svd++\n",
        "MakeBoxplot(y_true, y_pred_svd_plus, 'SVD++ test, RMSE {}'.format(error_svd_plus))\n",
        "\n",
        "#nmfb\n",
        "MakeBoxplot(y_true, y_pred_nmfb, 'Biased NMF test, RMSE {}'.format(error_nmfb))\n",
        "\n",
        "#nmf\n",
        "MakeBoxplot(y_true, y_pred_nmf, 'NMF test, RMSE {}'.format(error_nmf))"
      ],
      "execution_count": 161,
      "outputs": [
        {
          "output_type": "display_data",
          "data": {
            "image/png": "[encoded data removed]",
            "text/plain": [
              "<Figure size 360x360 with 1 Axes>"
            ]
          },
          "metadata": {
            "tags": [],
            "needs_background": "light"
          }
        },
        {
          "output_type": "display_data",
          "data": {
            "image/png": "[encoded data removed]",
            "text/plain": [
              "<Figure size 360x360 with 1 Axes>"
            ]
          },
          "metadata": {
            "tags": [],
            "needs_background": "light"
          }
        },
        {
          "output_type": "display_data",
          "data": {
            "image/png": "[encoded data removed]",
            "text/plain": [
              "<Figure size 360x360 with 1 Axes>"
            ]
          },
          "metadata": {
            "tags": [],
            "needs_background": "light"
          }
        },
        {
          "output_type": "display_data",
          "data": {
            "image/png": "[encoded data removed]",
            "text/plain": [
              "<Figure size 360x360 with 1 Axes>"
            ]
          },
          "metadata": {
            "tags": [],
            "needs_background": "light"
          }
        }
      ]
    },
    {
      "cell_type": "code",
      "metadata": {
        "colab": {
          "base_uri": "https://localhost:8080/"
        },
        "id": "9Nlw1jCmZ4nf",
        "outputId": "4fdd2e83-57ef-47de-924f-cdac2ecd3ced"
      },
      "source": [
        "#maybe consider this version\n",
        "#from this: https://towardsdatascience.com/building-and-testing-recommender-systems-with-surprise-step-by-step-d4ba702ef80b\n",
        "\n",
        "benchmark = []\n",
        "# Iterate over all algorithms\n",
        "for algorithm in [SVD(), SVDpp(), NMF(), KNNBaseline()]:\n",
        "    # Perform cross validation\n",
        "    results = cross_validate(algorithm, data_surprise, measures=['RMSE'], cv=3, verbose=False)\n",
        "    \n",
        "    # Get results & append algorithm name\n",
        "    tmp = pd.DataFrame.from_dict(results).mean(axis=0)\n",
        "    tmp = tmp.append(pd.Series([str(algorithm).split(' ')[0].split('.')[-1]], index=['Algorithm']))\n",
        "    benchmark.append(tmp)\n",
        "    \n",
        "pd.DataFrame(benchmark).set_index('Algorithm').sort_values('test_rmse')  "
      ],
      "execution_count": null,
      "outputs": [
        {
          "output_type": "stream",
          "text": [
            "Estimating biases using als...\n",
            "Computing the msd similarity matrix...\n"
          ],
          "name": "stdout"
        }
      ]
    },
    {
      "cell_type": "code",
      "metadata": {
        "colab": {
          "base_uri": "https://localhost:8080/",
          "height": 181
        },
        "id": "iziSMUCkWofQ",
        "outputId": "c5e69a70-b33b-4d90-8a9a-1b7bf2895b7e"
      },
      "source": [
        "# iwas trying to predict recommendation (i wanted to do something like in the box collaborative filter recommendation below)\n",
        "data_test = Dataset.load_from_df(test_df, reader)\n",
        "predictions = gs_svd.fit(data_surprise).test(data_test)"
      ],
      "execution_count": 111,
      "outputs": [
        {
          "output_type": "error",
          "ename": "AttributeError",
          "evalue": "ignored",
          "traceback": [
            "\u001b[0;31m---------------------------------------------------------------------------\u001b[0m",
            "\u001b[0;31mAttributeError\u001b[0m                            Traceback (most recent call last)",
            "\u001b[0;32m<ipython-input-111-b3cf4f1911cb>\u001b[0m in \u001b[0;36m<module>\u001b[0;34m()\u001b[0m\n\u001b[1;32m      1\u001b[0m \u001b[0mdata_test\u001b[0m \u001b[0;34m=\u001b[0m \u001b[0mDataset\u001b[0m\u001b[0;34m.\u001b[0m\u001b[0mload_from_df\u001b[0m\u001b[0;34m(\u001b[0m\u001b[0mtest_df\u001b[0m\u001b[0;34m,\u001b[0m \u001b[0mreader\u001b[0m\u001b[0;34m)\u001b[0m\u001b[0;34m\u001b[0m\u001b[0;34m\u001b[0m\u001b[0m\n\u001b[0;32m----> 2\u001b[0;31m \u001b[0mpredictions\u001b[0m \u001b[0;34m=\u001b[0m \u001b[0mgs_svd\u001b[0m\u001b[0;34m.\u001b[0m\u001b[0mfit\u001b[0m\u001b[0;34m(\u001b[0m\u001b[0mdata_surprise\u001b[0m\u001b[0;34m)\u001b[0m\u001b[0;34m.\u001b[0m\u001b[0mtest\u001b[0m\u001b[0;34m(\u001b[0m\u001b[0mdata_test\u001b[0m\u001b[0;34m)\u001b[0m\u001b[0;34m\u001b[0m\u001b[0;34m\u001b[0m\u001b[0m\n\u001b[0m",
            "\u001b[0;31mAttributeError\u001b[0m: 'NoneType' object has no attribute 'test'"
          ]
        }
      ]
    },
    {
      "cell_type": "code",
      "metadata": {
        "id": "QR3Kg_qRXH2j"
      },
      "source": [
        "\n",
        "#https://surprise.readthedocs.io/en/stable/FAQ.html\n",
        "def get_top_n(predictions, n=10):\n",
        "    \n",
        "    # First map the predictions to each user.\n",
        "    top_n = defaultdict(list)\n",
        "    for uid, iid, true_r, est, _ in predictions:\n",
        "        top_n[uid].append((iid, est))\n",
        "\n",
        "    # Then sort the predictions for each user and retrieve the k highest ones.\n",
        "    for uid, user_ratings in top_n.items():\n",
        "        user_ratings.sort(key=lambda x: x[1], reverse=True)\n",
        "        top_n[uid] = user_ratings[:n]\n",
        "\n",
        "    return top_n"
      ],
      "execution_count": null,
      "outputs": []
    },
    {
      "cell_type": "markdown",
      "metadata": {
        "id": "oBLJpju5P9k6"
      },
      "source": [
        "#Baseline Model"
      ]
    },
    {
      "cell_type": "code",
      "metadata": {
        "id": "tF9FhFIaPAFm"
      },
      "source": [
        "y_pred = pd.DataFrame(train_df.groupby('product_id')['review_score'].mean())"
      ],
      "execution_count": 113,
      "outputs": []
    },
    {
      "cell_type": "code",
      "metadata": {
        "id": "C5btpXTeSdLz"
      },
      "source": [
        "val_df = test_df[['review_score','product_id']]"
      ],
      "execution_count": 112,
      "outputs": []
    },
    {
      "cell_type": "code",
      "metadata": {
        "id": "8eOj_jK9Sz0v"
      },
      "source": [
        "pred_true = pd.merge(y_pred,val_df,on='product_id')\n",
        "baseline_df = pred_true.rename(columns={'review_score_x':'predicted_score'})"
      ],
      "execution_count": 114,
      "outputs": []
    },
    {
      "cell_type": "code",
      "metadata": {
        "colab": {
          "base_uri": "https://localhost:8080/"
        },
        "id": "bzw1IOGNTWYI",
        "outputId": "4421914d-c673-40e7-8892-19286d844bb7"
      },
      "source": [
        "#calculating rmse\n",
        "print(\"RMSE baseline model: \", sqrt(mean_squared_error(baseline_df[\"predicted_score\"], \n",
        "                                                       baseline_df[\"review_score_y\"])))"
      ],
      "execution_count": 115,
      "outputs": [
        {
          "output_type": "stream",
          "text": [
            "RMSE baseline model:  1.360714331149122\n"
          ],
          "name": "stdout"
        }
      ]
    },
    {
      "cell_type": "markdown",
      "metadata": {
        "id": "jjSkH9V4XpXF"
      },
      "source": [
        "#Collaborative filtering recommendation"
      ]
    },
    {
      "cell_type": "code",
      "metadata": {
        "id": "HwMN3Qy2j27h"
      },
      "source": [
        "raitings_df = raitings_df[:100]"
      ],
      "execution_count": 133,
      "outputs": []
    },
    {
      "cell_type": "code",
      "metadata": {
        "id": "U9MmwyzIV1HD"
      },
      "source": [
        "matrix_df = raitings_df.pivot(index = 'customer_unique_id', columns ='product_id', values = 'review_score').fillna(0)"
      ],
      "execution_count": 134,
      "outputs": []
    },
    {
      "cell_type": "code",
      "metadata": {
        "colab": {
          "base_uri": "https://localhost:8080/",
          "height": 470
        },
        "id": "ex36iep4X33i",
        "outputId": "cd9230d0-7de6-4f49-e8f9-7fc443cb3e1e"
      },
      "source": [
        "matrix_df"
      ],
      "execution_count": 135,
      "outputs": [
        {
          "output_type": "execute_result",
          "data": {
            "text/html": [
              "<div>\n",
              "<style scoped>\n",
              "    .dataframe tbody tr th:only-of-type {\n",
              "        vertical-align: middle;\n",
              "    }\n",
              "\n",
              "    .dataframe tbody tr th {\n",
              "        vertical-align: top;\n",
              "    }\n",
              "\n",
              "    .dataframe thead th {\n",
              "        text-align: right;\n",
              "    }\n",
              "</style>\n",
              "<table border=\"1\" class=\"dataframe\">\n",
              "  <thead>\n",
              "    <tr style=\"text-align: right;\">\n",
              "      <th>product_id</th>\n",
              "      <th>374</th>\n",
              "      <th>3097</th>\n",
              "      <th>3315</th>\n",
              "      <th>4518</th>\n",
              "      <th>6214</th>\n",
              "      <th>7827</th>\n",
              "      <th>8215</th>\n",
              "      <th>8748</th>\n",
              "      <th>8833</th>\n",
              "      <th>10589</th>\n",
              "      <th>10982</th>\n",
              "      <th>11968</th>\n",
              "      <th>12492</th>\n",
              "      <th>13065</th>\n",
              "      <th>14326</th>\n",
              "      <th>16040</th>\n",
              "      <th>16284</th>\n",
              "      <th>16756</th>\n",
              "      <th>17106</th>\n",
              "      <th>17238</th>\n",
              "      <th>17921</th>\n",
              "      <th>18199</th>\n",
              "      <th>19171</th>\n",
              "      <th>19859</th>\n",
              "      <th>20609</th>\n",
              "      <th>21101</th>\n",
              "      <th>21331</th>\n",
              "      <th>21404</th>\n",
              "      <th>23621</th>\n",
              "      <th>23848</th>\n",
              "      <th>23951</th>\n",
              "      <th>24398</th>\n",
              "      <th>25653</th>\n",
              "      <th>26618</th>\n",
              "      <th>27150</th>\n",
              "      <th>29448</th>\n",
              "      <th>29559</th>\n",
              "      <th>30901</th>\n",
              "      <th>31314</th>\n",
              "      <th>31571</th>\n",
              "      <th>31599</th>\n",
              "      <th>32060</th>\n",
              "    </tr>\n",
              "    <tr>\n",
              "      <th>customer_unique_id</th>\n",
              "      <th></th>\n",
              "      <th></th>\n",
              "      <th></th>\n",
              "      <th></th>\n",
              "      <th></th>\n",
              "      <th></th>\n",
              "      <th></th>\n",
              "      <th></th>\n",
              "      <th></th>\n",
              "      <th></th>\n",
              "      <th></th>\n",
              "      <th></th>\n",
              "      <th></th>\n",
              "      <th></th>\n",
              "      <th></th>\n",
              "      <th></th>\n",
              "      <th></th>\n",
              "      <th></th>\n",
              "      <th></th>\n",
              "      <th></th>\n",
              "      <th></th>\n",
              "      <th></th>\n",
              "      <th></th>\n",
              "      <th></th>\n",
              "      <th></th>\n",
              "      <th></th>\n",
              "      <th></th>\n",
              "      <th></th>\n",
              "      <th></th>\n",
              "      <th></th>\n",
              "      <th></th>\n",
              "      <th></th>\n",
              "      <th></th>\n",
              "      <th></th>\n",
              "      <th></th>\n",
              "      <th></th>\n",
              "      <th></th>\n",
              "      <th></th>\n",
              "      <th></th>\n",
              "      <th></th>\n",
              "      <th></th>\n",
              "      <th></th>\n",
              "    </tr>\n",
              "  </thead>\n",
              "  <tbody>\n",
              "    <tr>\n",
              "      <th>2569</th>\n",
              "      <td>0.0</td>\n",
              "      <td>0.0</td>\n",
              "      <td>0.0</td>\n",
              "      <td>0.0</td>\n",
              "      <td>0.0</td>\n",
              "      <td>0.0</td>\n",
              "      <td>0.0</td>\n",
              "      <td>0.0</td>\n",
              "      <td>0.0</td>\n",
              "      <td>0.0</td>\n",
              "      <td>0.0</td>\n",
              "      <td>0.0</td>\n",
              "      <td>0.0</td>\n",
              "      <td>0.0</td>\n",
              "      <td>0.0</td>\n",
              "      <td>0.0</td>\n",
              "      <td>0.0</td>\n",
              "      <td>0.0</td>\n",
              "      <td>0.0</td>\n",
              "      <td>0.0</td>\n",
              "      <td>0.0</td>\n",
              "      <td>0.0</td>\n",
              "      <td>0.0</td>\n",
              "      <td>0.0</td>\n",
              "      <td>0.0</td>\n",
              "      <td>0.0</td>\n",
              "      <td>0.0</td>\n",
              "      <td>0.0</td>\n",
              "      <td>0.0</td>\n",
              "      <td>0.0</td>\n",
              "      <td>0.0</td>\n",
              "      <td>0.0</td>\n",
              "      <td>0.0</td>\n",
              "      <td>0.0</td>\n",
              "      <td>0.0</td>\n",
              "      <td>0.0</td>\n",
              "      <td>0.0</td>\n",
              "      <td>0.0</td>\n",
              "      <td>0.0</td>\n",
              "      <td>0.0</td>\n",
              "      <td>5.0</td>\n",
              "      <td>0.0</td>\n",
              "    </tr>\n",
              "    <tr>\n",
              "      <th>3211</th>\n",
              "      <td>0.0</td>\n",
              "      <td>0.0</td>\n",
              "      <td>0.0</td>\n",
              "      <td>0.0</td>\n",
              "      <td>0.0</td>\n",
              "      <td>0.0</td>\n",
              "      <td>0.0</td>\n",
              "      <td>0.0</td>\n",
              "      <td>0.0</td>\n",
              "      <td>0.0</td>\n",
              "      <td>0.0</td>\n",
              "      <td>0.0</td>\n",
              "      <td>0.0</td>\n",
              "      <td>0.0</td>\n",
              "      <td>0.0</td>\n",
              "      <td>0.0</td>\n",
              "      <td>0.0</td>\n",
              "      <td>0.0</td>\n",
              "      <td>0.0</td>\n",
              "      <td>0.0</td>\n",
              "      <td>0.0</td>\n",
              "      <td>1.0</td>\n",
              "      <td>0.0</td>\n",
              "      <td>0.0</td>\n",
              "      <td>0.0</td>\n",
              "      <td>0.0</td>\n",
              "      <td>0.0</td>\n",
              "      <td>0.0</td>\n",
              "      <td>0.0</td>\n",
              "      <td>0.0</td>\n",
              "      <td>0.0</td>\n",
              "      <td>0.0</td>\n",
              "      <td>0.0</td>\n",
              "      <td>0.0</td>\n",
              "      <td>0.0</td>\n",
              "      <td>0.0</td>\n",
              "      <td>0.0</td>\n",
              "      <td>0.0</td>\n",
              "      <td>0.0</td>\n",
              "      <td>0.0</td>\n",
              "      <td>0.0</td>\n",
              "      <td>0.0</td>\n",
              "    </tr>\n",
              "    <tr>\n",
              "      <th>3240</th>\n",
              "      <td>1.0</td>\n",
              "      <td>0.0</td>\n",
              "      <td>0.0</td>\n",
              "      <td>0.0</td>\n",
              "      <td>0.0</td>\n",
              "      <td>0.0</td>\n",
              "      <td>0.0</td>\n",
              "      <td>0.0</td>\n",
              "      <td>0.0</td>\n",
              "      <td>0.0</td>\n",
              "      <td>0.0</td>\n",
              "      <td>0.0</td>\n",
              "      <td>0.0</td>\n",
              "      <td>0.0</td>\n",
              "      <td>0.0</td>\n",
              "      <td>0.0</td>\n",
              "      <td>0.0</td>\n",
              "      <td>0.0</td>\n",
              "      <td>0.0</td>\n",
              "      <td>0.0</td>\n",
              "      <td>0.0</td>\n",
              "      <td>0.0</td>\n",
              "      <td>0.0</td>\n",
              "      <td>0.0</td>\n",
              "      <td>0.0</td>\n",
              "      <td>0.0</td>\n",
              "      <td>0.0</td>\n",
              "      <td>0.0</td>\n",
              "      <td>0.0</td>\n",
              "      <td>0.0</td>\n",
              "      <td>0.0</td>\n",
              "      <td>0.0</td>\n",
              "      <td>0.0</td>\n",
              "      <td>0.0</td>\n",
              "      <td>0.0</td>\n",
              "      <td>0.0</td>\n",
              "      <td>0.0</td>\n",
              "      <td>0.0</td>\n",
              "      <td>0.0</td>\n",
              "      <td>0.0</td>\n",
              "      <td>0.0</td>\n",
              "      <td>0.0</td>\n",
              "    </tr>\n",
              "    <tr>\n",
              "      <th>3308</th>\n",
              "      <td>0.0</td>\n",
              "      <td>0.0</td>\n",
              "      <td>0.0</td>\n",
              "      <td>0.0</td>\n",
              "      <td>0.0</td>\n",
              "      <td>0.0</td>\n",
              "      <td>0.0</td>\n",
              "      <td>0.0</td>\n",
              "      <td>0.0</td>\n",
              "      <td>0.0</td>\n",
              "      <td>0.0</td>\n",
              "      <td>0.0</td>\n",
              "      <td>0.0</td>\n",
              "      <td>0.0</td>\n",
              "      <td>0.0</td>\n",
              "      <td>0.0</td>\n",
              "      <td>0.0</td>\n",
              "      <td>0.0</td>\n",
              "      <td>0.0</td>\n",
              "      <td>0.0</td>\n",
              "      <td>0.0</td>\n",
              "      <td>0.0</td>\n",
              "      <td>0.0</td>\n",
              "      <td>0.0</td>\n",
              "      <td>0.0</td>\n",
              "      <td>0.0</td>\n",
              "      <td>0.0</td>\n",
              "      <td>0.0</td>\n",
              "      <td>0.0</td>\n",
              "      <td>0.0</td>\n",
              "      <td>0.0</td>\n",
              "      <td>0.0</td>\n",
              "      <td>0.0</td>\n",
              "      <td>0.0</td>\n",
              "      <td>0.0</td>\n",
              "      <td>0.0</td>\n",
              "      <td>0.0</td>\n",
              "      <td>0.0</td>\n",
              "      <td>0.0</td>\n",
              "      <td>0.0</td>\n",
              "      <td>3.0</td>\n",
              "      <td>0.0</td>\n",
              "    </tr>\n",
              "    <tr>\n",
              "      <th>3310</th>\n",
              "      <td>0.0</td>\n",
              "      <td>0.0</td>\n",
              "      <td>0.0</td>\n",
              "      <td>0.0</td>\n",
              "      <td>0.0</td>\n",
              "      <td>0.0</td>\n",
              "      <td>0.0</td>\n",
              "      <td>0.0</td>\n",
              "      <td>0.0</td>\n",
              "      <td>0.0</td>\n",
              "      <td>0.0</td>\n",
              "      <td>0.0</td>\n",
              "      <td>0.0</td>\n",
              "      <td>0.0</td>\n",
              "      <td>0.0</td>\n",
              "      <td>0.0</td>\n",
              "      <td>0.0</td>\n",
              "      <td>0.0</td>\n",
              "      <td>0.0</td>\n",
              "      <td>0.0</td>\n",
              "      <td>0.0</td>\n",
              "      <td>0.0</td>\n",
              "      <td>5.0</td>\n",
              "      <td>0.0</td>\n",
              "      <td>0.0</td>\n",
              "      <td>0.0</td>\n",
              "      <td>0.0</td>\n",
              "      <td>0.0</td>\n",
              "      <td>0.0</td>\n",
              "      <td>0.0</td>\n",
              "      <td>0.0</td>\n",
              "      <td>0.0</td>\n",
              "      <td>0.0</td>\n",
              "      <td>0.0</td>\n",
              "      <td>0.0</td>\n",
              "      <td>0.0</td>\n",
              "      <td>0.0</td>\n",
              "      <td>0.0</td>\n",
              "      <td>0.0</td>\n",
              "      <td>0.0</td>\n",
              "      <td>0.0</td>\n",
              "      <td>0.0</td>\n",
              "    </tr>\n",
              "    <tr>\n",
              "      <th>...</th>\n",
              "      <td>...</td>\n",
              "      <td>...</td>\n",
              "      <td>...</td>\n",
              "      <td>...</td>\n",
              "      <td>...</td>\n",
              "      <td>...</td>\n",
              "      <td>...</td>\n",
              "      <td>...</td>\n",
              "      <td>...</td>\n",
              "      <td>...</td>\n",
              "      <td>...</td>\n",
              "      <td>...</td>\n",
              "      <td>...</td>\n",
              "      <td>...</td>\n",
              "      <td>...</td>\n",
              "      <td>...</td>\n",
              "      <td>...</td>\n",
              "      <td>...</td>\n",
              "      <td>...</td>\n",
              "      <td>...</td>\n",
              "      <td>...</td>\n",
              "      <td>...</td>\n",
              "      <td>...</td>\n",
              "      <td>...</td>\n",
              "      <td>...</td>\n",
              "      <td>...</td>\n",
              "      <td>...</td>\n",
              "      <td>...</td>\n",
              "      <td>...</td>\n",
              "      <td>...</td>\n",
              "      <td>...</td>\n",
              "      <td>...</td>\n",
              "      <td>...</td>\n",
              "      <td>...</td>\n",
              "      <td>...</td>\n",
              "      <td>...</td>\n",
              "      <td>...</td>\n",
              "      <td>...</td>\n",
              "      <td>...</td>\n",
              "      <td>...</td>\n",
              "      <td>...</td>\n",
              "      <td>...</td>\n",
              "    </tr>\n",
              "    <tr>\n",
              "      <th>87936</th>\n",
              "      <td>0.0</td>\n",
              "      <td>0.0</td>\n",
              "      <td>0.0</td>\n",
              "      <td>0.0</td>\n",
              "      <td>0.0</td>\n",
              "      <td>0.0</td>\n",
              "      <td>0.0</td>\n",
              "      <td>0.0</td>\n",
              "      <td>0.0</td>\n",
              "      <td>0.0</td>\n",
              "      <td>0.0</td>\n",
              "      <td>0.0</td>\n",
              "      <td>0.0</td>\n",
              "      <td>0.0</td>\n",
              "      <td>0.0</td>\n",
              "      <td>0.0</td>\n",
              "      <td>0.0</td>\n",
              "      <td>0.0</td>\n",
              "      <td>5.0</td>\n",
              "      <td>0.0</td>\n",
              "      <td>0.0</td>\n",
              "      <td>0.0</td>\n",
              "      <td>0.0</td>\n",
              "      <td>0.0</td>\n",
              "      <td>0.0</td>\n",
              "      <td>0.0</td>\n",
              "      <td>0.0</td>\n",
              "      <td>0.0</td>\n",
              "      <td>0.0</td>\n",
              "      <td>0.0</td>\n",
              "      <td>0.0</td>\n",
              "      <td>0.0</td>\n",
              "      <td>0.0</td>\n",
              "      <td>0.0</td>\n",
              "      <td>0.0</td>\n",
              "      <td>0.0</td>\n",
              "      <td>0.0</td>\n",
              "      <td>0.0</td>\n",
              "      <td>0.0</td>\n",
              "      <td>0.0</td>\n",
              "      <td>0.0</td>\n",
              "      <td>0.0</td>\n",
              "    </tr>\n",
              "    <tr>\n",
              "      <th>87989</th>\n",
              "      <td>0.0</td>\n",
              "      <td>0.0</td>\n",
              "      <td>0.0</td>\n",
              "      <td>5.0</td>\n",
              "      <td>0.0</td>\n",
              "      <td>0.0</td>\n",
              "      <td>0.0</td>\n",
              "      <td>0.0</td>\n",
              "      <td>0.0</td>\n",
              "      <td>0.0</td>\n",
              "      <td>0.0</td>\n",
              "      <td>0.0</td>\n",
              "      <td>0.0</td>\n",
              "      <td>0.0</td>\n",
              "      <td>0.0</td>\n",
              "      <td>0.0</td>\n",
              "      <td>0.0</td>\n",
              "      <td>0.0</td>\n",
              "      <td>0.0</td>\n",
              "      <td>0.0</td>\n",
              "      <td>0.0</td>\n",
              "      <td>0.0</td>\n",
              "      <td>0.0</td>\n",
              "      <td>0.0</td>\n",
              "      <td>0.0</td>\n",
              "      <td>0.0</td>\n",
              "      <td>0.0</td>\n",
              "      <td>0.0</td>\n",
              "      <td>0.0</td>\n",
              "      <td>0.0</td>\n",
              "      <td>0.0</td>\n",
              "      <td>0.0</td>\n",
              "      <td>0.0</td>\n",
              "      <td>0.0</td>\n",
              "      <td>0.0</td>\n",
              "      <td>0.0</td>\n",
              "      <td>0.0</td>\n",
              "      <td>0.0</td>\n",
              "      <td>0.0</td>\n",
              "      <td>0.0</td>\n",
              "      <td>0.0</td>\n",
              "      <td>0.0</td>\n",
              "    </tr>\n",
              "    <tr>\n",
              "      <th>88244</th>\n",
              "      <td>0.0</td>\n",
              "      <td>0.0</td>\n",
              "      <td>0.0</td>\n",
              "      <td>0.0</td>\n",
              "      <td>0.0</td>\n",
              "      <td>0.0</td>\n",
              "      <td>0.0</td>\n",
              "      <td>0.0</td>\n",
              "      <td>0.0</td>\n",
              "      <td>0.0</td>\n",
              "      <td>0.0</td>\n",
              "      <td>0.0</td>\n",
              "      <td>0.0</td>\n",
              "      <td>0.0</td>\n",
              "      <td>0.0</td>\n",
              "      <td>0.0</td>\n",
              "      <td>0.0</td>\n",
              "      <td>0.0</td>\n",
              "      <td>0.0</td>\n",
              "      <td>0.0</td>\n",
              "      <td>0.0</td>\n",
              "      <td>0.0</td>\n",
              "      <td>0.0</td>\n",
              "      <td>0.0</td>\n",
              "      <td>4.0</td>\n",
              "      <td>0.0</td>\n",
              "      <td>0.0</td>\n",
              "      <td>0.0</td>\n",
              "      <td>0.0</td>\n",
              "      <td>0.0</td>\n",
              "      <td>0.0</td>\n",
              "      <td>0.0</td>\n",
              "      <td>0.0</td>\n",
              "      <td>0.0</td>\n",
              "      <td>0.0</td>\n",
              "      <td>0.0</td>\n",
              "      <td>0.0</td>\n",
              "      <td>0.0</td>\n",
              "      <td>0.0</td>\n",
              "      <td>0.0</td>\n",
              "      <td>0.0</td>\n",
              "      <td>0.0</td>\n",
              "    </tr>\n",
              "    <tr>\n",
              "      <th>88510</th>\n",
              "      <td>0.0</td>\n",
              "      <td>0.0</td>\n",
              "      <td>0.0</td>\n",
              "      <td>0.0</td>\n",
              "      <td>0.0</td>\n",
              "      <td>0.0</td>\n",
              "      <td>0.0</td>\n",
              "      <td>0.0</td>\n",
              "      <td>0.0</td>\n",
              "      <td>0.0</td>\n",
              "      <td>0.0</td>\n",
              "      <td>0.0</td>\n",
              "      <td>0.0</td>\n",
              "      <td>0.0</td>\n",
              "      <td>0.0</td>\n",
              "      <td>0.0</td>\n",
              "      <td>0.0</td>\n",
              "      <td>0.0</td>\n",
              "      <td>0.0</td>\n",
              "      <td>0.0</td>\n",
              "      <td>0.0</td>\n",
              "      <td>0.0</td>\n",
              "      <td>0.0</td>\n",
              "      <td>0.0</td>\n",
              "      <td>0.0</td>\n",
              "      <td>0.0</td>\n",
              "      <td>0.0</td>\n",
              "      <td>0.0</td>\n",
              "      <td>0.0</td>\n",
              "      <td>0.0</td>\n",
              "      <td>0.0</td>\n",
              "      <td>0.0</td>\n",
              "      <td>0.0</td>\n",
              "      <td>0.0</td>\n",
              "      <td>0.0</td>\n",
              "      <td>0.0</td>\n",
              "      <td>0.0</td>\n",
              "      <td>0.0</td>\n",
              "      <td>0.0</td>\n",
              "      <td>0.0</td>\n",
              "      <td>5.0</td>\n",
              "      <td>0.0</td>\n",
              "    </tr>\n",
              "    <tr>\n",
              "      <th>93380</th>\n",
              "      <td>0.0</td>\n",
              "      <td>0.0</td>\n",
              "      <td>0.0</td>\n",
              "      <td>0.0</td>\n",
              "      <td>0.0</td>\n",
              "      <td>0.0</td>\n",
              "      <td>0.0</td>\n",
              "      <td>0.0</td>\n",
              "      <td>0.0</td>\n",
              "      <td>0.0</td>\n",
              "      <td>0.0</td>\n",
              "      <td>0.0</td>\n",
              "      <td>0.0</td>\n",
              "      <td>0.0</td>\n",
              "      <td>0.0</td>\n",
              "      <td>0.0</td>\n",
              "      <td>0.0</td>\n",
              "      <td>0.0</td>\n",
              "      <td>0.0</td>\n",
              "      <td>0.0</td>\n",
              "      <td>0.0</td>\n",
              "      <td>0.0</td>\n",
              "      <td>0.0</td>\n",
              "      <td>0.0</td>\n",
              "      <td>0.0</td>\n",
              "      <td>0.0</td>\n",
              "      <td>0.0</td>\n",
              "      <td>3.0</td>\n",
              "      <td>0.0</td>\n",
              "      <td>0.0</td>\n",
              "      <td>0.0</td>\n",
              "      <td>0.0</td>\n",
              "      <td>0.0</td>\n",
              "      <td>0.0</td>\n",
              "      <td>0.0</td>\n",
              "      <td>0.0</td>\n",
              "      <td>0.0</td>\n",
              "      <td>0.0</td>\n",
              "      <td>0.0</td>\n",
              "      <td>0.0</td>\n",
              "      <td>0.0</td>\n",
              "      <td>0.0</td>\n",
              "    </tr>\n",
              "  </tbody>\n",
              "</table>\n",
              "<p>100 rows × 42 columns</p>\n",
              "</div>"
            ],
            "text/plain": [
              "product_id          374    3097   3315   4518   ...  31314  31571  31599  32060\n",
              "customer_unique_id                              ...                            \n",
              "2569                  0.0    0.0    0.0    0.0  ...    0.0    0.0    5.0    0.0\n",
              "3211                  0.0    0.0    0.0    0.0  ...    0.0    0.0    0.0    0.0\n",
              "3240                  1.0    0.0    0.0    0.0  ...    0.0    0.0    0.0    0.0\n",
              "3308                  0.0    0.0    0.0    0.0  ...    0.0    0.0    3.0    0.0\n",
              "3310                  0.0    0.0    0.0    0.0  ...    0.0    0.0    0.0    0.0\n",
              "...                   ...    ...    ...    ...  ...    ...    ...    ...    ...\n",
              "87936                 0.0    0.0    0.0    0.0  ...    0.0    0.0    0.0    0.0\n",
              "87989                 0.0    0.0    0.0    5.0  ...    0.0    0.0    0.0    0.0\n",
              "88244                 0.0    0.0    0.0    0.0  ...    0.0    0.0    0.0    0.0\n",
              "88510                 0.0    0.0    0.0    0.0  ...    0.0    0.0    5.0    0.0\n",
              "93380                 0.0    0.0    0.0    0.0  ...    0.0    0.0    0.0    0.0\n",
              "\n",
              "[100 rows x 42 columns]"
            ]
          },
          "metadata": {
            "tags": []
          },
          "execution_count": 135
        }
      ]
    },
    {
      "cell_type": "code",
      "metadata": {
        "id": "W4SG2MEEtPIL"
      },
      "source": [
        "u,s,vt = svds(matrix_df,k=10)"
      ],
      "execution_count": 136,
      "outputs": []
    },
    {
      "cell_type": "code",
      "metadata": {
        "id": "8w_pfV8TtWhn"
      },
      "source": [
        "sigma = np.diag(s)\n"
      ],
      "execution_count": 137,
      "outputs": []
    },
    {
      "cell_type": "code",
      "metadata": {
        "id": "pp4bR2wotX_N"
      },
      "source": [
        "#Predicted ratings\n",
        "predicted_ratings = np.dot(np.dot(u, sigma), vt) \n"
      ],
      "execution_count": 138,
      "outputs": []
    },
    {
      "cell_type": "code",
      "metadata": {
        "colab": {
          "base_uri": "https://localhost:8080/",
          "height": 309
        },
        "id": "FlwWH3UBtmb2",
        "outputId": "f85403bc-96bb-4dd1-d049-002afb7cde86"
      },
      "source": [
        "# Convert predicted ratings to dataframe\n",
        "preds_df = pd.DataFrame(predicted_ratings, columns = matrix_df.columns)\n",
        "preds_df.head()"
      ],
      "execution_count": 139,
      "outputs": [
        {
          "output_type": "execute_result",
          "data": {
            "text/html": [
              "<div>\n",
              "<style scoped>\n",
              "    .dataframe tbody tr th:only-of-type {\n",
              "        vertical-align: middle;\n",
              "    }\n",
              "\n",
              "    .dataframe tbody tr th {\n",
              "        vertical-align: top;\n",
              "    }\n",
              "\n",
              "    .dataframe thead th {\n",
              "        text-align: right;\n",
              "    }\n",
              "</style>\n",
              "<table border=\"1\" class=\"dataframe\">\n",
              "  <thead>\n",
              "    <tr style=\"text-align: right;\">\n",
              "      <th>product_id</th>\n",
              "      <th>374</th>\n",
              "      <th>3097</th>\n",
              "      <th>3315</th>\n",
              "      <th>4518</th>\n",
              "      <th>6214</th>\n",
              "      <th>7827</th>\n",
              "      <th>8215</th>\n",
              "      <th>8748</th>\n",
              "      <th>8833</th>\n",
              "      <th>10589</th>\n",
              "      <th>10982</th>\n",
              "      <th>11968</th>\n",
              "      <th>12492</th>\n",
              "      <th>13065</th>\n",
              "      <th>14326</th>\n",
              "      <th>16040</th>\n",
              "      <th>16284</th>\n",
              "      <th>16756</th>\n",
              "      <th>17106</th>\n",
              "      <th>17238</th>\n",
              "      <th>17921</th>\n",
              "      <th>18199</th>\n",
              "      <th>19171</th>\n",
              "      <th>19859</th>\n",
              "      <th>20609</th>\n",
              "      <th>21101</th>\n",
              "      <th>21331</th>\n",
              "      <th>21404</th>\n",
              "      <th>23621</th>\n",
              "      <th>23848</th>\n",
              "      <th>23951</th>\n",
              "      <th>24398</th>\n",
              "      <th>25653</th>\n",
              "      <th>26618</th>\n",
              "      <th>27150</th>\n",
              "      <th>29448</th>\n",
              "      <th>29559</th>\n",
              "      <th>30901</th>\n",
              "      <th>31314</th>\n",
              "      <th>31571</th>\n",
              "      <th>31599</th>\n",
              "      <th>32060</th>\n",
              "    </tr>\n",
              "  </thead>\n",
              "  <tbody>\n",
              "    <tr>\n",
              "      <th>0</th>\n",
              "      <td>-8.492478e-18</td>\n",
              "      <td>7.774402e-20</td>\n",
              "      <td>-7.998602e-17</td>\n",
              "      <td>2.952624e-16</td>\n",
              "      <td>1.775683e-17</td>\n",
              "      <td>-1.486642e-16</td>\n",
              "      <td>-2.937594e-17</td>\n",
              "      <td>8.254597e-17</td>\n",
              "      <td>4.804059e-16</td>\n",
              "      <td>-7.174860e-17</td>\n",
              "      <td>8.752865e-16</td>\n",
              "      <td>-1.973015e-16</td>\n",
              "      <td>2.470694e-16</td>\n",
              "      <td>-2.142861e-16</td>\n",
              "      <td>3.893397e-16</td>\n",
              "      <td>-1.088199e-16</td>\n",
              "      <td>8.060043e-17</td>\n",
              "      <td>-1.245792e-17</td>\n",
              "      <td>-1.748849e-17</td>\n",
              "      <td>-1.869192e-16</td>\n",
              "      <td>-3.895409e-16</td>\n",
              "      <td>3.683930e-16</td>\n",
              "      <td>2.351893e-17</td>\n",
              "      <td>-1.815890e-16</td>\n",
              "      <td>2.420612e-15</td>\n",
              "      <td>-5.834296e-17</td>\n",
              "      <td>-2.715055e-17</td>\n",
              "      <td>1.220423e-16</td>\n",
              "      <td>-5.346467e-16</td>\n",
              "      <td>-6.656269e-16</td>\n",
              "      <td>-8.434666e-16</td>\n",
              "      <td>-1.828415e-16</td>\n",
              "      <td>-6.041475e-16</td>\n",
              "      <td>1.110834e-16</td>\n",
              "      <td>2.259370e-16</td>\n",
              "      <td>-3.833265e-17</td>\n",
              "      <td>-1.676876e-19</td>\n",
              "      <td>1.759274e-16</td>\n",
              "      <td>-1.967293e-16</td>\n",
              "      <td>-4.828626e-16</td>\n",
              "      <td>5.000000e+00</td>\n",
              "      <td>-5.551115e-16</td>\n",
              "    </tr>\n",
              "    <tr>\n",
              "      <th>1</th>\n",
              "      <td>8.653257e-34</td>\n",
              "      <td>3.588028e-36</td>\n",
              "      <td>-3.912073e-32</td>\n",
              "      <td>4.409896e-33</td>\n",
              "      <td>9.063359e-34</td>\n",
              "      <td>2.271101e-17</td>\n",
              "      <td>-2.865374e-17</td>\n",
              "      <td>3.060665e-33</td>\n",
              "      <td>-9.937723e-18</td>\n",
              "      <td>-4.636815e-33</td>\n",
              "      <td>2.962743e-17</td>\n",
              "      <td>-5.119934e-33</td>\n",
              "      <td>3.864067e-33</td>\n",
              "      <td>-4.531850e-18</td>\n",
              "      <td>1.919387e-32</td>\n",
              "      <td>-1.177605e-33</td>\n",
              "      <td>1.088454e-33</td>\n",
              "      <td>-9.141602e-34</td>\n",
              "      <td>-7.348745e-19</td>\n",
              "      <td>-1.108652e-32</td>\n",
              "      <td>-1.311725e-32</td>\n",
              "      <td>9.207609e-33</td>\n",
              "      <td>8.516673e-34</td>\n",
              "      <td>-4.434855e-33</td>\n",
              "      <td>-6.117303e-18</td>\n",
              "      <td>-1.251370e-33</td>\n",
              "      <td>-4.705976e-34</td>\n",
              "      <td>1.246529e-32</td>\n",
              "      <td>-1.301620e-32</td>\n",
              "      <td>-4.051706e-32</td>\n",
              "      <td>-1.792331e-32</td>\n",
              "      <td>-1.103341e-32</td>\n",
              "      <td>3.663351e-17</td>\n",
              "      <td>4.403767e-33</td>\n",
              "      <td>4.073006e-33</td>\n",
              "      <td>-7.940051e-34</td>\n",
              "      <td>-2.704068e-35</td>\n",
              "      <td>8.074015e-18</td>\n",
              "      <td>-4.143777e-33</td>\n",
              "      <td>-1.009456e-32</td>\n",
              "      <td>7.367860e-17</td>\n",
              "      <td>-4.274988e-32</td>\n",
              "    </tr>\n",
              "    <tr>\n",
              "      <th>2</th>\n",
              "      <td>1.610400e-32</td>\n",
              "      <td>1.442572e-35</td>\n",
              "      <td>2.274098e-32</td>\n",
              "      <td>-1.661519e-33</td>\n",
              "      <td>3.306395e-33</td>\n",
              "      <td>5.278699e-17</td>\n",
              "      <td>-2.335225e-17</td>\n",
              "      <td>1.219027e-32</td>\n",
              "      <td>1.791826e-18</td>\n",
              "      <td>3.253181e-33</td>\n",
              "      <td>4.599297e-18</td>\n",
              "      <td>-8.759155e-34</td>\n",
              "      <td>-6.718343e-33</td>\n",
              "      <td>1.109844e-17</td>\n",
              "      <td>-3.170607e-33</td>\n",
              "      <td>4.721127e-33</td>\n",
              "      <td>-2.658455e-33</td>\n",
              "      <td>-2.753225e-33</td>\n",
              "      <td>-6.674797e-19</td>\n",
              "      <td>-2.792460e-32</td>\n",
              "      <td>-1.016419e-32</td>\n",
              "      <td>8.653257e-34</td>\n",
              "      <td>-1.780113e-33</td>\n",
              "      <td>-5.268868e-33</td>\n",
              "      <td>-1.408568e-17</td>\n",
              "      <td>3.918186e-33</td>\n",
              "      <td>9.792495e-34</td>\n",
              "      <td>3.900953e-32</td>\n",
              "      <td>-1.242809e-33</td>\n",
              "      <td>9.177883e-33</td>\n",
              "      <td>-2.170671e-33</td>\n",
              "      <td>-2.939497e-32</td>\n",
              "      <td>-5.012127e-17</td>\n",
              "      <td>3.570248e-33</td>\n",
              "      <td>3.108703e-34</td>\n",
              "      <td>9.227456e-34</td>\n",
              "      <td>-8.934012e-35</td>\n",
              "      <td>9.955294e-17</td>\n",
              "      <td>4.673642e-33</td>\n",
              "      <td>-1.240159e-33</td>\n",
              "      <td>-1.698496e-18</td>\n",
              "      <td>1.542909e-32</td>\n",
              "    </tr>\n",
              "    <tr>\n",
              "      <th>3</th>\n",
              "      <td>-5.095487e-18</td>\n",
              "      <td>4.664641e-20</td>\n",
              "      <td>-4.799161e-17</td>\n",
              "      <td>1.771575e-16</td>\n",
              "      <td>1.065410e-17</td>\n",
              "      <td>-8.919849e-17</td>\n",
              "      <td>-1.762557e-17</td>\n",
              "      <td>4.952758e-17</td>\n",
              "      <td>2.882436e-16</td>\n",
              "      <td>-4.304916e-17</td>\n",
              "      <td>5.251719e-16</td>\n",
              "      <td>-1.183809e-16</td>\n",
              "      <td>1.482416e-16</td>\n",
              "      <td>-1.285716e-16</td>\n",
              "      <td>2.336038e-16</td>\n",
              "      <td>-6.529193e-17</td>\n",
              "      <td>4.836026e-17</td>\n",
              "      <td>-7.474752e-18</td>\n",
              "      <td>-1.049309e-17</td>\n",
              "      <td>-1.121515e-16</td>\n",
              "      <td>-2.337245e-16</td>\n",
              "      <td>2.210358e-16</td>\n",
              "      <td>1.411136e-17</td>\n",
              "      <td>-1.089534e-16</td>\n",
              "      <td>1.452367e-15</td>\n",
              "      <td>-3.500577e-17</td>\n",
              "      <td>-1.629033e-17</td>\n",
              "      <td>7.322540e-17</td>\n",
              "      <td>-3.207880e-16</td>\n",
              "      <td>-3.993761e-16</td>\n",
              "      <td>-5.060800e-16</td>\n",
              "      <td>-1.097049e-16</td>\n",
              "      <td>-3.624885e-16</td>\n",
              "      <td>6.665004e-17</td>\n",
              "      <td>1.355622e-16</td>\n",
              "      <td>-2.299959e-17</td>\n",
              "      <td>-1.006126e-19</td>\n",
              "      <td>1.055565e-16</td>\n",
              "      <td>-1.180376e-16</td>\n",
              "      <td>-2.897176e-16</td>\n",
              "      <td>3.000000e+00</td>\n",
              "      <td>-3.330669e-16</td>\n",
              "    </tr>\n",
              "    <tr>\n",
              "      <th>4</th>\n",
              "      <td>-8.900564e-33</td>\n",
              "      <td>1.321044e-35</td>\n",
              "      <td>-4.179715e-31</td>\n",
              "      <td>1.660822e-32</td>\n",
              "      <td>-4.349805e-34</td>\n",
              "      <td>-5.149711e-17</td>\n",
              "      <td>-1.224288e-16</td>\n",
              "      <td>4.309451e-33</td>\n",
              "      <td>-2.724217e-17</td>\n",
              "      <td>-3.074462e-32</td>\n",
              "      <td>4.455524e-17</td>\n",
              "      <td>-1.679687e-32</td>\n",
              "      <td>2.043248e-32</td>\n",
              "      <td>6.235111e-17</td>\n",
              "      <td>3.953227e-32</td>\n",
              "      <td>-1.350421e-32</td>\n",
              "      <td>1.292874e-32</td>\n",
              "      <td>-8.231933e-34</td>\n",
              "      <td>-3.721110e-18</td>\n",
              "      <td>-2.241661e-32</td>\n",
              "      <td>-5.564713e-32</td>\n",
              "      <td>4.258337e-33</td>\n",
              "      <td>7.039287e-33</td>\n",
              "      <td>-1.264240e-32</td>\n",
              "      <td>8.471218e-18</td>\n",
              "      <td>-1.113378e-32</td>\n",
              "      <td>-3.919463e-33</td>\n",
              "      <td>2.611236e-32</td>\n",
              "      <td>-1.094781e-32</td>\n",
              "      <td>-1.117816e-31</td>\n",
              "      <td>-1.034740e-32</td>\n",
              "      <td>-1.496966e-32</td>\n",
              "      <td>-6.948557e-18</td>\n",
              "      <td>1.719166e-32</td>\n",
              "      <td>2.315863e-32</td>\n",
              "      <td>-3.643515e-33</td>\n",
              "      <td>-4.420461e-35</td>\n",
              "      <td>-1.012604e-16</td>\n",
              "      <td>-2.863946e-32</td>\n",
              "      <td>-3.628291e-33</td>\n",
              "      <td>2.351893e-17</td>\n",
              "      <td>-9.304033e-32</td>\n",
              "    </tr>\n",
              "  </tbody>\n",
              "</table>\n",
              "</div>"
            ],
            "text/plain": [
              "product_id         374           3097   ...         31599         32060\n",
              "0          -8.492478e-18  7.774402e-20  ...  5.000000e+00 -5.551115e-16\n",
              "1           8.653257e-34  3.588028e-36  ...  7.367860e-17 -4.274988e-32\n",
              "2           1.610400e-32  1.442572e-35  ... -1.698496e-18  1.542909e-32\n",
              "3          -5.095487e-18  4.664641e-20  ...  3.000000e+00 -3.330669e-16\n",
              "4          -8.900564e-33  1.321044e-35  ...  2.351893e-17 -9.304033e-32\n",
              "\n",
              "[5 rows x 42 columns]"
            ]
          },
          "metadata": {
            "tags": []
          },
          "execution_count": 139
        }
      ]
    },
    {
      "cell_type": "code",
      "metadata": {
        "id": "BxREOrXhtxTE"
      },
      "source": [
        "# Recommend the items with the highest predicted ratings\n",
        "\n",
        "def recommend_items(userID, pivot_df, preds_df, num_recommendations):\n",
        "    # index starts at 0  \n",
        "    user_idx = userID-1 \n",
        "    # Get and sort the user's ratings\n",
        "    sorted_user_ratings = pivot_df.iloc[user_idx].sort_values(ascending=False)\n",
        "    #sorted_user_ratings\n",
        "    sorted_user_predictions = preds_df.iloc[user_idx].sort_values(ascending=False)\n",
        "    #sorted_user_predictions\n",
        "    temp = pd.concat([sorted_user_ratings, sorted_user_predictions], axis=1)\n",
        "    temp.index.name = 'Recommended Items'\n",
        "    temp.columns = ['user_ratings', 'user_predictions']\n",
        "    temp = temp.loc[temp.user_ratings == 0]   \n",
        "    temp = temp.sort_values('user_predictions', ascending=False)\n",
        "    print('\\nBelow are the recommended items for user(user_id = {}):\\n'.format(userID))\n",
        "    print(temp.head(num_recommendations))"
      ],
      "execution_count": 140,
      "outputs": []
    },
    {
      "cell_type": "code",
      "metadata": {
        "colab": {
          "base_uri": "https://localhost:8080/"
        },
        "id": "Or8lwiC9uDlT",
        "outputId": "d1f5b29d-0ac3-4940-e0ef-5cb66d31afa7"
      },
      "source": [
        "userID = 1\n",
        "num_recommendations =5\n",
        "recommend_items(userID, matrix_df, preds_df, num_recommendations)"
      ],
      "execution_count": 141,
      "outputs": [
        {
          "output_type": "stream",
          "text": [
            "\n",
            "Below are the recommended items for user(user_id = 1):\n",
            "\n",
            "                   user_ratings  user_predictions\n",
            "Recommended Items                                \n",
            "20609                       0.0      2.420612e-15\n",
            "10982                       0.0      8.752865e-16\n",
            "8833                        0.0      4.804059e-16\n",
            "14326                       0.0      3.893397e-16\n",
            "18199                       0.0      3.683930e-16\n"
          ],
          "name": "stdout"
        }
      ]
    },
    {
      "cell_type": "code",
      "metadata": {
        "colab": {
          "base_uri": "https://localhost:8080/"
        },
        "id": "TsQx2d0CuMeL",
        "outputId": "ee6835fd-52f4-41f0-9c65-e518faebcd6b"
      },
      "source": [
        "#calculating rmse\n",
        "print(\"RMSE collaborative model: \", sqrt(mean_squared_error(matrix_df.mean(), \n",
        "                                                       preds_df.mean())))"
      ],
      "execution_count": 142,
      "outputs": [
        {
          "output_type": "stream",
          "text": [
            "RMSE collaborative model:  0.05405024117826457\n"
          ],
          "name": "stdout"
        }
      ]
    },
    {
      "cell_type": "code",
      "metadata": {
        "id": "8-VALGFvvRVv"
      },
      "source": [
        ""
      ],
      "execution_count": null,
      "outputs": []
    }
  ]
}