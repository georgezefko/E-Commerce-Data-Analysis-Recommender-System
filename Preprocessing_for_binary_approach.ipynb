{
 "cells": [
  {
   "cell_type": "code",
   "execution_count": 66,
   "id": "mental-facial",
   "metadata": {},
   "outputs": [],
   "source": [
    "import pandas as pd\n",
    "import numpy as np\n",
    "import matplotlib.pyplot as plt\n",
    "import seaborn as sns\n",
    "\n",
    "\n",
    "from sklearn.model_selection import train_test_split\n",
    "from sklearn.preprocessing import OrdinalEncoder,LabelEncoder, StandardScaler\n",
    "from keras.models import Model\n",
    "from keras.layers import Input, Reshape, Dot, Add, Activation, Lambda, Concatenate, Dense, Dropout\n",
    "from keras.layers.embeddings import Embedding\n",
    "from keras.optimizers import Adam\n",
    "from keras.regularizers import l2\n",
    "from sklearn.metrics import accuracy_score\n",
    "from sklearn.metrics import confusion_matrix\n",
    "from sklearn.utils.multiclass import unique_labels\n",
    "from sklearn.model_selection import KFold, StratifiedKFold\n",
    "from keras.callbacks import ModelCheckpoint\n",
    "from keras import backend\n",
    "import pickle"
   ]
  },
  {
   "cell_type": "code",
   "execution_count": 31,
   "id": "fitting-combine",
   "metadata": {},
   "outputs": [],
   "source": [
    "path = '..'\n",
    "df = pd.read_csv(path + '/recommender.csv')"
   ]
  },
  {
   "cell_type": "code",
   "execution_count": 4,
   "id": "pretty-limit",
   "metadata": {},
   "outputs": [],
   "source": [
    "#df = df.drop_duplicates()"
   ]
  },
  {
   "cell_type": "code",
   "execution_count": 6,
   "id": "independent-cliff",
   "metadata": {},
   "outputs": [],
   "source": [
    "#df.to_csv('../recommender.csv', index=False)"
   ]
  },
  {
   "cell_type": "code",
   "execution_count": 32,
   "id": "unique-glasgow",
   "metadata": {},
   "outputs": [
    {
     "data": {
      "text/html": [
       "<div>\n",
       "<style scoped>\n",
       "    .dataframe tbody tr th:only-of-type {\n",
       "        vertical-align: middle;\n",
       "    }\n",
       "\n",
       "    .dataframe tbody tr th {\n",
       "        vertical-align: top;\n",
       "    }\n",
       "\n",
       "    .dataframe thead th {\n",
       "        text-align: right;\n",
       "    }\n",
       "</style>\n",
       "<table border=\"1\" class=\"dataframe\">\n",
       "  <thead>\n",
       "    <tr style=\"text-align: right;\">\n",
       "      <th></th>\n",
       "      <th>review_score</th>\n",
       "      <th>price</th>\n",
       "      <th>customer_state</th>\n",
       "      <th>order_status</th>\n",
       "      <th>seller_state</th>\n",
       "      <th>order_item_id</th>\n",
       "      <th>product_category_name_english</th>\n",
       "      <th>customer_unique_id</th>\n",
       "      <th>order_purchase_timestamp</th>\n",
       "      <th>geolocation_lat</th>\n",
       "      <th>geolocation_lng</th>\n",
       "      <th>product_id</th>\n",
       "    </tr>\n",
       "  </thead>\n",
       "  <tbody>\n",
       "    <tr>\n",
       "      <th>0</th>\n",
       "      <td>4</td>\n",
       "      <td>29.99</td>\n",
       "      <td>SP</td>\n",
       "      <td>delivered</td>\n",
       "      <td>SP</td>\n",
       "      <td>1</td>\n",
       "      <td>housewares</td>\n",
       "      <td>7c396fd4830fd04220f754e42b4e5bff</td>\n",
       "      <td>2017-10-02 10:56:33</td>\n",
       "      <td>-23.680114</td>\n",
       "      <td>-46.452454</td>\n",
       "      <td>87285b34884572647811a353c7ac498a</td>\n",
       "    </tr>\n",
       "    <tr>\n",
       "      <th>1</th>\n",
       "      <td>4</td>\n",
       "      <td>29.99</td>\n",
       "      <td>SP</td>\n",
       "      <td>delivered</td>\n",
       "      <td>SP</td>\n",
       "      <td>1</td>\n",
       "      <td>housewares</td>\n",
       "      <td>7c396fd4830fd04220f754e42b4e5bff</td>\n",
       "      <td>2017-10-02 10:56:33</td>\n",
       "      <td>-23.675223</td>\n",
       "      <td>-46.441038</td>\n",
       "      <td>87285b34884572647811a353c7ac498a</td>\n",
       "    </tr>\n",
       "    <tr>\n",
       "      <th>2</th>\n",
       "      <td>4</td>\n",
       "      <td>29.99</td>\n",
       "      <td>SP</td>\n",
       "      <td>delivered</td>\n",
       "      <td>SP</td>\n",
       "      <td>1</td>\n",
       "      <td>housewares</td>\n",
       "      <td>7c396fd4830fd04220f754e42b4e5bff</td>\n",
       "      <td>2017-10-02 10:56:33</td>\n",
       "      <td>-23.685712</td>\n",
       "      <td>-46.444796</td>\n",
       "      <td>87285b34884572647811a353c7ac498a</td>\n",
       "    </tr>\n",
       "    <tr>\n",
       "      <th>3</th>\n",
       "      <td>4</td>\n",
       "      <td>29.99</td>\n",
       "      <td>SP</td>\n",
       "      <td>delivered</td>\n",
       "      <td>SP</td>\n",
       "      <td>1</td>\n",
       "      <td>housewares</td>\n",
       "      <td>7c396fd4830fd04220f754e42b4e5bff</td>\n",
       "      <td>2017-10-02 10:56:33</td>\n",
       "      <td>-23.679951</td>\n",
       "      <td>-46.448247</td>\n",
       "      <td>87285b34884572647811a353c7ac498a</td>\n",
       "    </tr>\n",
       "    <tr>\n",
       "      <th>4</th>\n",
       "      <td>4</td>\n",
       "      <td>29.99</td>\n",
       "      <td>SP</td>\n",
       "      <td>delivered</td>\n",
       "      <td>SP</td>\n",
       "      <td>1</td>\n",
       "      <td>housewares</td>\n",
       "      <td>7c396fd4830fd04220f754e42b4e5bff</td>\n",
       "      <td>2017-10-02 10:56:33</td>\n",
       "      <td>-23.678662</td>\n",
       "      <td>-46.442578</td>\n",
       "      <td>87285b34884572647811a353c7ac498a</td>\n",
       "    </tr>\n",
       "  </tbody>\n",
       "</table>\n",
       "</div>"
      ],
      "text/plain": [
       "   review_score  price customer_state order_status seller_state  \\\n",
       "0             4  29.99             SP    delivered           SP   \n",
       "1             4  29.99             SP    delivered           SP   \n",
       "2             4  29.99             SP    delivered           SP   \n",
       "3             4  29.99             SP    delivered           SP   \n",
       "4             4  29.99             SP    delivered           SP   \n",
       "\n",
       "   order_item_id product_category_name_english  \\\n",
       "0              1                    housewares   \n",
       "1              1                    housewares   \n",
       "2              1                    housewares   \n",
       "3              1                    housewares   \n",
       "4              1                    housewares   \n",
       "\n",
       "                 customer_unique_id order_purchase_timestamp  geolocation_lat  \\\n",
       "0  7c396fd4830fd04220f754e42b4e5bff      2017-10-02 10:56:33       -23.680114   \n",
       "1  7c396fd4830fd04220f754e42b4e5bff      2017-10-02 10:56:33       -23.675223   \n",
       "2  7c396fd4830fd04220f754e42b4e5bff      2017-10-02 10:56:33       -23.685712   \n",
       "3  7c396fd4830fd04220f754e42b4e5bff      2017-10-02 10:56:33       -23.679951   \n",
       "4  7c396fd4830fd04220f754e42b4e5bff      2017-10-02 10:56:33       -23.678662   \n",
       "\n",
       "   geolocation_lng                        product_id  \n",
       "0       -46.452454  87285b34884572647811a353c7ac498a  \n",
       "1       -46.441038  87285b34884572647811a353c7ac498a  \n",
       "2       -46.444796  87285b34884572647811a353c7ac498a  \n",
       "3       -46.448247  87285b34884572647811a353c7ac498a  \n",
       "4       -46.442578  87285b34884572647811a353c7ac498a  "
      ]
     },
     "execution_count": 32,
     "metadata": {},
     "output_type": "execute_result"
    }
   ],
   "source": [
    "df.head()"
   ]
  },
  {
   "cell_type": "code",
   "execution_count": 33,
   "id": "sustainable-serial",
   "metadata": {},
   "outputs": [],
   "source": [
    "df = df.loc[:,'product_category_name_english,price,seller_state,customer_unique_id,product_id,review_score,order_purchase_timestamp'.split(',')].drop_duplicates()"
   ]
  },
  {
   "cell_type": "code",
   "execution_count": 34,
   "id": "permanent-carpet",
   "metadata": {},
   "outputs": [],
   "source": [
    "def binarize_ratings(rating):\n",
    "    if rating == 5:\n",
    "        return 1\n",
    "    else:\n",
    "        return 0"
   ]
  },
  {
   "cell_type": "code",
   "execution_count": 35,
   "id": "bizarre-likelihood",
   "metadata": {},
   "outputs": [],
   "source": [
    "df['rating'] = df['review_score'].apply(binarize_ratings)"
   ]
  },
  {
   "cell_type": "code",
   "execution_count": 36,
   "id": "colored-distributor",
   "metadata": {},
   "outputs": [
    {
     "data": {
      "text/plain": [
       "1    57706\n",
       "0    43211\n",
       "Name: rating, dtype: int64"
      ]
     },
     "execution_count": 36,
     "metadata": {},
     "output_type": "execute_result"
    }
   ],
   "source": [
    "df.rating.value_counts()"
   ]
  },
  {
   "cell_type": "code",
   "execution_count": 37,
   "id": "double-department",
   "metadata": {},
   "outputs": [
    {
     "data": {
      "text/html": [
       "<div>\n",
       "<style scoped>\n",
       "    .dataframe tbody tr th:only-of-type {\n",
       "        vertical-align: middle;\n",
       "    }\n",
       "\n",
       "    .dataframe tbody tr th {\n",
       "        vertical-align: top;\n",
       "    }\n",
       "\n",
       "    .dataframe thead th {\n",
       "        text-align: right;\n",
       "    }\n",
       "</style>\n",
       "<table border=\"1\" class=\"dataframe\">\n",
       "  <thead>\n",
       "    <tr style=\"text-align: right;\">\n",
       "      <th></th>\n",
       "      <th>product_category_name_english</th>\n",
       "      <th>price</th>\n",
       "      <th>seller_state</th>\n",
       "      <th>customer_unique_id</th>\n",
       "      <th>product_id</th>\n",
       "      <th>review_score</th>\n",
       "      <th>order_purchase_timestamp</th>\n",
       "      <th>rating</th>\n",
       "    </tr>\n",
       "  </thead>\n",
       "  <tbody>\n",
       "    <tr>\n",
       "      <th>0</th>\n",
       "      <td>housewares</td>\n",
       "      <td>29.99</td>\n",
       "      <td>SP</td>\n",
       "      <td>7c396fd4830fd04220f754e42b4e5bff</td>\n",
       "      <td>87285b34884572647811a353c7ac498a</td>\n",
       "      <td>4</td>\n",
       "      <td>2017-10-02 10:56:33</td>\n",
       "      <td>0</td>\n",
       "    </tr>\n",
       "    <tr>\n",
       "      <th>175</th>\n",
       "      <td>housewares</td>\n",
       "      <td>29.99</td>\n",
       "      <td>SP</td>\n",
       "      <td>3a51803cc0d012c3b5dc8b7528cb05f7</td>\n",
       "      <td>87285b34884572647811a353c7ac498a</td>\n",
       "      <td>4</td>\n",
       "      <td>2017-08-15 18:29:31</td>\n",
       "      <td>0</td>\n",
       "    </tr>\n",
       "    <tr>\n",
       "      <th>350</th>\n",
       "      <td>housewares</td>\n",
       "      <td>29.99</td>\n",
       "      <td>SP</td>\n",
       "      <td>ef0996a1a279c26e7ecbd737be23d235</td>\n",
       "      <td>87285b34884572647811a353c7ac498a</td>\n",
       "      <td>5</td>\n",
       "      <td>2017-08-02 18:24:47</td>\n",
       "      <td>1</td>\n",
       "    </tr>\n",
       "    <tr>\n",
       "      <th>525</th>\n",
       "      <td>housewares</td>\n",
       "      <td>29.99</td>\n",
       "      <td>SP</td>\n",
       "      <td>e781fdcc107d13d865fc7698711cc572</td>\n",
       "      <td>87285b34884572647811a353c7ac498a</td>\n",
       "      <td>3</td>\n",
       "      <td>2017-10-23 23:26:46</td>\n",
       "      <td>0</td>\n",
       "    </tr>\n",
       "    <tr>\n",
       "      <th>700</th>\n",
       "      <td>housewares</td>\n",
       "      <td>46.80</td>\n",
       "      <td>SP</td>\n",
       "      <td>7a1de9bde89aedca8c5fbad489c5571c</td>\n",
       "      <td>be03d93320192443b8fa24c0ca6ead98</td>\n",
       "      <td>1</td>\n",
       "      <td>2017-08-24 11:31:28</td>\n",
       "      <td>0</td>\n",
       "    </tr>\n",
       "  </tbody>\n",
       "</table>\n",
       "</div>"
      ],
      "text/plain": [
       "    product_category_name_english  price seller_state  \\\n",
       "0                      housewares  29.99           SP   \n",
       "175                    housewares  29.99           SP   \n",
       "350                    housewares  29.99           SP   \n",
       "525                    housewares  29.99           SP   \n",
       "700                    housewares  46.80           SP   \n",
       "\n",
       "                   customer_unique_id                        product_id  \\\n",
       "0    7c396fd4830fd04220f754e42b4e5bff  87285b34884572647811a353c7ac498a   \n",
       "175  3a51803cc0d012c3b5dc8b7528cb05f7  87285b34884572647811a353c7ac498a   \n",
       "350  ef0996a1a279c26e7ecbd737be23d235  87285b34884572647811a353c7ac498a   \n",
       "525  e781fdcc107d13d865fc7698711cc572  87285b34884572647811a353c7ac498a   \n",
       "700  7a1de9bde89aedca8c5fbad489c5571c  be03d93320192443b8fa24c0ca6ead98   \n",
       "\n",
       "     review_score order_purchase_timestamp  rating  \n",
       "0               4      2017-10-02 10:56:33       0  \n",
       "175             4      2017-08-15 18:29:31       0  \n",
       "350             5      2017-08-02 18:24:47       1  \n",
       "525             3      2017-10-23 23:26:46       0  \n",
       "700             1      2017-08-24 11:31:28       0  "
      ]
     },
     "execution_count": 37,
     "metadata": {},
     "output_type": "execute_result"
    }
   ],
   "source": [
    "df.head()"
   ]
  },
  {
   "cell_type": "code",
   "execution_count": 42,
   "id": "applicable-scout",
   "metadata": {},
   "outputs": [],
   "source": [
    "def encode_columns(df, columns_encoded, columns_to_enc):\n",
    "    encoders = dict()\n",
    "    uniques = dict()\n",
    "    for col_enc, col2enc in zip (columns_encoded, columns_to_enc):\n",
    "        enc = LabelEncoder()\n",
    "        df[col_enc] = enc.fit_transform(df[col2enc].values)\n",
    "        n = df[col_enc].nunique() # to be corrected, nunique\n",
    "        encoders[col_enc] = enc\n",
    "        uniques[col_enc] = n\n",
    "    return df, uniques, encoders"
   ]
  },
  {
   "cell_type": "code",
   "execution_count": 43,
   "id": "higher-quarter",
   "metadata": {},
   "outputs": [],
   "source": [
    "df_enc, unique_numbers, encoders = encode_columns(df, 'category,state,customer,product'.split(','), 'product_category_name_english,seller_state,customer_unique_id,product_id'.split(','))"
   ]
  },
  {
   "cell_type": "code",
   "execution_count": 44,
   "id": "perceived-warrant",
   "metadata": {},
   "outputs": [
    {
     "data": {
      "text/plain": [
       "{'category': 71, 'state': 23, 'customer': 93885, 'product': 32267}"
      ]
     },
     "execution_count": 44,
     "metadata": {},
     "output_type": "execute_result"
    }
   ],
   "source": [
    "unique_numbers"
   ]
  },
  {
   "cell_type": "code",
   "execution_count": 45,
   "id": "lesbian-frank",
   "metadata": {},
   "outputs": [
    {
     "data": {
      "text/plain": [
       "{'category': LabelEncoder(),\n",
       " 'state': LabelEncoder(),\n",
       " 'customer': LabelEncoder(),\n",
       " 'product': LabelEncoder()}"
      ]
     },
     "execution_count": 45,
     "metadata": {},
     "output_type": "execute_result"
    }
   ],
   "source": [
    "encoders"
   ]
  },
  {
   "cell_type": "code",
   "execution_count": 46,
   "id": "hollow-delay",
   "metadata": {},
   "outputs": [
    {
     "data": {
      "text/html": [
       "<div>\n",
       "<style scoped>\n",
       "    .dataframe tbody tr th:only-of-type {\n",
       "        vertical-align: middle;\n",
       "    }\n",
       "\n",
       "    .dataframe tbody tr th {\n",
       "        vertical-align: top;\n",
       "    }\n",
       "\n",
       "    .dataframe thead th {\n",
       "        text-align: right;\n",
       "    }\n",
       "</style>\n",
       "<table border=\"1\" class=\"dataframe\">\n",
       "  <thead>\n",
       "    <tr style=\"text-align: right;\">\n",
       "      <th></th>\n",
       "      <th>product_category_name_english</th>\n",
       "      <th>price</th>\n",
       "      <th>seller_state</th>\n",
       "      <th>customer_unique_id</th>\n",
       "      <th>product_id</th>\n",
       "      <th>review_score</th>\n",
       "      <th>order_purchase_timestamp</th>\n",
       "      <th>rating</th>\n",
       "      <th>category</th>\n",
       "      <th>state</th>\n",
       "      <th>customer</th>\n",
       "      <th>product</th>\n",
       "    </tr>\n",
       "  </thead>\n",
       "  <tbody>\n",
       "    <tr>\n",
       "      <th>0</th>\n",
       "      <td>housewares</td>\n",
       "      <td>29.99</td>\n",
       "      <td>SP</td>\n",
       "      <td>7c396fd4830fd04220f754e42b4e5bff</td>\n",
       "      <td>87285b34884572647811a353c7ac498a</td>\n",
       "      <td>4</td>\n",
       "      <td>2017-10-02 10:56:33</td>\n",
       "      <td>0</td>\n",
       "      <td>49</td>\n",
       "      <td>22</td>\n",
       "      <td>45665</td>\n",
       "      <td>17076</td>\n",
       "    </tr>\n",
       "    <tr>\n",
       "      <th>175</th>\n",
       "      <td>housewares</td>\n",
       "      <td>29.99</td>\n",
       "      <td>SP</td>\n",
       "      <td>3a51803cc0d012c3b5dc8b7528cb05f7</td>\n",
       "      <td>87285b34884572647811a353c7ac498a</td>\n",
       "      <td>4</td>\n",
       "      <td>2017-08-15 18:29:31</td>\n",
       "      <td>0</td>\n",
       "      <td>49</td>\n",
       "      <td>22</td>\n",
       "      <td>21482</td>\n",
       "      <td>17076</td>\n",
       "    </tr>\n",
       "    <tr>\n",
       "      <th>350</th>\n",
       "      <td>housewares</td>\n",
       "      <td>29.99</td>\n",
       "      <td>SP</td>\n",
       "      <td>ef0996a1a279c26e7ecbd737be23d235</td>\n",
       "      <td>87285b34884572647811a353c7ac498a</td>\n",
       "      <td>5</td>\n",
       "      <td>2017-08-02 18:24:47</td>\n",
       "      <td>1</td>\n",
       "      <td>49</td>\n",
       "      <td>22</td>\n",
       "      <td>87743</td>\n",
       "      <td>17076</td>\n",
       "    </tr>\n",
       "    <tr>\n",
       "      <th>525</th>\n",
       "      <td>housewares</td>\n",
       "      <td>29.99</td>\n",
       "      <td>SP</td>\n",
       "      <td>e781fdcc107d13d865fc7698711cc572</td>\n",
       "      <td>87285b34884572647811a353c7ac498a</td>\n",
       "      <td>3</td>\n",
       "      <td>2017-10-23 23:26:46</td>\n",
       "      <td>0</td>\n",
       "      <td>49</td>\n",
       "      <td>22</td>\n",
       "      <td>85045</td>\n",
       "      <td>17076</td>\n",
       "    </tr>\n",
       "    <tr>\n",
       "      <th>700</th>\n",
       "      <td>housewares</td>\n",
       "      <td>46.80</td>\n",
       "      <td>SP</td>\n",
       "      <td>7a1de9bde89aedca8c5fbad489c5571c</td>\n",
       "      <td>be03d93320192443b8fa24c0ca6ead98</td>\n",
       "      <td>1</td>\n",
       "      <td>2017-08-24 11:31:28</td>\n",
       "      <td>0</td>\n",
       "      <td>49</td>\n",
       "      <td>22</td>\n",
       "      <td>44869</td>\n",
       "      <td>23910</td>\n",
       "    </tr>\n",
       "    <tr>\n",
       "      <th>...</th>\n",
       "      <td>...</td>\n",
       "      <td>...</td>\n",
       "      <td>...</td>\n",
       "      <td>...</td>\n",
       "      <td>...</td>\n",
       "      <td>...</td>\n",
       "      <td>...</td>\n",
       "      <td>...</td>\n",
       "      <td>...</td>\n",
       "      <td>...</td>\n",
       "      <td>...</td>\n",
       "      <td>...</td>\n",
       "    </tr>\n",
       "    <tr>\n",
       "      <th>11840538</th>\n",
       "      <td>diapers_and_hygiene</td>\n",
       "      <td>38.00</td>\n",
       "      <td>SP</td>\n",
       "      <td>8acb1258c5469e79f1fb80009d33d953</td>\n",
       "      <td>f83fd2b539bc73678c65be8d418be8c1</td>\n",
       "      <td>1</td>\n",
       "      <td>2017-12-06 14:04:08</td>\n",
       "      <td>0</td>\n",
       "      <td>23</td>\n",
       "      <td>22</td>\n",
       "      <td>50920</td>\n",
       "      <td>31300</td>\n",
       "    </tr>\n",
       "    <tr>\n",
       "      <th>11840626</th>\n",
       "      <td>diapers_and_hygiene</td>\n",
       "      <td>38.00</td>\n",
       "      <td>SP</td>\n",
       "      <td>00ca7e6a87ceddccce3ff015000be61b</td>\n",
       "      <td>f83fd2b539bc73678c65be8d418be8c1</td>\n",
       "      <td>1</td>\n",
       "      <td>2018-03-19 22:33:16</td>\n",
       "      <td>0</td>\n",
       "      <td>23</td>\n",
       "      <td>22</td>\n",
       "      <td>303</td>\n",
       "      <td>31300</td>\n",
       "    </tr>\n",
       "    <tr>\n",
       "      <th>11840670</th>\n",
       "      <td>diapers_and_hygiene</td>\n",
       "      <td>45.00</td>\n",
       "      <td>SP</td>\n",
       "      <td>c6c805ba1449708b259b6da9375318ec</td>\n",
       "      <td>5a92ef8a5a2511f0d2dff3ea562700ab</td>\n",
       "      <td>5</td>\n",
       "      <td>2018-04-28 02:23:24</td>\n",
       "      <td>1</td>\n",
       "      <td>23</td>\n",
       "      <td>22</td>\n",
       "      <td>72994</td>\n",
       "      <td>11513</td>\n",
       "    </tr>\n",
       "    <tr>\n",
       "      <th>11840714</th>\n",
       "      <td>diapers_and_hygiene</td>\n",
       "      <td>139.89</td>\n",
       "      <td>SC</td>\n",
       "      <td>7e3b6916cdc9629811177f17f7ab07ce</td>\n",
       "      <td>53e695484b71a194bf7d89b48700756a</td>\n",
       "      <td>5</td>\n",
       "      <td>2018-08-26 14:17:08</td>\n",
       "      <td>1</td>\n",
       "      <td>23</td>\n",
       "      <td>20</td>\n",
       "      <td>46428</td>\n",
       "      <td>10667</td>\n",
       "    </tr>\n",
       "    <tr>\n",
       "      <th>11840734</th>\n",
       "      <td>diapers_and_hygiene</td>\n",
       "      <td>28.80</td>\n",
       "      <td>SP</td>\n",
       "      <td>ab4a2b8d2a955029eb49579cbb027994</td>\n",
       "      <td>47488bf996fd46283813059897e71e1e</td>\n",
       "      <td>1</td>\n",
       "      <td>2018-07-26 12:45:33</td>\n",
       "      <td>0</td>\n",
       "      <td>23</td>\n",
       "      <td>22</td>\n",
       "      <td>62944</td>\n",
       "      <td>9080</td>\n",
       "    </tr>\n",
       "  </tbody>\n",
       "</table>\n",
       "<p>100917 rows × 12 columns</p>\n",
       "</div>"
      ],
      "text/plain": [
       "         product_category_name_english   price seller_state  \\\n",
       "0                           housewares   29.99           SP   \n",
       "175                         housewares   29.99           SP   \n",
       "350                         housewares   29.99           SP   \n",
       "525                         housewares   29.99           SP   \n",
       "700                         housewares   46.80           SP   \n",
       "...                                ...     ...          ...   \n",
       "11840538           diapers_and_hygiene   38.00           SP   \n",
       "11840626           diapers_and_hygiene   38.00           SP   \n",
       "11840670           diapers_and_hygiene   45.00           SP   \n",
       "11840714           diapers_and_hygiene  139.89           SC   \n",
       "11840734           diapers_and_hygiene   28.80           SP   \n",
       "\n",
       "                        customer_unique_id                        product_id  \\\n",
       "0         7c396fd4830fd04220f754e42b4e5bff  87285b34884572647811a353c7ac498a   \n",
       "175       3a51803cc0d012c3b5dc8b7528cb05f7  87285b34884572647811a353c7ac498a   \n",
       "350       ef0996a1a279c26e7ecbd737be23d235  87285b34884572647811a353c7ac498a   \n",
       "525       e781fdcc107d13d865fc7698711cc572  87285b34884572647811a353c7ac498a   \n",
       "700       7a1de9bde89aedca8c5fbad489c5571c  be03d93320192443b8fa24c0ca6ead98   \n",
       "...                                    ...                               ...   \n",
       "11840538  8acb1258c5469e79f1fb80009d33d953  f83fd2b539bc73678c65be8d418be8c1   \n",
       "11840626  00ca7e6a87ceddccce3ff015000be61b  f83fd2b539bc73678c65be8d418be8c1   \n",
       "11840670  c6c805ba1449708b259b6da9375318ec  5a92ef8a5a2511f0d2dff3ea562700ab   \n",
       "11840714  7e3b6916cdc9629811177f17f7ab07ce  53e695484b71a194bf7d89b48700756a   \n",
       "11840734  ab4a2b8d2a955029eb49579cbb027994  47488bf996fd46283813059897e71e1e   \n",
       "\n",
       "          review_score order_purchase_timestamp  rating  category  state  \\\n",
       "0                    4      2017-10-02 10:56:33       0        49     22   \n",
       "175                  4      2017-08-15 18:29:31       0        49     22   \n",
       "350                  5      2017-08-02 18:24:47       1        49     22   \n",
       "525                  3      2017-10-23 23:26:46       0        49     22   \n",
       "700                  1      2017-08-24 11:31:28       0        49     22   \n",
       "...                ...                      ...     ...       ...    ...   \n",
       "11840538             1      2017-12-06 14:04:08       0        23     22   \n",
       "11840626             1      2018-03-19 22:33:16       0        23     22   \n",
       "11840670             5      2018-04-28 02:23:24       1        23     22   \n",
       "11840714             5      2018-08-26 14:17:08       1        23     20   \n",
       "11840734             1      2018-07-26 12:45:33       0        23     22   \n",
       "\n",
       "          customer  product  \n",
       "0            45665    17076  \n",
       "175          21482    17076  \n",
       "350          87743    17076  \n",
       "525          85045    17076  \n",
       "700          44869    23910  \n",
       "...            ...      ...  \n",
       "11840538     50920    31300  \n",
       "11840626       303    31300  \n",
       "11840670     72994    11513  \n",
       "11840714     46428    10667  \n",
       "11840734     62944     9080  \n",
       "\n",
       "[100917 rows x 12 columns]"
      ]
     },
     "execution_count": 46,
     "metadata": {},
     "output_type": "execute_result"
    }
   ],
   "source": [
    "df_enc"
   ]
  },
  {
   "cell_type": "code",
   "execution_count": 47,
   "id": "central-monroe",
   "metadata": {},
   "outputs": [],
   "source": [
    "df_enc.to_csv('../DL_preprocessed/recommender_with_encoded.csv')"
   ]
  },
  {
   "cell_type": "code",
   "execution_count": 49,
   "id": "supposed-cleanup",
   "metadata": {},
   "outputs": [],
   "source": [
    "df_enc.rename(columns={'order_purchase_timestamp': 'timestamp'}, inplace=True)"
   ]
  },
  {
   "cell_type": "code",
   "execution_count": 51,
   "id": "addressed-pursuit",
   "metadata": {},
   "outputs": [
    {
     "data": {
      "text/plain": [
       "<AxesSubplot:>"
      ]
     },
     "execution_count": 51,
     "metadata": {},
     "output_type": "execute_result"
    },
    {
     "data": {
      "image/png": "[encoded data removed]",
      "text/plain": [
       "<Figure size 432x288 with 1 Axes>"
      ]
     },
     "metadata": {
      "needs_background": "light"
     },
     "output_type": "display_data"
    }
   ],
   "source": [
    "df_enc.price.hist(bins=100)"
   ]
  },
  {
   "cell_type": "code",
   "execution_count": 56,
   "id": "necessary-organic",
   "metadata": {},
   "outputs": [],
   "source": [
    "price_scaler = StandardScaler()\n",
    "df_enc['scaled_price'] = price_scaler.fit_transform(df_enc.price.values.reshape(-1,1))"
   ]
  },
  {
   "cell_type": "code",
   "execution_count": null,
   "id": "complimentary-optimum",
   "metadata": {},
   "outputs": [],
   "source": []
  },
  {
   "cell_type": "code",
   "execution_count": 71,
   "id": "sustainable-coverage",
   "metadata": {},
   "outputs": [],
   "source": [
    "df_enc = df_enc.loc[:,'timestamp,category,state,customer,product,scaled_price,rating'.split(',')]"
   ]
  },
  {
   "cell_type": "code",
   "execution_count": 72,
   "id": "thick-psychiatry",
   "metadata": {},
   "outputs": [],
   "source": [
    "df_enc.to_csv('recommender_encoded.csv')"
   ]
  },
  {
   "cell_type": "code",
   "execution_count": 73,
   "id": "dominant-invention",
   "metadata": {},
   "outputs": [
    {
     "data": {
      "text/plain": [
       "51762    15\n",
       "22936    13\n",
       "10119     9\n",
       "74369     9\n",
       "19874     8\n",
       "         ..\n",
       "63497     1\n",
       "61448     1\n",
       "34823     1\n",
       "32774     1\n",
       "2047      1\n",
       "Name: customer, Length: 93885, dtype: int64"
      ]
     },
     "execution_count": 73,
     "metadata": {},
     "output_type": "execute_result"
    }
   ],
   "source": [
    "df_enc.customer.value_counts()"
   ]
  },
  {
   "cell_type": "code",
   "execution_count": 74,
   "id": "likely-lobby",
   "metadata": {},
   "outputs": [],
   "source": [
    "df_no_cold = df_enc[df_enc.groupby('customer').customer.transform('count')>1].copy()"
   ]
  },
  {
   "cell_type": "code",
   "execution_count": 75,
   "id": "increased-better",
   "metadata": {},
   "outputs": [
    {
     "data": {
      "text/plain": [
       "51762    15\n",
       "22936    13\n",
       "74369     9\n",
       "10119     9\n",
       "39170     8\n",
       "         ..\n",
       "50954     2\n",
       "61191     2\n",
       "57089     2\n",
       "55040     2\n",
       "42975     2\n",
       "Name: customer, Length: 5664, dtype: int64"
      ]
     },
     "execution_count": 75,
     "metadata": {},
     "output_type": "execute_result"
    }
   ],
   "source": [
    "df_no_cold.customer.value_counts()"
   ]
  },
  {
   "cell_type": "code",
   "execution_count": 76,
   "id": "electronic-delivery",
   "metadata": {},
   "outputs": [
    {
     "data": {
      "text/plain": [
       "100917"
      ]
     },
     "execution_count": 76,
     "metadata": {},
     "output_type": "execute_result"
    }
   ],
   "source": [
    "len(df_enc)"
   ]
  },
  {
   "cell_type": "code",
   "execution_count": 77,
   "id": "bearing-asbestos",
   "metadata": {},
   "outputs": [
    {
     "data": {
      "text/plain": [
       "12696"
      ]
     },
     "execution_count": 77,
     "metadata": {},
     "output_type": "execute_result"
    }
   ],
   "source": [
    "len(df_no_cold)"
   ]
  },
  {
   "cell_type": "code",
   "execution_count": 78,
   "id": "standard-gossip",
   "metadata": {},
   "outputs": [
    {
     "data": {
      "text/html": [
       "<div>\n",
       "<style scoped>\n",
       "    .dataframe tbody tr th:only-of-type {\n",
       "        vertical-align: middle;\n",
       "    }\n",
       "\n",
       "    .dataframe tbody tr th {\n",
       "        vertical-align: top;\n",
       "    }\n",
       "\n",
       "    .dataframe thead th {\n",
       "        text-align: right;\n",
       "    }\n",
       "</style>\n",
       "<table border=\"1\" class=\"dataframe\">\n",
       "  <thead>\n",
       "    <tr style=\"text-align: right;\">\n",
       "      <th></th>\n",
       "      <th>timestamp</th>\n",
       "      <th>category</th>\n",
       "      <th>state</th>\n",
       "      <th>customer</th>\n",
       "      <th>product</th>\n",
       "      <th>scaled_price</th>\n",
       "      <th>rating</th>\n",
       "    </tr>\n",
       "  </thead>\n",
       "  <tbody>\n",
       "    <tr>\n",
       "      <th>0</th>\n",
       "      <td>2017-10-02 10:56:33</td>\n",
       "      <td>49</td>\n",
       "      <td>22</td>\n",
       "      <td>45665</td>\n",
       "      <td>17076</td>\n",
       "      <td>-0.501005</td>\n",
       "      <td>0</td>\n",
       "    </tr>\n",
       "    <tr>\n",
       "      <th>700</th>\n",
       "      <td>2017-08-24 11:31:28</td>\n",
       "      <td>49</td>\n",
       "      <td>22</td>\n",
       "      <td>44869</td>\n",
       "      <td>23910</td>\n",
       "      <td>-0.411884</td>\n",
       "      <td>0</td>\n",
       "    </tr>\n",
       "    <tr>\n",
       "      <th>5075</th>\n",
       "      <td>2017-08-05 14:52:23</td>\n",
       "      <td>49</td>\n",
       "      <td>22</td>\n",
       "      <td>2937</td>\n",
       "      <td>1466</td>\n",
       "      <td>-0.533291</td>\n",
       "      <td>1</td>\n",
       "    </tr>\n",
       "    <tr>\n",
       "      <th>17885</th>\n",
       "      <td>2017-05-20 15:56:32</td>\n",
       "      <td>49</td>\n",
       "      <td>8</td>\n",
       "      <td>15170</td>\n",
       "      <td>7538</td>\n",
       "      <td>0.134714</td>\n",
       "      <td>1</td>\n",
       "    </tr>\n",
       "    <tr>\n",
       "      <th>23537</th>\n",
       "      <td>2017-09-30 14:48:37</td>\n",
       "      <td>49</td>\n",
       "      <td>22</td>\n",
       "      <td>42130</td>\n",
       "      <td>27460</td>\n",
       "      <td>-0.342433</td>\n",
       "      <td>1</td>\n",
       "    </tr>\n",
       "    <tr>\n",
       "      <th>...</th>\n",
       "      <td>...</td>\n",
       "      <td>...</td>\n",
       "      <td>...</td>\n",
       "      <td>...</td>\n",
       "      <td>...</td>\n",
       "      <td>...</td>\n",
       "      <td>...</td>\n",
       "    </tr>\n",
       "    <tr>\n",
       "      <th>11835125</th>\n",
       "      <td>2018-06-12 15:58:03</td>\n",
       "      <td>13</td>\n",
       "      <td>22</td>\n",
       "      <td>2712</td>\n",
       "      <td>18910</td>\n",
       "      <td>-0.253630</td>\n",
       "      <td>0</td>\n",
       "    </tr>\n",
       "    <tr>\n",
       "      <th>11835992</th>\n",
       "      <td>2018-05-15 17:33:50</td>\n",
       "      <td>13</td>\n",
       "      <td>22</td>\n",
       "      <td>62110</td>\n",
       "      <td>29436</td>\n",
       "      <td>-0.395979</td>\n",
       "      <td>1</td>\n",
       "    </tr>\n",
       "    <tr>\n",
       "      <th>11837125</th>\n",
       "      <td>2018-06-12 15:58:03</td>\n",
       "      <td>13</td>\n",
       "      <td>22</td>\n",
       "      <td>2712</td>\n",
       "      <td>14713</td>\n",
       "      <td>-0.008430</td>\n",
       "      <td>0</td>\n",
       "    </tr>\n",
       "    <tr>\n",
       "      <th>11840098</th>\n",
       "      <td>2018-03-26 03:50:48</td>\n",
       "      <td>23</td>\n",
       "      <td>22</td>\n",
       "      <td>50530</td>\n",
       "      <td>8153</td>\n",
       "      <td>-0.527460</td>\n",
       "      <td>0</td>\n",
       "    </tr>\n",
       "    <tr>\n",
       "      <th>11840318</th>\n",
       "      <td>2018-01-28 23:36:01</td>\n",
       "      <td>23</td>\n",
       "      <td>22</td>\n",
       "      <td>50530</td>\n",
       "      <td>8153</td>\n",
       "      <td>-0.527460</td>\n",
       "      <td>0</td>\n",
       "    </tr>\n",
       "  </tbody>\n",
       "</table>\n",
       "<p>12696 rows × 7 columns</p>\n",
       "</div>"
      ],
      "text/plain": [
       "                    timestamp  category  state  customer  product  \\\n",
       "0         2017-10-02 10:56:33        49     22     45665    17076   \n",
       "700       2017-08-24 11:31:28        49     22     44869    23910   \n",
       "5075      2017-08-05 14:52:23        49     22      2937     1466   \n",
       "17885     2017-05-20 15:56:32        49      8     15170     7538   \n",
       "23537     2017-09-30 14:48:37        49     22     42130    27460   \n",
       "...                       ...       ...    ...       ...      ...   \n",
       "11835125  2018-06-12 15:58:03        13     22      2712    18910   \n",
       "11835992  2018-05-15 17:33:50        13     22     62110    29436   \n",
       "11837125  2018-06-12 15:58:03        13     22      2712    14713   \n",
       "11840098  2018-03-26 03:50:48        23     22     50530     8153   \n",
       "11840318  2018-01-28 23:36:01        23     22     50530     8153   \n",
       "\n",
       "          scaled_price  rating  \n",
       "0            -0.501005       0  \n",
       "700          -0.411884       0  \n",
       "5075         -0.533291       1  \n",
       "17885         0.134714       1  \n",
       "23537        -0.342433       1  \n",
       "...                ...     ...  \n",
       "11835125     -0.253630       0  \n",
       "11835992     -0.395979       1  \n",
       "11837125     -0.008430       0  \n",
       "11840098     -0.527460       0  \n",
       "11840318     -0.527460       0  \n",
       "\n",
       "[12696 rows x 7 columns]"
      ]
     },
     "execution_count": 78,
     "metadata": {},
     "output_type": "execute_result"
    }
   ],
   "source": [
    "df_no_cold"
   ]
  },
  {
   "cell_type": "code",
   "execution_count": 79,
   "id": "statistical-garlic",
   "metadata": {},
   "outputs": [],
   "source": [
    "df_test = df_no_cold.sort_values('timestamp', ascending=False).groupby(['customer']).head(1)"
   ]
  },
  {
   "cell_type": "code",
   "execution_count": 80,
   "id": "dominant-validity",
   "metadata": {},
   "outputs": [],
   "source": [
    "df_test.to_csv('../DL_preprocessed/test.csv')"
   ]
  },
  {
   "cell_type": "code",
   "execution_count": 81,
   "id": "blind-marsh",
   "metadata": {},
   "outputs": [],
   "source": [
    "df_train = df_no_cold[~df_no_cold.index.isin(df_test.index)]"
   ]
  },
  {
   "cell_type": "code",
   "execution_count": 82,
   "id": "sophisticated-sperm",
   "metadata": {},
   "outputs": [],
   "source": [
    "df_train.to_csv('../DL_preprocessed/train.csv')"
   ]
  },
  {
   "cell_type": "code",
   "execution_count": 84,
   "id": "prostate-minutes",
   "metadata": {},
   "outputs": [],
   "source": [
    "pickle.dump(encoders, open('../DL_preprocessed/encoders.sav', 'wb'))"
   ]
  },
  {
   "cell_type": "code",
   "execution_count": 85,
   "id": "devoted-toilet",
   "metadata": {},
   "outputs": [],
   "source": [
    "pickle.dump(unique_numbers, open('../DL_preprocessed/unique_counts.sav', 'wb'))"
   ]
  },
  {
   "cell_type": "code",
   "execution_count": 86,
   "id": "seasonal-meditation",
   "metadata": {},
   "outputs": [],
   "source": [
    "n_factors = 10"
   ]
  },
  {
   "cell_type": "code",
   "execution_count": null,
   "id": "pursuant-duplicate",
   "metadata": {},
   "outputs": [],
   "source": [
    "\n",
    "model = RecommenderNet(n_customers+1, n_items+1, n_factors, 0, 1, 1)\n",
    "history = model.fit(x=X_train, y=y_train, batch_size=512, epochs=100,\n",
    "                    verbose=1, validation_data=(X_test, y_test))"
   ]
  }
 ],
 "metadata": {
  "kernelspec": {
   "display_name": "Python 3",
   "language": "python",
   "name": "python3"
  },
  "language_info": {
   "codemirror_mode": {
    "name": "ipython",
    "version": 3
   },
   "file_extension": ".py",
   "mimetype": "text/x-python",
   "name": "python",
   "nbconvert_exporter": "python",
   "pygments_lexer": "ipython3",
   "version": "3.8.5"
  }
 },
 "nbformat": 4,
 "nbformat_minor": 5
}
