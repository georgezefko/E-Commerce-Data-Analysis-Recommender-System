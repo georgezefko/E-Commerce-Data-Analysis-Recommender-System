{
  "nbformat": 4,
  "nbformat_minor": 0,
  "metadata": {
    "colab": {
      "name": "ABA_recommender_MF_30_04_21.ipynb",
      "provenance": [],
      "collapsed_sections": [],
      "machine_shape": "hm",
      "include_colab_link": true
    },
    "kernelspec": {
      "name": "python3",
      "display_name": "Python 3"
    },
    "language_info": {
      "name": "python"
    },
    "accelerator": "GPU"
  },
  "cells": [
    {
      "cell_type": "markdown",
      "metadata": {
        "id": "view-in-github",
        "colab_type": "text"
      },
      "source": [
        "<a href=\"https://colab.research.google.com/github/georgezefko/Recommender_System/blob/Matrix_approach/ABA_recommender_MF_11_05_21.ipynb\" target=\"_parent\"><img src=\"https://colab.research.google.com/assets/colab-badge.svg\" alt=\"Open In Colab\"/></a>"
      ]
    },
    {
      "cell_type": "code",
      "metadata": {
        "colab": {
          "base_uri": "https://localhost:8080/"
        },
        "id": "xhYUiF3m3mS1",
        "outputId": "d4300b7f-7b92-4fd1-d058-8c4c312b3d2d"
      },
      "source": [
        "from google.colab import drive\n",
        "drive.mount('/content/drive', force_remount=True)"
      ],
      "execution_count": 3,
      "outputs": [
        {
          "output_type": "stream",
          "text": [
            "Mounted at /content/drive\n"
          ],
          "name": "stdout"
        }
      ]
    },
    {
      "cell_type": "code",
      "metadata": {
        "colab": {
          "base_uri": "https://localhost:8080/"
        },
        "id": "SuTgJBwWsDah",
        "outputId": "08fd690b-e69c-4336-e0e2-782371e6ad34"
      },
      "source": [
        "!pip install surprise"
      ],
      "execution_count": 4,
      "outputs": [
        {
          "output_type": "stream",
          "text": [
            "Requirement already satisfied: surprise in /usr/local/lib/python3.7/dist-packages (0.1)\n",
            "Requirement already satisfied: scikit-surprise in /usr/local/lib/python3.7/dist-packages (from surprise) (1.1.1)\n",
            "Requirement already satisfied: scipy>=1.0.0 in /usr/local/lib/python3.7/dist-packages (from scikit-surprise->surprise) (1.4.1)\n",
            "Requirement already satisfied: numpy>=1.11.2 in /usr/local/lib/python3.7/dist-packages (from scikit-surprise->surprise) (1.19.5)\n",
            "Requirement already satisfied: joblib>=0.11 in /usr/local/lib/python3.7/dist-packages (from scikit-surprise->surprise) (1.0.1)\n",
            "Requirement already satisfied: six>=1.10.0 in /usr/local/lib/python3.7/dist-packages (from scikit-surprise->surprise) (1.15.0)\n"
          ],
          "name": "stdout"
        }
      ]
    },
    {
      "cell_type": "code",
      "metadata": {
        "id": "7QillAFo3rqM"
      },
      "source": [
        "%matplotlib inline\n",
        "%config InlineBackend.figure_format='retina'\n",
        "import pandas as pd\n",
        "import numpy as np\n",
        "import seaborn as sns\n",
        "from sklearn.model_selection import train_test_split\n",
        "from math import sqrt\n",
        "from sklearn.metrics import mean_squared_error\n",
        "from scipy.sparse.linalg import svds\n",
        "from scipy import linalg\n",
        "from datetime import datetime\n",
        "from surprise import Reader, Dataset, SVD, SVDpp, NMF, KNNBaseline,CoClustering,KNNBasic, KNNWithMeans,KNNWithZScore,SlopeOne,accuracy\n",
        "\n",
        "from surprise.model_selection import cross_validate\n",
        "from surprise.model_selection import KFold, GridSearchCV\n",
        "from surprise import NormalPredictor\n",
        "from surprise import BaselineOnly\n",
        "from sklearn.linear_model import LinearRegression\n",
        "from collections import defaultdict\n",
        "from sklearn.metrics.pairwise import linear_kernel\n",
        "from sklearn.feature_extraction.text import TfidfVectorizer\n",
        "from sklearn.feature_extraction.text import CountVectorizer\n",
        "from sklearn.metrics.pairwise import cosine_similarity\n",
        "import warnings\n",
        "warnings.filterwarnings(\"ignore\", category=np.VisibleDeprecationWarning) \n",
        "\n",
        "from pylab import rcParams\n",
        "import matplotlib.pyplot as plt\n",
        "from matplotlib import rc\n",
        "from pandas.plotting import register_matplotlib_converters\n",
        "\n",
        "\n",
        "sns.set(style='whitegrid', palette='muted', font_scale=1.2)\n",
        "\n",
        "HAPPY_COLORS_PALETTE = [\"#01BEFE\", \"#FFDD00\", \"#FF7D00\", \"#FF006D\", \"#93D30C\", \"#8F00FF\"]\n",
        "\n",
        "sns.set_palette(sns.color_palette(HAPPY_COLORS_PALETTE))\n",
        "\n",
        "rcParams['figure.figsize'] = 14, 10\n",
        "register_matplotlib_converters()\n"
      ],
      "execution_count": 5,
      "outputs": []
    },
    {
      "cell_type": "code",
      "metadata": {
        "id": "kK2y7-0x4HFa"
      },
      "source": [
        "path = '/content/drive/MyDrive/AdvancedBA/Olie_data/'\n",
        "#path ='/content/drive/MyDrive/olist_project/'\n",
        "data = pd.read_csv(path+'recommender.csv')"
      ],
      "execution_count": 6,
      "outputs": []
    },
    {
      "cell_type": "markdown",
      "metadata": {
        "id": "Q-S4OMAscvHI"
      },
      "source": [
        "#Further data pre-processing"
      ]
    },
    {
      "cell_type": "code",
      "metadata": {
        "colab": {
          "base_uri": "https://localhost:8080/",
          "height": 241
        },
        "id": "xCkuqB9O4VS_",
        "outputId": "67546562-fb54-4118-93f3-c05385597445"
      },
      "source": [
        "data.head()"
      ],
      "execution_count": 7,
      "outputs": [
        {
          "output_type": "execute_result",
          "data": {
            "text/html": [
              "<div>\n",
              "<style scoped>\n",
              "    .dataframe tbody tr th:only-of-type {\n",
              "        vertical-align: middle;\n",
              "    }\n",
              "\n",
              "    .dataframe tbody tr th {\n",
              "        vertical-align: top;\n",
              "    }\n",
              "\n",
              "    .dataframe thead th {\n",
              "        text-align: right;\n",
              "    }\n",
              "</style>\n",
              "<table border=\"1\" class=\"dataframe\">\n",
              "  <thead>\n",
              "    <tr style=\"text-align: right;\">\n",
              "      <th></th>\n",
              "      <th>Unnamed: 0</th>\n",
              "      <th>review_score</th>\n",
              "      <th>customer_state</th>\n",
              "      <th>seller_state</th>\n",
              "      <th>product_id</th>\n",
              "      <th>product_category_name_english</th>\n",
              "      <th>customer_unique_id</th>\n",
              "      <th>order_delivered_customer_date</th>\n",
              "      <th>price</th>\n",
              "      <th>delivered_date</th>\n",
              "      <th>days_diff</th>\n",
              "      <th>order_weekday</th>\n",
              "      <th>order_month</th>\n",
              "      <th>price_category</th>\n",
              "      <th>day_category</th>\n",
              "    </tr>\n",
              "  </thead>\n",
              "  <tbody>\n",
              "    <tr>\n",
              "      <th>0</th>\n",
              "      <td>0</td>\n",
              "      <td>4</td>\n",
              "      <td>SP</td>\n",
              "      <td>SP</td>\n",
              "      <td>17106</td>\n",
              "      <td>housewares</td>\n",
              "      <td>45758</td>\n",
              "      <td>2017-10-10 21:25:13</td>\n",
              "      <td>29.99</td>\n",
              "      <td>2017-10-10</td>\n",
              "      <td>8.0</td>\n",
              "      <td>Monday</td>\n",
              "      <td>Oct</td>\n",
              "      <td>Low</td>\n",
              "      <td>morning</td>\n",
              "    </tr>\n",
              "    <tr>\n",
              "      <th>1</th>\n",
              "      <td>1</td>\n",
              "      <td>4</td>\n",
              "      <td>SP</td>\n",
              "      <td>SP</td>\n",
              "      <td>17106</td>\n",
              "      <td>housewares</td>\n",
              "      <td>21530</td>\n",
              "      <td>2017-08-18 14:44:43</td>\n",
              "      <td>29.99</td>\n",
              "      <td>2017-08-18</td>\n",
              "      <td>3.0</td>\n",
              "      <td>Tuesday</td>\n",
              "      <td>Aug</td>\n",
              "      <td>Low</td>\n",
              "      <td>afternoon</td>\n",
              "    </tr>\n",
              "    <tr>\n",
              "      <th>2</th>\n",
              "      <td>2</td>\n",
              "      <td>5</td>\n",
              "      <td>SP</td>\n",
              "      <td>SP</td>\n",
              "      <td>17106</td>\n",
              "      <td>housewares</td>\n",
              "      <td>87936</td>\n",
              "      <td>2017-08-07 18:30:01</td>\n",
              "      <td>29.99</td>\n",
              "      <td>2017-08-07</td>\n",
              "      <td>5.0</td>\n",
              "      <td>Wednesday</td>\n",
              "      <td>Aug</td>\n",
              "      <td>Low</td>\n",
              "      <td>afternoon</td>\n",
              "    </tr>\n",
              "    <tr>\n",
              "      <th>3</th>\n",
              "      <td>3</td>\n",
              "      <td>3</td>\n",
              "      <td>SC</td>\n",
              "      <td>SP</td>\n",
              "      <td>17106</td>\n",
              "      <td>housewares</td>\n",
              "      <td>85228</td>\n",
              "      <td>2017-11-07 18:04:59</td>\n",
              "      <td>29.99</td>\n",
              "      <td>2017-11-07</td>\n",
              "      <td>15.0</td>\n",
              "      <td>Monday</td>\n",
              "      <td>Oct</td>\n",
              "      <td>Low</td>\n",
              "      <td>evening</td>\n",
              "    </tr>\n",
              "    <tr>\n",
              "      <th>4</th>\n",
              "      <td>4</td>\n",
              "      <td>1</td>\n",
              "      <td>SP</td>\n",
              "      <td>SP</td>\n",
              "      <td>23951</td>\n",
              "      <td>housewares</td>\n",
              "      <td>44958</td>\n",
              "      <td>2017-08-28 20:12:20</td>\n",
              "      <td>46.80</td>\n",
              "      <td>2017-08-28</td>\n",
              "      <td>4.0</td>\n",
              "      <td>Thursday</td>\n",
              "      <td>Aug</td>\n",
              "      <td>Low</td>\n",
              "      <td>morning</td>\n",
              "    </tr>\n",
              "  </tbody>\n",
              "</table>\n",
              "</div>"
            ],
            "text/plain": [
              "   Unnamed: 0  review_score  ... price_category day_category\n",
              "0           0             4  ...            Low      morning\n",
              "1           1             4  ...            Low    afternoon\n",
              "2           2             5  ...            Low    afternoon\n",
              "3           3             3  ...            Low      evening\n",
              "4           4             1  ...            Low      morning\n",
              "\n",
              "[5 rows x 15 columns]"
            ]
          },
          "metadata": {
            "tags": []
          },
          "execution_count": 7
        }
      ]
    },
    {
      "cell_type": "code",
      "metadata": {
        "id": "PaFi0dns4Wfn"
      },
      "source": [
        "# remove the excess column in the beginning\n",
        "data = data.iloc[:,1:]"
      ],
      "execution_count": 8,
      "outputs": []
    },
    {
      "cell_type": "code",
      "metadata": {
        "colab": {
          "base_uri": "https://localhost:8080/"
        },
        "id": "wqA__dmoUnla",
        "outputId": "3ad61391-36d2-496a-bd9a-a6ec30371061"
      },
      "source": [
        "data.shape"
      ],
      "execution_count": 9,
      "outputs": [
        {
          "output_type": "execute_result",
          "data": {
            "text/plain": [
              "(111686, 14)"
            ]
          },
          "metadata": {
            "tags": []
          },
          "execution_count": 9
        }
      ]
    },
    {
      "cell_type": "code",
      "metadata": {
        "id": "nZpa4ELL4ZlH"
      },
      "source": [
        "data = data.loc[:,'product_category_name_english,customer_unique_id,product_id,review_score,order_weekday,order_month,day_category'.split(',')].drop_duplicates()"
      ],
      "execution_count": 10,
      "outputs": []
    },
    {
      "cell_type": "code",
      "metadata": {
        "colab": {
          "base_uri": "https://localhost:8080/"
        },
        "id": "n1I5zqdDUqQR",
        "outputId": "9a323e9a-57fe-44ae-e4e5-4af94973d2a5"
      },
      "source": [
        "data.shape"
      ],
      "execution_count": 11,
      "outputs": [
        {
          "output_type": "execute_result",
          "data": {
            "text/plain": [
              "(101101, 7)"
            ]
          },
          "metadata": {
            "tags": []
          },
          "execution_count": 11
        }
      ]
    },
    {
      "cell_type": "code",
      "metadata": {
        "colab": {
          "base_uri": "https://localhost:8080/",
          "height": 204
        },
        "id": "Q4IvPjX9Z_sm",
        "outputId": "416ccb3a-39d4-4a06-8b32-55be9e9b57b5"
      },
      "source": [
        "data.head()"
      ],
      "execution_count": 12,
      "outputs": [
        {
          "output_type": "execute_result",
          "data": {
            "text/html": [
              "<div>\n",
              "<style scoped>\n",
              "    .dataframe tbody tr th:only-of-type {\n",
              "        vertical-align: middle;\n",
              "    }\n",
              "\n",
              "    .dataframe tbody tr th {\n",
              "        vertical-align: top;\n",
              "    }\n",
              "\n",
              "    .dataframe thead th {\n",
              "        text-align: right;\n",
              "    }\n",
              "</style>\n",
              "<table border=\"1\" class=\"dataframe\">\n",
              "  <thead>\n",
              "    <tr style=\"text-align: right;\">\n",
              "      <th></th>\n",
              "      <th>product_category_name_english</th>\n",
              "      <th>customer_unique_id</th>\n",
              "      <th>product_id</th>\n",
              "      <th>review_score</th>\n",
              "      <th>order_weekday</th>\n",
              "      <th>order_month</th>\n",
              "      <th>day_category</th>\n",
              "    </tr>\n",
              "  </thead>\n",
              "  <tbody>\n",
              "    <tr>\n",
              "      <th>0</th>\n",
              "      <td>housewares</td>\n",
              "      <td>45758</td>\n",
              "      <td>17106</td>\n",
              "      <td>4</td>\n",
              "      <td>Monday</td>\n",
              "      <td>Oct</td>\n",
              "      <td>morning</td>\n",
              "    </tr>\n",
              "    <tr>\n",
              "      <th>1</th>\n",
              "      <td>housewares</td>\n",
              "      <td>21530</td>\n",
              "      <td>17106</td>\n",
              "      <td>4</td>\n",
              "      <td>Tuesday</td>\n",
              "      <td>Aug</td>\n",
              "      <td>afternoon</td>\n",
              "    </tr>\n",
              "    <tr>\n",
              "      <th>2</th>\n",
              "      <td>housewares</td>\n",
              "      <td>87936</td>\n",
              "      <td>17106</td>\n",
              "      <td>5</td>\n",
              "      <td>Wednesday</td>\n",
              "      <td>Aug</td>\n",
              "      <td>afternoon</td>\n",
              "    </tr>\n",
              "    <tr>\n",
              "      <th>3</th>\n",
              "      <td>housewares</td>\n",
              "      <td>85228</td>\n",
              "      <td>17106</td>\n",
              "      <td>3</td>\n",
              "      <td>Monday</td>\n",
              "      <td>Oct</td>\n",
              "      <td>evening</td>\n",
              "    </tr>\n",
              "    <tr>\n",
              "      <th>4</th>\n",
              "      <td>housewares</td>\n",
              "      <td>44958</td>\n",
              "      <td>23951</td>\n",
              "      <td>1</td>\n",
              "      <td>Thursday</td>\n",
              "      <td>Aug</td>\n",
              "      <td>morning</td>\n",
              "    </tr>\n",
              "  </tbody>\n",
              "</table>\n",
              "</div>"
            ],
            "text/plain": [
              "  product_category_name_english  customer_unique_id  ...  order_month  day_category\n",
              "0                    housewares               45758  ...          Oct       morning\n",
              "1                    housewares               21530  ...          Aug     afternoon\n",
              "2                    housewares               87936  ...          Aug     afternoon\n",
              "3                    housewares               85228  ...          Oct       evening\n",
              "4                    housewares               44958  ...          Aug       morning\n",
              "\n",
              "[5 rows x 7 columns]"
            ]
          },
          "metadata": {
            "tags": []
          },
          "execution_count": 12
        }
      ]
    },
    {
      "cell_type": "code",
      "metadata": {
        "id": "hmAsLa5fl0aC"
      },
      "source": [
        "#remove rating and users than have been given/gotten only one review\n",
        "min_product_ratings = 1\n",
        "filter_products = data['product_id'].value_counts() > min_product_ratings\n",
        "filter_products = filter_products[filter_products].index.tolist()\n",
        "\n",
        "\n",
        "min_user_ratings = 1\n",
        "filter_users = data['customer_unique_id'].value_counts() > min_user_ratings\n",
        "filter_users = filter_users[filter_users].index.tolist()\n",
        "\n",
        "data_new = data[(data['product_id'].isin(filter_products)) & (data['customer_unique_id'].isin(filter_users))]"
      ],
      "execution_count": 13,
      "outputs": []
    },
    {
      "cell_type": "code",
      "metadata": {
        "id": "OlqS6HD_4bgS",
        "colab": {
          "base_uri": "https://localhost:8080/"
        },
        "outputId": "89de6bd0-a1a6-4573-d44e-687431257da1"
      },
      "source": [
        "len(data_new)"
      ],
      "execution_count": 14,
      "outputs": [
        {
          "output_type": "execute_result",
          "data": {
            "text/plain": [
              "9760"
            ]
          },
          "metadata": {
            "tags": []
          },
          "execution_count": 14
        }
      ]
    },
    {
      "cell_type": "code",
      "metadata": {
        "colab": {
          "base_uri": "https://localhost:8080/"
        },
        "id": "2C5mEvkKp4mz",
        "outputId": "1e070f75-43f4-4164-9323-fb20781907f2"
      },
      "source": [
        "data_new['combination'] = data_new['product_id'].apply(str) +' '+ data_new['product_category_name_english'] + ' ' + data_new['order_weekday']+ ' '+data_new['order_month']+ ' ' +data_new['day_category']"
      ],
      "execution_count": 15,
      "outputs": [
        {
          "output_type": "stream",
          "text": [
            "/usr/local/lib/python3.7/dist-packages/ipykernel_launcher.py:1: SettingWithCopyWarning: \n",
            "A value is trying to be set on a copy of a slice from a DataFrame.\n",
            "Try using .loc[row_indexer,col_indexer] = value instead\n",
            "\n",
            "See the caveats in the documentation: https://pandas.pydata.org/pandas-docs/stable/user_guide/indexing.html#returning-a-view-versus-a-copy\n",
            "  \"\"\"Entry point for launching an IPython kernel.\n"
          ],
          "name": "stderr"
        }
      ]
    },
    {
      "cell_type": "code",
      "metadata": {
        "colab": {
          "base_uri": "https://localhost:8080/",
          "height": 419
        },
        "id": "ro5x9Lramu4E",
        "outputId": "41e28041-5098-4404-ba4c-2783abbc4b65"
      },
      "source": [
        "data_new"
      ],
      "execution_count": 16,
      "outputs": [
        {
          "output_type": "execute_result",
          "data": {
            "text/html": [
              "<div>\n",
              "<style scoped>\n",
              "    .dataframe tbody tr th:only-of-type {\n",
              "        vertical-align: middle;\n",
              "    }\n",
              "\n",
              "    .dataframe tbody tr th {\n",
              "        vertical-align: top;\n",
              "    }\n",
              "\n",
              "    .dataframe thead th {\n",
              "        text-align: right;\n",
              "    }\n",
              "</style>\n",
              "<table border=\"1\" class=\"dataframe\">\n",
              "  <thead>\n",
              "    <tr style=\"text-align: right;\">\n",
              "      <th></th>\n",
              "      <th>product_category_name_english</th>\n",
              "      <th>customer_unique_id</th>\n",
              "      <th>product_id</th>\n",
              "      <th>review_score</th>\n",
              "      <th>order_weekday</th>\n",
              "      <th>order_month</th>\n",
              "      <th>day_category</th>\n",
              "      <th>combination</th>\n",
              "    </tr>\n",
              "  </thead>\n",
              "  <tbody>\n",
              "    <tr>\n",
              "      <th>0</th>\n",
              "      <td>housewares</td>\n",
              "      <td>45758</td>\n",
              "      <td>17106</td>\n",
              "      <td>4</td>\n",
              "      <td>Monday</td>\n",
              "      <td>Oct</td>\n",
              "      <td>morning</td>\n",
              "      <td>17106 housewares Monday Oct morning</td>\n",
              "    </tr>\n",
              "    <tr>\n",
              "      <th>50</th>\n",
              "      <td>housewares</td>\n",
              "      <td>54651</td>\n",
              "      <td>3315</td>\n",
              "      <td>4</td>\n",
              "      <td>Tuesday</td>\n",
              "      <td>Jan</td>\n",
              "      <td>evening</td>\n",
              "      <td>3315 housewares Tuesday Jan evening</td>\n",
              "    </tr>\n",
              "    <tr>\n",
              "      <th>54</th>\n",
              "      <td>housewares</td>\n",
              "      <td>18828</td>\n",
              "      <td>27150</td>\n",
              "      <td>1</td>\n",
              "      <td>Monday</td>\n",
              "      <td>Aug</td>\n",
              "      <td>evening</td>\n",
              "      <td>27150 housewares Monday Aug evening</td>\n",
              "    </tr>\n",
              "    <tr>\n",
              "      <th>95</th>\n",
              "      <td>housewares</td>\n",
              "      <td>18846</td>\n",
              "      <td>23621</td>\n",
              "      <td>1</td>\n",
              "      <td>Wednesday</td>\n",
              "      <td>Apr</td>\n",
              "      <td>evening</td>\n",
              "      <td>23621 housewares Wednesday Apr evening</td>\n",
              "    </tr>\n",
              "    <tr>\n",
              "      <th>134</th>\n",
              "      <td>housewares</td>\n",
              "      <td>79270</td>\n",
              "      <td>24487</td>\n",
              "      <td>5</td>\n",
              "      <td>Tuesday</td>\n",
              "      <td>Mar</td>\n",
              "      <td>afternoon</td>\n",
              "      <td>24487 housewares Tuesday Mar afternoon</td>\n",
              "    </tr>\n",
              "    <tr>\n",
              "      <th>...</th>\n",
              "      <td>...</td>\n",
              "      <td>...</td>\n",
              "      <td>...</td>\n",
              "      <td>...</td>\n",
              "      <td>...</td>\n",
              "      <td>...</td>\n",
              "      <td>...</td>\n",
              "      <td>...</td>\n",
              "    </tr>\n",
              "    <tr>\n",
              "      <th>111637</th>\n",
              "      <td>books_imported</td>\n",
              "      <td>48527</td>\n",
              "      <td>32053</td>\n",
              "      <td>5</td>\n",
              "      <td>Friday</td>\n",
              "      <td>Nov</td>\n",
              "      <td>evening</td>\n",
              "      <td>32053 books_imported Friday Nov evening</td>\n",
              "    </tr>\n",
              "    <tr>\n",
              "      <th>111647</th>\n",
              "      <td>books_imported</td>\n",
              "      <td>66013</td>\n",
              "      <td>13293</td>\n",
              "      <td>5</td>\n",
              "      <td>Monday</td>\n",
              "      <td>Jul</td>\n",
              "      <td>afternoon</td>\n",
              "      <td>13293 books_imported Monday Jul afternoon</td>\n",
              "    </tr>\n",
              "    <tr>\n",
              "      <th>111660</th>\n",
              "      <td>books_imported</td>\n",
              "      <td>46303</td>\n",
              "      <td>16592</td>\n",
              "      <td>4</td>\n",
              "      <td>Saturday</td>\n",
              "      <td>Apr</td>\n",
              "      <td>afternoon</td>\n",
              "      <td>16592 books_imported Saturday Apr afternoon</td>\n",
              "    </tr>\n",
              "    <tr>\n",
              "      <th>111676</th>\n",
              "      <td>la_cuisine</td>\n",
              "      <td>34041</td>\n",
              "      <td>26630</td>\n",
              "      <td>1</td>\n",
              "      <td>Wednesday</td>\n",
              "      <td>Nov</td>\n",
              "      <td>afternoon</td>\n",
              "      <td>26630 la_cuisine Wednesday Nov afternoon</td>\n",
              "    </tr>\n",
              "    <tr>\n",
              "      <th>111682</th>\n",
              "      <td>la_cuisine</td>\n",
              "      <td>32279</td>\n",
              "      <td>4599</td>\n",
              "      <td>5</td>\n",
              "      <td>Saturday</td>\n",
              "      <td>Jul</td>\n",
              "      <td>afternoon</td>\n",
              "      <td>4599 la_cuisine Saturday Jul afternoon</td>\n",
              "    </tr>\n",
              "  </tbody>\n",
              "</table>\n",
              "<p>9760 rows × 8 columns</p>\n",
              "</div>"
            ],
            "text/plain": [
              "       product_category_name_english  ...                                  combination\n",
              "0                         housewares  ...          17106 housewares Monday Oct morning\n",
              "50                        housewares  ...          3315 housewares Tuesday Jan evening\n",
              "54                        housewares  ...          27150 housewares Monday Aug evening\n",
              "95                        housewares  ...       23621 housewares Wednesday Apr evening\n",
              "134                       housewares  ...       24487 housewares Tuesday Mar afternoon\n",
              "...                              ...  ...                                          ...\n",
              "111637                books_imported  ...      32053 books_imported Friday Nov evening\n",
              "111647                books_imported  ...    13293 books_imported Monday Jul afternoon\n",
              "111660                books_imported  ...  16592 books_imported Saturday Apr afternoon\n",
              "111676                    la_cuisine  ...     26630 la_cuisine Wednesday Nov afternoon\n",
              "111682                    la_cuisine  ...       4599 la_cuisine Saturday Jul afternoon\n",
              "\n",
              "[9760 rows x 8 columns]"
            ]
          },
          "metadata": {
            "tags": []
          },
          "execution_count": 16
        }
      ]
    },
    {
      "cell_type": "code",
      "metadata": {
        "colab": {
          "base_uri": "https://localhost:8080/"
        },
        "id": "mNwdFVw53EOa",
        "outputId": "2cd81d59-f3a3-4f2b-b392-112890a13c35"
      },
      "source": [
        "data_new.shape"
      ],
      "execution_count": 17,
      "outputs": [
        {
          "output_type": "execute_result",
          "data": {
            "text/plain": [
              "(9760, 8)"
            ]
          },
          "metadata": {
            "tags": []
          },
          "execution_count": 17
        }
      ]
    },
    {
      "cell_type": "markdown",
      "metadata": {
        "id": "-_yj3fsernXF"
      },
      "source": [
        "# Recommender algorithms\n"
      ]
    },
    {
      "cell_type": "markdown",
      "metadata": {
        "id": "SP-MNsAVGUey"
      },
      "source": [
        "##Basic algorithms\n",
        "\n",
        "**NormalPredictor**\n",
        "\n",
        "NormalPredictor algorithm predicts a random rating based on the distribution of the training set, which is assumed to be normal. This is one of the most basic algorithms that do not do much work.\n",
        "\n",
        "**BaselineOnly**\n",
        "\n",
        "BaselineOnly algorithm predicts the baseline estimate for given user and item.\n",
        "\n",
        "##k-NN algorithms\n",
        "**KNNBasic**\n",
        "\n",
        "KNNBasic is a basic collaborative filtering algorithm.\n",
        "\n",
        "**KNNWithMeans**\n",
        "\n",
        "KNNWithMeans is basic collaborative filtering algorithm, taking into account the mean ratings of each user.\n",
        "\n",
        "**KNNWithZScore**\n",
        "\n",
        "KNNWithZScore is a basic collaborative filtering algorithm, taking into account the z-score normalization of each user.\n",
        "\n",
        "**KNNBaseline**\n",
        "\n",
        "KNNBaseline is a basic collaborative filtering algorithm taking into account a baseline rating.\n",
        "##Matrix Factorization-based algorithms\n",
        "**SVD**\n",
        "\n",
        "SVD algorithm is equivalent to Probabilistic Matrix Factorization\n",
        "\n",
        "**SVDpp**\n",
        "\n",
        "The SVDpp algorithm is an extension of SVD that takes into account implicit ratings.\n",
        "\n",
        "**NMF**\n",
        "\n",
        "NMF is a collaborative filtering algorithm based on Non-negative Matrix Factorization. It is very similar with SVD.\n",
        "\n",
        "**Slope One**\n",
        "\n",
        "SlopeOne is a straightforward implementation of the SlopeOne algorithm.\n",
        "\n",
        "**Co-clustering**\n",
        "\n",
        "Coclustering is a collaborative filtering algorithm based on co-clustering."
      ]
    },
    {
      "cell_type": "code",
      "metadata": {
        "id": "EvLJxfTcpjVD"
      },
      "source": [
        "ratings_df = data_new[['customer_unique_id','combination','review_score']]"
      ],
      "execution_count": 18,
      "outputs": []
    },
    {
      "cell_type": "code",
      "metadata": {
        "colab": {
          "base_uri": "https://localhost:8080/",
          "height": 419
        },
        "id": "bF1dGOw9qn8p",
        "outputId": "77492a58-b4dc-476e-e9d4-43609021db92"
      },
      "source": [
        "ratings_df"
      ],
      "execution_count": 19,
      "outputs": [
        {
          "output_type": "execute_result",
          "data": {
            "text/html": [
              "<div>\n",
              "<style scoped>\n",
              "    .dataframe tbody tr th:only-of-type {\n",
              "        vertical-align: middle;\n",
              "    }\n",
              "\n",
              "    .dataframe tbody tr th {\n",
              "        vertical-align: top;\n",
              "    }\n",
              "\n",
              "    .dataframe thead th {\n",
              "        text-align: right;\n",
              "    }\n",
              "</style>\n",
              "<table border=\"1\" class=\"dataframe\">\n",
              "  <thead>\n",
              "    <tr style=\"text-align: right;\">\n",
              "      <th></th>\n",
              "      <th>customer_unique_id</th>\n",
              "      <th>combination</th>\n",
              "      <th>review_score</th>\n",
              "    </tr>\n",
              "  </thead>\n",
              "  <tbody>\n",
              "    <tr>\n",
              "      <th>0</th>\n",
              "      <td>45758</td>\n",
              "      <td>17106 housewares Monday Oct morning</td>\n",
              "      <td>4</td>\n",
              "    </tr>\n",
              "    <tr>\n",
              "      <th>50</th>\n",
              "      <td>54651</td>\n",
              "      <td>3315 housewares Tuesday Jan evening</td>\n",
              "      <td>4</td>\n",
              "    </tr>\n",
              "    <tr>\n",
              "      <th>54</th>\n",
              "      <td>18828</td>\n",
              "      <td>27150 housewares Monday Aug evening</td>\n",
              "      <td>1</td>\n",
              "    </tr>\n",
              "    <tr>\n",
              "      <th>95</th>\n",
              "      <td>18846</td>\n",
              "      <td>23621 housewares Wednesday Apr evening</td>\n",
              "      <td>1</td>\n",
              "    </tr>\n",
              "    <tr>\n",
              "      <th>134</th>\n",
              "      <td>79270</td>\n",
              "      <td>24487 housewares Tuesday Mar afternoon</td>\n",
              "      <td>5</td>\n",
              "    </tr>\n",
              "    <tr>\n",
              "      <th>...</th>\n",
              "      <td>...</td>\n",
              "      <td>...</td>\n",
              "      <td>...</td>\n",
              "    </tr>\n",
              "    <tr>\n",
              "      <th>111637</th>\n",
              "      <td>48527</td>\n",
              "      <td>32053 books_imported Friday Nov evening</td>\n",
              "      <td>5</td>\n",
              "    </tr>\n",
              "    <tr>\n",
              "      <th>111647</th>\n",
              "      <td>66013</td>\n",
              "      <td>13293 books_imported Monday Jul afternoon</td>\n",
              "      <td>5</td>\n",
              "    </tr>\n",
              "    <tr>\n",
              "      <th>111660</th>\n",
              "      <td>46303</td>\n",
              "      <td>16592 books_imported Saturday Apr afternoon</td>\n",
              "      <td>4</td>\n",
              "    </tr>\n",
              "    <tr>\n",
              "      <th>111676</th>\n",
              "      <td>34041</td>\n",
              "      <td>26630 la_cuisine Wednesday Nov afternoon</td>\n",
              "      <td>1</td>\n",
              "    </tr>\n",
              "    <tr>\n",
              "      <th>111682</th>\n",
              "      <td>32279</td>\n",
              "      <td>4599 la_cuisine Saturday Jul afternoon</td>\n",
              "      <td>5</td>\n",
              "    </tr>\n",
              "  </tbody>\n",
              "</table>\n",
              "<p>9760 rows × 3 columns</p>\n",
              "</div>"
            ],
            "text/plain": [
              "        customer_unique_id  ... review_score\n",
              "0                    45758  ...            4\n",
              "50                   54651  ...            4\n",
              "54                   18828  ...            1\n",
              "95                   18846  ...            1\n",
              "134                  79270  ...            5\n",
              "...                    ...  ...          ...\n",
              "111637               48527  ...            5\n",
              "111647               66013  ...            5\n",
              "111660               46303  ...            4\n",
              "111676               34041  ...            1\n",
              "111682               32279  ...            5\n",
              "\n",
              "[9760 rows x 3 columns]"
            ]
          },
          "metadata": {
            "tags": []
          },
          "execution_count": 19
        }
      ]
    },
    {
      "cell_type": "code",
      "metadata": {
        "id": "K0V4195vrqrJ"
      },
      "source": [
        "train_df, test_df = train_test_split(ratings_df, train_size=0.7, random_state = 0) # 2/3 -training "
      ],
      "execution_count": 20,
      "outputs": []
    },
    {
      "cell_type": "code",
      "metadata": {
        "id": "PsvvcTI6r34n"
      },
      "source": [
        "# function to calculate the RMSE\n",
        "def RMSE(y_true, y_pred):\n",
        "    return np.linalg.norm(y_true - y_pred) / np.sqrt(len(y_true))"
      ],
      "execution_count": 21,
      "outputs": []
    },
    {
      "cell_type": "code",
      "metadata": {
        "id": "eF2KyvJaxJUj"
      },
      "source": [
        "def performance(user,product,model):\n",
        "  y_pred = []\n",
        "  for user_id, product_id in zip(user, product):\n",
        "    r = model.predict(user_id, product_id, verbose=False).est # predict ratings from user_id & product_id in test set\n",
        "    y_pred.append(r)\n",
        "  y_pred = np.array(y_pred)\n",
        "  return y_pred"
      ],
      "execution_count": 22,
      "outputs": []
    },
    {
      "cell_type": "code",
      "metadata": {
        "id": "sbePd3EJ59EC"
      },
      "source": [
        "def recommendations(user,product,model):\n",
        "  \n",
        "  recommendations = []\n",
        "  for product_id in  product:\n",
        "    r = model.predict(user, product_id, verbose=False).est # predict ratings from user_id & product_id in test set\n",
        "    recommendations.append((product_id,r))\n",
        "   \n",
        "  recommendations.sort(reverse=True, key=lambda x: x[1])\n",
        "\n",
        "  return recommendations[:5]"
      ],
      "execution_count": 23,
      "outputs": []
    },
    {
      "cell_type": "code",
      "metadata": {
        "id": "J88bSZrVr46z"
      },
      "source": [
        "reader = Reader(rating_scale=(1,5 ))\n",
        "data_surprise = Dataset.load_from_df(train_df, reader)\n",
        "#data_surprise = data_train_surprise.build_full_trainset()"
      ],
      "execution_count": 24,
      "outputs": []
    },
    {
      "cell_type": "code",
      "metadata": {
        "id": "neCUaqatsXm3"
      },
      "source": [
        "# chosen models\n",
        "models = ['svd','svd++','nmfb','nmf','CoClustering','KNNBasic','KNNWithMeans','KNNWithZScore','KNNBaseline', 'BaselineOnly']\n",
        "\n",
        "# values needed for predictions\n",
        "y_true = test_df['review_score'].values \n",
        "user_ids_true = test_df['customer_unique_id'].values\n",
        "product_ids_true = test_df['combination'].values\n",
        "\n",
        "\n",
        "\n",
        "for i in models:\n",
        "  if i == 'svd':\n",
        "    param_grid = {'n_factors': [70, 80, 90, 100, 110, 120, 130, 140, 150, 160], \n",
        "                  'n_epochs': [100], \n",
        "                  'reg_all': [0.1]}\n",
        "    gs_svd = GridSearchCV(SVD, param_grid, measures=['rmse'], cv=3) # cross validation 3-folds\n",
        "    gs_svd.fit(data_surprise)\n",
        "    best_svd = gs_svd.best_score['rmse']\n",
        "    best_svd_params = gs_svd.best_params['rmse']\n",
        "    model_svd = gs_svd.best_estimator['rmse']\n",
        "    model_svd.fit(data_surprise.build_full_trainset())\n",
        "    y_pred_svd = performance(user_ids_true,product_ids_true,model_svd)\n",
        "    error_svd = RMSE(y_true, y_pred_svd)\n",
        "  \n",
        "  elif i == 'svd++':\n",
        "    param_grid = {'lr_all': [0.001, 0.003, 0.005, 0.007, 0.009], \n",
        "                  'reg_all': [0.005, 0.01, 0.015, 0.02, 0.025]}\n",
        "    gs_svdpp = GridSearchCV(SVDpp, param_grid, measures=['rmse'], cv=3)\n",
        "    gs_svdpp.fit(data_surprise)\n",
        "    best_svd_plus = gs_svdpp.best_score['rmse']\n",
        "    best_svd_plus_params = gs_svdpp.best_params['rmse']\n",
        "    model_svd_plus = gs_svdpp.best_estimator['rmse']\n",
        "    model_svd_plus.fit(data_surprise.build_full_trainset())\n",
        "    y_pred_svd_plus = performance(user_ids_true,product_ids_true,model_svd_plus)\n",
        "    error_svd_plus = RMSE(y_true, y_pred_svd_plus)\n",
        "\n",
        "\n",
        "  elif i == 'nmfb':\n",
        "    param_grid = {'n_factors': [1,2,3,4,5,6,7,8,9,10], \n",
        "                  'n_epochs': [100], \n",
        "                  'biased': [True], \n",
        "                  'reg_bu': [0.1], \n",
        "                  'reg_bi': [0.1]}\n",
        "    gs_nmfb = GridSearchCV(NMF, param_grid, measures=['rmse'], cv=3)\n",
        "    gs_nmfb.fit(data_surprise)\n",
        "    best_nmfb = gs_nmfb.best_score['rmse']\n",
        "    best_nmfb_params = gs_nmfb.best_params['rmse']\n",
        "    model_nmfb = gs_nmfb.best_estimator['rmse']\n",
        "    model_nmfb.fit(data_surprise.build_full_trainset())\n",
        "    y_pred_nmfb = performance(user_ids_true,product_ids_true,model_nmfb)\n",
        "    error_nmfb = RMSE(y_true, y_pred_nmfb)\n",
        "\n",
        "  elif i == 'nmf':\n",
        "    param_grid = {'n_factors': [200, 220, 240], \n",
        "                  'n_epochs': [100]}\n",
        "    gs_nmf = GridSearchCV(NMF, param_grid, measures=['rmse'], cv=3)\n",
        "    gs_nmf.fit(data_surprise)\n",
        "    best_nmf = gs_nmf.best_score['rmse']\n",
        "    best_nmf_params = gs_nmf.best_params['rmse']\n",
        "    model_nmf = gs_nmf.best_estimator['rmse']\n",
        "    model_nmf.fit(data_surprise.build_full_trainset())\n",
        "    y_pred_nmf = performance(user_ids_true,product_ids_true,model_nmf)\n",
        "    error_nmf = RMSE(y_true, y_pred_nmf)\n",
        "\n",
        "  elif i == 'CoClustering':\n",
        "    param_grid = {'n_cltr_u': [3,4,5], \n",
        "                  'n_cltr_i': [3,4,5],'n_epochs':[20,100]}\n",
        "    gs_CoClustering = GridSearchCV(CoClustering, param_grid, measures=['rmse'], cv=3)\n",
        "    gs_CoClustering.fit(data_surprise)\n",
        "    best_CoClustering = gs_CoClustering.best_score['rmse']\n",
        "    best_CoClustering_params = gs_CoClustering.best_params['rmse']\n",
        "    model_CoClustering = gs_CoClustering.best_estimator['rmse']\n",
        "    model_CoClustering.fit(data_surprise.build_full_trainset())\n",
        "    y_pred_CoClustering = performance(user_ids_true,product_ids_true,model_CoClustering)\n",
        "    error_CoClustering = RMSE(y_true, y_pred_CoClustering)\n",
        "    \n",
        "  elif i == 'KNNBasic':\n",
        "    param_grid = {'k': [40, 50, 60], 'sim_options': {'user_based': [True, False]}}\n",
        "    gs_KNNBasic = GridSearchCV(KNNBasic, param_grid, measures=['rmse'], cv=3)\n",
        "    gs_KNNBasic.fit(data_surprise)\n",
        "    best_KNNBasic = gs_KNNBasic.best_score['rmse']\n",
        "    best_KNNBasic_params = gs_KNNBasic.best_params['rmse']\n",
        "    model_KNNBasic = gs_KNNBasic.best_estimator['rmse']\n",
        "    model_KNNBasic.fit(data_surprise.build_full_trainset())\n",
        "    y_pred_KNNBasic = performance(user_ids_true,product_ids_true,model_KNNBasic)\n",
        "    error_KNNBasic = RMSE(y_true, y_pred_KNNBasic)\n",
        "\n",
        "  elif i == 'KNNWithMeans':\n",
        "    param_grid = {'k': [40, 50, 60], 'sim_options': {'user_based': [True, False]}}\n",
        "    gs_KNNWithMeans = GridSearchCV(KNNWithMeans, param_grid, measures=['rmse'], cv=3)\n",
        "    gs_KNNWithMeans.fit(data_surprise)\n",
        "    best_KNNWithMeans = gs_KNNWithMeans.best_score['rmse']\n",
        "    best_KNNWithMeans_params = gs_KNNWithMeans.best_params['rmse']\n",
        "    model_KNNWithMeans = gs_KNNWithMeans.best_estimator['rmse']\n",
        "    model_KNNWithMeans.fit(data_surprise.build_full_trainset())\n",
        "    y_pred_KNNWithMeans = performance(user_ids_true,product_ids_true,model_KNNWithMeans)\n",
        "    error_KNNWithMeans = RMSE(y_true, y_pred_KNNWithMeans)\n",
        "\n",
        "  elif i == 'KNNWithZScore':\n",
        "    param_grid = {'k': [40, 50, 60], 'sim_options': {'user_based': [True, False]}}\n",
        "    gs_KNNWithZScore = GridSearchCV(KNNWithZScore, param_grid, measures=['rmse'], cv=3)\n",
        "    gs_KNNWithZScore.fit(data_surprise)\n",
        "    best_KNNWithZScore = gs_KNNWithZScore.best_score['rmse']\n",
        "    best_KNNWithZScore_params = gs_KNNWithZScore.best_params['rmse']\n",
        "    model_KNNWithZScore = gs_KNNWithZScore.best_estimator['rmse']\n",
        "    model_KNNWithZScore.fit(data_surprise.build_full_trainset())\n",
        "    y_pred_KNNWithZScore = performance(user_ids_true,product_ids_true,model_KNNWithZScore)\n",
        "    error_KNNWithZScore = RMSE(y_true, y_pred_KNNWithZScore)\n",
        "\n",
        "  elif i == 'KNNBaseline':\n",
        "    param_grid = {'k': [40, 50, 60], 'sim_options': {'user_based': [True, False]},\n",
        "              'bsl_options': {'method': ['als', 'sgd']}}\n",
        "    gs_KNNBaseline = GridSearchCV(KNNBaseline, param_grid, measures=['rmse'], cv=3)\n",
        "    gs_KNNBaseline.fit(data_surprise)\n",
        "    best_KNNBaseline = gs_KNNBaseline.best_score['rmse']\n",
        "    best_KNNBaseline_params = gs_KNNBaseline.best_params['rmse']\n",
        "    model_KNNBaseline = gs_KNNBaseline.best_estimator['rmse']\n",
        "    model_KNNBaseline.fit(data_surprise.build_full_trainset())\n",
        "    y_pred_KNNBaseline = performance(user_ids_true,product_ids_true,model_KNNBaseline)\n",
        "    error_KNNBaseline = RMSE(y_true, y_pred_KNNBaseline)\n",
        "\n",
        "  elif i == 'BaselineOnly':\n",
        "    param_grid = {'bsl_options': {'method': ['als', 'sgd']}\n",
        "               }\n",
        "    gs_Baseline = GridSearchCV(BaselineOnly, param_grid, measures=['rmse'], cv=3)\n",
        "    gs_Baseline.fit(data_surprise)\n",
        "    best_Baseline = gs_Baseline.best_score['rmse']\n",
        "    best_Baseline_params = gs_Baseline.best_params['rmse']\n",
        "    model_Baseline = gs_Baseline.best_estimator['rmse']\n",
        "    model_Baseline.fit(data_surprise.build_full_trainset())\n",
        "    y_pred_Baseline = performance(user_ids_true,product_ids_true,model_Baseline)\n",
        "    error_Baseline = RMSE(y_true, y_pred_Baseline)\n",
        "\n",
        "    #for normal predictor i get error on param_grid, maybe needs other parameters\n",
        "\n",
        "  # elif i=='NormalPredictor':\n",
        "  #   param_grid = {'bsl_options': {'method': ['als', 'sgd']}\n",
        "  #              }\n",
        "  #   gs_Normal = GridSearchCV(NormalPredictor, param_grid, measures=['rmse'], cv=3)\n",
        "  #   gs_Normal.fit(data_surprise)\n",
        "  #   best_Normal = gs_Normal.best_score['rmse']\n",
        "  #   best_Normal_params = gs_Normal.best_params['rmse']\n",
        "  #   model_Normal = gs_Normal.best_estimator['rmse']\n",
        "  #   model_Normal.fit(data_surprise.build_full_trainset())\n",
        "  #   y_pred_Normal = performance(user_ids_true,product_ids_true,model_Normal)\n",
        "  #   error_Normal = RMSE(y_true, y_pred_Normal)\n",
        "\n",
        "\n",
        "\n",
        "  \n",
        "  \n",
        "\n",
        "\n",
        "\n",
        "\n",
        "\n"
      ],
      "execution_count": null,
      "outputs": []
    },
    {
      "cell_type": "markdown",
      "metadata": {
        "id": "at737KlxKtXo"
      },
      "source": [
        "# Results summary"
      ]
    },
    {
      "cell_type": "code",
      "metadata": {
        "colab": {
          "base_uri": "https://localhost:8080/"
        },
        "id": "KK6SP7pINWhT",
        "outputId": "dec26830-bd96-41ff-f166-2a885a68c448"
      },
      "source": [
        "\n",
        "\n",
        "print(f'The best Baseline score: {best_Baseline}\\nThe best Baseline parameters are: {best_Baseline_params}')\n",
        "print(80*'-')\n",
        "# print(f'The best NormalPredictos score: {best_Normal}\\nThe best Baseline parameters are: {best_Normal_params}')\n",
        "# print(80*'-')\n",
        "print(f'The best SVD score: {best_svd}\\nThe best SVD parameters are: {best_svd_params}')\n",
        "print(80*'-')\n",
        "print(f'The best SVD++ score: {best_svd_plus}\\nThe best SVD++ parameters are: {best_svd_plus_params}')\n",
        "print(80*'-')\n",
        "print(f'The best Biased NMF score: {best_nmfb}\\nThe best Biased NMF parameters are: {best_nmfb_params}')\n",
        "print(80*'-')\n",
        "print(f'The best NMF score: {best_nmf}\\nThe best NMF parameters are: {best_nmf_params}')\n",
        "print(80*'-')\n",
        "print(f'The best CoClustering score: {best_CoClustering}\\nThe best CoClustering parameters are: {best_CoClustering_params}')\n",
        "print(80*'-')\n",
        "print(f'The best KNNBasic score: {best_KNNBasic}\\nThe best KNNBasic parameters are: {best_KNNBasic_params}')\n",
        "print(80*'-')\n",
        "print(f'The best KNNWithMeans score: {best_KNNWithMeans}\\nThe best KNNWithMeans parameters are: {best_KNNWithMeans_params}')\n",
        "print(80*'-')\n",
        "print(f'The best KNNWithZScore score: {best_KNNWithZScore}\\nThe best KNNWithZScore parameters are: {best_KNNWithZScore_params}')\n",
        "print(80*'-')\n",
        "print(f'The best KNNBaseline score: {best_KNNBaseline}\\nThe best KNNBaseline parameters are: {best_KNNBaseline_params}')\n",
        "print(80*'-')\n",
        "\n"
      ],
      "execution_count": 26,
      "outputs": [
        {
          "output_type": "stream",
          "text": [
            "The best Baseline score: 1.5124415283322399\n",
            "The best Baseline parameters are: {'bsl_options': {'method': 'sgd'}}\n",
            "--------------------------------------------------------------------------------\n",
            "The best SVD score: 1.4640010780161443\n",
            "The best SVD parameters are: {'n_factors': 70, 'n_epochs': 100, 'reg_all': 0.1}\n",
            "--------------------------------------------------------------------------------\n",
            "The best SVD++ score: 1.4907184147103962\n",
            "The best SVD++ parameters are: {'lr_all': 0.009, 'reg_all': 0.015}\n",
            "--------------------------------------------------------------------------------\n",
            "The best Biased NMF score: 1.4827093901289619\n",
            "The best Biased NMF parameters are: {'n_factors': 1, 'n_epochs': 100, 'biased': True, 'reg_bu': 0.1, 'reg_bi': 0.1}\n",
            "--------------------------------------------------------------------------------\n",
            "The best NMF score: 1.5862935304907866\n",
            "The best NMF parameters are: {'n_factors': 220, 'n_epochs': 100}\n",
            "--------------------------------------------------------------------------------\n",
            "The best CoClustering score: 1.5856654890597233\n",
            "The best CoClustering parameters are: {'n_cltr_u': 5, 'n_cltr_i': 3, 'n_epochs': 100}\n",
            "--------------------------------------------------------------------------------\n",
            "The best KNNBasic score: 1.5794309123824075\n",
            "The best KNNBasic parameters are: {'k': 40, 'sim_options': {'user_based': False}}\n",
            "--------------------------------------------------------------------------------\n",
            "The best KNNWithMeans score: 1.5797824244690144\n",
            "The best KNNWithMeans parameters are: {'k': 40, 'sim_options': {'user_based': True}}\n",
            "--------------------------------------------------------------------------------\n",
            "The best KNNWithZScore score: 1.5788843155598045\n",
            "The best KNNWithZScore parameters are: {'k': 40, 'sim_options': {'user_based': True}}\n",
            "--------------------------------------------------------------------------------\n",
            "The best KNNBaseline score: 1.5282145375225022\n",
            "The best KNNBaseline parameters are: {'k': 40, 'sim_options': {'user_based': False}, 'bsl_options': {'method': 'sgd'}}\n",
            "--------------------------------------------------------------------------------\n"
          ],
          "name": "stdout"
        }
      ]
    },
    {
      "cell_type": "code",
      "metadata": {
        "id": "WJtcYW0HVbCK",
        "colab": {
          "base_uri": "https://localhost:8080/",
          "height": 360
        },
        "outputId": "d13d235a-782d-4a9f-ab1e-77e3bf4d7162"
      },
      "source": [
        "import matplotlib.pyplot as plt\n",
        "RMSEs = [error_svd, error_svd_plus, error_nmfb, error_nmf, error_CoClustering,error_KNNBasic,error_KNNWithMeans,error_KNNWithZScore,error_KNNBaseline,error_Baseline]\n",
        "algorithms = ['SVD', 'SVD++', \"Biased NMF\", 'NMF', 'CoClustering','KNNBasic','KNNWithMeans','KNNWithZScore','KNNBaseline', 'BaselineOnly']\n",
        "\n",
        "plt.figure(figsize=(20,5))\n",
        "plt.plot(algorithms, RMSEs,'bo' )\n",
        "plt.xlabel(\"Algorithms\")\n",
        "plt.ylabel(\"RMSE\")\n",
        "plt.title('Model comparison')\n",
        "plt.show()\n"
      ],
      "execution_count": 27,
      "outputs": [
        {
          "output_type": "display_data",
          "data": {
            "image/png": "[encoded data removed]",
            "text/plain": [
              "<Figure size 1440x360 with 1 Axes>"
            ]
          },
          "metadata": {
            "tags": [],
            "image/png": {
              "width": 1195,
              "height": 343
            }
          }
        }
      ]
    },
    {
      "cell_type": "markdown",
      "metadata": {
        "id": "E7OnYeimKyVD"
      },
      "source": [
        "## Recommendations"
      ]
    },
    {
      "cell_type": "code",
      "metadata": {
        "colab": {
          "base_uri": "https://localhost:8080/"
        },
        "id": "uh51mHTF36UW",
        "outputId": "2fd9c090-ec06-4c5b-8e8e-f2d423346e36"
      },
      "source": [
        "recommendations(34041,product_ids_true,model_svd)"
      ],
      "execution_count": 28,
      "outputs": [
        {
          "output_type": "execute_result",
          "data": {
            "text/plain": [
              "[('23159 computers_accessories Wednesday May evening', 3.356469191266185),\n",
              " ('20472 food_drink Saturday Aug afternoon', 3.3272109116374207),\n",
              " ('20244 bed_bath_table Monday Feb evening', 3.224067404310936),\n",
              " ('27433 furniture_bedroom Thursday Jan afternoon', 3.21850530973548),\n",
              " ('31032 auto Tuesday Feb evening', 3.207297835965201)]"
            ]
          },
          "metadata": {
            "tags": []
          },
          "execution_count": 28
        }
      ]
    },
    {
      "cell_type": "markdown",
      "metadata": {
        "id": "R27GLFJ_iUCA"
      },
      "source": [
        "#Visualizing the Similarity Between products"
      ]
    },
    {
      "cell_type": "code",
      "metadata": {
        "id": "MX3iC3xc7B0x"
      },
      "source": [
        "from sklearn.manifold import TSNE\n",
        "from sklearn.decomposition import PCA\n",
        "reduction=True\n",
        "\n",
        "if reduction:\n",
        "  pca = PCA(n_components=2)\n",
        "  products = pca.fit_transform(model_svd.qi)\n",
        "else:\n",
        "  tsne = TSNE(n_components=2, perplexity=15,n_iter=500, verbose=3, random_state=1)\n",
        "  products = tsne.fit_transform(model_svd.qi)\n",
        "\n",
        "\n",
        "\n",
        "projection = pd.DataFrame(columns=['x', 'y'], data=products)\n",
        "projection['title'] = train_df['combination']"
      ],
      "execution_count": 108,
      "outputs": []
    },
    {
      "cell_type": "code",
      "metadata": {
        "colab": {
          "base_uri": "https://localhost:8080/",
          "height": 638
        },
        "id": "spRryKXoRi2V",
        "outputId": "ad2d6228-17d9-4f4e-e253-1dc2be733562"
      },
      "source": [
        "b = sns.scatterplot(\n",
        "    x='x', y='y',hue='title',\n",
        "    \n",
        "    legend=False,\n",
        "    data=projection,\n",
        "    alpha=0.9)\n",
        "b.set_xlabel('x',fontsize=20)\n",
        "b.set_ylabel('y',fontsize=20)\n",
        "\n"
      ],
      "execution_count": 109,
      "outputs": [
        {
          "output_type": "execute_result",
          "data": {
            "text/plain": [
              "Text(0, 0.5, 'y')"
            ]
          },
          "metadata": {
            "tags": []
          },
          "execution_count": 109
        },
        {
          "output_type": "display_data",
          "data": {
            "image/png": "[encoded data removed]",
            "text/plain": [
              "<Figure size 1008x720 with 1 Axes>"
            ]
          },
          "metadata": {
            "tags": [],
            "image/png": {
              "width": 861,
              "height": 604
            }
          }
        }
      ]
    },
    {
      "cell_type": "markdown",
      "metadata": {
        "id": "7DZD5sdqgVCK"
      },
      "source": [
        "Based on the plot produced above, we can see that the points representing the 6000 products seem to follow a two-dimensional normal distribution. \n"
      ]
    },
    {
      "cell_type": "markdown",
      "metadata": {
        "id": "ayLsm6a4gzmT"
      },
      "source": [
        "### next step try to plot the vectors"
      ]
    },
    {
      "cell_type": "code",
      "metadata": {
        "id": "z75HYraHDRuP"
      },
      "source": [
        "project = projection.dropna()"
      ],
      "execution_count": 89,
      "outputs": []
    },
    {
      "cell_type": "code",
      "metadata": {
        "colab": {
          "base_uri": "https://localhost:8080/"
        },
        "id": "HOj31RnzRqN3",
        "outputId": "45362c8a-c449-4287-ac36-5eee98ed2e2f"
      },
      "source": [
        "x=projection.iloc[:,0].values\n"
      ],
      "execution_count": 65,
      "outputs": [
        {
          "output_type": "execute_result",
          "data": {
            "text/plain": [
              "0.011896646388195133"
            ]
          },
          "metadata": {
            "tags": []
          },
          "execution_count": 65
        }
      ]
    },
    {
      "cell_type": "code",
      "metadata": {
        "id": "_81egKJnRra9"
      },
      "source": [
        ""
      ],
      "execution_count": null,
      "outputs": []
    },
    {
      "cell_type": "code",
      "metadata": {
        "colab": {
          "base_uri": "https://localhost:8080/",
          "height": 249
        },
        "id": "KJBqSq8ZCltP",
        "outputId": "3c7a1b92-83eb-404d-dee1-dd6fc7291e98"
      },
      "source": [
        "plt.rc('figure', max_open_warning = 0)\n",
        "labels = project['title'].values\n",
        "x = projection.iloc[:0].values\n",
        "y=projection.iloc[:1].values\n",
        "\n",
        "\n",
        "\n",
        "plt.figure(figsize=(15, 15)) \n",
        "for i in range(10):\n",
        "  plt.scatter(x[i],y[i])\n",
        "  plt.annotate(labels[i],\n",
        "                     xy=(x[i], y[i]),\n",
        "                     xytext=(5, 2),\n",
        "                     textcoords='offset points',\n",
        "                     ha='right',\n",
        "                     va='bottom')\n",
        "plt.show()"
      ],
      "execution_count": 93,
      "outputs": [
        {
          "output_type": "error",
          "ename": "IndexError",
          "evalue": "ignored",
          "traceback": [
            "\u001b[0;31m---------------------------------------------------------------------------\u001b[0m",
            "\u001b[0;31mIndexError\u001b[0m                                Traceback (most recent call last)",
            "\u001b[0;32m<ipython-input-93-758c20283323>\u001b[0m in \u001b[0;36m<module>\u001b[0;34m()\u001b[0m\n\u001b[1;32m      8\u001b[0m \u001b[0mplt\u001b[0m\u001b[0;34m.\u001b[0m\u001b[0mfigure\u001b[0m\u001b[0;34m(\u001b[0m\u001b[0mfigsize\u001b[0m\u001b[0;34m=\u001b[0m\u001b[0;34m(\u001b[0m\u001b[0;36m15\u001b[0m\u001b[0;34m,\u001b[0m \u001b[0;36m15\u001b[0m\u001b[0;34m)\u001b[0m\u001b[0;34m)\u001b[0m\u001b[0;34m\u001b[0m\u001b[0;34m\u001b[0m\u001b[0m\n\u001b[1;32m      9\u001b[0m \u001b[0;32mfor\u001b[0m \u001b[0mi\u001b[0m \u001b[0;32min\u001b[0m \u001b[0mrange\u001b[0m\u001b[0;34m(\u001b[0m\u001b[0;36m10\u001b[0m\u001b[0;34m)\u001b[0m\u001b[0;34m:\u001b[0m\u001b[0;34m\u001b[0m\u001b[0;34m\u001b[0m\u001b[0m\n\u001b[0;32m---> 10\u001b[0;31m   \u001b[0mplt\u001b[0m\u001b[0;34m.\u001b[0m\u001b[0mscatter\u001b[0m\u001b[0;34m(\u001b[0m\u001b[0mx\u001b[0m\u001b[0;34m[\u001b[0m\u001b[0mi\u001b[0m\u001b[0;34m]\u001b[0m\u001b[0;34m,\u001b[0m\u001b[0my\u001b[0m\u001b[0;34m[\u001b[0m\u001b[0mi\u001b[0m\u001b[0;34m]\u001b[0m\u001b[0;34m)\u001b[0m\u001b[0;34m\u001b[0m\u001b[0;34m\u001b[0m\u001b[0m\n\u001b[0m\u001b[1;32m     11\u001b[0m   plt.annotate(labels[i],\n\u001b[1;32m     12\u001b[0m                      \u001b[0mxy\u001b[0m\u001b[0;34m=\u001b[0m\u001b[0;34m(\u001b[0m\u001b[0mx\u001b[0m\u001b[0;34m[\u001b[0m\u001b[0mi\u001b[0m\u001b[0;34m]\u001b[0m\u001b[0;34m,\u001b[0m \u001b[0my\u001b[0m\u001b[0;34m[\u001b[0m\u001b[0mi\u001b[0m\u001b[0;34m]\u001b[0m\u001b[0;34m)\u001b[0m\u001b[0;34m,\u001b[0m\u001b[0;34m\u001b[0m\u001b[0;34m\u001b[0m\u001b[0m\n",
            "\u001b[0;31mIndexError\u001b[0m: index 0 is out of bounds for axis 0 with size 0"
          ]
        },
        {
          "output_type": "display_data",
          "data": {
            "text/plain": [
              "<Figure size 1080x1080 with 0 Axes>"
            ]
          },
          "metadata": {
            "tags": []
          }
        }
      ]
    },
    {
      "cell_type": "markdown",
      "metadata": {
        "id": "bGVr4hIcg4_v"
      },
      "source": [
        "# The approaches below probably are not necessary"
      ]
    },
    {
      "cell_type": "markdown",
      "metadata": {
        "id": "V1c5squNuliU"
      },
      "source": [
        "#Item-Item Collaborative filtering"
      ]
    },
    {
      "cell_type": "code",
      "metadata": {
        "id": "aOUsPl3f6i_D"
      },
      "source": [
        "user = ratings_df.drop_duplicates(['customer_unique_id'])\n",
        "item = user.pivot_table(values='review_score', index='customer_unique_id',columns='combination',fill_value=0)"
      ],
      "execution_count": null,
      "outputs": []
    },
    {
      "cell_type": "code",
      "metadata": {
        "id": "IhfQx5ZTwAxw"
      },
      "source": [
        "item"
      ],
      "execution_count": null,
      "outputs": []
    },
    {
      "cell_type": "code",
      "metadata": {
        "id": "aZW_POEnw1Vp"
      },
      "source": [
        "correlations = item.transpose().corr()\n",
        "correlations"
      ],
      "execution_count": null,
      "outputs": []
    },
    {
      "cell_type": "code",
      "metadata": {
        "id": "hr-9S5paxbyu"
      },
      "source": [
        "K = 5\n",
        "user_id = 580"
      ],
      "execution_count": null,
      "outputs": []
    },
    {
      "cell_type": "code",
      "metadata": {
        "id": "jRfngtAjxht7"
      },
      "source": [
        "neighbours_corr = correlations[user_id].sort_values(ascending=False)[1: K+1]\n",
        "neighbours_corr"
      ],
      "execution_count": null,
      "outputs": []
    },
    {
      "cell_type": "code",
      "metadata": {
        "id": "a7sd6skDxop5"
      },
      "source": [
        "neighbours_ratings = item.loc[neighbours_corr.index]\n",
        "neighbours_ratings"
      ],
      "execution_count": null,
      "outputs": []
    },
    {
      "cell_type": "code",
      "metadata": {
        "id": "WWsNWYVqx0tw"
      },
      "source": [
        "# Find a list of missing ratings for the user\n",
        "missing_ratings = item.loc[user_id]\n",
        "missing_ratings = missing_ratings[missing_ratings.isnull()]\n",
        "missing_ratings"
      ],
      "execution_count": null,
      "outputs": []
    },
    {
      "cell_type": "code",
      "metadata": {
        "id": "jp-gwfZLx6nd"
      },
      "source": [
        "# make predictions\n",
        "user_mean = item.loc[user_id].mean()\n",
        "neighbours_means = neighbours_ratings.mean(axis=1)\n",
        "for movie_name, val in missing_ratings.iteritems():\n",
        "    rating = 0\n",
        "    weights_sum = 0\n",
        "    for neighbour_id, row in neighbours_ratings.iterrows():\n",
        "        if np.isnan(row[movie_name]): continue\n",
        "        rating += neighbours_corr.loc[neighbour_id] * (row[movie_name] - neighbours_means.loc[neighbour_id])\n",
        "        weights_sum += abs(neighbours_corr.loc[neighbour_id])\n",
        "    if weights_sum > 0:\n",
        "        rating /= weights_sum\n",
        "    rating += user_mean\n",
        "    missing_ratings.at[movie_name] = rating\n",
        "missing_ratings.sort_values(ascending=False)[0:5]"
      ],
      "execution_count": null,
      "outputs": []
    },
    {
      "cell_type": "markdown",
      "metadata": {
        "id": "sI6IPqW-yduQ"
      },
      "source": [
        "## Item-Item\n"
      ]
    },
    {
      "cell_type": "code",
      "metadata": {
        "id": "U_VTQUhHygMl"
      },
      "source": [
        "correlations = item.corr()"
      ],
      "execution_count": null,
      "outputs": []
    },
    {
      "cell_type": "code",
      "metadata": {
        "id": "S6Y4JP9AyjjM"
      },
      "source": [
        "for movie_name, val in missing_ratings.iteritems():\n",
        "    rating = 0\n",
        "    weights_sum = 0\n",
        "    neighbours_corr = correlations[movie_name].sort_values(ascending=False)[1: K+1]\n",
        "    item_mean = item[movie_name].mean()\n",
        "    neighbours_ratings = item[neighbours_corr.index].transpose()\n",
        "    neighbours_means = neighbours_ratings.mean(axis=1)\n",
        "    for neighbour_id, row in neighbours_ratings.iterrows():\n",
        "        if np.isnan(row[user_id]): continue\n",
        "        rating += neighbours_corr[neighbour_id] * (row[user_id] - neighbours_means[neighbour_id])\n",
        "        weights_sum += abs(neighbours_corr[neighbour_id])\n",
        "    if weights_sum > 0:\n",
        "        rating /= weights_sum\n",
        "    rating += item_mean\n",
        "    missing_ratings.at[movie_name] = rating\n",
        "missing_ratings.sort_values(ascending=False)[0:5]"
      ],
      "execution_count": null,
      "outputs": []
    },
    {
      "cell_type": "markdown",
      "metadata": {
        "id": "I8JaMFFC6ldD"
      },
      "source": [
        "# Content based recommender system\n"
      ]
    },
    {
      "cell_type": "code",
      "metadata": {
        "id": "7bfSjscX6ldF"
      },
      "source": [
        "data_new['combination'] = data_new['product_id'].apply(str) +' '+ data_new['product_category_name_english'] + ' ' + data_new['order_weekday']+ ' '+data_new['seller_state']+' '+data_new['order_month']+ ' ' +data_new['day_category']+' '+data_new['price_category']"
      ],
      "execution_count": null,
      "outputs": []
    },
    {
      "cell_type": "code",
      "metadata": {
        "id": "ajgBIAxh6ldG"
      },
      "source": [
        "item_df = data_new[['customer_unique_id','combination']]"
      ],
      "execution_count": null,
      "outputs": []
    },
    {
      "cell_type": "code",
      "metadata": {
        "id": "pjm3wkzt6ldG"
      },
      "source": [
        "item_df['combination'] = item_df['combination'].str.lower()"
      ],
      "execution_count": null,
      "outputs": []
    },
    {
      "cell_type": "code",
      "metadata": {
        "id": "U_2lJSUp6ldG"
      },
      "source": [
        "item_df.head(10)"
      ],
      "execution_count": null,
      "outputs": []
    },
    {
      "cell_type": "code",
      "metadata": {
        "id": "hA_q7AJP6ldH"
      },
      "source": [
        "count = CountVectorizer(stop_words='english')\n",
        "count_matrix = count.fit_transform(item_df['combination'])"
      ],
      "execution_count": null,
      "outputs": []
    },
    {
      "cell_type": "code",
      "metadata": {
        "id": "diJrAWKF6ldH"
      },
      "source": [
        "count_matrix.shape"
      ],
      "execution_count": null,
      "outputs": []
    },
    {
      "cell_type": "code",
      "metadata": {
        "id": "10H4dXNU6ldH"
      },
      "source": [
        "cosine_sim2 = cosine_similarity(count_matrix, count_matrix)"
      ],
      "execution_count": null,
      "outputs": []
    },
    {
      "cell_type": "code",
      "metadata": {
        "id": "rQ6KQZ_96ldH"
      },
      "source": [
        "metadata = item_df.reset_index()\n",
        "#indices = pd.Series(metadata.index, index=metadata['title'])\n",
        "metadata"
      ],
      "execution_count": null,
      "outputs": []
    },
    {
      "cell_type": "code",
      "metadata": {
        "id": "g4S2ftZm6ldI"
      },
      "source": [
        "indices = pd.Series(metadata.index, index=metadata['customer_unique_id']).drop_duplicates()\n"
      ],
      "execution_count": null,
      "outputs": []
    },
    {
      "cell_type": "code",
      "metadata": {
        "id": "js__t0Km6ldI"
      },
      "source": [
        "def get_recommendations(customer, cosine_sim=cosine_sim2):\n",
        "    idx = indices[customer]\n",
        "    print(idx.iloc[0])\n",
        "\n",
        "    sim_scores = list(enumerate(cosine_sim[idx.iloc[0]]))\n",
        "    print(sim_scores)\n",
        "\n",
        "    sim_scores = sorted(sim_scores, key=lambda x: x[1], reverse=True)\n",
        "\n",
        "    \n",
        "    sim_scores = sim_scores[1:11]\n",
        "\n",
        "    \n",
        "    customer_indices = [i[0] for i in sim_scores]\n",
        "    scores = [ i[1] for i in sim_scores]\n",
        "\n",
        "    \n",
        "    sim_products = metadata['combination'].iloc[customer_indices]\n",
        "    sim_customers = metadata['customer_unique_id'].iloc[customer_indices]\n",
        "    rec = {'customer': sim_customers, 'product': sim_products,'score':scores}\n",
        "    return pd.DataFrame(data=rec)"
      ],
      "execution_count": null,
      "outputs": []
    },
    {
      "cell_type": "code",
      "metadata": {
        "id": "bpQrQwVP6ldI"
      },
      "source": [
        "get_recommendations(34041, cosine_sim=cosine_sim2)"
      ],
      "execution_count": null,
      "outputs": []
    },
    {
      "cell_type": "code",
      "metadata": {
        "id": "EPzuYNyb7W6Z"
      },
      "source": [
        ""
      ],
      "execution_count": null,
      "outputs": []
    }
  ]
}