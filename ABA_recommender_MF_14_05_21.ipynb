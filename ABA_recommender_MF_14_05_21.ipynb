{
  "nbformat": 4,
  "nbformat_minor": 0,
  "metadata": {
    "colab": {
      "name": "ABA_recommender_MF_30_04_21.ipynb",
      "provenance": [],
      "collapsed_sections": [],
      "machine_shape": "hm",
      "include_colab_link": true
    },
    "kernelspec": {
      "name": "python3",
      "display_name": "Python 3"
    },
    "language_info": {
      "name": "python"
    },
    "accelerator": "GPU"
  },
  "cells": [
    {
      "cell_type": "markdown",
      "metadata": {
        "id": "view-in-github",
        "colab_type": "text"
      },
      "source": [
        "<a href=\"https://colab.research.google.com/github/georgezefko/Recommender_System/blob/Matrix_approach/ABA_recommender_MF_14_05_21.ipynb\" target=\"_parent\"><img src=\"https://colab.research.google.com/assets/colab-badge.svg\" alt=\"Open In Colab\"/></a>"
      ]
    },
    {
      "cell_type": "code",
      "metadata": {
        "colab": {
          "base_uri": "https://localhost:8080/"
        },
        "id": "xhYUiF3m3mS1",
        "outputId": "fa1493f2-e55c-42a8-94b2-202a01cf3354"
      },
      "source": [
        "from google.colab import drive\n",
        "drive.mount('/content/drive', force_remount=True)"
      ],
      "execution_count": 3,
      "outputs": [
        {
          "output_type": "stream",
          "text": [
            "Mounted at /content/drive\n"
          ],
          "name": "stdout"
        }
      ]
    },
    {
      "cell_type": "code",
      "metadata": {
        "id": "SuTgJBwWsDah",
        "colab": {
          "base_uri": "https://localhost:8080/"
        },
        "outputId": "1f48dfdb-3355-4326-81f3-9e79449c31ac"
      },
      "source": [
        "!pip install surprise"
      ],
      "execution_count": 4,
      "outputs": [
        {
          "output_type": "stream",
          "text": [
            "Collecting surprise\n",
            "  Downloading https://files.pythonhosted.org/packages/61/de/e5cba8682201fcf9c3719a6fdda95693468ed061945493dea2dd37c5618b/surprise-0.1-py2.py3-none-any.whl\n",
            "Collecting scikit-surprise\n",
            "\u001b[?25l  Downloading https://files.pythonhosted.org/packages/97/37/5d334adaf5ddd65da99fc65f6507e0e4599d092ba048f4302fe8775619e8/scikit-surprise-1.1.1.tar.gz (11.8MB)\n",
            "\u001b[K     |████████████████████████████████| 11.8MB 9.1MB/s \n",
            "\u001b[?25hRequirement already satisfied: joblib>=0.11 in /usr/local/lib/python3.7/dist-packages (from scikit-surprise->surprise) (1.0.1)\n",
            "Requirement already satisfied: numpy>=1.11.2 in /usr/local/lib/python3.7/dist-packages (from scikit-surprise->surprise) (1.19.5)\n",
            "Requirement already satisfied: scipy>=1.0.0 in /usr/local/lib/python3.7/dist-packages (from scikit-surprise->surprise) (1.4.1)\n",
            "Requirement already satisfied: six>=1.10.0 in /usr/local/lib/python3.7/dist-packages (from scikit-surprise->surprise) (1.15.0)\n",
            "Building wheels for collected packages: scikit-surprise\n",
            "  Building wheel for scikit-surprise (setup.py) ... \u001b[?25l\u001b[?25hdone\n",
            "  Created wheel for scikit-surprise: filename=scikit_surprise-1.1.1-cp37-cp37m-linux_x86_64.whl size=1617611 sha256=9edeaf21de57413461b8ecf778c412008556fb439c4babfeb823bf121ec2de79\n",
            "  Stored in directory: /root/.cache/pip/wheels/78/9c/3d/41b419c9d2aff5b6e2b4c0fc8d25c538202834058f9ed110d0\n",
            "Successfully built scikit-surprise\n",
            "Installing collected packages: scikit-surprise, surprise\n",
            "Successfully installed scikit-surprise-1.1.1 surprise-0.1\n"
          ],
          "name": "stdout"
        }
      ]
    },
    {
      "cell_type": "code",
      "metadata": {
        "id": "7QillAFo3rqM"
      },
      "source": [
        "%matplotlib inline\n",
        "%config InlineBackend.figure_format='retina'\n",
        "import pandas as pd\n",
        "import numpy as np\n",
        "import seaborn as sns\n",
        "from sklearn.model_selection import train_test_split\n",
        "from surprise import Reader, Dataset, SVD, SVDpp, NMF, KNNBaseline,CoClustering,KNNBasic, KNNWithMeans,KNNWithZScore,SlopeOne,accuracy\n",
        "from surprise.model_selection import cross_validate\n",
        "from surprise.model_selection import KFold, GridSearchCV\n",
        "from surprise import NormalPredictor\n",
        "from surprise import BaselineOnly\n",
        "import warnings\n",
        "warnings.filterwarnings(\"ignore\", category=np.VisibleDeprecationWarning) \n",
        "from pylab import rcParams\n",
        "import matplotlib.pyplot as plt\n",
        "from matplotlib import rc\n",
        "from pandas.plotting import register_matplotlib_converters\n",
        "\n",
        "sns.set(style='whitegrid', palette='muted', font_scale=1.2)\n",
        "\n",
        "HAPPY_COLORS_PALETTE = [\"#01BEFE\", \"#FFDD00\", \"#FF7D00\", \"#FF006D\", \"#93D30C\", \"#8F00FF\"]\n",
        "\n",
        "sns.set_palette(sns.color_palette(HAPPY_COLORS_PALETTE))\n",
        "\n",
        "rcParams['figure.figsize'] = 14, 10\n",
        "register_matplotlib_converters()\n"
      ],
      "execution_count": 5,
      "outputs": []
    },
    {
      "cell_type": "markdown",
      "metadata": {
        "id": "4AVslq8W7-7h"
      },
      "source": [
        "# Introduction"
      ]
    },
    {
      "cell_type": "markdown",
      "metadata": {
        "id": "X-nOxnqk8B3Q"
      },
      "source": [
        "In this part we aim to build a recommender system for Olist based on collaborative filtering approach. The core principal for such kind of recommender is that the user is recommended items that people with similar tastes and preferences liked in the past. \n",
        "We will try several algorithms using the Surprise library in order to find the most optimal algorithm for our case.\n",
        "Following the EDA part (see corresponding notebook) the initial idea behind the recommender system was to use additional features such as month, product category, time etc.. However, after carefull consideration we realized that this won't provide the desired outcome because it will create confusion to the models. Therefore solely the product id, customer id and reviews will be used."
      ]
    },
    {
      "cell_type": "markdown",
      "metadata": {
        "id": "Q-S4OMAscvHI"
      },
      "source": [
        "#Further data pre-processing"
      ]
    },
    {
      "cell_type": "markdown",
      "metadata": {
        "id": "1xYqOe2abuvq"
      },
      "source": [
        "Here we use the dataset called recommender.csv we obtained from the exploratory data analysis part. Before we build the \n",
        "recommender system on collaborative filtering we would like clean this dataset by removing the duplicates."
      ]
    },
    {
      "cell_type": "code",
      "metadata": {
        "id": "kK2y7-0x4HFa"
      },
      "source": [
        "#import the dataset from EDA\n",
        "#path = '/content/drive/MyDrive/AdvancedBA/Olie_data/'\n",
        "path ='/content/drive/MyDrive/olist_project/'\n",
        "data = pd.read_csv(path+'recommender.csv')"
      ],
      "execution_count": 6,
      "outputs": []
    },
    {
      "cell_type": "code",
      "metadata": {
        "colab": {
          "base_uri": "https://localhost:8080/",
          "height": 231
        },
        "id": "xCkuqB9O4VS_",
        "outputId": "bda99252-cf86-4154-b324-4dd1e515761f"
      },
      "source": [
        "data.head()"
      ],
      "execution_count": 7,
      "outputs": [
        {
          "output_type": "execute_result",
          "data": {
            "text/html": [
              "<div>\n",
              "<style scoped>\n",
              "    .dataframe tbody tr th:only-of-type {\n",
              "        vertical-align: middle;\n",
              "    }\n",
              "\n",
              "    .dataframe tbody tr th {\n",
              "        vertical-align: top;\n",
              "    }\n",
              "\n",
              "    .dataframe thead th {\n",
              "        text-align: right;\n",
              "    }\n",
              "</style>\n",
              "<table border=\"1\" class=\"dataframe\">\n",
              "  <thead>\n",
              "    <tr style=\"text-align: right;\">\n",
              "      <th></th>\n",
              "      <th>Unnamed: 0</th>\n",
              "      <th>review_score</th>\n",
              "      <th>customer_state</th>\n",
              "      <th>seller_state</th>\n",
              "      <th>product_id</th>\n",
              "      <th>product_category_name_english</th>\n",
              "      <th>customer_unique_id</th>\n",
              "      <th>order_delivered_customer_date</th>\n",
              "      <th>price</th>\n",
              "      <th>delivered_date</th>\n",
              "      <th>days_diff</th>\n",
              "      <th>order_weekday</th>\n",
              "      <th>order_month</th>\n",
              "      <th>price_category</th>\n",
              "      <th>day_category</th>\n",
              "    </tr>\n",
              "  </thead>\n",
              "  <tbody>\n",
              "    <tr>\n",
              "      <th>0</th>\n",
              "      <td>0</td>\n",
              "      <td>4</td>\n",
              "      <td>SP</td>\n",
              "      <td>SP</td>\n",
              "      <td>17106</td>\n",
              "      <td>housewares</td>\n",
              "      <td>45758</td>\n",
              "      <td>2017-10-10 21:25:13</td>\n",
              "      <td>29.99</td>\n",
              "      <td>2017-10-10</td>\n",
              "      <td>8.0</td>\n",
              "      <td>Monday</td>\n",
              "      <td>Oct</td>\n",
              "      <td>Low</td>\n",
              "      <td>morning</td>\n",
              "    </tr>\n",
              "    <tr>\n",
              "      <th>1</th>\n",
              "      <td>1</td>\n",
              "      <td>4</td>\n",
              "      <td>SP</td>\n",
              "      <td>SP</td>\n",
              "      <td>17106</td>\n",
              "      <td>housewares</td>\n",
              "      <td>21530</td>\n",
              "      <td>2017-08-18 14:44:43</td>\n",
              "      <td>29.99</td>\n",
              "      <td>2017-08-18</td>\n",
              "      <td>3.0</td>\n",
              "      <td>Tuesday</td>\n",
              "      <td>Aug</td>\n",
              "      <td>Low</td>\n",
              "      <td>afternoon</td>\n",
              "    </tr>\n",
              "    <tr>\n",
              "      <th>2</th>\n",
              "      <td>2</td>\n",
              "      <td>5</td>\n",
              "      <td>SP</td>\n",
              "      <td>SP</td>\n",
              "      <td>17106</td>\n",
              "      <td>housewares</td>\n",
              "      <td>87936</td>\n",
              "      <td>2017-08-07 18:30:01</td>\n",
              "      <td>29.99</td>\n",
              "      <td>2017-08-07</td>\n",
              "      <td>5.0</td>\n",
              "      <td>Wednesday</td>\n",
              "      <td>Aug</td>\n",
              "      <td>Low</td>\n",
              "      <td>afternoon</td>\n",
              "    </tr>\n",
              "    <tr>\n",
              "      <th>3</th>\n",
              "      <td>3</td>\n",
              "      <td>3</td>\n",
              "      <td>SC</td>\n",
              "      <td>SP</td>\n",
              "      <td>17106</td>\n",
              "      <td>housewares</td>\n",
              "      <td>85228</td>\n",
              "      <td>2017-11-07 18:04:59</td>\n",
              "      <td>29.99</td>\n",
              "      <td>2017-11-07</td>\n",
              "      <td>15.0</td>\n",
              "      <td>Monday</td>\n",
              "      <td>Oct</td>\n",
              "      <td>Low</td>\n",
              "      <td>evening</td>\n",
              "    </tr>\n",
              "    <tr>\n",
              "      <th>4</th>\n",
              "      <td>4</td>\n",
              "      <td>1</td>\n",
              "      <td>SP</td>\n",
              "      <td>SP</td>\n",
              "      <td>23951</td>\n",
              "      <td>housewares</td>\n",
              "      <td>44958</td>\n",
              "      <td>2017-08-28 20:12:20</td>\n",
              "      <td>46.80</td>\n",
              "      <td>2017-08-28</td>\n",
              "      <td>4.0</td>\n",
              "      <td>Thursday</td>\n",
              "      <td>Aug</td>\n",
              "      <td>Low</td>\n",
              "      <td>morning</td>\n",
              "    </tr>\n",
              "  </tbody>\n",
              "</table>\n",
              "</div>"
            ],
            "text/plain": [
              "   Unnamed: 0  review_score  ... price_category day_category\n",
              "0           0             4  ...            Low      morning\n",
              "1           1             4  ...            Low    afternoon\n",
              "2           2             5  ...            Low    afternoon\n",
              "3           3             3  ...            Low      evening\n",
              "4           4             1  ...            Low      morning\n",
              "\n",
              "[5 rows x 15 columns]"
            ]
          },
          "metadata": {
            "tags": []
          },
          "execution_count": 7
        }
      ]
    },
    {
      "cell_type": "code",
      "metadata": {
        "id": "PaFi0dns4Wfn"
      },
      "source": [
        "# remove the excess column in the beginning\n",
        "data = data.iloc[:,1:]"
      ],
      "execution_count": 8,
      "outputs": []
    },
    {
      "cell_type": "code",
      "metadata": {
        "colab": {
          "base_uri": "https://localhost:8080/"
        },
        "id": "i1oXVhGBla9M",
        "outputId": "3443dbfb-1fc2-48ed-8c5b-425840c5b11c"
      },
      "source": [
        "data.shape"
      ],
      "execution_count": 9,
      "outputs": [
        {
          "output_type": "execute_result",
          "data": {
            "text/plain": [
              "(111686, 14)"
            ]
          },
          "metadata": {
            "tags": []
          },
          "execution_count": 9
        }
      ]
    },
    {
      "cell_type": "code",
      "metadata": {
        "id": "nZpa4ELL4ZlH"
      },
      "source": [
        "#drop duplicates for the chosen columns\n",
        "data = data.loc[:,'customer_unique_id,product_id,review_score'.split(',')].drop_duplicates()"
      ],
      "execution_count": 10,
      "outputs": []
    },
    {
      "cell_type": "code",
      "metadata": {
        "colab": {
          "base_uri": "https://localhost:8080/"
        },
        "id": "aYRNM0uale4P",
        "outputId": "7a8a1292-a661-4da2-e613-ffbc02f5b5bc"
      },
      "source": [
        "data.shape"
      ],
      "execution_count": 11,
      "outputs": [
        {
          "output_type": "execute_result",
          "data": {
            "text/plain": [
              "(100882, 3)"
            ]
          },
          "metadata": {
            "tags": []
          },
          "execution_count": 11
        }
      ]
    },
    {
      "cell_type": "markdown",
      "metadata": {
        "id": "Hx3jlN74BzVf"
      },
      "source": [
        "### Product-User ratings distribution"
      ]
    },
    {
      "cell_type": "markdown",
      "metadata": {
        "id": "rHljNheGd4S7"
      },
      "source": [
        "Now we would like to see the distribution of ratings given by users. That is for instance how many users give only 2 ratings.\n",
        "Also we would like to see the distribution of ratings given to products. That is for how many products are there with 20 ratings."
      ]
    },
    {
      "cell_type": "code",
      "metadata": {
        "id": "ETS45IP2B39I"
      },
      "source": [
        "pro_rat = data.groupby('customer_unique_id')['review_score'].count()\n",
        "pro_rev=data.groupby('product_id')['review_score'].count()"
      ],
      "execution_count": 12,
      "outputs": []
    },
    {
      "cell_type": "code",
      "metadata": {
        "colab": {
          "base_uri": "https://localhost:8080/",
          "height": 459
        },
        "id": "QxNvcgtBDJre",
        "outputId": "9a5e7046-cd12-4eda-9543-242522715261"
      },
      "source": [
        "fig = plt.figure(figsize=(20,15))\n",
        "\n",
        "\n",
        "fig.add_subplot(2,2,1)\n",
        "pro_rat.hist(bins=20)\n",
        "plt.xlabel('Count of user ratings')\n",
        "plt.ylabel('Count')\n",
        "plt.title('Distribution of number of ratings per user')\n",
        "\n",
        "fig.add_subplot(2,2, 2)\n",
        "pro_rev.hist(bins=20)\n",
        "plt.xlabel('Count of product ratings')\n",
        "plt.ylabel('Count')\n",
        "plt.title('Distribution of number of ratings per product')\n",
        "\n",
        "plt.show()"
      ],
      "execution_count": 13,
      "outputs": [
        {
          "output_type": "display_data",
          "data": {
            "image/png": "[encoded data removed]",
            "text/plain": [
              "<Figure size 1440x1080 with 2 Axes>"
            ]
          },
          "metadata": {
            "tags": [],
            "image/png": {
              "width": 1199,
              "height": 442
            }
          }
        }
      ]
    },
    {
      "cell_type": "markdown",
      "metadata": {
        "id": "BF3SSn3fKNye"
      },
      "source": [
        "From the plots above we can see that we have many products that have received solely one review. Additionaly there majority of customers have provided only one review. \n",
        "In order to reduce dimensionality and to avoid the cold users/item issue we will remove users and items with only one review provided and given respectively."
      ]
    },
    {
      "cell_type": "code",
      "metadata": {
        "id": "hmAsLa5fl0aC"
      },
      "source": [
        "#https://towardsdatascience.com/building-and-testing-recommender-systems-with-surprise-step-by-step-d4ba702ef80b\n",
        "#remove rating and users than have been given/gotten only one review\n",
        "min_product_ratings = 1\n",
        "filter_products = data['product_id'].value_counts() > min_product_ratings\n",
        "filter_products = filter_products[filter_products].index.tolist()\n",
        "\n",
        "\n",
        "min_user_ratings = 1\n",
        "filter_users = data['customer_unique_id'].value_counts() > min_user_ratings\n",
        "filter_users = filter_users[filter_users].index.tolist()\n",
        "\n",
        "data_new = data[(data['product_id'].isin(filter_products)) & (data['customer_unique_id'].isin(filter_users))]"
      ],
      "execution_count": 14,
      "outputs": []
    },
    {
      "cell_type": "code",
      "metadata": {
        "colab": {
          "base_uri": "https://localhost:8080/",
          "height": 399
        },
        "id": "ro5x9Lramu4E",
        "outputId": "b2f35ad8-b322-4ee7-9dd3-2a7518762ed4"
      },
      "source": [
        "data_new"
      ],
      "execution_count": 15,
      "outputs": [
        {
          "output_type": "execute_result",
          "data": {
            "text/html": [
              "<div>\n",
              "<style scoped>\n",
              "    .dataframe tbody tr th:only-of-type {\n",
              "        vertical-align: middle;\n",
              "    }\n",
              "\n",
              "    .dataframe tbody tr th {\n",
              "        vertical-align: top;\n",
              "    }\n",
              "\n",
              "    .dataframe thead th {\n",
              "        text-align: right;\n",
              "    }\n",
              "</style>\n",
              "<table border=\"1\" class=\"dataframe\">\n",
              "  <thead>\n",
              "    <tr style=\"text-align: right;\">\n",
              "      <th></th>\n",
              "      <th>customer_unique_id</th>\n",
              "      <th>product_id</th>\n",
              "      <th>review_score</th>\n",
              "    </tr>\n",
              "  </thead>\n",
              "  <tbody>\n",
              "    <tr>\n",
              "      <th>0</th>\n",
              "      <td>45758</td>\n",
              "      <td>17106</td>\n",
              "      <td>4</td>\n",
              "    </tr>\n",
              "    <tr>\n",
              "      <th>50</th>\n",
              "      <td>54651</td>\n",
              "      <td>3315</td>\n",
              "      <td>4</td>\n",
              "    </tr>\n",
              "    <tr>\n",
              "      <th>54</th>\n",
              "      <td>18828</td>\n",
              "      <td>27150</td>\n",
              "      <td>1</td>\n",
              "    </tr>\n",
              "    <tr>\n",
              "      <th>95</th>\n",
              "      <td>18846</td>\n",
              "      <td>23621</td>\n",
              "      <td>1</td>\n",
              "    </tr>\n",
              "    <tr>\n",
              "      <th>134</th>\n",
              "      <td>79270</td>\n",
              "      <td>24487</td>\n",
              "      <td>5</td>\n",
              "    </tr>\n",
              "    <tr>\n",
              "      <th>...</th>\n",
              "      <td>...</td>\n",
              "      <td>...</td>\n",
              "      <td>...</td>\n",
              "    </tr>\n",
              "    <tr>\n",
              "      <th>111637</th>\n",
              "      <td>48527</td>\n",
              "      <td>32053</td>\n",
              "      <td>5</td>\n",
              "    </tr>\n",
              "    <tr>\n",
              "      <th>111647</th>\n",
              "      <td>66013</td>\n",
              "      <td>13293</td>\n",
              "      <td>5</td>\n",
              "    </tr>\n",
              "    <tr>\n",
              "      <th>111660</th>\n",
              "      <td>46303</td>\n",
              "      <td>16592</td>\n",
              "      <td>4</td>\n",
              "    </tr>\n",
              "    <tr>\n",
              "      <th>111676</th>\n",
              "      <td>34041</td>\n",
              "      <td>26630</td>\n",
              "      <td>1</td>\n",
              "    </tr>\n",
              "    <tr>\n",
              "      <th>111682</th>\n",
              "      <td>32279</td>\n",
              "      <td>4599</td>\n",
              "      <td>5</td>\n",
              "    </tr>\n",
              "  </tbody>\n",
              "</table>\n",
              "<p>9370 rows × 3 columns</p>\n",
              "</div>"
            ],
            "text/plain": [
              "        customer_unique_id  product_id  review_score\n",
              "0                    45758       17106             4\n",
              "50                   54651        3315             4\n",
              "54                   18828       27150             1\n",
              "95                   18846       23621             1\n",
              "134                  79270       24487             5\n",
              "...                    ...         ...           ...\n",
              "111637               48527       32053             5\n",
              "111647               66013       13293             5\n",
              "111660               46303       16592             4\n",
              "111676               34041       26630             1\n",
              "111682               32279        4599             5\n",
              "\n",
              "[9370 rows x 3 columns]"
            ]
          },
          "metadata": {
            "tags": []
          },
          "execution_count": 15
        }
      ]
    },
    {
      "cell_type": "markdown",
      "metadata": {
        "id": "-_yj3fsernXF"
      },
      "source": [
        "# Recommender algorithms\n"
      ]
    },
    {
      "cell_type": "markdown",
      "metadata": {
        "id": "vqo1MlxfL6X5"
      },
      "source": [
        "In this part we will make use of the algorithms included in the surprise package in order to investigate which algorithm provides the optimal recommendations.\n",
        "We will use the root mean squared error as accuracy metric. Below a description of algorithms is provided as derived from the surprise documentation."
      ]
    },
    {
      "cell_type": "markdown",
      "metadata": {
        "id": "SP-MNsAVGUey"
      },
      "source": [
        "##1. Basic algorithms\n",
        "\n",
        "These are basic algorithms that do not do much work but that are still useful for comparing accuracies.\n",
        "\n",
        "\n",
        "**NormalPredictor**\n",
        "\n",
        "A prediction value $\\hat{r}_{u i}$ is given randomly according to the distribution characteristics of training set. This is one of the most basic algorithms that do not do much work. The prediction is generated from a normal distribution $\n",
        "\\mathcal{N}\\left(\\hat{\\mu}, \\hat{\\sigma}^{2}\\right)\n",
        "$ where mean $\\hat{\\mu}$ and standard deviation $\\hat{\\sigma}$ are estimated from the training data using Maximum Likelihood Estimation where,\n",
        "\n",
        "**$$\n",
        "\\hat{\\mu}=\\frac{1}{\\left|R_{\\text {train }}\\right|} \\sum_{r_{u i} \\in R_{\\text {train }}} r_{u i} \n",
        "$$**\n",
        "\n",
        "and \n",
        "\n",
        "**$$\n",
        "\\hat{\\sigma}=\\sqrt{\\sum_{r_{u i} \\in R_{\\text {train }}} \\frac{\\left(r_{u i}-\\hat{\\mu}\\right)^{2}}{\\left|R_{\\text {train }}\\right|}}\n",
        "$$**\n",
        "\n",
        "\n",
        "**BaselineOnly**\n",
        "\n",
        "BaselineOnly algorithm predicts the baseline estimate for given user and item. The prediction $\\hat{r}_{u i}$ is:\n",
        "\n",
        "$$\n",
        "\\hat{r}_{u i}=b_{u i}=\\mu+b_{u}+b_{i}\n",
        "$$\n",
        "\n",
        "\n",
        "Here the $b_{u}$ \n",
        "and $b_{i}$ are the user's bias and item's bias respectively. $\\mu$ is the global mean rating or the average of all ratings. \n",
        "If user $\\mu$ is unknown, then the bias $b_{u}$ is assumed to be zero. \n",
        "The same applies for item ${i}$ with $b_{i}$.\n",
        "\n",
        "\n",
        "\n",
        "\n"
      ]
    },
    {
      "cell_type": "markdown",
      "metadata": {
        "id": "gvJHXvlWL8WC"
      },
      "source": [
        "## 2. k-NN algorithms\n",
        "\n",
        "These are algorithms that are directly derived from a basic nearest neighbors approach.\n",
        "\n",
        "**KNNBasic**\n",
        "\n",
        "KNNBasic is a basic collaborative filtering algorithm. The prediction $\\hat{r}_{u i}$ is:\n",
        "\n",
        "$$\n",
        "\\hat{r}_{u i}=\\frac{\\sum_{v \\in N_{i}^{k}(u)} \\operatorname{sim}(u, v) \\cdot r_{v i}}{\\sum_{v \\in N_{i}^{k}(u)} \\operatorname{sim}(u, v)}\n",
        "$$  or     $$\\hat{r}_{u i}=\\frac{\\sum_{j \\in N_{u}^{k}(i)} \\operatorname{sim}(i, j) \\cdot r_{u j}}{\\sum_{j \\in N_{u}^{k}(i)} \\operatorname{sim}(i, j)}\n",
        "$$ \n",
        "\n",
        "Here the $r_{v i}$ and $r_{u j}$ are the rating given to item $i$ by the user $v$ and rating given to item $j$ by user $u$ respectively. ${sim}(u, v)$ and ${sim}(i, j)$ are the similarity between user $u$ & $v$ and similarity between item $i$ & $j$ respectively. \n",
        "The first $\\hat{r}_{u i}$ is collaborative filering based on user similarity. \n",
        "The second $\\hat{r}_{u i}$ is collaborative filering based on item similarity. The formula depends on the user_based field of the sim_options parameter. If we put user_based = False it computes similarity between items. Therefore we can compute Similarities  between either users or items. This has a huge impact on the performance of a prediction algorithm.\n",
        "\n",
        "\n",
        "**KNNWithMeans**\n",
        "\n",
        "KNNWithMeans is basic collaborative filtering algorithm, taking into account the mean ratings of each user. The prediction $\\hat{r}_{u i}$ is:\n",
        "\n",
        "$$\n",
        "\\hat{r}_{u i}=\\mu_{u}+\\frac{\\sum_{v \\in N_{i}^{k}(u)} \\operatorname{sim}(u, v) \\cdot\\left(r_{v i}-\\mu_{v}\\right)}{\\sum_{v \\in N_{i}^{k}(u)} \\operatorname{sim}(u, v)}\n",
        "$$\n",
        "\n",
        "or \n",
        "\n",
        "$$\n",
        "\\hat{r}_{u i}=\\mu_{i}+\\frac{\\sum_{j \\in N_{u}^{k}(i)} \\operatorname{sim}(i, j) \\cdot\\left(r_{u j}-\\mu_{j}\\right)}{\\sum_{j \\in N_{u}^{k}(i)} \\operatorname{sim}(i, j)}\n",
        "$$. \n",
        "\n",
        "This is same as the KNNBasic algorithm discussed above, the only difference is the usage of mean rating of users or items into the prediction. Same as the KNNBasic algorithm the formula depends on the user_based field of the sim_options parameter. \n",
        "This algorithm is better than the KNNBasic algorithm because this accounts for the average user's ratings represented by $\\mu_{u}$ \n",
        "and $\\mu_{v}$) or the average item ratings represented by $\\mu_{i}$ \n",
        "and $\\mu_{j}$) to the prediction. The average user rating can be also interpreted as how generous or tough a rater or user is. It allows to center or normalize the values.\n",
        "\n",
        "\n",
        "**KNNWithZScore**\n",
        "\n",
        "KNNWithZScore is a basic collaborative filtering algorithm, taking into account the z-score normalization of each user. The prediction $\\hat{r}_{u i}$ is:\n",
        "\n",
        "$$\n",
        "\\hat{r}_{u i}=\\mu_{u}+\\sigma_{u} \\frac{\\sum_{v \\in N_{i}^{k}(u)} \\operatorname{sim}(u, v) \\cdot\\left(r_{v i}-\\mu_{v}\\right) / \\sigma_{v}}{\\sum_{v \\in N_{i}^{k}(u)} \\operatorname{sim}(u, v)}\n",
        "$$\n",
        "\n",
        "or\n",
        "\n",
        "$$\n",
        "\\hat{r}_{u i}=\\mu_{i}+\\sigma_{i} \\frac{\\sum_{j \\in N_{u}^{k}(i)} \\operatorname{sim}(i, j) \\cdot\\left(r_{u j}-\\mu_{j}\\right) / \\sigma_{j}}{\\sum_{j \\in N_{u}^{k}(i)} \\operatorname{sim}(i, j)}\n",
        "$$\n",
        "\n",
        "This is also same as the KNNWithMeans algorithm,the only difference is it takes the Z-score normalization of each user or the each item. This formula also depends on the user_based field of the sim_options parameter. If standard deviation $\\sigma$ is 0, then the overall sigma is used in that case.\n",
        "\n",
        "\n",
        "\n",
        "**KNNBaseline**\n",
        "\n",
        "KNNBaseline is a basic collaborative filtering algorithm taking into account a baseline rating. The prediction $\\hat{r}_{u i}$ is:\n",
        "\n",
        "$$\n",
        "\\hat{r}_{u i}=b_{u i}+\\frac{\\sum_{v \\in N_{i}^{k}(u)} \\operatorname{sim}(u, v) \\cdot\\left(r_{v i}-b_{v i}\\right)}{\\sum_{v \\in N_{i}^{k}(u)} \\operatorname{sim}(u, v)}\n",
        "$$\n",
        "\n",
        "or \n",
        "\n",
        "$$\n",
        "\\hat{r}_{u i}=b_{u i}+\\frac{\\sum_{j \\in N_{u}^{k}(i)} \\operatorname{sim}(i, j) \\cdot\\left(r_{u j}-b_{u j}\\right)}{\\sum_{j \\in N_{u}^{k}(i)} \\operatorname{sim}(i, j)}\n",
        "$$\n",
        "\n",
        "depending on the user_based field of the sim_options parameter. \n",
        "This gives best predictions, when we use the pearson baseline similarity measure. The only difference here with KNNBasic is this use baseline ratings given by users to items which are represented by $b_{u i}$ , $b_{v i}$ , $b_{u j}$.\n"
      ]
    },
    {
      "cell_type": "markdown",
      "metadata": {
        "id": "zg3zIGUPMKJO"
      },
      "source": [
        "## 3. Matrix Factorization-based algorithms\n",
        "\n",
        "Matrix factorization is a famous class of collaborative filtering algorithms used in recommender systems. Matrix factorization algorithms work by decomposing the user-item interaction matrix into the product of two lower dimensionality matrices.Latent features, the association between users and products matrices, are determined to find similarity and make a prediction based on both item and user entities. The advantage of this method is it want the reconstruction error to be small on known ratings and do not care about the values on the missing ones.\n",
        "\n",
        "**SVD**\n",
        "\n",
        "SVD algorithm is equivalent to Probabilistic Matrix Factorization when baselines are not used. The prediction $\\hat{r}_{u i}$ is:\n",
        "\n",
        "$$\n",
        "\\hat{r}_{u i}=\\mu+b_{u}+b_{i}+q_{i}^{T} p_{u}\n",
        "$$\n",
        "\n",
        "Here the $\\mu$, $b_{u}$, $b_{i}$, $q_{i}$ \n",
        "and $p_{u}$ are the global mean rating, bias for user $u$, bias for item $i$, item factors and the user factors respectively. \n",
        "If user $\\mu$ is unknown, then the bias $b_{u}$ \n",
        "and the factors $p_{u}$ are assumed to be zero. \n",
        "The same applies for item $i$ with $b_{i}$ \n",
        "and $q_{i}$. To estimate all the unknown, we minimize the regularized squared error and the minimization is performed by the stochastic gradient descent.\n",
        "\n",
        "**SVDpp**\n",
        "\n",
        "The SVDpp algorithm is an extension of SVD that takes into account implicit ratings. The prediction $\\hat{r}_{u i}$ is:\n",
        "\n",
        "$$\n",
        "\\hat{r}_{u i}=\\mu+b_{u}+b_{i}+q_{i}^{T}\\left(p_{u}+\\left|I_{u}\\right|^{-\\frac{1}{2}} \\sum_{j \\in I_{u}} y_{j}\\right)\n",
        "$$\n",
        "\n",
        "The only difference here with SVD algorithm is usage if implicit ratings into the prediction. \n",
        "The (implicit) item factors $y_{j}$ \n",
        "are a new set of item factors that capture implicit ratings. Here, an implicit rating describes the fact that a user $u$ rated an item $j$, regardless of the rating value. If user $u$ is unknown, then the bias $b_{u}$ \n",
        "and the factors $p_{u}$ \n",
        "are assumed to be zero. The same applies for item $i$ with $b_{i}$, $q_{i}$ and $y_{i}$. Just as for SVD, the parameters are learned using a stochastic gradient descent on the regularized squared error minimization.\n",
        "\n",
        "**NMF**\n",
        "\n",
        "NMF is a collaborative filtering algorithm based on Non-negative Matrix Factorization. It is very similar to SVD. The prediction $\\hat{r}_{u i}$ is:\n",
        "\n",
        "$$\n",
        "\\hat{r}_{u i}=q_{i}^{T} p_{u}\n",
        "$$\n",
        "\n",
        "Here we keep user and item factors as positive. The optimization procedure is a regularized stochastic gradient descent with a specific choice of step size that ensures non-negativity of factors, provided that their initial values are also positive.\n",
        "\n",
        "**NMF Biased**\n",
        "\n",
        "This is the biased version of Non-negative Matrix Factorization. This can be achieved by setting the biased parameter to True. In this case, the prediction is:\n",
        "\n",
        "$$\n",
        "\\hat{r}_{u i}=\\mu+b_{u}+b_{i}+q_{i}^{T} p_{u}\n",
        "$$\n",
        "\n",
        "\n",
        "**Slope One**\n",
        "\n",
        "SlopeOne is a straightforward implementation of the SlopeOne algorithm.\n",
        "\n",
        "**Co-clustering**\n",
        "\n",
        "Coclustering is a collaborative filtering algorithm based on co-clustering."
      ]
    },
    {
      "cell_type": "code",
      "metadata": {
        "id": "EvLJxfTcpjVD"
      },
      "source": [
        "#bring the data to the right form as required from the surprise library\n",
        "ratings_df = data_new[['customer_unique_id','product_id','review_score']]"
      ],
      "execution_count": null,
      "outputs": []
    },
    {
      "cell_type": "code",
      "metadata": {
        "id": "K0V4195vrqrJ"
      },
      "source": [
        "#split the data to train and test\n",
        "train_df, test_df = train_test_split(ratings_df, train_size=0.7, random_state = 0) # 2/3 -training "
      ],
      "execution_count": null,
      "outputs": []
    },
    {
      "cell_type": "code",
      "metadata": {
        "id": "PsvvcTI6r34n"
      },
      "source": [
        "# function to calculate the RMSE\n",
        "def RMSE(y_true, y_pred):\n",
        "    return np.linalg.norm(y_true - y_pred) / np.sqrt(len(y_true))"
      ],
      "execution_count": null,
      "outputs": []
    },
    {
      "cell_type": "code",
      "metadata": {
        "id": "eF2KyvJaxJUj"
      },
      "source": [
        "def performance(user,product,model):\n",
        "  y_pred = []\n",
        "  for user_id, product_id in zip(user, product):\n",
        "    r = model.predict(user_id, product_id, verbose=False).est \n",
        "    y_pred.append(r)\n",
        "  y_pred = np.array(y_pred)\n",
        "  return y_pred"
      ],
      "execution_count": null,
      "outputs": []
    },
    {
      "cell_type": "code",
      "metadata": {
        "id": "sbePd3EJ59EC"
      },
      "source": [
        "def recommendations(user,product,model):\n",
        "  \n",
        "  recommendations = []\n",
        "  for product_id in  product:\n",
        "    r = model.predict(user, product_id, verbose=False).est \n",
        "    recommendations.append((product_id,r))\n",
        "   \n",
        "  recommendations.sort(reverse=True, key=lambda x: x[1])\n",
        "\n",
        "  return recommendations[:5]"
      ],
      "execution_count": null,
      "outputs": []
    },
    {
      "cell_type": "code",
      "metadata": {
        "id": "J88bSZrVr46z"
      },
      "source": [
        "reader = Reader(rating_scale=(1,5 ))\n",
        "data_surprise = Dataset.load_from_df(train_df, reader)\n",
        "#data_surprise = data_train_surprise.build_full_trainset()"
      ],
      "execution_count": null,
      "outputs": []
    },
    {
      "cell_type": "code",
      "metadata": {
        "id": "neCUaqatsXm3"
      },
      "source": [
        "# chosen models\n",
        "models = ['svd','svd++','nmfb','nmf','CoClustering','KNNBasic','KNNWithMeans','KNNWithZScore','KNNBaseline', 'BaselineOnly','Normal']\n",
        "\n",
        "# values needed for predictions\n",
        "y_true = test_df['review_score'].values \n",
        "user_ids_true = test_df['customer_unique_id'].values\n",
        "product_ids_true = test_df['product_id'].values\n",
        "\n",
        "\n",
        "\n",
        "for i in models:\n",
        "  if i == 'svd':\n",
        "    param_grid = {'n_factors': [70, 80, 90, 100, 110, 120, 130, 140, 150, 160], \n",
        "                  'n_epochs': [100], \n",
        "                  'reg_all': [0.1]}\n",
        "    gs_svd = GridSearchCV(SVD, param_grid, measures=['rmse'], cv=3) # cross validation 3-folds\n",
        "    gs_svd.fit(data_surprise)\n",
        "    best_svd = gs_svd.best_score['rmse']\n",
        "    best_svd_params = gs_svd.best_params['rmse']\n",
        "    model_svd = gs_svd.best_estimator['rmse']\n",
        "    model_svd.fit(data_surprise.build_full_trainset())\n",
        "    y_pred_svd = performance(user_ids_true,product_ids_true,model_svd)\n",
        "    error_svd = RMSE(y_true, y_pred_svd)\n",
        "  \n",
        "  elif i == 'svd++':\n",
        "    param_grid = {'lr_all': [0.001, 0.003, 0.005, 0.007, 0.009], \n",
        "                  'reg_all': [0.005, 0.01, 0.015, 0.02, 0.025]}\n",
        "    gs_svdpp = GridSearchCV(SVDpp, param_grid, measures=['rmse'], cv=3)\n",
        "    gs_svdpp.fit(data_surprise)\n",
        "    best_svd_plus = gs_svdpp.best_score['rmse']\n",
        "    best_svd_plus_params = gs_svdpp.best_params['rmse']\n",
        "    model_svd_plus = gs_svdpp.best_estimator['rmse']\n",
        "    model_svd_plus.fit(data_surprise.build_full_trainset())\n",
        "    y_pred_svd_plus = performance(user_ids_true,product_ids_true,model_svd_plus)\n",
        "    error_svd_plus = RMSE(y_true, y_pred_svd_plus)\n",
        "\n",
        "\n",
        "  elif i == 'nmfb':\n",
        "    param_grid = {'n_factors': [1,2,3,4,5,6,7,8,9,10], \n",
        "                  'n_epochs': [100], \n",
        "                  'biased': [True], \n",
        "                  'reg_bu': [0.1], \n",
        "                  'reg_bi': [0.1]}\n",
        "    gs_nmfb = GridSearchCV(NMF, param_grid, measures=['rmse'], cv=3)\n",
        "    gs_nmfb.fit(data_surprise)\n",
        "    best_nmfb = gs_nmfb.best_score['rmse']\n",
        "    best_nmfb_params = gs_nmfb.best_params['rmse']\n",
        "    model_nmfb = gs_nmfb.best_estimator['rmse']\n",
        "    model_nmfb.fit(data_surprise.build_full_trainset())\n",
        "    y_pred_nmfb = performance(user_ids_true,product_ids_true,model_nmfb)\n",
        "    error_nmfb = RMSE(y_true, y_pred_nmfb)\n",
        "\n",
        "  elif i == 'nmf':\n",
        "    param_grid = {'n_factors': [200, 220, 240], \n",
        "                  'n_epochs': [100]}\n",
        "    gs_nmf = GridSearchCV(NMF, param_grid, measures=['rmse'], cv=3)\n",
        "    gs_nmf.fit(data_surprise)\n",
        "    best_nmf = gs_nmf.best_score['rmse']\n",
        "    best_nmf_params = gs_nmf.best_params['rmse']\n",
        "    model_nmf = gs_nmf.best_estimator['rmse']\n",
        "    model_nmf.fit(data_surprise.build_full_trainset())\n",
        "    y_pred_nmf = performance(user_ids_true,product_ids_true,model_nmf)\n",
        "    error_nmf = RMSE(y_true, y_pred_nmf)\n",
        "\n",
        "  elif i == 'CoClustering':\n",
        "    param_grid = {'n_cltr_u': [3,4,5], \n",
        "                  'n_cltr_i': [3,4,5],'n_epochs':[20,100]}\n",
        "    gs_CoClustering = GridSearchCV(CoClustering, param_grid, measures=['rmse'], cv=3)\n",
        "    gs_CoClustering.fit(data_surprise)\n",
        "    best_CoClustering = gs_CoClustering.best_score['rmse']\n",
        "    best_CoClustering_params = gs_CoClustering.best_params['rmse']\n",
        "    model_CoClustering = gs_CoClustering.best_estimator['rmse']\n",
        "    model_CoClustering.fit(data_surprise.build_full_trainset())\n",
        "    y_pred_CoClustering = performance(user_ids_true,product_ids_true,model_CoClustering)\n",
        "    error_CoClustering = RMSE(y_true, y_pred_CoClustering)\n",
        "    \n",
        "  elif i == 'KNNBasic':\n",
        "    param_grid = {'k': [40, 50, 60], 'sim_options': {'user_based': [True, False]}}\n",
        "    gs_KNNBasic = GridSearchCV(KNNBasic, param_grid, measures=['rmse'], cv=3)\n",
        "    gs_KNNBasic.fit(data_surprise)\n",
        "    best_KNNBasic = gs_KNNBasic.best_score['rmse']\n",
        "    best_KNNBasic_params = gs_KNNBasic.best_params['rmse']\n",
        "    model_KNNBasic = gs_KNNBasic.best_estimator['rmse']\n",
        "    model_KNNBasic.fit(data_surprise.build_full_trainset())\n",
        "    y_pred_KNNBasic = performance(user_ids_true,product_ids_true,model_KNNBasic)\n",
        "    error_KNNBasic = RMSE(y_true, y_pred_KNNBasic)\n",
        "\n",
        "  elif i == 'KNNWithMeans':\n",
        "    param_grid = {'k': [40, 50, 60], 'sim_options': {'user_based': [True, False]}}\n",
        "    gs_KNNWithMeans = GridSearchCV(KNNWithMeans, param_grid, measures=['rmse'], cv=3)\n",
        "    gs_KNNWithMeans.fit(data_surprise)\n",
        "    best_KNNWithMeans = gs_KNNWithMeans.best_score['rmse']\n",
        "    best_KNNWithMeans_params = gs_KNNWithMeans.best_params['rmse']\n",
        "    model_KNNWithMeans = gs_KNNWithMeans.best_estimator['rmse']\n",
        "    model_KNNWithMeans.fit(data_surprise.build_full_trainset())\n",
        "    y_pred_KNNWithMeans = performance(user_ids_true,product_ids_true,model_KNNWithMeans)\n",
        "    error_KNNWithMeans = RMSE(y_true, y_pred_KNNWithMeans)\n",
        "\n",
        "  elif i == 'KNNWithZScore':\n",
        "    param_grid = {'k': [40, 50, 60], 'sim_options': {'user_based': [True, False]}}\n",
        "    gs_KNNWithZScore = GridSearchCV(KNNWithZScore, param_grid, measures=['rmse'], cv=3)\n",
        "    gs_KNNWithZScore.fit(data_surprise)\n",
        "    best_KNNWithZScore = gs_KNNWithZScore.best_score['rmse']\n",
        "    best_KNNWithZScore_params = gs_KNNWithZScore.best_params['rmse']\n",
        "    model_KNNWithZScore = gs_KNNWithZScore.best_estimator['rmse']\n",
        "    model_KNNWithZScore.fit(data_surprise.build_full_trainset())\n",
        "    y_pred_KNNWithZScore = performance(user_ids_true,product_ids_true,model_KNNWithZScore)\n",
        "    error_KNNWithZScore = RMSE(y_true, y_pred_KNNWithZScore)\n",
        "\n",
        "  elif i == 'KNNBaseline':\n",
        "    param_grid = {'k': [40, 50, 60], 'sim_options': {'user_based': [True, False]},\n",
        "              'bsl_options': {'method': ['als', 'sgd']}}\n",
        "    gs_KNNBaseline = GridSearchCV(KNNBaseline, param_grid, measures=['rmse'], cv=3)\n",
        "    gs_KNNBaseline.fit(data_surprise)\n",
        "    best_KNNBaseline = gs_KNNBaseline.best_score['rmse']\n",
        "    best_KNNBaseline_params = gs_KNNBaseline.best_params['rmse']\n",
        "    model_KNNBaseline = gs_KNNBaseline.best_estimator['rmse']\n",
        "    model_KNNBaseline.fit(data_surprise.build_full_trainset())\n",
        "    y_pred_KNNBaseline = performance(user_ids_true,product_ids_true,model_KNNBaseline)\n",
        "    error_KNNBaseline = RMSE(y_true, y_pred_KNNBaseline)\n",
        "\n",
        "  elif i == 'BaselineOnly':\n",
        "    param_grid = {'bsl_options': {'method': ['als', 'sgd']}\n",
        "               }\n",
        "    gs_Baseline = GridSearchCV(BaselineOnly, param_grid, measures=['rmse'], cv=3)\n",
        "    gs_Baseline.fit(data_surprise)\n",
        "    best_Baseline = gs_Baseline.best_score['rmse']\n",
        "    best_Baseline_params = gs_Baseline.best_params['rmse']\n",
        "    model_Baseline = gs_Baseline.best_estimator['rmse']\n",
        "    model_Baseline.fit(data_surprise.build_full_trainset())\n",
        "    y_pred_Baseline = performance(user_ids_true,product_ids_true,model_Baseline)\n",
        "    error_Baseline = RMSE(y_true, y_pred_Baseline)\n",
        "\n",
        "    #for normal predictor i get error on param_grid, maybe needs other parameters\n",
        "\n",
        "  # if i=='Normal':\n",
        "  #   param_grid = {'bsl_options':{'method': ['als']},\n",
        "  #              'n_epochs': [5],\n",
        "  #              'reg_u': [12],\n",
        "  #              'reg_i': [5]}\n",
        "  #   gs_Normal = GridSearchCV(NormalPredictor, param_grid, measures=['rmse'], cv=3)\n",
        "  #   gs_Normal.fit(data_surprise)\n",
        "  #   best_Normal = gs_Normal.best_score['rmse']\n",
        "  #   best_Normal_params = gs_Normal.best_params['rmse']\n",
        "  #   model_Normal = gs_Normal.best_estimator['rmse']\n",
        "  #   model_Normal.fit(data_surprise.build_full_trainset())\n",
        "  #   y_pred_Normal = performance(user_ids_true,product_ids_true,model_Normal)\n",
        "  #   error_Normal = RMSE(y_true, y_pred_Normal)\n",
        "\n",
        "\n",
        "\n",
        "  \n",
        "  \n",
        "\n",
        "\n",
        "\n",
        "\n",
        "\n"
      ],
      "execution_count": null,
      "outputs": []
    },
    {
      "cell_type": "markdown",
      "metadata": {
        "id": "at737KlxKtXo"
      },
      "source": [
        "# Results summary"
      ]
    },
    {
      "cell_type": "code",
      "metadata": {
        "colab": {
          "base_uri": "https://localhost:8080/"
        },
        "id": "KK6SP7pINWhT",
        "outputId": "b5ff8b5f-e2b3-4454-b0bb-27482708fc96"
      },
      "source": [
        "\n",
        "\n",
        "print(f'The best Baseline score: {best_Baseline}\\nThe best Baseline parameters are: {best_Baseline_params}')\n",
        "print(80*'-')\n",
        "# print(f'The best NormalPredictos score: {best_Normal}\\nThe best Baseline parameters are: {best_Normal_params}')\n",
        "# print(80*'-')\n",
        "print(f'The best SVD score: {best_svd}\\nThe best SVD parameters are: {best_svd_params}')\n",
        "print(80*'-')\n",
        "print(f'The best SVD++ score: {best_svd_plus}\\nThe best SVD++ parameters are: {best_svd_plus_params}')\n",
        "print(80*'-')\n",
        "print(f'The best Biased NMF score: {best_nmfb}\\nThe best Biased NMF parameters are: {best_nmfb_params}')\n",
        "print(80*'-')\n",
        "print(f'The best NMF score: {best_nmf}\\nThe best NMF parameters are: {best_nmf_params}')\n",
        "print(80*'-')\n",
        "print(f'The best CoClustering score: {best_CoClustering}\\nThe best CoClustering parameters are: {best_CoClustering_params}')\n",
        "print(80*'-')\n",
        "print(f'The best KNNBasic score: {best_KNNBasic}\\nThe best KNNBasic parameters are: {best_KNNBasic_params}')\n",
        "print(80*'-')\n",
        "print(f'The best KNNWithMeans score: {best_KNNWithMeans}\\nThe best KNNWithMeans parameters are: {best_KNNWithMeans_params}')\n",
        "print(80*'-')\n",
        "print(f'The best KNNWithZScore score: {best_KNNWithZScore}\\nThe best KNNWithZScore parameters are: {best_KNNWithZScore_params}')\n",
        "print(80*'-')\n",
        "print(f'The best KNNBaseline score: {best_KNNBaseline}\\nThe best KNNBaseline parameters are: {best_KNNBaseline_params}')\n",
        "print(80*'-')\n",
        "\n"
      ],
      "execution_count": null,
      "outputs": [
        {
          "output_type": "stream",
          "text": [
            "The best Baseline score: 1.5289205565284805\n",
            "The best Baseline parameters are: {'bsl_options': {'method': 'sgd'}}\n",
            "--------------------------------------------------------------------------------\n",
            "The best SVD score: 1.500010195658599\n",
            "The best SVD parameters are: {'n_factors': 70, 'n_epochs': 100, 'reg_all': 0.1}\n",
            "--------------------------------------------------------------------------------\n",
            "The best SVD++ score: 1.5090953533013949\n",
            "The best SVD++ parameters are: {'lr_all': 0.009, 'reg_all': 0.015}\n",
            "--------------------------------------------------------------------------------\n",
            "The best Biased NMF score: 1.4808186422040623\n",
            "The best Biased NMF parameters are: {'n_factors': 1, 'n_epochs': 100, 'biased': True, 'reg_bu': 0.1, 'reg_bi': 0.1}\n",
            "--------------------------------------------------------------------------------\n",
            "The best NMF score: 1.5266295694213479\n",
            "The best NMF parameters are: {'n_factors': 240, 'n_epochs': 100}\n",
            "--------------------------------------------------------------------------------\n",
            "The best CoClustering score: 1.5203941493946846\n",
            "The best CoClustering parameters are: {'n_cltr_u': 5, 'n_cltr_i': 5, 'n_epochs': 100}\n",
            "--------------------------------------------------------------------------------\n",
            "The best KNNBasic score: 1.5702207842574352\n",
            "The best KNNBasic parameters are: {'k': 40, 'sim_options': {'user_based': False}}\n",
            "--------------------------------------------------------------------------------\n",
            "The best KNNWithMeans score: 1.47364192127314\n",
            "The best KNNWithMeans parameters are: {'k': 40, 'sim_options': {'user_based': True}}\n",
            "--------------------------------------------------------------------------------\n",
            "The best KNNWithZScore score: 1.486608634132205\n",
            "The best KNNWithZScore parameters are: {'k': 40, 'sim_options': {'user_based': True}}\n",
            "--------------------------------------------------------------------------------\n",
            "The best KNNBaseline score: 1.5257997353836277\n",
            "The best KNNBaseline parameters are: {'k': 40, 'sim_options': {'user_based': False}, 'bsl_options': {'method': 'sgd'}}\n",
            "--------------------------------------------------------------------------------\n"
          ],
          "name": "stdout"
        }
      ]
    },
    {
      "cell_type": "code",
      "metadata": {
        "id": "WJtcYW0HVbCK",
        "colab": {
          "base_uri": "https://localhost:8080/",
          "height": 360
        },
        "outputId": "289ade1d-024b-4959-fe65-6c127ee17e80"
      },
      "source": [
        "import matplotlib.pyplot as plt\n",
        "RMSEs = [error_svd, error_svd_plus, error_nmfb, error_nmf, error_CoClustering,error_KNNBasic,error_KNNWithMeans,error_KNNWithZScore,error_KNNBaseline,error_Baseline]\n",
        "algorithms = ['SVD', 'SVD++', \"Biased NMF\", 'NMF', 'CoClustering','KNNBasic','KNNWithMeans','KNNWithZScore','KNNBaseline', 'BaselineOnly']\n",
        "\n",
        "plt.figure(figsize=(20,5))\n",
        "plt.plot(algorithms, RMSEs,'bo' )\n",
        "plt.xlabel(\"Algorithms\")\n",
        "plt.ylabel(\"RMSE\")\n",
        "plt.title('Model comparison')\n",
        "plt.show()\n"
      ],
      "execution_count": null,
      "outputs": [
        {
          "output_type": "display_data",
          "data": {
            "image/png": "[encoded data removed]",
            "text/plain": [
              "<Figure size 1440x360 with 1 Axes>"
            ]
          },
          "metadata": {
            "tags": [],
            "image/png": {
              "width": 1187,
              "height": 343
            }
          }
        }
      ]
    },
    {
      "cell_type": "markdown",
      "metadata": {
        "id": "lGdfk8a8ReGf"
      },
      "source": [
        "The plot above illustrates the performance of the tested models according to their RMSE score.\n",
        "The performance doesn't follow a specific pattern. For example the 3 out of 4 matric factorization algorithms record a very good performance while the NMF has the second worst one across the range of all algorithms.\n",
        "The same applies for the nearest neighbor algorithms where KNNWithMEans and KNNWithZscore have a low RMSE score and at the same time the KNN basic and KNNBaseline have significanlty larger RMSE score."
      ]
    },
    {
      "cell_type": "markdown",
      "metadata": {
        "id": "E7OnYeimKyVD"
      },
      "source": [
        "## Recommendations"
      ]
    },
    {
      "cell_type": "markdown",
      "metadata": {
        "id": "TX_qgTfdRR3b"
      },
      "source": [
        "Below we can see the top 5 recommendations for a user according to the top 3 winning models which was the Biased NMF,KNNWithMeans and KNNWithZScore"
      ]
    },
    {
      "cell_type": "code",
      "metadata": {
        "colab": {
          "base_uri": "https://localhost:8080/"
        },
        "id": "uh51mHTF36UW",
        "outputId": "a09eddee-5f06-4b28-8254-e1f54e972f86"
      },
      "source": [
        "#Biased NMF\n",
        "recommendations(user_ids_true[0],product_ids_true,model_nmfb)"
      ],
      "execution_count": null,
      "outputs": [
        {
          "output_type": "execute_result",
          "data": {
            "text/plain": [
              "[(5246, 3.842609777941913),\n",
              " (8960, 3.6479474497397293),\n",
              " (17720, 3.6171801458613766),\n",
              " (17720, 3.6171801458613766),\n",
              " (13323, 3.541481130965612)]"
            ]
          },
          "metadata": {
            "tags": []
          },
          "execution_count": 39
        }
      ]
    },
    {
      "cell_type": "code",
      "metadata": {
        "colab": {
          "base_uri": "https://localhost:8080/"
        },
        "id": "5xYNRNbcQxoF",
        "outputId": "c6bf0893-f37d-4b8f-ea0d-539c0e3cf572"
      },
      "source": [
        "#KNNWithMeans\n",
        "recommendations(user_ids_true[0],product_ids_true,model_KNNWithMeans)"
      ],
      "execution_count": null,
      "outputs": [
        {
          "output_type": "execute_result",
          "data": {
            "text/plain": [
              "[(30112, 3.6847080347613965),\n",
              " (6576, 3.6847080347613965),\n",
              " (15895, 3.6847080347613965),\n",
              " (13790, 3.6847080347613965),\n",
              " (20627, 3.6847080347613965)]"
            ]
          },
          "metadata": {
            "tags": []
          },
          "execution_count": 40
        }
      ]
    },
    {
      "cell_type": "code",
      "metadata": {
        "colab": {
          "base_uri": "https://localhost:8080/"
        },
        "id": "fd0I1fl1Tqna",
        "outputId": "74ef4247-cf06-4bdf-c101-7546d7655108"
      },
      "source": [
        "#KNNWithScore\n",
        "recommendations(user_ids_true[0],product_ids_true,model_KNNWithZScore)"
      ],
      "execution_count": null,
      "outputs": [
        {
          "output_type": "execute_result",
          "data": {
            "text/plain": [
              "[(30112, 3.6847080347613965),\n",
              " (6576, 3.6847080347613965),\n",
              " (15895, 3.6847080347613965),\n",
              " (13790, 3.6847080347613965),\n",
              " (20627, 3.6847080347613965)]"
            ]
          },
          "metadata": {
            "tags": []
          },
          "execution_count": 41
        }
      ]
    },
    {
      "cell_type": "markdown",
      "metadata": {
        "id": "MyVAKNmYT8IE"
      },
      "source": [
        "We can see that the two KNN models provide the same recommendations while the Biased NMF gives completely different ones. **explain why if possible**"
      ]
    },
    {
      "cell_type": "markdown",
      "metadata": {
        "id": "q59LgfCpUQxA"
      },
      "source": [
        "#Conclusion"
      ]
    },
    {
      "cell_type": "markdown",
      "metadata": {
        "id": "CGDgDux4VcgN"
      },
      "source": [
        "Throughout this notebook we applied several models in order to achive the best recommendations for the customers. The best model was a matrix factorization algorithm namely Biased NMF following by two KNN algorithms.\n",
        "The recommendations among them where quite different though which generate questions about the validity and performance of the algorithms\n",
        "**write something about next steps like content analysis based on reviews,or what could have gone better**"
      ]
    },
    {
      "cell_type": "code",
      "metadata": {
        "id": "waqbs705Txjf"
      },
      "source": [
        ""
      ],
      "execution_count": null,
      "outputs": []
    }
  ]
}