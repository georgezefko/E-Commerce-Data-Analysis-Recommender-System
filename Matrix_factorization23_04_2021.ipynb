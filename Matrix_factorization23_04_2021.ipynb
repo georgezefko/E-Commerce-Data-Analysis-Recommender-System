{
  "nbformat": 4,
  "nbformat_minor": 0,
  "metadata": {
    "kernelspec": {
      "display_name": "Python 3",
      "language": "python",
      "name": "python3"
    },
    "language_info": {
      "codemirror_mode": {
        "name": "ipython",
        "version": 3
      },
      "file_extension": ".py",
      "mimetype": "text/x-python",
      "name": "python",
      "nbconvert_exporter": "python",
      "pygments_lexer": "ipython3",
      "version": "3.7.1"
    },
    "colab": {
      "name": "Matrix_factorization20_04_2021.ipynb",
      "provenance": [],
      "collapsed_sections": [],
      "include_colab_link": true
    }
  },
  "cells": [
    {
      "cell_type": "markdown",
      "metadata": {
        "id": "view-in-github",
        "colab_type": "text"
      },
      "source": [
        "<a href=\"https://colab.research.google.com/github/georgezefko/Recommender_System/blob/Matrix_approach/Matrix_factorization23_04_2021.ipynb\" target=\"_parent\"><img src=\"https://colab.research.google.com/assets/colab-badge.svg\" alt=\"Open In Colab\"/></a>"
      ]
    },
    {
      "cell_type": "code",
      "metadata": {
        "colab": {
          "base_uri": "https://localhost:8080/"
        },
        "id": "LSGTGRDrbSwO",
        "outputId": "7ecd8515-9a86-4d89-d32f-7b104bdb1aba"
      },
      "source": [
        "from google.colab import drive\n",
        "drive.mount('/content/drive', force_remount=True)"
      ],
      "execution_count": 2,
      "outputs": [
        {
          "output_type": "stream",
          "text": [
            "Mounted at /content/drive\n"
          ],
          "name": "stdout"
        }
      ]
    },
    {
      "cell_type": "code",
      "metadata": {
        "id": "tT9ymuuGbSwc"
      },
      "source": [
        "import pandas as pd\n",
        "import numpy as np\n",
        "import seaborn as sns\n",
        "import matplotlib.pyplot as plt"
      ],
      "execution_count": 3,
      "outputs": []
    },
    {
      "cell_type": "code",
      "metadata": {
        "id": "zR-g-a0QbSwd"
      },
      "source": [
        "#path = '/content/drive/MyDrive/AdvancedBA/Olie_data/archive' #adjust this one to yours\n",
        "path ='/content/drive/MyDrive/olist_project'\n",
        "customers = pd.read_csv(path +'/olist_customers_dataset.csv')\n",
        "reviews = pd.read_csv(path+'/olist_order_reviews_dataset.csv')\n",
        "geolocation = pd.read_csv(path+'/olist_geolocation_dataset.csv')\n",
        "items = pd.read_csv(path + '/olist_order_items_dataset.csv')\n",
        "payments  = pd.read_csv(path + '/olist_order_payments_dataset.csv')\n",
        "orders= pd.read_csv(path + '/olist_orders_dataset.csv')\n",
        "products = pd.read_csv(path + '/olist_products_dataset.csv')\n",
        "sellers =pd.read_csv(path + '/olist_sellers_dataset.csv')\n",
        "category =  pd.read_csv(path + '/product_category_name_translation.csv')"
      ],
      "execution_count": 4,
      "outputs": []
    },
    {
      "cell_type": "code",
      "metadata": {
        "colab": {
          "base_uri": "https://localhost:8080/"
        },
        "id": "1Ze4FuwjbSwf",
        "outputId": "373bd925-33b0-4cda-e906-40a09874959e"
      },
      "source": [
        "data = pd.merge(orders,customers,on='customer_id')\n",
        "data = pd.merge(data,reviews,on='order_id')\n",
        "data = pd.merge(data,items,on='order_id')\n",
        "data = pd.merge(data,products,on='product_id')\n",
        "data = pd.merge(data,sellers,on='seller_id')\n",
        "data = pd.merge(data, category,on ='product_category_name') # I added this one to get the tra\n",
        "data.shape"
      ],
      "execution_count": 5,
      "outputs": [
        {
          "output_type": "execute_result",
          "data": {
            "text/plain": [
              "(111686, 36)"
            ]
          },
          "metadata": {
            "tags": []
          },
          "execution_count": 5
        }
      ]
    },
    {
      "cell_type": "markdown",
      "metadata": {
        "id": "OIFlemlybSwg"
      },
      "source": [
        "We have decided to proceed with the following columns:\n",
        "\n",
        " ***Product_id*** : This column specifies the unique id for the products sold\\\n",
        " ***customer_unique_id*** : This columns provided a uniqie id for all each customer\\\n",
        " ***reviews_score*** : The score given by each customer to the products they purchased \\\n",
        " ***order_purchase_timestamp***: When the order for a specific porudct was placed by the customer \\\n",
        " ***product_category_name_english***: The categories where the products belong to, in english for better understanding \\\n",
        " ***customer_state***: Where the customers are located in the country \\\n",
        " ***seller_state***: Where the sellers are located in the country\\\n",
        " ***Price*** : Price of the product"
      ]
    },
    {
      "cell_type": "code",
      "metadata": {
        "id": "E-OpT3RXbSwh"
      },
      "source": [
        "recommender = data[['review_score','customer_state','seller_state','product_id','product_category_name_english','customer_unique_id','order_purchase_timestamp','order_delivered_customer_date','price']]"
      ],
      "execution_count": 6,
      "outputs": []
    },
    {
      "cell_type": "code",
      "metadata": {
        "id": "c047V3fnbSwh"
      },
      "source": [
        "#Initially, in order to better understand the product_id and customer_unique_id will convert the string to unique numbers instead."
      ],
      "execution_count": 31,
      "outputs": []
    },
    {
      "cell_type": "code",
      "metadata": {
        "id": "Cy1inKR8bSwi"
      },
      "source": [
        "recommender = recommender.assign(customer_unique_id=(recommender['customer_unique_id']).astype('category').cat.codes)\n",
        "recommender = recommender.assign(product_id=(recommender['product_id']).astype('category').cat.codes)"
      ],
      "execution_count": 7,
      "outputs": []
    },
    {
      "cell_type": "code",
      "metadata": {
        "colab": {
          "base_uri": "https://localhost:8080/",
          "height": 194
        },
        "id": "GssbO7PsbSwj",
        "outputId": "baf9f143-33cf-494f-fb94-b51f67b82762"
      },
      "source": [
        "recommender.head()"
      ],
      "execution_count": 8,
      "outputs": [
        {
          "output_type": "execute_result",
          "data": {
            "text/html": [
              "<div>\n",
              "<style scoped>\n",
              "    .dataframe tbody tr th:only-of-type {\n",
              "        vertical-align: middle;\n",
              "    }\n",
              "\n",
              "    .dataframe tbody tr th {\n",
              "        vertical-align: top;\n",
              "    }\n",
              "\n",
              "    .dataframe thead th {\n",
              "        text-align: right;\n",
              "    }\n",
              "</style>\n",
              "<table border=\"1\" class=\"dataframe\">\n",
              "  <thead>\n",
              "    <tr style=\"text-align: right;\">\n",
              "      <th></th>\n",
              "      <th>review_score</th>\n",
              "      <th>customer_state</th>\n",
              "      <th>seller_state</th>\n",
              "      <th>product_id</th>\n",
              "      <th>product_category_name_english</th>\n",
              "      <th>customer_unique_id</th>\n",
              "      <th>order_purchase_timestamp</th>\n",
              "      <th>order_delivered_customer_date</th>\n",
              "      <th>price</th>\n",
              "    </tr>\n",
              "  </thead>\n",
              "  <tbody>\n",
              "    <tr>\n",
              "      <th>0</th>\n",
              "      <td>4</td>\n",
              "      <td>SP</td>\n",
              "      <td>SP</td>\n",
              "      <td>17106</td>\n",
              "      <td>housewares</td>\n",
              "      <td>45758</td>\n",
              "      <td>2017-10-02 10:56:33</td>\n",
              "      <td>2017-10-10 21:25:13</td>\n",
              "      <td>29.99</td>\n",
              "    </tr>\n",
              "    <tr>\n",
              "      <th>1</th>\n",
              "      <td>4</td>\n",
              "      <td>SP</td>\n",
              "      <td>SP</td>\n",
              "      <td>17106</td>\n",
              "      <td>housewares</td>\n",
              "      <td>21530</td>\n",
              "      <td>2017-08-15 18:29:31</td>\n",
              "      <td>2017-08-18 14:44:43</td>\n",
              "      <td>29.99</td>\n",
              "    </tr>\n",
              "    <tr>\n",
              "      <th>2</th>\n",
              "      <td>5</td>\n",
              "      <td>SP</td>\n",
              "      <td>SP</td>\n",
              "      <td>17106</td>\n",
              "      <td>housewares</td>\n",
              "      <td>87936</td>\n",
              "      <td>2017-08-02 18:24:47</td>\n",
              "      <td>2017-08-07 18:30:01</td>\n",
              "      <td>29.99</td>\n",
              "    </tr>\n",
              "    <tr>\n",
              "      <th>3</th>\n",
              "      <td>3</td>\n",
              "      <td>SC</td>\n",
              "      <td>SP</td>\n",
              "      <td>17106</td>\n",
              "      <td>housewares</td>\n",
              "      <td>85228</td>\n",
              "      <td>2017-10-23 23:26:46</td>\n",
              "      <td>2017-11-07 18:04:59</td>\n",
              "      <td>29.99</td>\n",
              "    </tr>\n",
              "    <tr>\n",
              "      <th>4</th>\n",
              "      <td>1</td>\n",
              "      <td>SP</td>\n",
              "      <td>SP</td>\n",
              "      <td>23951</td>\n",
              "      <td>housewares</td>\n",
              "      <td>44958</td>\n",
              "      <td>2017-08-24 11:31:28</td>\n",
              "      <td>2017-08-28 20:12:20</td>\n",
              "      <td>46.80</td>\n",
              "    </tr>\n",
              "  </tbody>\n",
              "</table>\n",
              "</div>"
            ],
            "text/plain": [
              "   review_score customer_state  ... order_delivered_customer_date  price\n",
              "0             4             SP  ...           2017-10-10 21:25:13  29.99\n",
              "1             4             SP  ...           2017-08-18 14:44:43  29.99\n",
              "2             5             SP  ...           2017-08-07 18:30:01  29.99\n",
              "3             3             SC  ...           2017-11-07 18:04:59  29.99\n",
              "4             1             SP  ...           2017-08-28 20:12:20  46.80\n",
              "\n",
              "[5 rows x 9 columns]"
            ]
          },
          "metadata": {
            "tags": []
          },
          "execution_count": 8
        }
      ]
    },
    {
      "cell_type": "code",
      "metadata": {
        "colab": {
          "base_uri": "https://localhost:8080/"
        },
        "id": "b-mkfI49ZFA3",
        "outputId": "56ce6b81-af6d-43db-ff10-fc1fd234fce8"
      },
      "source": [
        "recommender.dtypes"
      ],
      "execution_count": 9,
      "outputs": [
        {
          "output_type": "execute_result",
          "data": {
            "text/plain": [
              "review_score                       int64\n",
              "customer_state                    object\n",
              "seller_state                      object\n",
              "product_id                         int16\n",
              "product_category_name_english     object\n",
              "customer_unique_id                 int32\n",
              "order_purchase_timestamp          object\n",
              "order_delivered_customer_date     object\n",
              "price                            float64\n",
              "dtype: object"
            ]
          },
          "metadata": {
            "tags": []
          },
          "execution_count": 9
        }
      ]
    },
    {
      "cell_type": "code",
      "metadata": {
        "colab": {
          "base_uri": "https://localhost:8080/"
        },
        "id": "QlPtMH_zbn81",
        "outputId": "249c7935-c70c-49c0-bd51-ea31245bd2a0"
      },
      "source": [
        "recommender.shape"
      ],
      "execution_count": 10,
      "outputs": [
        {
          "output_type": "execute_result",
          "data": {
            "text/plain": [
              "(111686, 9)"
            ]
          },
          "metadata": {
            "tags": []
          },
          "execution_count": 10
        }
      ]
    },
    {
      "cell_type": "code",
      "metadata": {
        "colab": {
          "base_uri": "https://localhost:8080/",
          "height": 399
        },
        "id": "tw-z4cfKcEqZ",
        "outputId": "bd981d3e-2c7d-427b-fb72-aff1f96bb656"
      },
      "source": [
        "ratings_df = recommender[['customer_unique_id','product_id','review_score']]\n",
        "ratings_df"
      ],
      "execution_count": 11,
      "outputs": [
        {
          "output_type": "execute_result",
          "data": {
            "text/html": [
              "<div>\n",
              "<style scoped>\n",
              "    .dataframe tbody tr th:only-of-type {\n",
              "        vertical-align: middle;\n",
              "    }\n",
              "\n",
              "    .dataframe tbody tr th {\n",
              "        vertical-align: top;\n",
              "    }\n",
              "\n",
              "    .dataframe thead th {\n",
              "        text-align: right;\n",
              "    }\n",
              "</style>\n",
              "<table border=\"1\" class=\"dataframe\">\n",
              "  <thead>\n",
              "    <tr style=\"text-align: right;\">\n",
              "      <th></th>\n",
              "      <th>customer_unique_id</th>\n",
              "      <th>product_id</th>\n",
              "      <th>review_score</th>\n",
              "    </tr>\n",
              "  </thead>\n",
              "  <tbody>\n",
              "    <tr>\n",
              "      <th>0</th>\n",
              "      <td>45758</td>\n",
              "      <td>17106</td>\n",
              "      <td>4</td>\n",
              "    </tr>\n",
              "    <tr>\n",
              "      <th>1</th>\n",
              "      <td>21530</td>\n",
              "      <td>17106</td>\n",
              "      <td>4</td>\n",
              "    </tr>\n",
              "    <tr>\n",
              "      <th>2</th>\n",
              "      <td>87936</td>\n",
              "      <td>17106</td>\n",
              "      <td>5</td>\n",
              "    </tr>\n",
              "    <tr>\n",
              "      <th>3</th>\n",
              "      <td>85228</td>\n",
              "      <td>17106</td>\n",
              "      <td>3</td>\n",
              "    </tr>\n",
              "    <tr>\n",
              "      <th>4</th>\n",
              "      <td>44958</td>\n",
              "      <td>23951</td>\n",
              "      <td>1</td>\n",
              "    </tr>\n",
              "    <tr>\n",
              "      <th>...</th>\n",
              "      <td>...</td>\n",
              "      <td>...</td>\n",
              "      <td>...</td>\n",
              "    </tr>\n",
              "    <tr>\n",
              "      <th>111681</th>\n",
              "      <td>57240</td>\n",
              "      <td>4599</td>\n",
              "      <td>5</td>\n",
              "    </tr>\n",
              "    <tr>\n",
              "      <th>111682</th>\n",
              "      <td>32279</td>\n",
              "      <td>4599</td>\n",
              "      <td>5</td>\n",
              "    </tr>\n",
              "    <tr>\n",
              "      <th>111683</th>\n",
              "      <td>40009</td>\n",
              "      <td>22808</td>\n",
              "      <td>5</td>\n",
              "    </tr>\n",
              "    <tr>\n",
              "      <th>111684</th>\n",
              "      <td>38842</td>\n",
              "      <td>25855</td>\n",
              "      <td>5</td>\n",
              "    </tr>\n",
              "    <tr>\n",
              "      <th>111685</th>\n",
              "      <td>79747</td>\n",
              "      <td>14531</td>\n",
              "      <td>5</td>\n",
              "    </tr>\n",
              "  </tbody>\n",
              "</table>\n",
              "<p>111686 rows × 3 columns</p>\n",
              "</div>"
            ],
            "text/plain": [
              "        customer_unique_id  product_id  review_score\n",
              "0                    45758       17106             4\n",
              "1                    21530       17106             4\n",
              "2                    87936       17106             5\n",
              "3                    85228       17106             3\n",
              "4                    44958       23951             1\n",
              "...                    ...         ...           ...\n",
              "111681               57240        4599             5\n",
              "111682               32279        4599             5\n",
              "111683               40009       22808             5\n",
              "111684               38842       25855             5\n",
              "111685               79747       14531             5\n",
              "\n",
              "[111686 rows x 3 columns]"
            ]
          },
          "metadata": {
            "tags": []
          },
          "execution_count": 11
        }
      ]
    },
    {
      "cell_type": "code",
      "metadata": {
        "colab": {
          "base_uri": "https://localhost:8080/"
        },
        "id": "WMZ3xQaBcPtv",
        "outputId": "a74a04eb-72db-48a4-b147-dab51ba8d394"
      },
      "source": [
        "# No null values in the dataframe\n",
        "ratings_df.isnull().sum()"
      ],
      "execution_count": 12,
      "outputs": [
        {
          "output_type": "execute_result",
          "data": {
            "text/plain": [
              "customer_unique_id    0\n",
              "product_id            0\n",
              "review_score          0\n",
              "dtype: int64"
            ]
          },
          "metadata": {
            "tags": []
          },
          "execution_count": 12
        }
      ]
    },
    {
      "cell_type": "code",
      "metadata": {
        "colab": {
          "base_uri": "https://localhost:8080/",
          "height": 282
        },
        "id": "RABpytLgcTon",
        "outputId": "bb41e1f8-e90e-4279-8ebb-0fedf8b2680c"
      },
      "source": [
        "ratings_df.describe()"
      ],
      "execution_count": 13,
      "outputs": [
        {
          "output_type": "execute_result",
          "data": {
            "text/html": [
              "<div>\n",
              "<style scoped>\n",
              "    .dataframe tbody tr th:only-of-type {\n",
              "        vertical-align: middle;\n",
              "    }\n",
              "\n",
              "    .dataframe tbody tr th {\n",
              "        vertical-align: top;\n",
              "    }\n",
              "\n",
              "    .dataframe thead th {\n",
              "        text-align: right;\n",
              "    }\n",
              "</style>\n",
              "<table border=\"1\" class=\"dataframe\">\n",
              "  <thead>\n",
              "    <tr style=\"text-align: right;\">\n",
              "      <th></th>\n",
              "      <th>customer_unique_id</th>\n",
              "      <th>product_id</th>\n",
              "      <th>review_score</th>\n",
              "    </tr>\n",
              "  </thead>\n",
              "  <tbody>\n",
              "    <tr>\n",
              "      <th>count</th>\n",
              "      <td>111686.000000</td>\n",
              "      <td>111686.000000</td>\n",
              "      <td>111686.000000</td>\n",
              "    </tr>\n",
              "    <tr>\n",
              "      <th>mean</th>\n",
              "      <td>47092.415128</td>\n",
              "      <td>16121.532502</td>\n",
              "      <td>4.018418</td>\n",
              "    </tr>\n",
              "    <tr>\n",
              "      <th>std</th>\n",
              "      <td>27143.083445</td>\n",
              "      <td>9281.381481</td>\n",
              "      <td>1.397678</td>\n",
              "    </tr>\n",
              "    <tr>\n",
              "      <th>min</th>\n",
              "      <td>0.000000</td>\n",
              "      <td>0.000000</td>\n",
              "      <td>1.000000</td>\n",
              "    </tr>\n",
              "    <tr>\n",
              "      <th>25%</th>\n",
              "      <td>23579.250000</td>\n",
              "      <td>8169.000000</td>\n",
              "      <td>4.000000</td>\n",
              "    </tr>\n",
              "    <tr>\n",
              "      <th>50%</th>\n",
              "      <td>47156.500000</td>\n",
              "      <td>15947.000000</td>\n",
              "      <td>5.000000</td>\n",
              "    </tr>\n",
              "    <tr>\n",
              "      <th>75%</th>\n",
              "      <td>70640.750000</td>\n",
              "      <td>24178.000000</td>\n",
              "      <td>5.000000</td>\n",
              "    </tr>\n",
              "    <tr>\n",
              "      <th>max</th>\n",
              "      <td>94087.000000</td>\n",
              "      <td>32327.000000</td>\n",
              "      <td>5.000000</td>\n",
              "    </tr>\n",
              "  </tbody>\n",
              "</table>\n",
              "</div>"
            ],
            "text/plain": [
              "       customer_unique_id     product_id   review_score\n",
              "count       111686.000000  111686.000000  111686.000000\n",
              "mean         47092.415128   16121.532502       4.018418\n",
              "std          27143.083445    9281.381481       1.397678\n",
              "min              0.000000       0.000000       1.000000\n",
              "25%          23579.250000    8169.000000       4.000000\n",
              "50%          47156.500000   15947.000000       5.000000\n",
              "75%          70640.750000   24178.000000       5.000000\n",
              "max          94087.000000   32327.000000       5.000000"
            ]
          },
          "metadata": {
            "tags": []
          },
          "execution_count": 13
        }
      ]
    },
    {
      "cell_type": "code",
      "metadata": {
        "id": "CoQ9xOf02ADk"
      },
      "source": [
        "\n",
        "from sklearn.model_selection import train_test_split\n",
        "\n",
        "train_df, test_df = train_test_split(ratings_df, train_size=0.7, random_state=0) # 2/3 -training \n"
      ],
      "execution_count": 26,
      "outputs": []
    },
    {
      "cell_type": "code",
      "metadata": {
        "colab": {
          "base_uri": "https://localhost:8080/",
          "height": 399
        },
        "id": "0YXO2_EP32yr",
        "outputId": "5fb2bdf8-c8da-4bf3-c40a-1211d8c3ec17"
      },
      "source": [
        "train_df"
      ],
      "execution_count": 27,
      "outputs": [
        {
          "output_type": "execute_result",
          "data": {
            "text/html": [
              "<div>\n",
              "<style scoped>\n",
              "    .dataframe tbody tr th:only-of-type {\n",
              "        vertical-align: middle;\n",
              "    }\n",
              "\n",
              "    .dataframe tbody tr th {\n",
              "        vertical-align: top;\n",
              "    }\n",
              "\n",
              "    .dataframe thead th {\n",
              "        text-align: right;\n",
              "    }\n",
              "</style>\n",
              "<table border=\"1\" class=\"dataframe\">\n",
              "  <thead>\n",
              "    <tr style=\"text-align: right;\">\n",
              "      <th></th>\n",
              "      <th>customer_unique_id</th>\n",
              "      <th>product_id</th>\n",
              "      <th>review_score</th>\n",
              "    </tr>\n",
              "  </thead>\n",
              "  <tbody>\n",
              "    <tr>\n",
              "      <th>89758</th>\n",
              "      <td>8383</td>\n",
              "      <td>15387</td>\n",
              "      <td>5</td>\n",
              "    </tr>\n",
              "    <tr>\n",
              "      <th>91625</th>\n",
              "      <td>44365</td>\n",
              "      <td>6702</td>\n",
              "      <td>1</td>\n",
              "    </tr>\n",
              "    <tr>\n",
              "      <th>37011</th>\n",
              "      <td>9538</td>\n",
              "      <td>13574</td>\n",
              "      <td>5</td>\n",
              "    </tr>\n",
              "    <tr>\n",
              "      <th>30641</th>\n",
              "      <td>35218</td>\n",
              "      <td>21070</td>\n",
              "      <td>5</td>\n",
              "    </tr>\n",
              "    <tr>\n",
              "      <th>2331</th>\n",
              "      <td>45648</td>\n",
              "      <td>2526</td>\n",
              "      <td>1</td>\n",
              "    </tr>\n",
              "    <tr>\n",
              "      <th>...</th>\n",
              "      <td>...</td>\n",
              "      <td>...</td>\n",
              "      <td>...</td>\n",
              "    </tr>\n",
              "    <tr>\n",
              "      <th>21243</th>\n",
              "      <td>19627</td>\n",
              "      <td>9524</td>\n",
              "      <td>5</td>\n",
              "    </tr>\n",
              "    <tr>\n",
              "      <th>45891</th>\n",
              "      <td>4599</td>\n",
              "      <td>19581</td>\n",
              "      <td>5</td>\n",
              "    </tr>\n",
              "    <tr>\n",
              "      <th>42613</th>\n",
              "      <td>79003</td>\n",
              "      <td>4768</td>\n",
              "      <td>5</td>\n",
              "    </tr>\n",
              "    <tr>\n",
              "      <th>43567</th>\n",
              "      <td>83454</td>\n",
              "      <td>8623</td>\n",
              "      <td>5</td>\n",
              "    </tr>\n",
              "    <tr>\n",
              "      <th>68268</th>\n",
              "      <td>57785</td>\n",
              "      <td>23957</td>\n",
              "      <td>4</td>\n",
              "    </tr>\n",
              "  </tbody>\n",
              "</table>\n",
              "<p>78180 rows × 3 columns</p>\n",
              "</div>"
            ],
            "text/plain": [
              "       customer_unique_id  product_id  review_score\n",
              "89758                8383       15387             5\n",
              "91625               44365        6702             1\n",
              "37011                9538       13574             5\n",
              "30641               35218       21070             5\n",
              "2331                45648        2526             1\n",
              "...                   ...         ...           ...\n",
              "21243               19627        9524             5\n",
              "45891                4599       19581             5\n",
              "42613               79003        4768             5\n",
              "43567               83454        8623             5\n",
              "68268               57785       23957             4\n",
              "\n",
              "[78180 rows x 3 columns]"
            ]
          },
          "metadata": {
            "tags": []
          },
          "execution_count": 27
        }
      ]
    },
    {
      "cell_type": "code",
      "metadata": {
        "colab": {
          "base_uri": "https://localhost:8080/"
        },
        "id": "arKLPD3X4X6m",
        "outputId": "28729d2f-e8aa-4fab-c1ad-91bf3c648df0"
      },
      "source": [
        "print(\"number of training samples:\", train_df.shape[0])\n",
        "print(\"number of test samples:\", test_df.shape[0])"
      ],
      "execution_count": 16,
      "outputs": [
        {
          "output_type": "stream",
          "text": [
            "number of training samples: 78180\n",
            "number of test samples: 33506\n"
          ],
          "name": "stdout"
        }
      ]
    },
    {
      "cell_type": "code",
      "metadata": {
        "id": "MtgOzeAl4sWD"
      },
      "source": [
        "# function to calculate the RMSE\n",
        "def RMSE(y_true, y_pred):\n",
        "    return np.linalg.norm(y_true - y_pred) / np.sqrt(len(y_true))"
      ],
      "execution_count": 17,
      "outputs": []
    },
    {
      "cell_type": "code",
      "metadata": {
        "id": "xowuHq_L6tTQ"
      },
      "source": [
        "# function to make the boxplot\n",
        "def MakeBoxplot(y_true, y_pred, title):\n",
        "    data = [y_pred[y_true == (x*0.5+0.5)] for x in range(10)]\n",
        "    fig = plt.figure(figsize=(5, 5))\n",
        "    plt.boxplot(data)\n",
        "    min_a, max_a = 0., 5.0\n",
        "    plt.xlim((min_a, max_a))\n",
        "    plt.ylim((min_a, max_a))\n",
        "    plt.plot([min_a, max_a * 2], [min_a, max_a], ls='--', color='gray', linewidth=1.0)# x & y values of 2 points of the plot\n",
        "    plt.xticks(range(12), [x*0.5 for x in range(12)])\n",
        "    plt.xlabel('True Rating')\n",
        "    plt.ylabel('Predicted Rating')\n",
        "    plt.title(title)\n",
        "    plt.show()"
      ],
      "execution_count": 18,
      "outputs": []
    },
    {
      "cell_type": "code",
      "metadata": {
        "colab": {
          "base_uri": "https://localhost:8080/"
        },
        "id": "LYL-7YAG5VVJ",
        "outputId": "ad75e5bd-1857-4930-cb0e-913b6d973ebf"
      },
      "source": [
        "!pip install surprise"
      ],
      "execution_count": 19,
      "outputs": [
        {
          "output_type": "stream",
          "text": [
            "Requirement already satisfied: surprise in /usr/local/lib/python3.7/dist-packages (0.1)\n",
            "Requirement already satisfied: scikit-surprise in /usr/local/lib/python3.7/dist-packages (from surprise) (1.1.1)\n",
            "Requirement already satisfied: numpy>=1.11.2 in /usr/local/lib/python3.7/dist-packages (from scikit-surprise->surprise) (1.19.5)\n",
            "Requirement already satisfied: scipy>=1.0.0 in /usr/local/lib/python3.7/dist-packages (from scikit-surprise->surprise) (1.4.1)\n",
            "Requirement already satisfied: six>=1.10.0 in /usr/local/lib/python3.7/dist-packages (from scikit-surprise->surprise) (1.15.0)\n",
            "Requirement already satisfied: joblib>=0.11 in /usr/local/lib/python3.7/dist-packages (from scikit-surprise->surprise) (1.0.1)\n"
          ],
          "name": "stdout"
        }
      ]
    },
    {
      "cell_type": "markdown",
      "metadata": {
        "id": "5Ig-4QW5SCDS"
      },
      "source": [
        "## Model Based Collaborative filtering"
      ]
    },
    {
      "cell_type": "code",
      "metadata": {
        "id": "yeQaCNLL6RjO"
      },
      "source": [
        "import numpy as np\n",
        "import pandas as pd\n",
        "import matplotlib.pyplot as plt\n",
        "from datetime import datetime\n",
        "from surprise import Reader, Dataset, SVD, SVDpp, NMF, KNNBaseline, accuracy\n",
        "from surprise.model_selection import cross_validate\n",
        "from surprise.model_selection import KFold, train_test_split, GridSearchCV\n",
        "from sklearn.linear_model import LinearRegression\n"
      ],
      "execution_count": 21,
      "outputs": []
    },
    {
      "cell_type": "code",
      "metadata": {
        "id": "YmzIx5Xn4uGt"
      },
      "source": [
        "reader = Reader(rating_scale=(1, 5))\n",
        "data_surprise = Dataset.load_from_df(train_df, reader)"
      ],
      "execution_count": 22,
      "outputs": []
    },
    {
      "cell_type": "markdown",
      "metadata": {
        "id": "EJvd41Tl681q"
      },
      "source": [
        "## Singular value decomposition (SVD)"
      ]
    },
    {
      "cell_type": "code",
      "metadata": {
        "id": "r3OIqnLi4vQm",
        "colab": {
          "base_uri": "https://localhost:8080/"
        },
        "outputId": "6f0d4191-325f-459c-adc7-ad2fdaad3de0"
      },
      "source": [
        "# find the correct parameters for SVD through parameter tunning in training set\n",
        "# #param_grid = {\n",
        "#     #'n_epochs': [20], \n",
        "#     #'lr_all': [0.005, 0.05],\n",
        "#     'reg_all': [0.01, 0.1],  # regularization strength\n",
        "#     'n_factors':[70, 80, 90, 100, 110, 120, 130, 140, 150, 160],# no of factors\n",
        "#     #'biased': [True, False]\n",
        "# #}\n",
        "param_grid = {'n_factors': [70, 80, 90, 100, 110, 120, 130, 140, 150, 160], 'n_epochs': [100], 'reg_all': [0.1]}\n",
        "gs_svd = GridSearchCV(SVD, param_grid, measures=['rmse', 'mae'], cv=3) # cross validation 3-folds\n",
        "\n",
        "gs_svd.fit(data_surprise)\n",
        "svd = gs_svd.best_estimator['rmse']\n",
        "\n",
        "# best RMSE score\n",
        "print(gs_svd.best_score['rmse'])\n",
        "\n",
        "# combination of parameters that gave the best RMSE score\n",
        "print(gs_svd.best_params['rmse'])\n",
        "\n",
        "#'n_factors': list(range(0,202,5))[1:]"
      ],
      "execution_count": 92,
      "outputs": [
        {
          "output_type": "stream",
          "text": [
            "1.2767780258446733\n",
            "{'n_factors': 130, 'n_epochs': 100, 'reg_all': 0.1}\n"
          ],
          "name": "stdout"
        }
      ]
    },
    {
      "cell_type": "code",
      "metadata": {
        "id": "4np_fY1_-jdF"
      },
      "source": [
        "#recommender_data = (item_prediction_data_with_reviews.groupby([\"customer_unique_id\", \"product_id\"])[\"review_score\"].agg([\"mean\"].reset_index())"
      ],
      "execution_count": null,
      "outputs": []
    },
    {
      "cell_type": "code",
      "metadata": {
        "colab": {
          "base_uri": "https://localhost:8080/",
          "height": 404
        },
        "id": "23m3LVas9SgQ",
        "outputId": "f4236870-e5bd-4b51-e1ca-8a6b3f68dfb8"
      },
      "source": [
        "cv_results_svd = pd.DataFrame(gs_svd.cv_results)\n",
        "fig = plt.figure(figsize=(15, 6))\n",
        "plt.subplot(121)\n",
        "plt.plot(cv_results_svd['mean_test_rmse'])\n",
        "plt.xticks(np.arange(9), np.arange(70, 160, 10), fontsize=10, rotation=45)\n",
        "plt.yticks(fontsize=13)\n",
        "plt.xlabel('number of latent factors', fontsize=16)\n",
        "plt.ylabel('Root Mean Square Error (RMSE)', fontsize=16)\n",
        "plt.grid()\n",
        "\n",
        "plt.subplot(122)\n",
        "plt.plot(cv_results_svd['mean_test_mae'])\n",
        "plt.xticks(np.arange(9), np.arange(70, 160, 10), fontsize=10, rotation=45)\n",
        "plt.yticks(fontsize=13)\n",
        "plt.xlabel('number of latent factors', fontsize=16)\n",
        "plt.ylabel('Mean Absolute Error (MAE)', fontsize=16)\n",
        "plt.grid()\n",
        "\n",
        "plt.show()\n"
      ],
      "execution_count": 94,
      "outputs": [
        {
          "output_type": "display_data",
          "data": {
            "image/png": "[encoded data removed]",
            "text/plain": [
              "<Figure size 1080x432 with 2 Axes>"
            ]
          },
          "metadata": {
            "tags": [],
            "needs_background": "light"
          }
        }
      ]
    },
    {
      "cell_type": "markdown",
      "metadata": {
        "id": "Er-WQak9J-om"
      },
      "source": [
        "Now we would like to see the CV best model's proformance."
      ]
    },
    {
      "cell_type": "code",
      "metadata": {
        "colab": {
          "base_uri": "https://localhost:8080/"
        },
        "id": "GnF-_Ri_GoMI",
        "outputId": "8097ffdb-7efc-4a4c-a963-8969ef219b07"
      },
      "source": [
        "eval_svd = cross_validate(svd, data_surprise, measures=['RMSE', 'MAE'], cv=3, verbose=True)"
      ],
      "execution_count": 95,
      "outputs": [
        {
          "output_type": "stream",
          "text": [
            "Evaluating RMSE, MAE of algorithm SVD on 3 split(s).\n",
            "\n",
            "                  Fold 1  Fold 2  Fold 3  Mean    Std     \n",
            "RMSE (testset)    1.2890  1.2787  1.2805  1.2827  0.0045  \n",
            "MAE (testset)     0.9878  0.9839  0.9844  0.9854  0.0017  \n",
            "Fit time          21.03   20.79   21.00   20.94   0.11    \n",
            "Test time         0.19    0.23    0.19    0.20    0.02    \n"
          ],
          "name": "stdout"
        }
      ]
    },
    {
      "cell_type": "code",
      "metadata": {
        "colab": {
          "base_uri": "https://localhost:8080/"
        },
        "id": "WdSYua_f54ZH",
        "outputId": "a0889e2f-64c3-4d80-8946-b08f8d5e1ed4"
      },
      "source": [
        "y_true = test_df['review_score'].values \n",
        "y_true"
      ],
      "execution_count": 96,
      "outputs": [
        {
          "output_type": "execute_result",
          "data": {
            "text/plain": [
              "array([5, 3, 3, ..., 5, 5, 1])"
            ]
          },
          "metadata": {
            "tags": []
          },
          "execution_count": 96
        }
      ]
    },
    {
      "cell_type": "code",
      "metadata": {
        "colab": {
          "base_uri": "https://localhost:8080/"
        },
        "id": "UbWkw4Ur6m61",
        "outputId": "77156913-ebcb-4902-9d32-bcb43819b47a"
      },
      "source": [
        "# We can now use the algorithm that yields the best rmse:\n",
        "model = gs_svd.best_estimator['rmse']\n",
        "model.fit(data_surprise.build_full_trainset())"
      ],
      "execution_count": 97,
      "outputs": [
        {
          "output_type": "execute_result",
          "data": {
            "text/plain": [
              "<surprise.prediction_algorithms.matrix_factorization.SVD at 0x7fbe1b217910>"
            ]
          },
          "metadata": {
            "tags": []
          },
          "execution_count": 97
        }
      ]
    },
    {
      "cell_type": "code",
      "metadata": {
        "id": "51O4Gqyd6no6"
      },
      "source": [
        "# True values\n",
        "user_ids_true = test_df['customer_unique_id'].values\n",
        "product_ids_true = test_df['product_id'].values"
      ],
      "execution_count": 98,
      "outputs": []
    },
    {
      "cell_type": "code",
      "metadata": {
        "colab": {
          "base_uri": "https://localhost:8080/",
          "height": 424
        },
        "id": "YZmpp_rc7OlG",
        "outputId": "377ce459-57eb-465f-dbc6-4cc7a5f076dd"
      },
      "source": [
        "# check the performance\n",
        "y_pred = []\n",
        "for user_id, product_id in zip(user_ids_true, product_ids_true):\n",
        "    r = model.predict(user_id, product_id, verbose=False).est # predict ratings from user_id & product_id in test set\n",
        "    y_pred.append(r)\n",
        "y_pred = np.array(y_pred)\n",
        "# performance\n",
        "error = RMSE(y_true, y_pred)\n",
        "print(\"RMSE =\", error) \n",
        "MakeBoxplot(y_true, y_pred, 'Test Set')"
      ],
      "execution_count": 99,
      "outputs": [
        {
          "output_type": "stream",
          "text": [
            "RMSE = 0.701560369354217\n"
          ],
          "name": "stdout"
        },
        {
          "output_type": "stream",
          "text": [
            "/usr/local/lib/python3.7/dist-packages/numpy/core/_asarray.py:83: VisibleDeprecationWarning: Creating an ndarray from ragged nested sequences (which is a list-or-tuple of lists-or-tuples-or ndarrays with different lengths or shapes) is deprecated. If you meant to do this, you must specify 'dtype=object' when creating the ndarray\n",
            "  return array(a, dtype, copy=False, order=order)\n"
          ],
          "name": "stderr"
        },
        {
          "output_type": "display_data",
          "data": {
            "image/png": "[encoded data removed]",
            "text/plain": [
              "<Figure size 360x360 with 1 Axes>"
            ]
          },
          "metadata": {
            "tags": [],
            "needs_background": "light"
          }
        }
      ]
    },
    {
      "cell_type": "markdown",
      "metadata": {
        "id": "v-Jog90BHxrT"
      },
      "source": [
        "## SVD++ Model "
      ]
    },
    {
      "cell_type": "markdown",
      "metadata": {
        "id": "SOpVoEJyH4G8"
      },
      "source": [
        "Improved SVD model with implicit terms."
      ]
    },
    {
      "cell_type": "code",
      "metadata": {
        "colab": {
          "base_uri": "https://localhost:8080/"
        },
        "id": "QZLhKwQyH_LA",
        "outputId": "8d503d58-e18d-49b5-ea04-65741dc6b093"
      },
      "source": [
        "param_grid = {'lr_all': [0.001, 0.003, 0.005, 0.007, 0.009], 'reg_all': [0.005, 0.01, 0.015, 0.02, 0.025]}\n",
        "gs_svdpp = GridSearchCV(SVDpp, param_grid, measures=['rmse', 'mae'], cv=3)\n",
        "gs_svdpp.fit(data_surprise)\n",
        "svdpp = gs_svdpp.best_estimator['rmse']\n",
        "print(gs_svdpp.best_score['rmse'])\n",
        "print(gs_svdpp.best_params['rmse'])"
      ],
      "execution_count": 100,
      "outputs": [
        {
          "output_type": "stream",
          "text": [
            "1.307631601902514\n",
            "{'lr_all': 0.009, 'reg_all': 0.02}\n"
          ],
          "name": "stdout"
        }
      ]
    },
    {
      "cell_type": "code",
      "metadata": {
        "colab": {
          "base_uri": "https://localhost:8080/",
          "height": 393
        },
        "id": "8KGNsxYxI3qz",
        "outputId": "18f50d53-b230-4e85-eca3-f564c79479f1"
      },
      "source": [
        "cv_results_svdpp = pd.DataFrame(gs_svdpp.cv_results)\n",
        "svdpp_rmse = np.array(cv_results_svdpp['mean_test_rmse']).reshape(5,5)\n",
        "svdpp_mae = np.array(cv_results_svdpp['mean_test_mae']).reshape(5,5)\n",
        "fig = plt.figure(figsize=(15,6))\n",
        "ax1 = plt.subplot(121)\n",
        "im1 = ax1.imshow(svdpp_rmse)\n",
        "cbar = ax1.figure.colorbar(im1, ax=ax1)\n",
        "ax1.set_xticks(np.arange(5))\n",
        "ax1.set_yticks(np.arange(5))\n",
        "ax1.set_xticklabels(param_grid['lr_all'], fontsize=13)\n",
        "ax1.set_yticklabels(param_grid['reg_all'], fontsize=13)\n",
        "for i in range(5):\n",
        "    for j in range(5):\n",
        "        text = ax1.text(j, i, round(svdpp_rmse[i][j], 4), ha=\"center\", va=\"center\", color=\"w\")\n",
        "ax1.set_xlabel('reg_all', fontsize=16)\n",
        "ax1.set_ylabel('lr_all', fontsize=16)\n",
        "ax1.set_title('Root Mean Square Error (RMSE)', fontsize=16)\n",
        "ax2 = plt.subplot(122)\n",
        "im2 = ax2.imshow(svdpp_mae)\n",
        "cbar = ax2.figure.colorbar(im2, ax=ax2)\n",
        "ax2.set_xticks(np.arange(5))\n",
        "ax2.set_yticks(np.arange(5))\n",
        "ax2.set_xticklabels(param_grid['lr_all'], fontsize=13)\n",
        "ax2.set_yticklabels(param_grid['reg_all'], fontsize=13)\n",
        "for i in range(5):\n",
        "    for j in range(5):\n",
        "        text = ax2.text(j, i, round(svdpp_mae[i][j], 4), ha=\"center\", va=\"center\", color=\"w\")\n",
        "ax2.set_xlabel('reg_all', fontsize=16)\n",
        "ax2.set_ylabel('lr_all', fontsize=16)\n",
        "ax2.set_title('Mean Absolute Error (MAE)', fontsize=16)\n",
        "plt.show()"
      ],
      "execution_count": 101,
      "outputs": [
        {
          "output_type": "display_data",
          "data": {
            "image/png": "[encoded data removed]",
            "text/plain": [
              "<Figure size 1080x432 with 4 Axes>"
            ]
          },
          "metadata": {
            "tags": [],
            "needs_background": "light"
          }
        }
      ]
    },
    {
      "cell_type": "markdown",
      "metadata": {
        "id": "ELj91NaGJveE"
      },
      "source": [
        "Now we would like to see the CV best model's proformance."
      ]
    },
    {
      "cell_type": "code",
      "metadata": {
        "colab": {
          "base_uri": "https://localhost:8080/"
        },
        "id": "AHjL3GM7JJOM",
        "outputId": "cae40ae8-38e4-4e1b-a8c7-98f7dddb57a3"
      },
      "source": [
        "eval_svdpp = cross_validate(svdpp, data_surprise, measures=['RMSE', 'MAE'], cv=3, verbose=True)\n"
      ],
      "execution_count": 102,
      "outputs": [
        {
          "output_type": "stream",
          "text": [
            "Evaluating RMSE, MAE of algorithm SVDpp on 3 split(s).\n",
            "\n",
            "                  Fold 1  Fold 2  Fold 3  Mean    Std     \n",
            "RMSE (testset)    1.3022  1.3060  1.3103  1.3062  0.0033  \n",
            "MAE (testset)     1.0304  1.0303  1.0301  1.0303  0.0001  \n",
            "Fit time          6.32    6.28    6.55    6.39    0.12    \n",
            "Test time         0.29    0.38    0.29    0.32    0.04    \n"
          ],
          "name": "stdout"
        }
      ]
    },
    {
      "cell_type": "code",
      "metadata": {
        "colab": {
          "base_uri": "https://localhost:8080/"
        },
        "id": "teFvGLNHKEju",
        "outputId": "94c102e3-4608-4b32-dd91-280694519f33"
      },
      "source": [
        "y_true = test_df['review_score'].values \n",
        "y_true"
      ],
      "execution_count": 103,
      "outputs": [
        {
          "output_type": "execute_result",
          "data": {
            "text/plain": [
              "array([5, 3, 3, ..., 5, 5, 1])"
            ]
          },
          "metadata": {
            "tags": []
          },
          "execution_count": 103
        }
      ]
    },
    {
      "cell_type": "code",
      "metadata": {
        "colab": {
          "base_uri": "https://localhost:8080/"
        },
        "id": "42W7ZvexKMMc",
        "outputId": "b4de474c-dd33-44e7-82e1-e4dc8b91b2cb"
      },
      "source": [
        "model = gs_svdpp.best_estimator['rmse']\n",
        "model.fit(data_surprise.build_full_trainset())"
      ],
      "execution_count": 104,
      "outputs": [
        {
          "output_type": "execute_result",
          "data": {
            "text/plain": [
              "<surprise.prediction_algorithms.matrix_factorization.SVDpp at 0x7fbe106195d0>"
            ]
          },
          "metadata": {
            "tags": []
          },
          "execution_count": 104
        }
      ]
    },
    {
      "cell_type": "code",
      "metadata": {
        "id": "mRcAFgvjKO9A"
      },
      "source": [
        "user_ids_true = test_df['customer_unique_id'].values\n",
        "product_ids_true = test_df['product_id'].values"
      ],
      "execution_count": 105,
      "outputs": []
    },
    {
      "cell_type": "code",
      "metadata": {
        "colab": {
          "base_uri": "https://localhost:8080/",
          "height": 424
        },
        "id": "WrqfnhbZMKpQ",
        "outputId": "5b683ef9-5acc-49cd-c84b-507a0c5d29b3"
      },
      "source": [
        "# check the performance\n",
        "y_pred = []\n",
        "for user_id, product_id in zip(user_ids_true, product_ids_true):\n",
        "    r = model.predict(user_id, product_id, verbose=False).est # predict ratings from user_id & product_id in test set\n",
        "    y_pred.append(r)\n",
        "y_pred = np.array(y_pred)\n",
        "# performance\n",
        "error = RMSE(y_true, y_pred)\n",
        "print(\"RMSE =\", error) \n",
        "MakeBoxplot(y_true, y_pred, 'Test Set')"
      ],
      "execution_count": 106,
      "outputs": [
        {
          "output_type": "stream",
          "text": [
            "RMSE = 0.967925556195419\n"
          ],
          "name": "stdout"
        },
        {
          "output_type": "stream",
          "text": [
            "/usr/local/lib/python3.7/dist-packages/numpy/core/_asarray.py:83: VisibleDeprecationWarning: Creating an ndarray from ragged nested sequences (which is a list-or-tuple of lists-or-tuples-or ndarrays with different lengths or shapes) is deprecated. If you meant to do this, you must specify 'dtype=object' when creating the ndarray\n",
            "  return array(a, dtype, copy=False, order=order)\n"
          ],
          "name": "stderr"
        },
        {
          "output_type": "display_data",
          "data": {
            "image/png": "[encoded data removed]",
            "text/plain": [
              "<Figure size 360x360 with 1 Axes>"
            ]
          },
          "metadata": {
            "tags": [],
            "needs_background": "light"
          }
        }
      ]
    },
    {
      "cell_type": "markdown",
      "metadata": {
        "id": "NPVzr5-D8HLZ"
      },
      "source": [
        "## Biased NMF (Non-negative matrix factorization)"
      ]
    },
    {
      "cell_type": "code",
      "metadata": {
        "id": "p_UV_iRNPuzd"
      },
      "source": [
        "NMF model with biased term-Similar to SVD, Reduced the n_factors to avoid over-fitting."
      ],
      "execution_count": null,
      "outputs": []
    },
    {
      "cell_type": "code",
      "metadata": {
        "colab": {
          "base_uri": "https://localhost:8080/"
        },
        "id": "cTFq9s8oN6J-",
        "outputId": "518c4fdd-949a-4bad-9670-372f206908ed"
      },
      "source": [
        "param_grid = {'n_factors': [1,2,3,4,5,6,7,8,9,10], 'n_epochs': [100], 'biased': [True], 'reg_bu': [0.1], 'reg_bi': [0.1]}\n",
        "gs_nmfb = GridSearchCV(NMF, param_grid, measures=['rmse', 'mae'], cv=3)\n",
        "gs_nmfb.fit(data_surprise)\n",
        "nmfb = gs_nmfb.best_estimator['rmse']\n",
        "print(gs_nmfb.best_score['rmse'])\n",
        "print(gs_nmfb.best_params['rmse'])"
      ],
      "execution_count": 107,
      "outputs": [
        {
          "output_type": "stream",
          "text": [
            "1.4023537947377787\n",
            "{'n_factors': 1, 'n_epochs': 100, 'biased': True, 'reg_bu': 0.1, 'reg_bi': 0.1}\n"
          ],
          "name": "stdout"
        }
      ]
    },
    {
      "cell_type": "code",
      "metadata": {
        "colab": {
          "base_uri": "https://localhost:8080/",
          "height": 396
        },
        "id": "_ZS_u6nBOoYQ",
        "outputId": "93a913cb-1270-4a14-a6d9-5ae1f8c6ffbe"
      },
      "source": [
        "cv_results_nmfb = pd.DataFrame(gs_nmfb.cv_results)\n",
        "fig = plt.figure(figsize=(15, 6))\n",
        "plt.subplot(121)\n",
        "plt.plot(cv_results_nmfb['mean_test_rmse'])\n",
        "plt.xticks(np.arange(10), np.arange(1, 11), fontsize=13)\n",
        "plt.yticks(fontsize=13)\n",
        "plt.xlabel('number of latent factors', fontsize=16)\n",
        "plt.ylabel('Root Mean Square Error (RMSE)', fontsize=16)\n",
        "plt.grid()\n",
        "\n",
        "plt.subplot(122)\n",
        "plt.plot(cv_results_nmfb['mean_test_mae'])\n",
        "plt.xticks(np.arange(10), np.arange(1, 11), fontsize=13)\n",
        "plt.yticks(fontsize=13)\n",
        "plt.xlabel('number of latent factors', fontsize=16)\n",
        "plt.ylabel('Mean Absolute Error (MAE)', fontsize=16)\n",
        "plt.grid()\n",
        "\n",
        "plt.show()"
      ],
      "execution_count": 108,
      "outputs": [
        {
          "output_type": "display_data",
          "data": {
            "image/png": "[encoded data removed]",
            "text/plain": [
              "<Figure size 1080x432 with 2 Axes>"
            ]
          },
          "metadata": {
            "tags": [],
            "needs_background": "light"
          }
        }
      ]
    },
    {
      "cell_type": "markdown",
      "metadata": {
        "id": "jT81Bz3L5n8v"
      },
      "source": [
        "Now we would like to see the CV best model's proformance."
      ]
    },
    {
      "cell_type": "code",
      "metadata": {
        "colab": {
          "base_uri": "https://localhost:8080/"
        },
        "id": "gKILmh6wlZDh",
        "outputId": "93ce6288-b297-4e74-c8ec-6a2032abaced"
      },
      "source": [
        "eval_nmfb= cross_validate(nmfb, data_surprise, measures=['RMSE', 'MAE'], cv=3, verbose=True)"
      ],
      "execution_count": 109,
      "outputs": [
        {
          "output_type": "stream",
          "text": [
            "Evaluating RMSE, MAE of algorithm NMF on 3 split(s).\n",
            "\n",
            "                  Fold 1  Fold 2  Fold 3  Mean    Std     \n",
            "RMSE (testset)    1.3973  1.3974  1.4031  1.3992  0.0027  \n",
            "MAE (testset)     1.1423  1.1410  1.1493  1.1442  0.0036  \n",
            "Fit time          9.98    9.43    9.80    9.74    0.23    \n",
            "Test time         0.21    0.20    0.19    0.20    0.01    \n"
          ],
          "name": "stdout"
        }
      ]
    },
    {
      "cell_type": "code",
      "metadata": {
        "colab": {
          "base_uri": "https://localhost:8080/"
        },
        "id": "5bz_a6ro7wCd",
        "outputId": "afa515a1-f4b0-4187-a3ae-015cef6fe91f"
      },
      "source": [
        "y_true = test_df['review_score'].values \n",
        "y_true"
      ],
      "execution_count": 110,
      "outputs": [
        {
          "output_type": "execute_result",
          "data": {
            "text/plain": [
              "array([5, 3, 3, ..., 5, 5, 1])"
            ]
          },
          "metadata": {
            "tags": []
          },
          "execution_count": 110
        }
      ]
    },
    {
      "cell_type": "code",
      "metadata": {
        "colab": {
          "base_uri": "https://localhost:8080/"
        },
        "id": "gwTPvuQa701g",
        "outputId": "fdf360d6-ee7d-4ffb-819f-14419a815b7a"
      },
      "source": [
        "model = gs_nmfb.best_estimator['rmse']\n",
        "model.fit(data_surprise.build_full_trainset())"
      ],
      "execution_count": 111,
      "outputs": [
        {
          "output_type": "execute_result",
          "data": {
            "text/plain": [
              "<surprise.prediction_algorithms.matrix_factorization.NMF at 0x7fbe1d08a690>"
            ]
          },
          "metadata": {
            "tags": []
          },
          "execution_count": 111
        }
      ]
    },
    {
      "cell_type": "code",
      "metadata": {
        "colab": {
          "base_uri": "https://localhost:8080/",
          "height": 424
        },
        "id": "bpbR9G6971AC",
        "outputId": "4151dd42-3d2e-48ac-936d-df404775c3e3"
      },
      "source": [
        "# check the performance\n",
        "y_pred = []\n",
        "for user_id, product_id in zip(user_ids_true, product_ids_true):\n",
        "    r = model.predict(user_id, product_id, verbose=False).est # predict ratings from user_id & product_id in test set\n",
        "    y_pred.append(r)\n",
        "y_pred = np.array(y_pred)\n",
        "# performance\n",
        "error = RMSE(y_true, y_pred)\n",
        "print(\"RMSE =\", error) \n",
        "MakeBoxplot(y_true, y_pred, 'Test Set')"
      ],
      "execution_count": 112,
      "outputs": [
        {
          "output_type": "stream",
          "text": [
            "RMSE = 0.8202042877296923\n"
          ],
          "name": "stdout"
        },
        {
          "output_type": "stream",
          "text": [
            "/usr/local/lib/python3.7/dist-packages/numpy/core/_asarray.py:83: VisibleDeprecationWarning: Creating an ndarray from ragged nested sequences (which is a list-or-tuple of lists-or-tuples-or ndarrays with different lengths or shapes) is deprecated. If you meant to do this, you must specify 'dtype=object' when creating the ndarray\n",
            "  return array(a, dtype, copy=False, order=order)\n"
          ],
          "name": "stderr"
        },
        {
          "output_type": "display_data",
          "data": {
            "image/png": "[encoded data removed]",
            "text/plain": [
              "<Figure size 360x360 with 1 Axes>"
            ]
          },
          "metadata": {
            "tags": [],
            "needs_background": "light"
          }
        }
      ]
    },
    {
      "cell_type": "markdown",
      "metadata": {
        "id": "tlPXrB0271Oo"
      },
      "source": [
        "## NMF (Non-negative matrix factorization)"
      ]
    },
    {
      "cell_type": "code",
      "metadata": {
        "colab": {
          "base_uri": "https://localhost:8080/"
        },
        "id": "6PwKpEcxO-Nd",
        "outputId": "b12c0f9f-21ac-473d-c8c6-3cb82686a252"
      },
      "source": [
        "param_grid = {'n_factors': [200, 220, 240], 'n_epochs': [100]}\n",
        "gs_nmf = GridSearchCV(NMF, param_grid, measures=['rmse', 'mae'], cv=3)\n",
        "gs_nmf.fit(data_surprise)\n",
        "nmf = gs_nmf.best_estimator['rmse']\n",
        "print(gs_nmf.best_score['rmse'])\n",
        "print(gs_nmf.best_params['rmse'])"
      ],
      "execution_count": 113,
      "outputs": [
        {
          "output_type": "stream",
          "text": [
            "1.2787620569176195\n",
            "{'n_factors': 240, 'n_epochs': 100}\n"
          ],
          "name": "stdout"
        }
      ]
    },
    {
      "cell_type": "code",
      "metadata": {
        "colab": {
          "base_uri": "https://localhost:8080/",
          "height": 421
        },
        "id": "dv5IlB4PRiCw",
        "outputId": "c28e4bb2-c586-4e05-ea39-312cd90df055"
      },
      "source": [
        "cv_results_nmf = pd.DataFrame(gs_nmf.cv_results)\n",
        "fig = plt.figure(figsize=(15, 6))\n",
        "plt.subplot(121)\n",
        "plt.plot(cv_results_nmf['mean_test_rmse'])\n",
        "plt.xticks(np.arange(10), np.arange(150,251,10), fontsize=13,rotation=45)\n",
        "plt.yticks(fontsize=13)\n",
        "plt.xlabel('number of latent factors', fontsize=16)\n",
        "plt.ylabel('Root Mean Square Error (RMSE)', fontsize=16)\n",
        "plt.grid()\n",
        "\n",
        "plt.subplot(122)\n",
        "plt.plot(cv_results_nmf['mean_test_mae'])\n",
        "plt.xticks(np.arange(10), np.arange(150,251,10), fontsize=13,rotation=45)\n",
        "plt.yticks(fontsize=13)\n",
        "plt.xlabel('number of latent factors', fontsize=16)\n",
        "plt.ylabel('Mean Absolute Error (MAE)', fontsize=16)\n",
        "plt.grid()\n",
        "\n",
        "plt.show()"
      ],
      "execution_count": 114,
      "outputs": [
        {
          "output_type": "display_data",
          "data": {
            "image/png": "[encoded data removed]",
            "text/plain": [
              "<Figure size 1080x432 with 2 Axes>"
            ]
          },
          "metadata": {
            "tags": [],
            "needs_background": "light"
          }
        }
      ]
    },
    {
      "cell_type": "markdown",
      "metadata": {
        "id": "fsbSyDI28tHP"
      },
      "source": [
        "Now we would like to see the CV best model's proformance"
      ]
    },
    {
      "cell_type": "code",
      "metadata": {
        "colab": {
          "base_uri": "https://localhost:8080/",
          "height": 168
        },
        "id": "heZ0nGjPPi5H",
        "outputId": "2f71c00b-ceaf-46af-dc8e-d940ae2bc64d"
      },
      "source": [
        "eval_nmf = cross_validate(nmf, data_surprise, measures=['RMSE', 'MAE'], cv=3, verbose=True)"
      ],
      "execution_count": 1,
      "outputs": [
        {
          "output_type": "error",
          "ename": "NameError",
          "evalue": "ignored",
          "traceback": [
            "\u001b[0;31m---------------------------------------------------------------------------\u001b[0m",
            "\u001b[0;31mNameError\u001b[0m                                 Traceback (most recent call last)",
            "\u001b[0;32m<ipython-input-1-c3e58636d814>\u001b[0m in \u001b[0;36m<module>\u001b[0;34m()\u001b[0m\n\u001b[0;32m----> 1\u001b[0;31m \u001b[0meval_nmf\u001b[0m \u001b[0;34m=\u001b[0m \u001b[0mcross_validate\u001b[0m\u001b[0;34m(\u001b[0m\u001b[0mnmf\u001b[0m\u001b[0;34m,\u001b[0m \u001b[0mdata_surprise\u001b[0m\u001b[0;34m,\u001b[0m \u001b[0mmeasures\u001b[0m\u001b[0;34m=\u001b[0m\u001b[0;34m[\u001b[0m\u001b[0;34m'RMSE'\u001b[0m\u001b[0;34m,\u001b[0m \u001b[0;34m'MAE'\u001b[0m\u001b[0;34m]\u001b[0m\u001b[0;34m,\u001b[0m \u001b[0mcv\u001b[0m\u001b[0;34m=\u001b[0m\u001b[0;36m3\u001b[0m\u001b[0;34m,\u001b[0m \u001b[0mverbose\u001b[0m\u001b[0;34m=\u001b[0m\u001b[0;32mTrue\u001b[0m\u001b[0;34m)\u001b[0m\u001b[0;34m\u001b[0m\u001b[0;34m\u001b[0m\u001b[0m\n\u001b[0m",
            "\u001b[0;31mNameError\u001b[0m: name 'cross_validate' is not defined"
          ]
        }
      ]
    },
    {
      "cell_type": "code",
      "metadata": {
        "colab": {
          "base_uri": "https://localhost:8080/"
        },
        "id": "NSyTZpBQQC2I",
        "outputId": "ba4fd94b-6c4e-4b69-9fc6-467013e9d0b4"
      },
      "source": [
        "y_true = test_df['review_score'].values \n",
        "y_true"
      ],
      "execution_count": 87,
      "outputs": [
        {
          "output_type": "execute_result",
          "data": {
            "text/plain": [
              "array([5, 3, 3, ..., 5, 5, 1])"
            ]
          },
          "metadata": {
            "tags": []
          },
          "execution_count": 87
        }
      ]
    },
    {
      "cell_type": "code",
      "metadata": {
        "colab": {
          "base_uri": "https://localhost:8080/"
        },
        "id": "lLGXxLWthWsW",
        "outputId": "6cb87c47-1f7e-4311-e60a-5a165b4847b8"
      },
      "source": [
        "model = gs_nmf.best_estimator['rmse']\n",
        "model.fit(data_surprise.build_full_trainset())"
      ],
      "execution_count": 88,
      "outputs": [
        {
          "output_type": "execute_result",
          "data": {
            "text/plain": [
              "<surprise.prediction_algorithms.matrix_factorization.NMF at 0x7fbe238ad0d0>"
            ]
          },
          "metadata": {
            "tags": []
          },
          "execution_count": 88
        }
      ]
    },
    {
      "cell_type": "code",
      "metadata": {
        "colab": {
          "base_uri": "https://localhost:8080/",
          "height": 424
        },
        "id": "AYeBuqYLhmL7",
        "outputId": "eb540720-b036-4b23-8c58-415ef7a1a7ae"
      },
      "source": [
        "# check the performance\n",
        "y_pred = []\n",
        "for user_id, product_id in zip(user_ids_true, product_ids_true):\n",
        "    r = model.predict(user_id, product_id, verbose=False).est # predict ratings from user_id & product_id in test set\n",
        "    y_pred.append(r)\n",
        "y_pred = np.array(y_pred)\n",
        "# performance\n",
        "error = RMSE(y_true, y_pred)\n",
        "print(\"RMSE =\", error) \n",
        "MakeBoxplot(y_true, y_pred, 'Test Set')"
      ],
      "execution_count": 89,
      "outputs": [
        {
          "output_type": "stream",
          "text": [
            "RMSE = 0.6936724153627032\n"
          ],
          "name": "stdout"
        },
        {
          "output_type": "stream",
          "text": [
            "/usr/local/lib/python3.7/dist-packages/numpy/core/_asarray.py:83: VisibleDeprecationWarning: Creating an ndarray from ragged nested sequences (which is a list-or-tuple of lists-or-tuples-or ndarrays with different lengths or shapes) is deprecated. If you meant to do this, you must specify 'dtype=object' when creating the ndarray\n",
            "  return array(a, dtype, copy=False, order=order)\n"
          ],
          "name": "stderr"
        },
        {
          "output_type": "display_data",
          "data": {
            "image/png": "[encoded data removed]",
            "text/plain": [
              "<Figure size 360x360 with 1 Axes>"
            ]
          },
          "metadata": {
            "tags": [],
            "needs_background": "light"
          }
        }
      ]
    },
    {
      "cell_type": "code",
      "metadata": {
        "colab": {
          "base_uri": "https://localhost:8080/",
          "height": 239
        },
        "id": "CUeUWhCPnGbX",
        "outputId": "15034162-4f40-4818-f9fc-ff29b1a9f96a"
      },
      "source": [
        "surprise_results = {'SVD': [np.mean(eval_svd['rmse']), np.mean(eval_svd['mae'])], 'SVDpp': [np.mean(eval_svdpp['rmse']), np.mean(eval_svdpp['mae'])],\\\n",
        "                    'NMF': [np.mean(eval_nmf['rmse']), np.mean(eval_nmf['mae'])], 'Biased_NMF': [np.mean(eval_nmfb['rmse']), np.mean(eval_nmfb['mae'])]\n",
        "                    }\n",
        "surprise_results = pd.DataFrame(surprise_results, index=['RMSE', 'MAE']).T\n",
        "surprise_results"
      ],
      "execution_count": 90,
      "outputs": [
        {
          "output_type": "error",
          "ename": "NameError",
          "evalue": "ignored",
          "traceback": [
            "\u001b[0;31m---------------------------------------------------------------------------\u001b[0m",
            "\u001b[0;31mNameError\u001b[0m                                 Traceback (most recent call last)",
            "\u001b[0;32m<ipython-input-90-b4c162f6773c>\u001b[0m in \u001b[0;36m<module>\u001b[0;34m()\u001b[0m\n\u001b[0;32m----> 1\u001b[0;31m surprise_results = {'SVD': [np.mean(eval_svd['rmse']), np.mean(eval_svd['mae'])], 'SVDpp': [np.mean(eval_svdpp['rmse']), np.mean(eval_svdpp['mae'])],                    'NMF': [np.mean(eval_nmf['rmse']), np.mean(eval_nmf['mae'])], 'Biased_NMF': [np.mean(eval_nmfb['rmse']), np.mean(eval_nmfb['mae'])]\n\u001b[0m\u001b[1;32m      2\u001b[0m                     }\n\u001b[1;32m      3\u001b[0m \u001b[0msurprise_results\u001b[0m \u001b[0;34m=\u001b[0m \u001b[0mpd\u001b[0m\u001b[0;34m.\u001b[0m\u001b[0mDataFrame\u001b[0m\u001b[0;34m(\u001b[0m\u001b[0msurprise_results\u001b[0m\u001b[0;34m,\u001b[0m \u001b[0mindex\u001b[0m\u001b[0;34m=\u001b[0m\u001b[0;34m[\u001b[0m\u001b[0;34m'RMSE'\u001b[0m\u001b[0;34m,\u001b[0m \u001b[0;34m'MAE'\u001b[0m\u001b[0;34m]\u001b[0m\u001b[0;34m)\u001b[0m\u001b[0;34m.\u001b[0m\u001b[0mT\u001b[0m\u001b[0;34m\u001b[0m\u001b[0;34m\u001b[0m\u001b[0m\n\u001b[1;32m      4\u001b[0m \u001b[0msurprise_results\u001b[0m\u001b[0;34m\u001b[0m\u001b[0;34m\u001b[0m\u001b[0m\n",
            "\u001b[0;31mNameError\u001b[0m: name 'eval_svd' is not defined"
          ]
        }
      ]
    },
    {
      "cell_type": "code",
      "metadata": {
        "id": "xoA2B4Wd-ZCp"
      },
      "source": [
        "# 'kNN_SGD': [np.mean(eval_knnb['rmse']), np.mean(eval_knnb['mae'])], 'kNN_ALS': [np.mean(eval_knnb_1['rmse']), np.mean(eval_knnb_1['mae'])],\\\n",
        "#                     'Baseline_SVM': [np.mean(rmse_svm), np.mean(mae_svm)], 'Ultimate': [np.mean(rmse_ult), np.mean(mae_ult)]"
      ],
      "execution_count": null,
      "outputs": []
    },
    {
      "cell_type": "code",
      "metadata": {
        "colab": {
          "base_uri": "https://localhost:8080/"
        },
        "id": "SVUWbkR8AYZU",
        "outputId": "73ed063e-1702-48c5-8c45-e6f4549f466b"
      },
      "source": [
        "# from surprise import SVD, SVDpp\n",
        "# from surprise import Dataset\n",
        "# from surprise.model_selection import cross_validate\n",
        "# #from sklearn.cross_validation import train_test_split\n",
        "\n",
        "\n",
        "# #data = Dataset.load_builtin('ml-100k')\n",
        "# reader = Reader(rating_scale=(1, 5))\n",
        "# data_surprise = Dataset.load_from_df(train_df, reader)\n",
        "\n",
        "# # SVD algorithm.\n",
        "# algo = SVD()\n",
        "# # Run 5-fold cross-validation and print results.\n",
        "# cross_validate(algo, data_surprise, measures=['RMSE', 'MAE'], cv=5, verbose=True)\n",
        "# # SVD++ - Singular Value Decomposition with Implicit Ratings\n",
        "# #algo = SVD++()\n",
        "# # Run 5-fold cross-validation and print results.\n",
        "# #cross_validate(algo, data_surprise, measures=['RMSE', 'MAE'], cv=5, verbose=True)\n",
        "# # Non-negative matrix factorization\n",
        "# algo = NMF()\n",
        "# # Run 5-fold cross-validation and print results.\n",
        "# cross_validate(algo, data_surprise, measures=['RMSE', 'MAE'], cv=5, verbose=True)"
      ],
      "execution_count": 52,
      "outputs": [
        {
          "output_type": "stream",
          "text": [
            "Evaluating RMSE, MAE of algorithm SVD on 5 split(s).\n",
            "\n",
            "                  Fold 1  Fold 2  Fold 3  Fold 4  Fold 5  Mean    Std     \n",
            "RMSE (testset)    1.3146  1.3041  1.3001  1.2894  1.3017  1.3020  0.0081  \n",
            "MAE (testset)     1.0385  1.0317  1.0318  1.0211  1.0318  1.0310  0.0056  \n",
            "Fit time          4.54    4.47    4.51    4.51    4.55    4.52    0.03    \n",
            "Test time         0.13    0.15    0.14    0.25    0.13    0.16    0.05    \n",
            "Evaluating RMSE, MAE of algorithm NMF on 5 split(s).\n",
            "\n",
            "                  Fold 1  Fold 2  Fold 3  Fold 4  Fold 5  Mean    Std     \n",
            "RMSE (testset)    1.2653  1.2736  1.2742  1.2822  1.2602  1.2711  0.0077  \n",
            "MAE (testset)     0.9548  0.9615  0.9586  0.9701  0.9555  0.9601  0.0055  \n",
            "Fit time          11.39   11.35   11.62   11.50   11.57   11.49   0.10    \n",
            "Test time         0.13    0.12    0.12    0.12    0.25    0.15    0.05    \n"
          ],
          "name": "stdout"
        },
        {
          "output_type": "execute_result",
          "data": {
            "text/plain": [
              "{'fit_time': (11.386592388153076,\n",
              "  11.353320121765137,\n",
              "  11.616589069366455,\n",
              "  11.503989219665527,\n",
              "  11.570087909698486),\n",
              " 'test_mae': array([0.95480652, 0.96154869, 0.95857552, 0.97005187, 0.9555314 ]),\n",
              " 'test_rmse': array([1.26530281, 1.27358608, 1.27417648, 1.28224076, 1.26017069]),\n",
              " 'test_time': (0.13323330879211426,\n",
              "  0.121185302734375,\n",
              "  0.12466955184936523,\n",
              "  0.12285614013671875,\n",
              "  0.24943947792053223)}"
            ]
          },
          "metadata": {
            "tags": []
          },
          "execution_count": 52
        }
      ]
    },
    {
      "cell_type": "markdown",
      "metadata": {
        "id": "rScAH9A1HYAi"
      },
      "source": [
        "###KNN -Stochastic Gradient Descent (SGD) baseline prediction."
      ]
    },
    {
      "cell_type": "code",
      "metadata": {
        "id": "q9D2XRG6iegN"
      },
      "source": [
        "param_grid = {'k': [10, 20, 30, 40, 50, 60, 70, 80, 90, 100], 'sim_options': {'user_based': [True, False]},\\\n",
        "              'bsl_options': {'method': ['als', 'sgd']}}\n",
        "gs_knn = GridSearchCV(KNNBaseline, param_grid, measures=['rmse', 'mae'], cv=3)\n",
        "gs_knn.fit(data)\n",
        "print(gs_knn.best_score['rmse'])\n",
        "print(gs_knn.best_params['rmse'])"
      ],
      "execution_count": null,
      "outputs": []
    },
    {
      "cell_type": "code",
      "metadata": {
        "id": "f6WzXkdFijpG"
      },
      "source": [
        "cv_results_knn = pd.DataFrame(gs_knn.cv_results)\n",
        "index = np.arange(0, 40, 4)\n",
        "fig = plt.figure(figsize=(15, 6))\n",
        "plt.subplot(121)\n",
        "plt.plot(cv_results_knn.loc[index, 'mean_test_rmse'].tolist(), label='user_based_als')\n",
        "plt.plot(cv_results_knn.loc[index+1, 'mean_test_rmse'].tolist(), label='user_based_sgd')\n",
        "plt.plot(cv_results_knn.loc[index+2, 'mean_test_rmse'].tolist(), label='item_based_als')\n",
        "plt.plot(cv_results_knn.loc[index+3, 'mean_test_rmse'].tolist(), label='item_based_sgd')\n",
        "#plt.errorbar(np.arange(10), cv_results_knn.loc[index, 'mean_test_rmse'].tolist(), cv_results_knn.loc[index, 'std_test_rmse'].tolist(), capsize=8, label='user_based_als')\n",
        "#plt.errorbar(np.arange(10), cv_results_knn.loc[index+1, 'mean_test_rmse'].tolist(), cv_results_knn.loc[index+1, 'std_test_rmse'].tolist(), capsize=8, label='user_based_sgd')\n",
        "#plt.errorbar(np.arange(10), cv_results_knn.loc[index+2, 'mean_test_rmse'].tolist(), cv_results_knn.loc[index+2, 'std_test_rmse'].tolist(), capsize=8, label='item_based_als')\n",
        "#plt.errorbar(np.arange(10), cv_results_knn.loc[index+3, 'mean_test_rmse'].tolist(), cv_results_knn.loc[index+3, 'std_test_rmse'].tolist(), capsize=8, label='item_based_sgd')\n",
        "plt.xticks(np.arange(10), np.arange(10, 110, 10), fontsize=13)\n",
        "plt.yticks(fontsize=13)\n",
        "plt.xlabel('number of neighbors (k)', fontsize=16)\n",
        "plt.ylabel('Root Mean Square Error (RMSE)', fontsize=16)\n",
        "plt.grid()\n",
        "plt.legend()\n",
        "plt.subplot(122)\n",
        "plt.plot(cv_results_knn.loc[index, 'mean_test_mae'].tolist(), label='user_based_als')\n",
        "plt.plot(cv_results_knn.loc[index+1, 'mean_test_mae'].tolist(), label='user_based_sgd')\n",
        "plt.plot(cv_results_knn.loc[index+2, 'mean_test_mae'].tolist(), label='item_based_als')\n",
        "plt.plot(cv_results_knn.loc[index+3, 'mean_test_mae'].tolist(), label='item_based_sgd')\n",
        "#plt.errorbar(np.arange(10), cv_results_knn.loc[index, 'mean_test_mae'].tolist(), cv_results_knn.loc[index, 'std_test_mae'].tolist(), capsize=8, label='user_based_als')\n",
        "#plt.errorbar(np.arange(10), cv_results_knn.loc[index+1, 'mean_test_mae'].tolist(), cv_results_knn.loc[index+1, 'std_test_mae'].tolist(), capsize=8, label='user_based_sgd')\n",
        "#plt.errorbar(np.arange(10), cv_results_knn.loc[index+2, 'mean_test_mae'].tolist(), cv_results_knn.loc[index+2, 'std_test_mae'].tolist(), capsize=8, label='item_based_als')\n",
        "#plt.errorbar(np.arange(10), cv_results_knn.loc[index+3, 'mean_test_mae'].tolist(), cv_results_knn.loc[index+3, 'std_test_mae'].tolist(), capsize=8, label='item_based_sgd')\n",
        "plt.xticks(np.arange(10), np.arange(10, 110, 10), fontsize=13)\n",
        "plt.yticks(fontsize=13)\n",
        "plt.xlabel('number of neighbors (k)', fontsize=16)\n",
        "plt.ylabel('Mean Absolute Error (MAE)', fontsize=16)\n",
        "plt.grid()\n",
        "plt.legend()\n",
        "plt.show()"
      ],
      "execution_count": null,
      "outputs": []
    },
    {
      "cell_type": "code",
      "metadata": {
        "colab": {
          "base_uri": "https://localhost:8080/"
        },
        "id": "GALibBvLF22W",
        "outputId": "e7dce94b-9150-4df8-9640-c6fce86cbb25"
      },
      "source": [
        "from surprise import KNNBasic\n",
        "\n",
        "algo = KNNBasic()\n",
        "cross_validate(algo, data_surprise, measures=['RMSE', 'MAE'], cv=5, verbose=True)"
      ],
      "execution_count": null,
      "outputs": [
        {
          "output_type": "stream",
          "text": [
            "Computing the msd similarity matrix...\n"
          ],
          "name": "stdout"
        }
      ]
    },
    {
      "cell_type": "markdown",
      "metadata": {
        "id": "V9GB-_pu_vMA"
      },
      "source": [
        "## cosine distance"
      ]
    },
    {
      "cell_type": "code",
      "metadata": {
        "id": "q8YP1j_zHoAw"
      },
      "source": [
        "ratings_df"
      ],
      "execution_count": null,
      "outputs": []
    },
    {
      "cell_type": "markdown",
      "metadata": {
        "id": "WpRRomIGUU6V"
      },
      "source": [
        "## Baselines"
      ]
    },
    {
      "cell_type": "markdown",
      "metadata": {
        "id": "mNrIkkLYUTfy"
      },
      "source": [
        "We will use 4 baseline models:\n",
        "1. Global mean\n",
        "2. User's mean\n",
        "3. Movie's mean\n",
        "4. Global mean + deviation of user(user mean-global mean) + deviation of the movie(movie mean-global mean)"
      ]
    },
    {
      "cell_type": "markdown",
      "metadata": {
        "id": "O8rgtMBmU4Qj"
      },
      "source": [
        "### Global Mean"
      ]
    },
    {
      "cell_type": "code",
      "metadata": {
        "colab": {
          "base_uri": "https://localhost:8080/"
        },
        "id": "sGSJ9bi7UZpQ",
        "outputId": "8e00c008-02d7-4a8e-e99f-8298c660e612"
      },
      "source": [
        "y_true = test_df['review_score'].values \n",
        "y_true"
      ],
      "execution_count": null,
      "outputs": [
        {
          "output_type": "execute_result",
          "data": {
            "text/plain": [
              "array([5, 4, 4, ..., 4, 5, 5])"
            ]
          },
          "metadata": {
            "tags": []
          },
          "execution_count": 30
        }
      ]
    },
    {
      "cell_type": "code",
      "metadata": {
        "colab": {
          "base_uri": "https://localhost:8080/",
          "height": 441
        },
        "id": "s6iOnbdWVFac",
        "outputId": "04c0a7f3-5066-4a85-f3b8-1fb72cd88354"
      },
      "source": [
        "global_mean = train_df['review_score'].mean() \n",
        "print(\"global_mean =\", global_mean)\n",
        "y_pred_1 = []\n",
        "for i, row in test_df.iterrows():\n",
        "    y_pred_1.append(global_mean)\n",
        "y_pred_1 = np.array(y_pred_1)\n",
        "y_pred_1 = np.clip(y_pred_1, 1.0, 5.0)\n",
        "# or simply y_pred = np.array([global_mean for i in range(len(y_true))])\n",
        "# performance\n",
        "error = RMSE(y_true, y_pred_1)\n",
        "print(\"RMSE =\", error) # high error\n",
        "MakeBoxplot(y_true, y_pred_1, 'Test Set')"
      ],
      "execution_count": null,
      "outputs": [
        {
          "output_type": "stream",
          "text": [
            "global_mean = 4.0151445382450754\n",
            "RMSE = 1.3950077964009417\n"
          ],
          "name": "stdout"
        },
        {
          "output_type": "stream",
          "text": [
            "/usr/local/lib/python3.7/dist-packages/numpy/core/_asarray.py:83: VisibleDeprecationWarning: Creating an ndarray from ragged nested sequences (which is a list-or-tuple of lists-or-tuples-or ndarrays with different lengths or shapes) is deprecated. If you meant to do this, you must specify 'dtype=object' when creating the ndarray\n",
            "  return array(a, dtype, copy=False, order=order)\n"
          ],
          "name": "stderr"
        },
        {
          "output_type": "display_data",
          "data": {
            "image/png": "[encoded data removed]",
            "text/plain": [
              "<Figure size 360x360 with 1 Axes>"
            ]
          },
          "metadata": {
            "tags": [],
            "needs_background": "light"
          }
        }
      ]
    },
    {
      "cell_type": "markdown",
      "metadata": {
        "id": "dRYdchTzWNTl"
      },
      "source": [
        "### User mean"
      ]
    },
    {
      "cell_type": "code",
      "metadata": {
        "colab": {
          "base_uri": "https://localhost:8080/"
        },
        "id": "ps40UdjxWWsN",
        "outputId": "788d3f69-28d8-43d3-e74f-1249bd035c15"
      },
      "source": [
        "train_df.groupby('customer_unique_id')['review_score'].mean()"
      ],
      "execution_count": null,
      "outputs": [
        {
          "output_type": "execute_result",
          "data": {
            "text/plain": [
              "customer_unique_id\n",
              "0        5.0\n",
              "1        4.0\n",
              "2        3.0\n",
              "3        4.0\n",
              "4        5.0\n",
              "        ... \n",
              "94081    5.0\n",
              "94083    5.0\n",
              "94084    4.0\n",
              "94086    5.0\n",
              "94087    5.0\n",
              "Name: review_score, Length: 68545, dtype: float64"
            ]
          },
          "metadata": {
            "tags": []
          },
          "execution_count": 36
        }
      ]
    },
    {
      "cell_type": "code",
      "metadata": {
        "colab": {
          "base_uri": "https://localhost:8080/",
          "height": 194
        },
        "id": "X_EAvEUIYpbP",
        "outputId": "a11f9b64-593c-4bdf-b264-15d41ad949bf"
      },
      "source": [
        "test_df.head()"
      ],
      "execution_count": null,
      "outputs": [
        {
          "output_type": "execute_result",
          "data": {
            "text/html": [
              "<div>\n",
              "<style scoped>\n",
              "    .dataframe tbody tr th:only-of-type {\n",
              "        vertical-align: middle;\n",
              "    }\n",
              "\n",
              "    .dataframe tbody tr th {\n",
              "        vertical-align: top;\n",
              "    }\n",
              "\n",
              "    .dataframe thead th {\n",
              "        text-align: right;\n",
              "    }\n",
              "</style>\n",
              "<table border=\"1\" class=\"dataframe\">\n",
              "  <thead>\n",
              "    <tr style=\"text-align: right;\">\n",
              "      <th></th>\n",
              "      <th>customer_unique_id</th>\n",
              "      <th>product_id</th>\n",
              "      <th>review_score</th>\n",
              "    </tr>\n",
              "  </thead>\n",
              "  <tbody>\n",
              "    <tr>\n",
              "      <th>53765</th>\n",
              "      <td>75532</td>\n",
              "      <td>20251</td>\n",
              "      <td>5</td>\n",
              "    </tr>\n",
              "    <tr>\n",
              "      <th>16517</th>\n",
              "      <td>71109</td>\n",
              "      <td>26873</td>\n",
              "      <td>4</td>\n",
              "    </tr>\n",
              "    <tr>\n",
              "      <th>47766</th>\n",
              "      <td>11750</td>\n",
              "      <td>592</td>\n",
              "      <td>4</td>\n",
              "    </tr>\n",
              "    <tr>\n",
              "      <th>24739</th>\n",
              "      <td>90490</td>\n",
              "      <td>4920</td>\n",
              "      <td>3</td>\n",
              "    </tr>\n",
              "    <tr>\n",
              "      <th>80782</th>\n",
              "      <td>24842</td>\n",
              "      <td>28852</td>\n",
              "      <td>1</td>\n",
              "    </tr>\n",
              "  </tbody>\n",
              "</table>\n",
              "</div>"
            ],
            "text/plain": [
              "       customer_unique_id  product_id  review_score\n",
              "53765               75532       20251             5\n",
              "16517               71109       26873             4\n",
              "47766               11750         592             4\n",
              "24739               90490        4920             3\n",
              "80782               24842       28852             1"
            ]
          },
          "metadata": {
            "tags": []
          },
          "execution_count": 45
        }
      ]
    },
    {
      "cell_type": "code",
      "metadata": {
        "colab": {
          "base_uri": "https://localhost:8080/",
          "height": 76
        },
        "id": "g_fjo4ukYIXk",
        "outputId": "43d4ade1-3794-4c33-a9c1-9ea41686cbcc"
      },
      "source": [
        "test_df[test_df['customer_unique_id']==75532]"
      ],
      "execution_count": null,
      "outputs": [
        {
          "output_type": "execute_result",
          "data": {
            "text/html": [
              "<div>\n",
              "<style scoped>\n",
              "    .dataframe tbody tr th:only-of-type {\n",
              "        vertical-align: middle;\n",
              "    }\n",
              "\n",
              "    .dataframe tbody tr th {\n",
              "        vertical-align: top;\n",
              "    }\n",
              "\n",
              "    .dataframe thead th {\n",
              "        text-align: right;\n",
              "    }\n",
              "</style>\n",
              "<table border=\"1\" class=\"dataframe\">\n",
              "  <thead>\n",
              "    <tr style=\"text-align: right;\">\n",
              "      <th></th>\n",
              "      <th>customer_unique_id</th>\n",
              "      <th>product_id</th>\n",
              "      <th>review_score</th>\n",
              "    </tr>\n",
              "  </thead>\n",
              "  <tbody>\n",
              "    <tr>\n",
              "      <th>53765</th>\n",
              "      <td>75532</td>\n",
              "      <td>20251</td>\n",
              "      <td>5</td>\n",
              "    </tr>\n",
              "  </tbody>\n",
              "</table>\n",
              "</div>"
            ],
            "text/plain": [
              "       customer_unique_id  product_id  review_score\n",
              "53765               75532       20251             5"
            ]
          },
          "metadata": {
            "tags": []
          },
          "execution_count": 44
        }
      ]
    },
    {
      "cell_type": "code",
      "metadata": {
        "colab": {
          "base_uri": "https://localhost:8080/"
        },
        "id": "Fzzbyhg7ZfRi",
        "outputId": "1d30bfe7-8bfa-4032-9c12-8aecb53d16a1"
      },
      "source": [
        "test_df.groupby('customer_unique_id')"
      ],
      "execution_count": null,
      "outputs": [
        {
          "output_type": "execute_result",
          "data": {
            "text/plain": [
              "<pandas.core.groupby.generic.DataFrameGroupBy object at 0x7f44fb588750>"
            ]
          },
          "metadata": {
            "tags": []
          },
          "execution_count": 50
        }
      ]
    },
    {
      "cell_type": "code",
      "metadata": {
        "colab": {
          "base_uri": "https://localhost:8080/"
        },
        "id": "66IvNYgKYyvb",
        "outputId": "9927defd-c770-4c40-9e01-d160153ed48d"
      },
      "source": [
        "user_mean"
      ],
      "execution_count": null,
      "outputs": [
        {
          "output_type": "execute_result",
          "data": {
            "text/plain": [
              "customer_unique_id\n",
              "0        5.0\n",
              "1        4.0\n",
              "2        3.0\n",
              "3        4.0\n",
              "4        5.0\n",
              "        ... \n",
              "94081    5.0\n",
              "94083    5.0\n",
              "94084    4.0\n",
              "94086    5.0\n",
              "94087    5.0\n",
              "Name: review_score, Length: 68545, dtype: float64"
            ]
          },
          "metadata": {
            "tags": []
          },
          "execution_count": 46
        }
      ]
    },
    {
      "cell_type": "code",
      "metadata": {
        "colab": {
          "base_uri": "https://localhost:8080/",
          "height": 47
        },
        "id": "_0PFmRrSazkZ",
        "outputId": "d488ecf0-e64e-4734-bc82-8ed73f7e84cc"
      },
      "source": [
        "# No customer like 75532 in train_df\n",
        "train_df[train_df['customer_unique_id']==75532]"
      ],
      "execution_count": null,
      "outputs": [
        {
          "output_type": "execute_result",
          "data": {
            "text/html": [
              "<div>\n",
              "<style scoped>\n",
              "    .dataframe tbody tr th:only-of-type {\n",
              "        vertical-align: middle;\n",
              "    }\n",
              "\n",
              "    .dataframe tbody tr th {\n",
              "        vertical-align: top;\n",
              "    }\n",
              "\n",
              "    .dataframe thead th {\n",
              "        text-align: right;\n",
              "    }\n",
              "</style>\n",
              "<table border=\"1\" class=\"dataframe\">\n",
              "  <thead>\n",
              "    <tr style=\"text-align: right;\">\n",
              "      <th></th>\n",
              "      <th>customer_unique_id</th>\n",
              "      <th>product_id</th>\n",
              "      <th>review_score</th>\n",
              "    </tr>\n",
              "  </thead>\n",
              "  <tbody>\n",
              "  </tbody>\n",
              "</table>\n",
              "</div>"
            ],
            "text/plain": [
              "Empty DataFrame\n",
              "Columns: [customer_unique_id, product_id, review_score]\n",
              "Index: []"
            ]
          },
          "metadata": {
            "tags": []
          },
          "execution_count": 54
        }
      ]
    },
    {
      "cell_type": "code",
      "metadata": {
        "colab": {
          "base_uri": "https://localhost:8080/",
          "height": 399
        },
        "id": "Y5V-d_04ao6t",
        "outputId": "1b998a7b-cbec-4147-8be2-45f073a5cb31"
      },
      "source": [
        "test_df"
      ],
      "execution_count": null,
      "outputs": [
        {
          "output_type": "execute_result",
          "data": {
            "text/html": [
              "<div>\n",
              "<style scoped>\n",
              "    .dataframe tbody tr th:only-of-type {\n",
              "        vertical-align: middle;\n",
              "    }\n",
              "\n",
              "    .dataframe tbody tr th {\n",
              "        vertical-align: top;\n",
              "    }\n",
              "\n",
              "    .dataframe thead th {\n",
              "        text-align: right;\n",
              "    }\n",
              "</style>\n",
              "<table border=\"1\" class=\"dataframe\">\n",
              "  <thead>\n",
              "    <tr style=\"text-align: right;\">\n",
              "      <th></th>\n",
              "      <th>customer_unique_id</th>\n",
              "      <th>product_id</th>\n",
              "      <th>review_score</th>\n",
              "    </tr>\n",
              "  </thead>\n",
              "  <tbody>\n",
              "    <tr>\n",
              "      <th>53765</th>\n",
              "      <td>75532</td>\n",
              "      <td>20251</td>\n",
              "      <td>5</td>\n",
              "    </tr>\n",
              "    <tr>\n",
              "      <th>16517</th>\n",
              "      <td>71109</td>\n",
              "      <td>26873</td>\n",
              "      <td>4</td>\n",
              "    </tr>\n",
              "    <tr>\n",
              "      <th>47766</th>\n",
              "      <td>11750</td>\n",
              "      <td>592</td>\n",
              "      <td>4</td>\n",
              "    </tr>\n",
              "    <tr>\n",
              "      <th>24739</th>\n",
              "      <td>90490</td>\n",
              "      <td>4920</td>\n",
              "      <td>3</td>\n",
              "    </tr>\n",
              "    <tr>\n",
              "      <th>80782</th>\n",
              "      <td>24842</td>\n",
              "      <td>28852</td>\n",
              "      <td>1</td>\n",
              "    </tr>\n",
              "    <tr>\n",
              "      <th>...</th>\n",
              "      <td>...</td>\n",
              "      <td>...</td>\n",
              "      <td>...</td>\n",
              "    </tr>\n",
              "    <tr>\n",
              "      <th>12053</th>\n",
              "      <td>5119</td>\n",
              "      <td>2904</td>\n",
              "      <td>5</td>\n",
              "    </tr>\n",
              "    <tr>\n",
              "      <th>74374</th>\n",
              "      <td>24268</td>\n",
              "      <td>4574</td>\n",
              "      <td>4</td>\n",
              "    </tr>\n",
              "    <tr>\n",
              "      <th>56915</th>\n",
              "      <td>7594</td>\n",
              "      <td>1452</td>\n",
              "      <td>4</td>\n",
              "    </tr>\n",
              "    <tr>\n",
              "      <th>46709</th>\n",
              "      <td>2573</td>\n",
              "      <td>3910</td>\n",
              "      <td>5</td>\n",
              "    </tr>\n",
              "    <tr>\n",
              "      <th>90075</th>\n",
              "      <td>31336</td>\n",
              "      <td>1875</td>\n",
              "      <td>5</td>\n",
              "    </tr>\n",
              "  </tbody>\n",
              "</table>\n",
              "<p>33506 rows × 3 columns</p>\n",
              "</div>"
            ],
            "text/plain": [
              "       customer_unique_id  product_id  review_score\n",
              "53765               75532       20251             5\n",
              "16517               71109       26873             4\n",
              "47766               11750         592             4\n",
              "24739               90490        4920             3\n",
              "80782               24842       28852             1\n",
              "...                   ...         ...           ...\n",
              "12053                5119        2904             5\n",
              "74374               24268        4574             4\n",
              "56915                7594        1452             4\n",
              "46709                2573        3910             5\n",
              "90075               31336        1875             5\n",
              "\n",
              "[33506 rows x 3 columns]"
            ]
          },
          "metadata": {
            "tags": []
          },
          "execution_count": 52
        }
      ]
    },
    {
      "cell_type": "code",
      "metadata": {
        "colab": {
          "base_uri": "https://localhost:8080/",
          "height": 583
        },
        "id": "HZV_LjXvWpvc",
        "outputId": "f0da9f69-5628-4a14-f410-6775f31e415d"
      },
      "source": [
        "# user mean- use average of all ratings from the user x (here we get different means for different users.)\n",
        "user_mean = train_df.groupby('customer_unique_id')['review_score'].mean()\n",
        "y_pred_2 = []\n",
        "for i, row in test_df.iterrows():\n",
        "    y_pred_2.append(user_mean[row['customer_unique_id']])\n",
        "y_pred_2 = np.array(y_pred_2)\n",
        "y_pred_2 = np.clip(y_pred_2, 1.0, 5.0)\n",
        "error = RMSE(y_true, y_pred_2)\n",
        "print(\"RMSE =\", error)\n",
        "MakeBoxplot(y_true, y_pred_2, 'Test Set')"
      ],
      "execution_count": null,
      "outputs": [
        {
          "output_type": "error",
          "ename": "KeyError",
          "evalue": "ignored",
          "traceback": [
            "\u001b[0;31m---------------------------------------------------------------------------\u001b[0m",
            "\u001b[0;31mKeyError\u001b[0m                                  Traceback (most recent call last)",
            "\u001b[0;32m/usr/local/lib/python3.7/dist-packages/pandas/core/indexes/base.py\u001b[0m in \u001b[0;36mget_loc\u001b[0;34m(self, key, method, tolerance)\u001b[0m\n\u001b[1;32m   2897\u001b[0m             \u001b[0;32mtry\u001b[0m\u001b[0;34m:\u001b[0m\u001b[0;34m\u001b[0m\u001b[0;34m\u001b[0m\u001b[0m\n\u001b[0;32m-> 2898\u001b[0;31m                 \u001b[0;32mreturn\u001b[0m \u001b[0mself\u001b[0m\u001b[0;34m.\u001b[0m\u001b[0m_engine\u001b[0m\u001b[0;34m.\u001b[0m\u001b[0mget_loc\u001b[0m\u001b[0;34m(\u001b[0m\u001b[0mcasted_key\u001b[0m\u001b[0;34m)\u001b[0m\u001b[0;34m\u001b[0m\u001b[0;34m\u001b[0m\u001b[0m\n\u001b[0m\u001b[1;32m   2899\u001b[0m             \u001b[0;32mexcept\u001b[0m \u001b[0mKeyError\u001b[0m \u001b[0;32mas\u001b[0m \u001b[0merr\u001b[0m\u001b[0;34m:\u001b[0m\u001b[0;34m\u001b[0m\u001b[0;34m\u001b[0m\u001b[0m\n",
            "\u001b[0;32mpandas/_libs/index.pyx\u001b[0m in \u001b[0;36mpandas._libs.index.IndexEngine.get_loc\u001b[0;34m()\u001b[0m\n",
            "\u001b[0;32mpandas/_libs/index.pyx\u001b[0m in \u001b[0;36mpandas._libs.index.IndexEngine.get_loc\u001b[0;34m()\u001b[0m\n",
            "\u001b[0;32mpandas/_libs/hashtable_class_helper.pxi\u001b[0m in \u001b[0;36mpandas._libs.hashtable.Int64HashTable.get_item\u001b[0;34m()\u001b[0m\n",
            "\u001b[0;32mpandas/_libs/hashtable_class_helper.pxi\u001b[0m in \u001b[0;36mpandas._libs.hashtable.Int64HashTable.get_item\u001b[0;34m()\u001b[0m\n",
            "\u001b[0;31mKeyError\u001b[0m: 75532",
            "\nThe above exception was the direct cause of the following exception:\n",
            "\u001b[0;31mKeyError\u001b[0m                                  Traceback (most recent call last)",
            "\u001b[0;32m<ipython-input-39-a4f961782a97>\u001b[0m in \u001b[0;36m<module>\u001b[0;34m()\u001b[0m\n\u001b[1;32m      3\u001b[0m \u001b[0my_pred_2\u001b[0m \u001b[0;34m=\u001b[0m \u001b[0;34m[\u001b[0m\u001b[0;34m]\u001b[0m\u001b[0;34m\u001b[0m\u001b[0;34m\u001b[0m\u001b[0m\n\u001b[1;32m      4\u001b[0m \u001b[0;32mfor\u001b[0m \u001b[0mi\u001b[0m\u001b[0;34m,\u001b[0m \u001b[0mrow\u001b[0m \u001b[0;32min\u001b[0m \u001b[0mtest_df\u001b[0m\u001b[0;34m.\u001b[0m\u001b[0miterrows\u001b[0m\u001b[0;34m(\u001b[0m\u001b[0;34m)\u001b[0m\u001b[0;34m:\u001b[0m\u001b[0;34m\u001b[0m\u001b[0;34m\u001b[0m\u001b[0m\n\u001b[0;32m----> 5\u001b[0;31m     \u001b[0my_pred_2\u001b[0m\u001b[0;34m.\u001b[0m\u001b[0mappend\u001b[0m\u001b[0;34m(\u001b[0m\u001b[0muser_mean\u001b[0m\u001b[0;34m[\u001b[0m\u001b[0mrow\u001b[0m\u001b[0;34m[\u001b[0m\u001b[0;34m'customer_unique_id'\u001b[0m\u001b[0;34m]\u001b[0m\u001b[0;34m]\u001b[0m\u001b[0;34m)\u001b[0m\u001b[0;34m\u001b[0m\u001b[0;34m\u001b[0m\u001b[0m\n\u001b[0m\u001b[1;32m      6\u001b[0m \u001b[0my_pred_2\u001b[0m \u001b[0;34m=\u001b[0m \u001b[0mnp\u001b[0m\u001b[0;34m.\u001b[0m\u001b[0marray\u001b[0m\u001b[0;34m(\u001b[0m\u001b[0my_pred_2\u001b[0m\u001b[0;34m)\u001b[0m\u001b[0;34m\u001b[0m\u001b[0;34m\u001b[0m\u001b[0m\n\u001b[1;32m      7\u001b[0m \u001b[0my_pred_2\u001b[0m \u001b[0;34m=\u001b[0m \u001b[0mnp\u001b[0m\u001b[0;34m.\u001b[0m\u001b[0mclip\u001b[0m\u001b[0;34m(\u001b[0m\u001b[0my_pred_2\u001b[0m\u001b[0;34m,\u001b[0m \u001b[0;36m1.0\u001b[0m\u001b[0;34m,\u001b[0m \u001b[0;36m5.0\u001b[0m\u001b[0;34m)\u001b[0m\u001b[0;34m\u001b[0m\u001b[0;34m\u001b[0m\u001b[0m\n",
            "\u001b[0;32m/usr/local/lib/python3.7/dist-packages/pandas/core/series.py\u001b[0m in \u001b[0;36m__getitem__\u001b[0;34m(self, key)\u001b[0m\n\u001b[1;32m    880\u001b[0m \u001b[0;34m\u001b[0m\u001b[0m\n\u001b[1;32m    881\u001b[0m         \u001b[0;32melif\u001b[0m \u001b[0mkey_is_scalar\u001b[0m\u001b[0;34m:\u001b[0m\u001b[0;34m\u001b[0m\u001b[0;34m\u001b[0m\u001b[0m\n\u001b[0;32m--> 882\u001b[0;31m             \u001b[0;32mreturn\u001b[0m \u001b[0mself\u001b[0m\u001b[0;34m.\u001b[0m\u001b[0m_get_value\u001b[0m\u001b[0;34m(\u001b[0m\u001b[0mkey\u001b[0m\u001b[0;34m)\u001b[0m\u001b[0;34m\u001b[0m\u001b[0;34m\u001b[0m\u001b[0m\n\u001b[0m\u001b[1;32m    883\u001b[0m \u001b[0;34m\u001b[0m\u001b[0m\n\u001b[1;32m    884\u001b[0m         \u001b[0;32mif\u001b[0m \u001b[0mis_hashable\u001b[0m\u001b[0;34m(\u001b[0m\u001b[0mkey\u001b[0m\u001b[0;34m)\u001b[0m\u001b[0;34m:\u001b[0m\u001b[0;34m\u001b[0m\u001b[0;34m\u001b[0m\u001b[0m\n",
            "\u001b[0;32m/usr/local/lib/python3.7/dist-packages/pandas/core/series.py\u001b[0m in \u001b[0;36m_get_value\u001b[0;34m(self, label, takeable)\u001b[0m\n\u001b[1;32m    988\u001b[0m \u001b[0;34m\u001b[0m\u001b[0m\n\u001b[1;32m    989\u001b[0m         \u001b[0;31m# Similar to Index.get_value, but we do not fall back to positional\u001b[0m\u001b[0;34m\u001b[0m\u001b[0;34m\u001b[0m\u001b[0;34m\u001b[0m\u001b[0m\n\u001b[0;32m--> 990\u001b[0;31m         \u001b[0mloc\u001b[0m \u001b[0;34m=\u001b[0m \u001b[0mself\u001b[0m\u001b[0;34m.\u001b[0m\u001b[0mindex\u001b[0m\u001b[0;34m.\u001b[0m\u001b[0mget_loc\u001b[0m\u001b[0;34m(\u001b[0m\u001b[0mlabel\u001b[0m\u001b[0;34m)\u001b[0m\u001b[0;34m\u001b[0m\u001b[0;34m\u001b[0m\u001b[0m\n\u001b[0m\u001b[1;32m    991\u001b[0m         \u001b[0;32mreturn\u001b[0m \u001b[0mself\u001b[0m\u001b[0;34m.\u001b[0m\u001b[0mindex\u001b[0m\u001b[0;34m.\u001b[0m\u001b[0m_get_values_for_loc\u001b[0m\u001b[0;34m(\u001b[0m\u001b[0mself\u001b[0m\u001b[0;34m,\u001b[0m \u001b[0mloc\u001b[0m\u001b[0;34m,\u001b[0m \u001b[0mlabel\u001b[0m\u001b[0;34m)\u001b[0m\u001b[0;34m\u001b[0m\u001b[0;34m\u001b[0m\u001b[0m\n\u001b[1;32m    992\u001b[0m \u001b[0;34m\u001b[0m\u001b[0m\n",
            "\u001b[0;32m/usr/local/lib/python3.7/dist-packages/pandas/core/indexes/base.py\u001b[0m in \u001b[0;36mget_loc\u001b[0;34m(self, key, method, tolerance)\u001b[0m\n\u001b[1;32m   2898\u001b[0m                 \u001b[0;32mreturn\u001b[0m \u001b[0mself\u001b[0m\u001b[0;34m.\u001b[0m\u001b[0m_engine\u001b[0m\u001b[0;34m.\u001b[0m\u001b[0mget_loc\u001b[0m\u001b[0;34m(\u001b[0m\u001b[0mcasted_key\u001b[0m\u001b[0;34m)\u001b[0m\u001b[0;34m\u001b[0m\u001b[0;34m\u001b[0m\u001b[0m\n\u001b[1;32m   2899\u001b[0m             \u001b[0;32mexcept\u001b[0m \u001b[0mKeyError\u001b[0m \u001b[0;32mas\u001b[0m \u001b[0merr\u001b[0m\u001b[0;34m:\u001b[0m\u001b[0;34m\u001b[0m\u001b[0;34m\u001b[0m\u001b[0m\n\u001b[0;32m-> 2900\u001b[0;31m                 \u001b[0;32mraise\u001b[0m \u001b[0mKeyError\u001b[0m\u001b[0;34m(\u001b[0m\u001b[0mkey\u001b[0m\u001b[0;34m)\u001b[0m \u001b[0;32mfrom\u001b[0m \u001b[0merr\u001b[0m\u001b[0;34m\u001b[0m\u001b[0;34m\u001b[0m\u001b[0m\n\u001b[0m\u001b[1;32m   2901\u001b[0m \u001b[0;34m\u001b[0m\u001b[0m\n\u001b[1;32m   2902\u001b[0m         \u001b[0;32mif\u001b[0m \u001b[0mtolerance\u001b[0m \u001b[0;32mis\u001b[0m \u001b[0;32mnot\u001b[0m \u001b[0;32mNone\u001b[0m\u001b[0;34m:\u001b[0m\u001b[0;34m\u001b[0m\u001b[0;34m\u001b[0m\u001b[0m\n",
            "\u001b[0;31mKeyError\u001b[0m: 75532"
          ]
        }
      ]
    },
    {
      "cell_type": "markdown",
      "metadata": {
        "id": "vWcigTYPkHno"
      },
      "source": [
        "### product mean"
      ]
    },
    {
      "cell_type": "code",
      "metadata": {
        "colab": {
          "base_uri": "https://localhost:8080/",
          "height": 583
        },
        "id": "Kgfmkjo2hEVx",
        "outputId": "6344d070-f4c1-4f62-eb6a-e68d52d97c79"
      },
      "source": [
        "product_mean = train_df.groupby('product_id')['review_score'].mean()\n",
        "# prediction\n",
        "y_pred_3 = []\n",
        "for i, row in test_df.iterrows():\n",
        "    y_pred_3.append(product_mean[row['product_id']])#use movie mean(average of all ratings from the movie i) as y_pred values\n",
        "y_pred_3 = np.array(y_pred_3)\n",
        "y_pred_3 = np.clip(y_pred_3, 1.0, 5.0)\n",
        "# performance\n",
        "error = RMSE(y_true, y_pred_3)\n",
        "print(\"RMSE =\", error)\n",
        "MakeBoxplot(y_true, y_pred_3, 'Test Set')"
      ],
      "execution_count": null,
      "outputs": [
        {
          "output_type": "error",
          "ename": "KeyError",
          "evalue": "ignored",
          "traceback": [
            "\u001b[0;31m---------------------------------------------------------------------------\u001b[0m",
            "\u001b[0;31mKeyError\u001b[0m                                  Traceback (most recent call last)",
            "\u001b[0;32m/usr/local/lib/python3.7/dist-packages/pandas/core/indexes/base.py\u001b[0m in \u001b[0;36mget_loc\u001b[0;34m(self, key, method, tolerance)\u001b[0m\n\u001b[1;32m   2897\u001b[0m             \u001b[0;32mtry\u001b[0m\u001b[0;34m:\u001b[0m\u001b[0;34m\u001b[0m\u001b[0;34m\u001b[0m\u001b[0m\n\u001b[0;32m-> 2898\u001b[0;31m                 \u001b[0;32mreturn\u001b[0m \u001b[0mself\u001b[0m\u001b[0;34m.\u001b[0m\u001b[0m_engine\u001b[0m\u001b[0;34m.\u001b[0m\u001b[0mget_loc\u001b[0m\u001b[0;34m(\u001b[0m\u001b[0mcasted_key\u001b[0m\u001b[0;34m)\u001b[0m\u001b[0;34m\u001b[0m\u001b[0;34m\u001b[0m\u001b[0m\n\u001b[0m\u001b[1;32m   2899\u001b[0m             \u001b[0;32mexcept\u001b[0m \u001b[0mKeyError\u001b[0m \u001b[0;32mas\u001b[0m \u001b[0merr\u001b[0m\u001b[0;34m:\u001b[0m\u001b[0;34m\u001b[0m\u001b[0;34m\u001b[0m\u001b[0m\n",
            "\u001b[0;32mpandas/_libs/index.pyx\u001b[0m in \u001b[0;36mpandas._libs.index.IndexEngine.get_loc\u001b[0;34m()\u001b[0m\n",
            "\u001b[0;32mpandas/_libs/index.pyx\u001b[0m in \u001b[0;36mpandas._libs.index.IndexEngine.get_loc\u001b[0;34m()\u001b[0m\n",
            "\u001b[0;32mpandas/_libs/hashtable_class_helper.pxi\u001b[0m in \u001b[0;36mpandas._libs.hashtable.Int64HashTable.get_item\u001b[0;34m()\u001b[0m\n",
            "\u001b[0;32mpandas/_libs/hashtable_class_helper.pxi\u001b[0m in \u001b[0;36mpandas._libs.hashtable.Int64HashTable.get_item\u001b[0;34m()\u001b[0m\n",
            "\u001b[0;31mKeyError\u001b[0m: 20251",
            "\nThe above exception was the direct cause of the following exception:\n",
            "\u001b[0;31mKeyError\u001b[0m                                  Traceback (most recent call last)",
            "\u001b[0;32m<ipython-input-56-e5f30eb29ef8>\u001b[0m in \u001b[0;36m<module>\u001b[0;34m()\u001b[0m\n\u001b[1;32m      3\u001b[0m \u001b[0my_pred_3\u001b[0m \u001b[0;34m=\u001b[0m \u001b[0;34m[\u001b[0m\u001b[0;34m]\u001b[0m\u001b[0;34m\u001b[0m\u001b[0;34m\u001b[0m\u001b[0m\n\u001b[1;32m      4\u001b[0m \u001b[0;32mfor\u001b[0m \u001b[0mi\u001b[0m\u001b[0;34m,\u001b[0m \u001b[0mrow\u001b[0m \u001b[0;32min\u001b[0m \u001b[0mtest_df\u001b[0m\u001b[0;34m.\u001b[0m\u001b[0miterrows\u001b[0m\u001b[0;34m(\u001b[0m\u001b[0;34m)\u001b[0m\u001b[0;34m:\u001b[0m\u001b[0;34m\u001b[0m\u001b[0;34m\u001b[0m\u001b[0m\n\u001b[0;32m----> 5\u001b[0;31m     \u001b[0my_pred_3\u001b[0m\u001b[0;34m.\u001b[0m\u001b[0mappend\u001b[0m\u001b[0;34m(\u001b[0m\u001b[0mmovie_mean\u001b[0m\u001b[0;34m[\u001b[0m\u001b[0mrow\u001b[0m\u001b[0;34m[\u001b[0m\u001b[0;34m'product_id'\u001b[0m\u001b[0;34m]\u001b[0m\u001b[0;34m]\u001b[0m\u001b[0;34m)\u001b[0m\u001b[0;31m#use movie mean(average of all ratings from the movie i) as y_pred values\u001b[0m\u001b[0;34m\u001b[0m\u001b[0;34m\u001b[0m\u001b[0m\n\u001b[0m\u001b[1;32m      6\u001b[0m \u001b[0my_pred_3\u001b[0m \u001b[0;34m=\u001b[0m \u001b[0mnp\u001b[0m\u001b[0;34m.\u001b[0m\u001b[0marray\u001b[0m\u001b[0;34m(\u001b[0m\u001b[0my_pred_3\u001b[0m\u001b[0;34m)\u001b[0m\u001b[0;34m\u001b[0m\u001b[0;34m\u001b[0m\u001b[0m\n\u001b[1;32m      7\u001b[0m \u001b[0my_pred_3\u001b[0m \u001b[0;34m=\u001b[0m \u001b[0mnp\u001b[0m\u001b[0;34m.\u001b[0m\u001b[0mclip\u001b[0m\u001b[0;34m(\u001b[0m\u001b[0my_pred_3\u001b[0m\u001b[0;34m,\u001b[0m \u001b[0;36m1.0\u001b[0m\u001b[0;34m,\u001b[0m \u001b[0;36m5.0\u001b[0m\u001b[0;34m)\u001b[0m\u001b[0;34m\u001b[0m\u001b[0;34m\u001b[0m\u001b[0m\n",
            "\u001b[0;32m/usr/local/lib/python3.7/dist-packages/pandas/core/series.py\u001b[0m in \u001b[0;36m__getitem__\u001b[0;34m(self, key)\u001b[0m\n\u001b[1;32m    880\u001b[0m \u001b[0;34m\u001b[0m\u001b[0m\n\u001b[1;32m    881\u001b[0m         \u001b[0;32melif\u001b[0m \u001b[0mkey_is_scalar\u001b[0m\u001b[0;34m:\u001b[0m\u001b[0;34m\u001b[0m\u001b[0;34m\u001b[0m\u001b[0m\n\u001b[0;32m--> 882\u001b[0;31m             \u001b[0;32mreturn\u001b[0m \u001b[0mself\u001b[0m\u001b[0;34m.\u001b[0m\u001b[0m_get_value\u001b[0m\u001b[0;34m(\u001b[0m\u001b[0mkey\u001b[0m\u001b[0;34m)\u001b[0m\u001b[0;34m\u001b[0m\u001b[0;34m\u001b[0m\u001b[0m\n\u001b[0m\u001b[1;32m    883\u001b[0m \u001b[0;34m\u001b[0m\u001b[0m\n\u001b[1;32m    884\u001b[0m         \u001b[0;32mif\u001b[0m \u001b[0mis_hashable\u001b[0m\u001b[0;34m(\u001b[0m\u001b[0mkey\u001b[0m\u001b[0;34m)\u001b[0m\u001b[0;34m:\u001b[0m\u001b[0;34m\u001b[0m\u001b[0;34m\u001b[0m\u001b[0m\n",
            "\u001b[0;32m/usr/local/lib/python3.7/dist-packages/pandas/core/series.py\u001b[0m in \u001b[0;36m_get_value\u001b[0;34m(self, label, takeable)\u001b[0m\n\u001b[1;32m    988\u001b[0m \u001b[0;34m\u001b[0m\u001b[0m\n\u001b[1;32m    989\u001b[0m         \u001b[0;31m# Similar to Index.get_value, but we do not fall back to positional\u001b[0m\u001b[0;34m\u001b[0m\u001b[0;34m\u001b[0m\u001b[0;34m\u001b[0m\u001b[0m\n\u001b[0;32m--> 990\u001b[0;31m         \u001b[0mloc\u001b[0m \u001b[0;34m=\u001b[0m \u001b[0mself\u001b[0m\u001b[0;34m.\u001b[0m\u001b[0mindex\u001b[0m\u001b[0;34m.\u001b[0m\u001b[0mget_loc\u001b[0m\u001b[0;34m(\u001b[0m\u001b[0mlabel\u001b[0m\u001b[0;34m)\u001b[0m\u001b[0;34m\u001b[0m\u001b[0;34m\u001b[0m\u001b[0m\n\u001b[0m\u001b[1;32m    991\u001b[0m         \u001b[0;32mreturn\u001b[0m \u001b[0mself\u001b[0m\u001b[0;34m.\u001b[0m\u001b[0mindex\u001b[0m\u001b[0;34m.\u001b[0m\u001b[0m_get_values_for_loc\u001b[0m\u001b[0;34m(\u001b[0m\u001b[0mself\u001b[0m\u001b[0;34m,\u001b[0m \u001b[0mloc\u001b[0m\u001b[0;34m,\u001b[0m \u001b[0mlabel\u001b[0m\u001b[0;34m)\u001b[0m\u001b[0;34m\u001b[0m\u001b[0;34m\u001b[0m\u001b[0m\n\u001b[1;32m    992\u001b[0m \u001b[0;34m\u001b[0m\u001b[0m\n",
            "\u001b[0;32m/usr/local/lib/python3.7/dist-packages/pandas/core/indexes/base.py\u001b[0m in \u001b[0;36mget_loc\u001b[0;34m(self, key, method, tolerance)\u001b[0m\n\u001b[1;32m   2898\u001b[0m                 \u001b[0;32mreturn\u001b[0m \u001b[0mself\u001b[0m\u001b[0;34m.\u001b[0m\u001b[0m_engine\u001b[0m\u001b[0;34m.\u001b[0m\u001b[0mget_loc\u001b[0m\u001b[0;34m(\u001b[0m\u001b[0mcasted_key\u001b[0m\u001b[0;34m)\u001b[0m\u001b[0;34m\u001b[0m\u001b[0;34m\u001b[0m\u001b[0m\n\u001b[1;32m   2899\u001b[0m             \u001b[0;32mexcept\u001b[0m \u001b[0mKeyError\u001b[0m \u001b[0;32mas\u001b[0m \u001b[0merr\u001b[0m\u001b[0;34m:\u001b[0m\u001b[0;34m\u001b[0m\u001b[0;34m\u001b[0m\u001b[0m\n\u001b[0;32m-> 2900\u001b[0;31m                 \u001b[0;32mraise\u001b[0m \u001b[0mKeyError\u001b[0m\u001b[0;34m(\u001b[0m\u001b[0mkey\u001b[0m\u001b[0;34m)\u001b[0m \u001b[0;32mfrom\u001b[0m \u001b[0merr\u001b[0m\u001b[0;34m\u001b[0m\u001b[0;34m\u001b[0m\u001b[0m\n\u001b[0m\u001b[1;32m   2901\u001b[0m \u001b[0;34m\u001b[0m\u001b[0m\n\u001b[1;32m   2902\u001b[0m         \u001b[0;32mif\u001b[0m \u001b[0mtolerance\u001b[0m \u001b[0;32mis\u001b[0m \u001b[0;32mnot\u001b[0m \u001b[0;32mNone\u001b[0m\u001b[0;34m:\u001b[0m\u001b[0;34m\u001b[0m\u001b[0;34m\u001b[0m\u001b[0m\n",
            "\u001b[0;31mKeyError\u001b[0m: 20251"
          ]
        }
      ]
    }
  ]
}